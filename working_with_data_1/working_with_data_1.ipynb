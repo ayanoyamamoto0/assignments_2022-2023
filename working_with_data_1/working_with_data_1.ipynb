{
 "cells": [
  {
   "cell_type": "markdown",
   "id": "ed5bfc21",
   "metadata": {},
   "source": [
    "# Table of Contents\n",
    "* [Introduction](#intro)\n",
    "* [Part 1: Data Import, Cleaning, and Merging](#p1)\n",
    "    * [1.1 Importing COVID data from CSV](#p1.1)\n",
    "    * [1.2 Importing sunshine duration data from webpage](#p1.2)\n",
    "    * [1.3 Merging datasets](#p1.3)\n",
    "    * [1.4 Data cleaning](#p1.4)\n",
    "        * [1.4.1 Duplicates](#p1.4.1)\n",
    "        * [1.4.2 Inspecting fixed variables](#p1.4.2)\n",
    "        * [1.4.3 Inspecting daily updated variables](#p1.4.3)\n",
    "        * [1.4.4 Imputation](#p1.4.4)\n",
    "    * [1.5 Sampling bias from merging and cleaning](#p1.5)\n",
    "        * [1.5.1 New cases per million](#p1.5.1)\n",
    "        * [1.5.2 GDP per capita](#p1.5.2)\n",
    "        * [1.5.3 Population](#p1.5.3)\n",
    "* [Part 2: Data Exploration](#p2)\n",
    "    * [2.1 Time series data](#p2.1)\n",
    "    * [2.2 Fixed data](#p2.2)\n",
    "* [Part 3: Drill Down into a Subset of Data](#p3)\n",
    "    * [3.1 Rank correlation](#p3.1)\n",
    "    * [3.2 Time series cross correlation](#p3.2)\n",
    "* [Conclusion](#conclusion)\n",
    "* [References](#ref)"
   ]
  },
  {
   "cell_type": "markdown",
   "id": "df2659ad",
   "metadata": {},
   "source": [
    "# Introduction<a name=\"intro\"></a>"
   ]
  },
  {
   "cell_type": "markdown",
   "id": "8003a047",
   "metadata": {},
   "source": [
    "* Walrand[<sup>1</sup>](#1) reported a linear correlation between latitude and the surge of daily new COVID-19 cases in most European countries during the autumn of 2020. The research suggests the drops in sun UV daily dose and the resulting decrease in blood 25-hydroxyvitamin D (25(OH)D) concentration as a contributing factor.<br><br>\n",
    "* Above research used theoretical sun UV daily dose, expressed as a fraction at the country population weighted centre latitude versus the latitude 0°.<br><br>\n",
    "* This project attempts to reproduce the correlation between daily new COVID cases and the sunshine duration. Sunshine duration is \n",
    "><em>a climatological indicator, measuring duration of sunshine in given period (usually, a day or a year) for a given location on Earth, typically expressed as an averaged value over several years[<sup>2</sup>](#2).</em>\n",
    "* We also look at this correlation in countries outside of Europe.\n"
   ]
  },
  {
   "cell_type": "markdown",
   "id": "1646df2b",
   "metadata": {},
   "source": [
    "# Part 1: Data Import, Cleaning, and Merging<a name=\"p1\"></a>"
   ]
  },
  {
   "cell_type": "markdown",
   "id": "e53343df",
   "metadata": {},
   "source": [
    "This project uses seven packages below. If necessary please uncomment and install them before running the rest of the cells."
   ]
  },
  {
   "cell_type": "code",
   "execution_count": 1,
   "id": "11a6c075",
   "metadata": {},
   "outputs": [],
   "source": [
    "# install.packages(\"tidyverse\")\n",
    "# install.packages(\"data.table\")\n",
    "# install.packages(\"rvest\")\n",
    "# install.packages(\"countrycode\")\n",
    "# install.packages(\"zoo\")\n",
    "# install.packages(\"gridExtra\")\n",
    "# install.packages(\"ggpubr\")"
   ]
  },
  {
   "cell_type": "markdown",
   "id": "051baf5c",
   "metadata": {},
   "source": [
    "Load the packages required to run the project."
   ]
  },
  {
   "cell_type": "code",
   "execution_count": 2,
   "id": "021c919a",
   "metadata": {},
   "outputs": [
    {
     "name": "stderr",
     "output_type": "stream",
     "text": [
      "── \u001b[1mAttaching packages\u001b[22m ─────────────────────────────────────────────────────────────────────────────── tidyverse 1.3.2 ──\n",
      "\u001b[32m✔\u001b[39m \u001b[34mggplot2\u001b[39m 3.3.6      \u001b[32m✔\u001b[39m \u001b[34mpurrr  \u001b[39m 0.3.4 \n",
      "\u001b[32m✔\u001b[39m \u001b[34mtibble \u001b[39m 3.1.8      \u001b[32m✔\u001b[39m \u001b[34mdplyr  \u001b[39m 1.0.10\n",
      "\u001b[32m✔\u001b[39m \u001b[34mtidyr  \u001b[39m 1.2.1      \u001b[32m✔\u001b[39m \u001b[34mstringr\u001b[39m 1.4.1 \n",
      "\u001b[32m✔\u001b[39m \u001b[34mreadr  \u001b[39m 2.1.2      \u001b[32m✔\u001b[39m \u001b[34mforcats\u001b[39m 0.5.2 \n",
      "── \u001b[1mConflicts\u001b[22m ────────────────────────────────────────────────────────────────────────────────── tidyverse_conflicts() ──\n",
      "\u001b[31m✖\u001b[39m \u001b[34mdplyr\u001b[39m::\u001b[32mfilter()\u001b[39m masks \u001b[34mstats\u001b[39m::filter()\n",
      "\u001b[31m✖\u001b[39m \u001b[34mdplyr\u001b[39m::\u001b[32mlag()\u001b[39m    masks \u001b[34mstats\u001b[39m::lag()\n",
      "\n",
      "Attaching package: 'data.table'\n",
      "\n",
      "\n",
      "The following objects are masked from 'package:dplyr':\n",
      "\n",
      "    between, first, last\n",
      "\n",
      "\n",
      "The following object is masked from 'package:purrr':\n",
      "\n",
      "    transpose\n",
      "\n",
      "\n",
      "\n",
      "Attaching package: 'rvest'\n",
      "\n",
      "\n",
      "The following object is masked from 'package:readr':\n",
      "\n",
      "    guess_encoding\n",
      "\n",
      "\n",
      "\n",
      "Attaching package: 'zoo'\n",
      "\n",
      "\n",
      "The following objects are masked from 'package:base':\n",
      "\n",
      "    as.Date, as.Date.numeric\n",
      "\n",
      "\n",
      "Warning message:\n",
      "\"package 'gridExtra' was built under R version 4.2.2\"\n",
      "\n",
      "Attaching package: 'gridExtra'\n",
      "\n",
      "\n",
      "The following object is masked from 'package:dplyr':\n",
      "\n",
      "    combine\n",
      "\n",
      "\n"
     ]
    }
   ],
   "source": [
    "library(tidyverse)\n",
    "library(data.table)\n",
    "library(rvest)\n",
    "library(countrycode)\n",
    "library(zoo)\n",
    "library(gridExtra)\n",
    "library(ggpubr)"
   ]
  },
  {
   "cell_type": "markdown",
   "id": "1ce0be4c",
   "metadata": {},
   "source": [
    "## 1.1 Importing COVID data from CSV<a name=\"p1.1\"></a>"
   ]
  },
  {
   "cell_type": "markdown",
   "id": "20855672",
   "metadata": {},
   "source": [
    "We will first import `owid-covid-data.csv` which has been downloaded from Our World in Data[<sup>3</sup>](#3)."
   ]
  },
  {
   "cell_type": "code",
   "execution_count": 3,
   "id": "14996a88",
   "metadata": {},
   "outputs": [
    {
     "data": {
      "text/html": [
       "<table class=\"dataframe\">\n",
       "<caption>A data.frame: 1 × 3</caption>\n",
       "<thead>\n",
       "\t<tr><th scope=col>Name</th><th scope=col>Length</th><th scope=col>Date</th></tr>\n",
       "\t<tr><th scope=col>&lt;chr&gt;</th><th scope=col>&lt;dbl&gt;</th><th scope=col>&lt;dttm&gt;</th></tr>\n",
       "</thead>\n",
       "<tbody>\n",
       "\t<tr><td>owid-covid-data.csv</td><td>64555976</td><td>2022-10-23 09:48:00</td></tr>\n",
       "</tbody>\n",
       "</table>\n"
      ],
      "text/latex": [
       "A data.frame: 1 × 3\n",
       "\\begin{tabular}{lll}\n",
       " Name & Length & Date\\\\\n",
       " <chr> & <dbl> & <dttm>\\\\\n",
       "\\hline\n",
       "\t owid-covid-data.csv & 64555976 & 2022-10-23 09:48:00\\\\\n",
       "\\end{tabular}\n"
      ],
      "text/markdown": [
       "\n",
       "A data.frame: 1 × 3\n",
       "\n",
       "| Name &lt;chr&gt; | Length &lt;dbl&gt; | Date &lt;dttm&gt; |\n",
       "|---|---|---|\n",
       "| owid-covid-data.csv | 64555976 | 2022-10-23 09:48:00 |\n",
       "\n"
      ],
      "text/plain": [
       "  Name                Length   Date               \n",
       "1 owid-covid-data.csv 64555976 2022-10-23 09:48:00"
      ]
     },
     "metadata": {},
     "output_type": "display_data"
    }
   ],
   "source": [
    "unzip(\"owid-covid-data.zip\", list = T) # view the files\n",
    "unzip(\"owid-covid-data.zip\", exdir = '.') # extract the files"
   ]
  },
  {
   "cell_type": "code",
   "execution_count": 4,
   "id": "85cf469b",
   "metadata": {
    "scrolled": false
   },
   "outputs": [
    {
     "data": {
      "text/html": [
       "<style>\n",
       ".list-inline {list-style: none; margin:0; padding: 0}\n",
       ".list-inline>li {display: inline-block}\n",
       ".list-inline>li:not(:last-child)::after {content: \"\\00b7\"; padding: 0 .5ex}\n",
       "</style>\n",
       "<ol class=list-inline><li>229445</li><li>67</li></ol>\n"
      ],
      "text/latex": [
       "\\begin{enumerate*}\n",
       "\\item 229445\n",
       "\\item 67\n",
       "\\end{enumerate*}\n"
      ],
      "text/markdown": [
       "1. 229445\n",
       "2. 67\n",
       "\n",
       "\n"
      ],
      "text/plain": [
       "[1] 229445     67"
      ]
     },
     "metadata": {},
     "output_type": "display_data"
    },
    {
     "data": {
      "text/html": [
       "<table class=\"dataframe\">\n",
       "<caption>A data.table: 6 × 67</caption>\n",
       "<thead>\n",
       "\t<tr><th scope=col>iso_code</th><th scope=col>continent</th><th scope=col>location</th><th scope=col>date</th><th scope=col>total_cases</th><th scope=col>new_cases</th><th scope=col>new_cases_smoothed</th><th scope=col>total_deaths</th><th scope=col>new_deaths</th><th scope=col>new_deaths_smoothed</th><th scope=col>⋯</th><th scope=col>male_smokers</th><th scope=col>handwashing_facilities</th><th scope=col>hospital_beds_per_thousand</th><th scope=col>life_expectancy</th><th scope=col>human_development_index</th><th scope=col>population</th><th scope=col>excess_mortality_cumulative_absolute</th><th scope=col>excess_mortality_cumulative</th><th scope=col>excess_mortality</th><th scope=col>excess_mortality_cumulative_per_million</th></tr>\n",
       "\t<tr><th scope=col>&lt;chr&gt;</th><th scope=col>&lt;chr&gt;</th><th scope=col>&lt;chr&gt;</th><th scope=col>&lt;date&gt;</th><th scope=col>&lt;dbl&gt;</th><th scope=col>&lt;dbl&gt;</th><th scope=col>&lt;dbl&gt;</th><th scope=col>&lt;dbl&gt;</th><th scope=col>&lt;dbl&gt;</th><th scope=col>&lt;dbl&gt;</th><th scope=col>⋯</th><th scope=col>&lt;dbl&gt;</th><th scope=col>&lt;dbl&gt;</th><th scope=col>&lt;dbl&gt;</th><th scope=col>&lt;dbl&gt;</th><th scope=col>&lt;dbl&gt;</th><th scope=col>&lt;dbl&gt;</th><th scope=col>&lt;dbl&gt;</th><th scope=col>&lt;dbl&gt;</th><th scope=col>&lt;dbl&gt;</th><th scope=col>&lt;dbl&gt;</th></tr>\n",
       "</thead>\n",
       "<tbody>\n",
       "\t<tr><td>AFG</td><td>Asia</td><td>Afghanistan</td><td>2020-02-24</td><td>5</td><td>5</td><td>   NA</td><td>NA</td><td>NA</td><td>NA</td><td>⋯</td><td>NA</td><td>37.746</td><td>0.5</td><td>64.83</td><td>0.511</td><td>40099462</td><td>NA</td><td>NA</td><td>NA</td><td>NA</td></tr>\n",
       "\t<tr><td>AFG</td><td>Asia</td><td>Afghanistan</td><td>2020-02-25</td><td>5</td><td>0</td><td>   NA</td><td>NA</td><td>NA</td><td>NA</td><td>⋯</td><td>NA</td><td>37.746</td><td>0.5</td><td>64.83</td><td>0.511</td><td>40099462</td><td>NA</td><td>NA</td><td>NA</td><td>NA</td></tr>\n",
       "\t<tr><td>AFG</td><td>Asia</td><td>Afghanistan</td><td>2020-02-26</td><td>5</td><td>0</td><td>   NA</td><td>NA</td><td>NA</td><td>NA</td><td>⋯</td><td>NA</td><td>37.746</td><td>0.5</td><td>64.83</td><td>0.511</td><td>40099462</td><td>NA</td><td>NA</td><td>NA</td><td>NA</td></tr>\n",
       "\t<tr><td>AFG</td><td>Asia</td><td>Afghanistan</td><td>2020-02-27</td><td>5</td><td>0</td><td>   NA</td><td>NA</td><td>NA</td><td>NA</td><td>⋯</td><td>NA</td><td>37.746</td><td>0.5</td><td>64.83</td><td>0.511</td><td>40099462</td><td>NA</td><td>NA</td><td>NA</td><td>NA</td></tr>\n",
       "\t<tr><td>AFG</td><td>Asia</td><td>Afghanistan</td><td>2020-02-28</td><td>5</td><td>0</td><td>   NA</td><td>NA</td><td>NA</td><td>NA</td><td>⋯</td><td>NA</td><td>37.746</td><td>0.5</td><td>64.83</td><td>0.511</td><td>40099462</td><td>NA</td><td>NA</td><td>NA</td><td>NA</td></tr>\n",
       "\t<tr><td>AFG</td><td>Asia</td><td>Afghanistan</td><td>2020-02-29</td><td>5</td><td>0</td><td>0.714</td><td>NA</td><td>NA</td><td>NA</td><td>⋯</td><td>NA</td><td>37.746</td><td>0.5</td><td>64.83</td><td>0.511</td><td>40099462</td><td>NA</td><td>NA</td><td>NA</td><td>NA</td></tr>\n",
       "</tbody>\n",
       "</table>\n"
      ],
      "text/latex": [
       "A data.table: 6 × 67\n",
       "\\begin{tabular}{lllllllllllllllllllll}\n",
       " iso\\_code & continent & location & date & total\\_cases & new\\_cases & new\\_cases\\_smoothed & total\\_deaths & new\\_deaths & new\\_deaths\\_smoothed & ⋯ & male\\_smokers & handwashing\\_facilities & hospital\\_beds\\_per\\_thousand & life\\_expectancy & human\\_development\\_index & population & excess\\_mortality\\_cumulative\\_absolute & excess\\_mortality\\_cumulative & excess\\_mortality & excess\\_mortality\\_cumulative\\_per\\_million\\\\\n",
       " <chr> & <chr> & <chr> & <date> & <dbl> & <dbl> & <dbl> & <dbl> & <dbl> & <dbl> & ⋯ & <dbl> & <dbl> & <dbl> & <dbl> & <dbl> & <dbl> & <dbl> & <dbl> & <dbl> & <dbl>\\\\\n",
       "\\hline\n",
       "\t AFG & Asia & Afghanistan & 2020-02-24 & 5 & 5 &    NA & NA & NA & NA & ⋯ & NA & 37.746 & 0.5 & 64.83 & 0.511 & 40099462 & NA & NA & NA & NA\\\\\n",
       "\t AFG & Asia & Afghanistan & 2020-02-25 & 5 & 0 &    NA & NA & NA & NA & ⋯ & NA & 37.746 & 0.5 & 64.83 & 0.511 & 40099462 & NA & NA & NA & NA\\\\\n",
       "\t AFG & Asia & Afghanistan & 2020-02-26 & 5 & 0 &    NA & NA & NA & NA & ⋯ & NA & 37.746 & 0.5 & 64.83 & 0.511 & 40099462 & NA & NA & NA & NA\\\\\n",
       "\t AFG & Asia & Afghanistan & 2020-02-27 & 5 & 0 &    NA & NA & NA & NA & ⋯ & NA & 37.746 & 0.5 & 64.83 & 0.511 & 40099462 & NA & NA & NA & NA\\\\\n",
       "\t AFG & Asia & Afghanistan & 2020-02-28 & 5 & 0 &    NA & NA & NA & NA & ⋯ & NA & 37.746 & 0.5 & 64.83 & 0.511 & 40099462 & NA & NA & NA & NA\\\\\n",
       "\t AFG & Asia & Afghanistan & 2020-02-29 & 5 & 0 & 0.714 & NA & NA & NA & ⋯ & NA & 37.746 & 0.5 & 64.83 & 0.511 & 40099462 & NA & NA & NA & NA\\\\\n",
       "\\end{tabular}\n"
      ],
      "text/markdown": [
       "\n",
       "A data.table: 6 × 67\n",
       "\n",
       "| iso_code &lt;chr&gt; | continent &lt;chr&gt; | location &lt;chr&gt; | date &lt;date&gt; | total_cases &lt;dbl&gt; | new_cases &lt;dbl&gt; | new_cases_smoothed &lt;dbl&gt; | total_deaths &lt;dbl&gt; | new_deaths &lt;dbl&gt; | new_deaths_smoothed &lt;dbl&gt; | ⋯ ⋯ | male_smokers &lt;dbl&gt; | handwashing_facilities &lt;dbl&gt; | hospital_beds_per_thousand &lt;dbl&gt; | life_expectancy &lt;dbl&gt; | human_development_index &lt;dbl&gt; | population &lt;dbl&gt; | excess_mortality_cumulative_absolute &lt;dbl&gt; | excess_mortality_cumulative &lt;dbl&gt; | excess_mortality &lt;dbl&gt; | excess_mortality_cumulative_per_million &lt;dbl&gt; |\n",
       "|---|---|---|---|---|---|---|---|---|---|---|---|---|---|---|---|---|---|---|---|---|\n",
       "| AFG | Asia | Afghanistan | 2020-02-24 | 5 | 5 |    NA | NA | NA | NA | ⋯ | NA | 37.746 | 0.5 | 64.83 | 0.511 | 40099462 | NA | NA | NA | NA |\n",
       "| AFG | Asia | Afghanistan | 2020-02-25 | 5 | 0 |    NA | NA | NA | NA | ⋯ | NA | 37.746 | 0.5 | 64.83 | 0.511 | 40099462 | NA | NA | NA | NA |\n",
       "| AFG | Asia | Afghanistan | 2020-02-26 | 5 | 0 |    NA | NA | NA | NA | ⋯ | NA | 37.746 | 0.5 | 64.83 | 0.511 | 40099462 | NA | NA | NA | NA |\n",
       "| AFG | Asia | Afghanistan | 2020-02-27 | 5 | 0 |    NA | NA | NA | NA | ⋯ | NA | 37.746 | 0.5 | 64.83 | 0.511 | 40099462 | NA | NA | NA | NA |\n",
       "| AFG | Asia | Afghanistan | 2020-02-28 | 5 | 0 |    NA | NA | NA | NA | ⋯ | NA | 37.746 | 0.5 | 64.83 | 0.511 | 40099462 | NA | NA | NA | NA |\n",
       "| AFG | Asia | Afghanistan | 2020-02-29 | 5 | 0 | 0.714 | NA | NA | NA | ⋯ | NA | 37.746 | 0.5 | 64.83 | 0.511 | 40099462 | NA | NA | NA | NA |\n",
       "\n"
      ],
      "text/plain": [
       "  iso_code continent location    date       total_cases new_cases\n",
       "1 AFG      Asia      Afghanistan 2020-02-24 5           5        \n",
       "2 AFG      Asia      Afghanistan 2020-02-25 5           0        \n",
       "3 AFG      Asia      Afghanistan 2020-02-26 5           0        \n",
       "4 AFG      Asia      Afghanistan 2020-02-27 5           0        \n",
       "5 AFG      Asia      Afghanistan 2020-02-28 5           0        \n",
       "6 AFG      Asia      Afghanistan 2020-02-29 5           0        \n",
       "  new_cases_smoothed total_deaths new_deaths new_deaths_smoothed ⋯ male_smokers\n",
       "1    NA              NA           NA         NA                  ⋯ NA          \n",
       "2    NA              NA           NA         NA                  ⋯ NA          \n",
       "3    NA              NA           NA         NA                  ⋯ NA          \n",
       "4    NA              NA           NA         NA                  ⋯ NA          \n",
       "5    NA              NA           NA         NA                  ⋯ NA          \n",
       "6 0.714              NA           NA         NA                  ⋯ NA          \n",
       "  handwashing_facilities hospital_beds_per_thousand life_expectancy\n",
       "1 37.746                 0.5                        64.83          \n",
       "2 37.746                 0.5                        64.83          \n",
       "3 37.746                 0.5                        64.83          \n",
       "4 37.746                 0.5                        64.83          \n",
       "5 37.746                 0.5                        64.83          \n",
       "6 37.746                 0.5                        64.83          \n",
       "  human_development_index population excess_mortality_cumulative_absolute\n",
       "1 0.511                   40099462   NA                                  \n",
       "2 0.511                   40099462   NA                                  \n",
       "3 0.511                   40099462   NA                                  \n",
       "4 0.511                   40099462   NA                                  \n",
       "5 0.511                   40099462   NA                                  \n",
       "6 0.511                   40099462   NA                                  \n",
       "  excess_mortality_cumulative excess_mortality\n",
       "1 NA                          NA              \n",
       "2 NA                          NA              \n",
       "3 NA                          NA              \n",
       "4 NA                          NA              \n",
       "5 NA                          NA              \n",
       "6 NA                          NA              \n",
       "  excess_mortality_cumulative_per_million\n",
       "1 NA                                     \n",
       "2 NA                                     \n",
       "3 NA                                     \n",
       "4 NA                                     \n",
       "5 NA                                     \n",
       "6 NA                                     "
      ]
     },
     "metadata": {},
     "output_type": "display_data"
    },
    {
     "data": {
      "text/html": [
       "<table class=\"dataframe\">\n",
       "<caption>A data.table: 6 × 67</caption>\n",
       "<thead>\n",
       "\t<tr><th scope=col>iso_code</th><th scope=col>continent</th><th scope=col>location</th><th scope=col>date</th><th scope=col>total_cases</th><th scope=col>new_cases</th><th scope=col>new_cases_smoothed</th><th scope=col>total_deaths</th><th scope=col>new_deaths</th><th scope=col>new_deaths_smoothed</th><th scope=col>⋯</th><th scope=col>male_smokers</th><th scope=col>handwashing_facilities</th><th scope=col>hospital_beds_per_thousand</th><th scope=col>life_expectancy</th><th scope=col>human_development_index</th><th scope=col>population</th><th scope=col>excess_mortality_cumulative_absolute</th><th scope=col>excess_mortality_cumulative</th><th scope=col>excess_mortality</th><th scope=col>excess_mortality_cumulative_per_million</th></tr>\n",
       "\t<tr><th scope=col>&lt;chr&gt;</th><th scope=col>&lt;chr&gt;</th><th scope=col>&lt;chr&gt;</th><th scope=col>&lt;date&gt;</th><th scope=col>&lt;dbl&gt;</th><th scope=col>&lt;dbl&gt;</th><th scope=col>&lt;dbl&gt;</th><th scope=col>&lt;dbl&gt;</th><th scope=col>&lt;dbl&gt;</th><th scope=col>&lt;dbl&gt;</th><th scope=col>⋯</th><th scope=col>&lt;dbl&gt;</th><th scope=col>&lt;dbl&gt;</th><th scope=col>&lt;dbl&gt;</th><th scope=col>&lt;dbl&gt;</th><th scope=col>&lt;dbl&gt;</th><th scope=col>&lt;dbl&gt;</th><th scope=col>&lt;dbl&gt;</th><th scope=col>&lt;dbl&gt;</th><th scope=col>&lt;dbl&gt;</th><th scope=col>&lt;dbl&gt;</th></tr>\n",
       "</thead>\n",
       "<tbody>\n",
       "\t<tr><td>ZWE</td><td>Africa</td><td>Zimbabwe</td><td>2022-10-17</td><td>257893</td><td>0</td><td>20.571</td><td>5606</td><td>0</td><td>0.286</td><td>⋯</td><td>30.7</td><td>36.791</td><td>1.7</td><td>61.49</td><td>0.571</td><td>15993524</td><td>NA</td><td>NA</td><td>NA</td><td>NA</td></tr>\n",
       "\t<tr><td>ZWE</td><td>Africa</td><td>Zimbabwe</td><td>2022-10-18</td><td>257893</td><td>0</td><td>20.571</td><td>5606</td><td>0</td><td>0.286</td><td>⋯</td><td>30.7</td><td>36.791</td><td>1.7</td><td>61.49</td><td>0.571</td><td>15993524</td><td>NA</td><td>NA</td><td>NA</td><td>NA</td></tr>\n",
       "\t<tr><td>ZWE</td><td>Africa</td><td>Zimbabwe</td><td>2022-10-19</td><td>257893</td><td>0</td><td>13.571</td><td>5606</td><td>0</td><td>0.286</td><td>⋯</td><td>30.7</td><td>36.791</td><td>1.7</td><td>61.49</td><td>0.571</td><td>15993524</td><td>NA</td><td>NA</td><td>NA</td><td>NA</td></tr>\n",
       "\t<tr><td>ZWE</td><td>Africa</td><td>Zimbabwe</td><td>2022-10-20</td><td>257893</td><td>0</td><td> 9.429</td><td>5606</td><td>0</td><td>0.143</td><td>⋯</td><td>30.7</td><td>36.791</td><td>1.7</td><td>61.49</td><td>0.571</td><td>15993524</td><td>NA</td><td>NA</td><td>NA</td><td>NA</td></tr>\n",
       "\t<tr><td>ZWE</td><td>Africa</td><td>Zimbabwe</td><td>2022-10-21</td><td>257893</td><td>0</td><td> 9.429</td><td>5606</td><td>0</td><td>0.143</td><td>⋯</td><td>30.7</td><td>36.791</td><td>1.7</td><td>61.49</td><td>0.571</td><td>15993524</td><td>NA</td><td>NA</td><td>NA</td><td>NA</td></tr>\n",
       "\t<tr><td>ZWE</td><td>Africa</td><td>Zimbabwe</td><td>2022-10-22</td><td>257893</td><td>0</td><td> 9.429</td><td>5606</td><td>0</td><td>0.143</td><td>⋯</td><td>30.7</td><td>36.791</td><td>1.7</td><td>61.49</td><td>0.571</td><td>15993524</td><td>NA</td><td>NA</td><td>NA</td><td>NA</td></tr>\n",
       "</tbody>\n",
       "</table>\n"
      ],
      "text/latex": [
       "A data.table: 6 × 67\n",
       "\\begin{tabular}{lllllllllllllllllllll}\n",
       " iso\\_code & continent & location & date & total\\_cases & new\\_cases & new\\_cases\\_smoothed & total\\_deaths & new\\_deaths & new\\_deaths\\_smoothed & ⋯ & male\\_smokers & handwashing\\_facilities & hospital\\_beds\\_per\\_thousand & life\\_expectancy & human\\_development\\_index & population & excess\\_mortality\\_cumulative\\_absolute & excess\\_mortality\\_cumulative & excess\\_mortality & excess\\_mortality\\_cumulative\\_per\\_million\\\\\n",
       " <chr> & <chr> & <chr> & <date> & <dbl> & <dbl> & <dbl> & <dbl> & <dbl> & <dbl> & ⋯ & <dbl> & <dbl> & <dbl> & <dbl> & <dbl> & <dbl> & <dbl> & <dbl> & <dbl> & <dbl>\\\\\n",
       "\\hline\n",
       "\t ZWE & Africa & Zimbabwe & 2022-10-17 & 257893 & 0 & 20.571 & 5606 & 0 & 0.286 & ⋯ & 30.7 & 36.791 & 1.7 & 61.49 & 0.571 & 15993524 & NA & NA & NA & NA\\\\\n",
       "\t ZWE & Africa & Zimbabwe & 2022-10-18 & 257893 & 0 & 20.571 & 5606 & 0 & 0.286 & ⋯ & 30.7 & 36.791 & 1.7 & 61.49 & 0.571 & 15993524 & NA & NA & NA & NA\\\\\n",
       "\t ZWE & Africa & Zimbabwe & 2022-10-19 & 257893 & 0 & 13.571 & 5606 & 0 & 0.286 & ⋯ & 30.7 & 36.791 & 1.7 & 61.49 & 0.571 & 15993524 & NA & NA & NA & NA\\\\\n",
       "\t ZWE & Africa & Zimbabwe & 2022-10-20 & 257893 & 0 &  9.429 & 5606 & 0 & 0.143 & ⋯ & 30.7 & 36.791 & 1.7 & 61.49 & 0.571 & 15993524 & NA & NA & NA & NA\\\\\n",
       "\t ZWE & Africa & Zimbabwe & 2022-10-21 & 257893 & 0 &  9.429 & 5606 & 0 & 0.143 & ⋯ & 30.7 & 36.791 & 1.7 & 61.49 & 0.571 & 15993524 & NA & NA & NA & NA\\\\\n",
       "\t ZWE & Africa & Zimbabwe & 2022-10-22 & 257893 & 0 &  9.429 & 5606 & 0 & 0.143 & ⋯ & 30.7 & 36.791 & 1.7 & 61.49 & 0.571 & 15993524 & NA & NA & NA & NA\\\\\n",
       "\\end{tabular}\n"
      ],
      "text/markdown": [
       "\n",
       "A data.table: 6 × 67\n",
       "\n",
       "| iso_code &lt;chr&gt; | continent &lt;chr&gt; | location &lt;chr&gt; | date &lt;date&gt; | total_cases &lt;dbl&gt; | new_cases &lt;dbl&gt; | new_cases_smoothed &lt;dbl&gt; | total_deaths &lt;dbl&gt; | new_deaths &lt;dbl&gt; | new_deaths_smoothed &lt;dbl&gt; | ⋯ ⋯ | male_smokers &lt;dbl&gt; | handwashing_facilities &lt;dbl&gt; | hospital_beds_per_thousand &lt;dbl&gt; | life_expectancy &lt;dbl&gt; | human_development_index &lt;dbl&gt; | population &lt;dbl&gt; | excess_mortality_cumulative_absolute &lt;dbl&gt; | excess_mortality_cumulative &lt;dbl&gt; | excess_mortality &lt;dbl&gt; | excess_mortality_cumulative_per_million &lt;dbl&gt; |\n",
       "|---|---|---|---|---|---|---|---|---|---|---|---|---|---|---|---|---|---|---|---|---|\n",
       "| ZWE | Africa | Zimbabwe | 2022-10-17 | 257893 | 0 | 20.571 | 5606 | 0 | 0.286 | ⋯ | 30.7 | 36.791 | 1.7 | 61.49 | 0.571 | 15993524 | NA | NA | NA | NA |\n",
       "| ZWE | Africa | Zimbabwe | 2022-10-18 | 257893 | 0 | 20.571 | 5606 | 0 | 0.286 | ⋯ | 30.7 | 36.791 | 1.7 | 61.49 | 0.571 | 15993524 | NA | NA | NA | NA |\n",
       "| ZWE | Africa | Zimbabwe | 2022-10-19 | 257893 | 0 | 13.571 | 5606 | 0 | 0.286 | ⋯ | 30.7 | 36.791 | 1.7 | 61.49 | 0.571 | 15993524 | NA | NA | NA | NA |\n",
       "| ZWE | Africa | Zimbabwe | 2022-10-20 | 257893 | 0 |  9.429 | 5606 | 0 | 0.143 | ⋯ | 30.7 | 36.791 | 1.7 | 61.49 | 0.571 | 15993524 | NA | NA | NA | NA |\n",
       "| ZWE | Africa | Zimbabwe | 2022-10-21 | 257893 | 0 |  9.429 | 5606 | 0 | 0.143 | ⋯ | 30.7 | 36.791 | 1.7 | 61.49 | 0.571 | 15993524 | NA | NA | NA | NA |\n",
       "| ZWE | Africa | Zimbabwe | 2022-10-22 | 257893 | 0 |  9.429 | 5606 | 0 | 0.143 | ⋯ | 30.7 | 36.791 | 1.7 | 61.49 | 0.571 | 15993524 | NA | NA | NA | NA |\n",
       "\n"
      ],
      "text/plain": [
       "  iso_code continent location date       total_cases new_cases\n",
       "1 ZWE      Africa    Zimbabwe 2022-10-17 257893      0        \n",
       "2 ZWE      Africa    Zimbabwe 2022-10-18 257893      0        \n",
       "3 ZWE      Africa    Zimbabwe 2022-10-19 257893      0        \n",
       "4 ZWE      Africa    Zimbabwe 2022-10-20 257893      0        \n",
       "5 ZWE      Africa    Zimbabwe 2022-10-21 257893      0        \n",
       "6 ZWE      Africa    Zimbabwe 2022-10-22 257893      0        \n",
       "  new_cases_smoothed total_deaths new_deaths new_deaths_smoothed ⋯ male_smokers\n",
       "1 20.571             5606         0          0.286               ⋯ 30.7        \n",
       "2 20.571             5606         0          0.286               ⋯ 30.7        \n",
       "3 13.571             5606         0          0.286               ⋯ 30.7        \n",
       "4  9.429             5606         0          0.143               ⋯ 30.7        \n",
       "5  9.429             5606         0          0.143               ⋯ 30.7        \n",
       "6  9.429             5606         0          0.143               ⋯ 30.7        \n",
       "  handwashing_facilities hospital_beds_per_thousand life_expectancy\n",
       "1 36.791                 1.7                        61.49          \n",
       "2 36.791                 1.7                        61.49          \n",
       "3 36.791                 1.7                        61.49          \n",
       "4 36.791                 1.7                        61.49          \n",
       "5 36.791                 1.7                        61.49          \n",
       "6 36.791                 1.7                        61.49          \n",
       "  human_development_index population excess_mortality_cumulative_absolute\n",
       "1 0.571                   15993524   NA                                  \n",
       "2 0.571                   15993524   NA                                  \n",
       "3 0.571                   15993524   NA                                  \n",
       "4 0.571                   15993524   NA                                  \n",
       "5 0.571                   15993524   NA                                  \n",
       "6 0.571                   15993524   NA                                  \n",
       "  excess_mortality_cumulative excess_mortality\n",
       "1 NA                          NA              \n",
       "2 NA                          NA              \n",
       "3 NA                          NA              \n",
       "4 NA                          NA              \n",
       "5 NA                          NA              \n",
       "6 NA                          NA              \n",
       "  excess_mortality_cumulative_per_million\n",
       "1 NA                                     \n",
       "2 NA                                     \n",
       "3 NA                                     \n",
       "4 NA                                     \n",
       "5 NA                                     \n",
       "6 NA                                     "
      ]
     },
     "metadata": {},
     "output_type": "display_data"
    }
   ],
   "source": [
    "covid_data <- fread(\"owid-covid-data.csv\") # read the csv file\n",
    "dim(covid_data) # display the dimension of covid_data\n",
    "head(covid_data) # check the first few rows\n",
    "tail(covid_data) # check the last few rows"
   ]
  },
  {
   "cell_type": "markdown",
   "id": "422bf37b",
   "metadata": {},
   "source": [
    "`owid-covid-data.csv` includes a wide range of data related to COVID, such as vaccinations, hospital and ICU, reproduction rate, etc.<br> For this project we will select:\n",
    "* New cases (Daily updated data) - `total_cases`, `new_cases`, `new_cases_smoothed`, `total_cases_per_million`, `new_cases_per_million`, `new_cases_smoothed_per_million`<br><br>\n",
    "* Policy responses (Daily updated data) - `stringency_index`<br><br>\n",
    "* Other variables of interest (Fixed data) - `iso_code`, `continent`, `location`, `date`, `population`, `population_density`, `median_age`, `aged_65_older`, `aged_70_older`, `gdp_per_capita`, `extreme_poverty`, `cardiovasc_death_rate`, `diabetes_prevalence`, `female_smokers`, `male_smokers`, `handwashing_facilities`, `hospital_beds_per_thousand`, `life_expectancy`, `human_development_index`"
   ]
  },
  {
   "cell_type": "code",
   "execution_count": 5,
   "id": "5c8a9bd1",
   "metadata": {},
   "outputs": [
    {
     "data": {
      "text/html": [
       "<style>\n",
       ".list-inline {list-style: none; margin:0; padding: 0}\n",
       ".list-inline>li {display: inline-block}\n",
       ".list-inline>li:not(:last-child)::after {content: \"\\00b7\"; padding: 0 .5ex}\n",
       "</style>\n",
       "<ol class=list-inline><li>229445</li><li>26</li></ol>\n"
      ],
      "text/latex": [
       "\\begin{enumerate*}\n",
       "\\item 229445\n",
       "\\item 26\n",
       "\\end{enumerate*}\n"
      ],
      "text/markdown": [
       "1. 229445\n",
       "2. 26\n",
       "\n",
       "\n"
      ],
      "text/plain": [
       "[1] 229445     26"
      ]
     },
     "metadata": {},
     "output_type": "display_data"
    },
    {
     "data": {
      "text/html": [
       "<table class=\"dataframe\">\n",
       "<caption>A data.table: 6 × 26</caption>\n",
       "<thead>\n",
       "\t<tr><th scope=col>iso_code</th><th scope=col>continent</th><th scope=col>location</th><th scope=col>date</th><th scope=col>total_cases</th><th scope=col>new_cases</th><th scope=col>new_cases_smoothed</th><th scope=col>total_cases_per_million</th><th scope=col>new_cases_per_million</th><th scope=col>new_cases_smoothed_per_million</th><th scope=col>⋯</th><th scope=col>extreme_poverty</th><th scope=col>cardiovasc_death_rate</th><th scope=col>diabetes_prevalence</th><th scope=col>female_smokers</th><th scope=col>male_smokers</th><th scope=col>handwashing_facilities</th><th scope=col>hospital_beds_per_thousand</th><th scope=col>life_expectancy</th><th scope=col>human_development_index</th><th scope=col>population</th></tr>\n",
       "\t<tr><th scope=col>&lt;chr&gt;</th><th scope=col>&lt;chr&gt;</th><th scope=col>&lt;chr&gt;</th><th scope=col>&lt;date&gt;</th><th scope=col>&lt;dbl&gt;</th><th scope=col>&lt;dbl&gt;</th><th scope=col>&lt;dbl&gt;</th><th scope=col>&lt;dbl&gt;</th><th scope=col>&lt;dbl&gt;</th><th scope=col>&lt;dbl&gt;</th><th scope=col>⋯</th><th scope=col>&lt;dbl&gt;</th><th scope=col>&lt;dbl&gt;</th><th scope=col>&lt;dbl&gt;</th><th scope=col>&lt;dbl&gt;</th><th scope=col>&lt;dbl&gt;</th><th scope=col>&lt;dbl&gt;</th><th scope=col>&lt;dbl&gt;</th><th scope=col>&lt;dbl&gt;</th><th scope=col>&lt;dbl&gt;</th><th scope=col>&lt;dbl&gt;</th></tr>\n",
       "</thead>\n",
       "<tbody>\n",
       "\t<tr><td>AFG</td><td>Asia</td><td>Afghanistan</td><td>2020-02-24</td><td>5</td><td>5</td><td>   NA</td><td>0.125</td><td>0.125</td><td>   NA</td><td>⋯</td><td>NA</td><td>597.029</td><td>9.59</td><td>NA</td><td>NA</td><td>37.746</td><td>0.5</td><td>64.83</td><td>0.511</td><td>40099462</td></tr>\n",
       "\t<tr><td>AFG</td><td>Asia</td><td>Afghanistan</td><td>2020-02-25</td><td>5</td><td>0</td><td>   NA</td><td>0.125</td><td>0.000</td><td>   NA</td><td>⋯</td><td>NA</td><td>597.029</td><td>9.59</td><td>NA</td><td>NA</td><td>37.746</td><td>0.5</td><td>64.83</td><td>0.511</td><td>40099462</td></tr>\n",
       "\t<tr><td>AFG</td><td>Asia</td><td>Afghanistan</td><td>2020-02-26</td><td>5</td><td>0</td><td>   NA</td><td>0.125</td><td>0.000</td><td>   NA</td><td>⋯</td><td>NA</td><td>597.029</td><td>9.59</td><td>NA</td><td>NA</td><td>37.746</td><td>0.5</td><td>64.83</td><td>0.511</td><td>40099462</td></tr>\n",
       "\t<tr><td>AFG</td><td>Asia</td><td>Afghanistan</td><td>2020-02-27</td><td>5</td><td>0</td><td>   NA</td><td>0.125</td><td>0.000</td><td>   NA</td><td>⋯</td><td>NA</td><td>597.029</td><td>9.59</td><td>NA</td><td>NA</td><td>37.746</td><td>0.5</td><td>64.83</td><td>0.511</td><td>40099462</td></tr>\n",
       "\t<tr><td>AFG</td><td>Asia</td><td>Afghanistan</td><td>2020-02-28</td><td>5</td><td>0</td><td>   NA</td><td>0.125</td><td>0.000</td><td>   NA</td><td>⋯</td><td>NA</td><td>597.029</td><td>9.59</td><td>NA</td><td>NA</td><td>37.746</td><td>0.5</td><td>64.83</td><td>0.511</td><td>40099462</td></tr>\n",
       "\t<tr><td>AFG</td><td>Asia</td><td>Afghanistan</td><td>2020-02-29</td><td>5</td><td>0</td><td>0.714</td><td>0.125</td><td>0.000</td><td>0.018</td><td>⋯</td><td>NA</td><td>597.029</td><td>9.59</td><td>NA</td><td>NA</td><td>37.746</td><td>0.5</td><td>64.83</td><td>0.511</td><td>40099462</td></tr>\n",
       "</tbody>\n",
       "</table>\n"
      ],
      "text/latex": [
       "A data.table: 6 × 26\n",
       "\\begin{tabular}{lllllllllllllllllllll}\n",
       " iso\\_code & continent & location & date & total\\_cases & new\\_cases & new\\_cases\\_smoothed & total\\_cases\\_per\\_million & new\\_cases\\_per\\_million & new\\_cases\\_smoothed\\_per\\_million & ⋯ & extreme\\_poverty & cardiovasc\\_death\\_rate & diabetes\\_prevalence & female\\_smokers & male\\_smokers & handwashing\\_facilities & hospital\\_beds\\_per\\_thousand & life\\_expectancy & human\\_development\\_index & population\\\\\n",
       " <chr> & <chr> & <chr> & <date> & <dbl> & <dbl> & <dbl> & <dbl> & <dbl> & <dbl> & ⋯ & <dbl> & <dbl> & <dbl> & <dbl> & <dbl> & <dbl> & <dbl> & <dbl> & <dbl> & <dbl>\\\\\n",
       "\\hline\n",
       "\t AFG & Asia & Afghanistan & 2020-02-24 & 5 & 5 &    NA & 0.125 & 0.125 &    NA & ⋯ & NA & 597.029 & 9.59 & NA & NA & 37.746 & 0.5 & 64.83 & 0.511 & 40099462\\\\\n",
       "\t AFG & Asia & Afghanistan & 2020-02-25 & 5 & 0 &    NA & 0.125 & 0.000 &    NA & ⋯ & NA & 597.029 & 9.59 & NA & NA & 37.746 & 0.5 & 64.83 & 0.511 & 40099462\\\\\n",
       "\t AFG & Asia & Afghanistan & 2020-02-26 & 5 & 0 &    NA & 0.125 & 0.000 &    NA & ⋯ & NA & 597.029 & 9.59 & NA & NA & 37.746 & 0.5 & 64.83 & 0.511 & 40099462\\\\\n",
       "\t AFG & Asia & Afghanistan & 2020-02-27 & 5 & 0 &    NA & 0.125 & 0.000 &    NA & ⋯ & NA & 597.029 & 9.59 & NA & NA & 37.746 & 0.5 & 64.83 & 0.511 & 40099462\\\\\n",
       "\t AFG & Asia & Afghanistan & 2020-02-28 & 5 & 0 &    NA & 0.125 & 0.000 &    NA & ⋯ & NA & 597.029 & 9.59 & NA & NA & 37.746 & 0.5 & 64.83 & 0.511 & 40099462\\\\\n",
       "\t AFG & Asia & Afghanistan & 2020-02-29 & 5 & 0 & 0.714 & 0.125 & 0.000 & 0.018 & ⋯ & NA & 597.029 & 9.59 & NA & NA & 37.746 & 0.5 & 64.83 & 0.511 & 40099462\\\\\n",
       "\\end{tabular}\n"
      ],
      "text/markdown": [
       "\n",
       "A data.table: 6 × 26\n",
       "\n",
       "| iso_code &lt;chr&gt; | continent &lt;chr&gt; | location &lt;chr&gt; | date &lt;date&gt; | total_cases &lt;dbl&gt; | new_cases &lt;dbl&gt; | new_cases_smoothed &lt;dbl&gt; | total_cases_per_million &lt;dbl&gt; | new_cases_per_million &lt;dbl&gt; | new_cases_smoothed_per_million &lt;dbl&gt; | ⋯ ⋯ | extreme_poverty &lt;dbl&gt; | cardiovasc_death_rate &lt;dbl&gt; | diabetes_prevalence &lt;dbl&gt; | female_smokers &lt;dbl&gt; | male_smokers &lt;dbl&gt; | handwashing_facilities &lt;dbl&gt; | hospital_beds_per_thousand &lt;dbl&gt; | life_expectancy &lt;dbl&gt; | human_development_index &lt;dbl&gt; | population &lt;dbl&gt; |\n",
       "|---|---|---|---|---|---|---|---|---|---|---|---|---|---|---|---|---|---|---|---|---|\n",
       "| AFG | Asia | Afghanistan | 2020-02-24 | 5 | 5 |    NA | 0.125 | 0.125 |    NA | ⋯ | NA | 597.029 | 9.59 | NA | NA | 37.746 | 0.5 | 64.83 | 0.511 | 40099462 |\n",
       "| AFG | Asia | Afghanistan | 2020-02-25 | 5 | 0 |    NA | 0.125 | 0.000 |    NA | ⋯ | NA | 597.029 | 9.59 | NA | NA | 37.746 | 0.5 | 64.83 | 0.511 | 40099462 |\n",
       "| AFG | Asia | Afghanistan | 2020-02-26 | 5 | 0 |    NA | 0.125 | 0.000 |    NA | ⋯ | NA | 597.029 | 9.59 | NA | NA | 37.746 | 0.5 | 64.83 | 0.511 | 40099462 |\n",
       "| AFG | Asia | Afghanistan | 2020-02-27 | 5 | 0 |    NA | 0.125 | 0.000 |    NA | ⋯ | NA | 597.029 | 9.59 | NA | NA | 37.746 | 0.5 | 64.83 | 0.511 | 40099462 |\n",
       "| AFG | Asia | Afghanistan | 2020-02-28 | 5 | 0 |    NA | 0.125 | 0.000 |    NA | ⋯ | NA | 597.029 | 9.59 | NA | NA | 37.746 | 0.5 | 64.83 | 0.511 | 40099462 |\n",
       "| AFG | Asia | Afghanistan | 2020-02-29 | 5 | 0 | 0.714 | 0.125 | 0.000 | 0.018 | ⋯ | NA | 597.029 | 9.59 | NA | NA | 37.746 | 0.5 | 64.83 | 0.511 | 40099462 |\n",
       "\n"
      ],
      "text/plain": [
       "  iso_code continent location    date       total_cases new_cases\n",
       "1 AFG      Asia      Afghanistan 2020-02-24 5           5        \n",
       "2 AFG      Asia      Afghanistan 2020-02-25 5           0        \n",
       "3 AFG      Asia      Afghanistan 2020-02-26 5           0        \n",
       "4 AFG      Asia      Afghanistan 2020-02-27 5           0        \n",
       "5 AFG      Asia      Afghanistan 2020-02-28 5           0        \n",
       "6 AFG      Asia      Afghanistan 2020-02-29 5           0        \n",
       "  new_cases_smoothed total_cases_per_million new_cases_per_million\n",
       "1    NA              0.125                   0.125                \n",
       "2    NA              0.125                   0.000                \n",
       "3    NA              0.125                   0.000                \n",
       "4    NA              0.125                   0.000                \n",
       "5    NA              0.125                   0.000                \n",
       "6 0.714              0.125                   0.000                \n",
       "  new_cases_smoothed_per_million ⋯ extreme_poverty cardiovasc_death_rate\n",
       "1    NA                          ⋯ NA              597.029              \n",
       "2    NA                          ⋯ NA              597.029              \n",
       "3    NA                          ⋯ NA              597.029              \n",
       "4    NA                          ⋯ NA              597.029              \n",
       "5    NA                          ⋯ NA              597.029              \n",
       "6 0.018                          ⋯ NA              597.029              \n",
       "  diabetes_prevalence female_smokers male_smokers handwashing_facilities\n",
       "1 9.59                NA             NA           37.746                \n",
       "2 9.59                NA             NA           37.746                \n",
       "3 9.59                NA             NA           37.746                \n",
       "4 9.59                NA             NA           37.746                \n",
       "5 9.59                NA             NA           37.746                \n",
       "6 9.59                NA             NA           37.746                \n",
       "  hospital_beds_per_thousand life_expectancy human_development_index population\n",
       "1 0.5                        64.83           0.511                   40099462  \n",
       "2 0.5                        64.83           0.511                   40099462  \n",
       "3 0.5                        64.83           0.511                   40099462  \n",
       "4 0.5                        64.83           0.511                   40099462  \n",
       "5 0.5                        64.83           0.511                   40099462  \n",
       "6 0.5                        64.83           0.511                   40099462  "
      ]
     },
     "metadata": {},
     "output_type": "display_data"
    }
   ],
   "source": [
    "covid_new_cases <- covid_data[,c(1:7, 11:13, 48:63)] # select columns from covid_data\n",
    "dim(covid_new_cases) # check the dimension of covid_new_cases to make sure the number of columns has decreased\n",
    "head(covid_new_cases) # check the first few rows"
   ]
  },
  {
   "cell_type": "markdown",
   "id": "45cd6d03",
   "metadata": {},
   "source": [
    "In `iso_code`, there are values that are created by Our World in Data and not included in the standard ISO 3166-1 alpha-3 codes.<br>\n",
    "We will find them by looking for `iso_code` that do not contain exactly three characters and filter them out."
   ]
  },
  {
   "cell_type": "code",
   "execution_count": 6,
   "id": "2bfc47f6",
   "metadata": {
    "scrolled": false
   },
   "outputs": [
    {
     "data": {
      "text/html": [
       "<table class=\"dataframe\">\n",
       "<caption>A data.table: 19 × 3</caption>\n",
       "<thead>\n",
       "\t<tr><th scope=col>iso_code</th><th scope=col>continent</th><th scope=col>location</th></tr>\n",
       "\t<tr><th scope=col>&lt;chr&gt;</th><th scope=col>&lt;chr&gt;</th><th scope=col>&lt;chr&gt;</th></tr>\n",
       "</thead>\n",
       "<tbody>\n",
       "\t<tr><td>OWID_AFR</td><td>      </td><td>Africa             </td></tr>\n",
       "\t<tr><td>OWID_ASI</td><td>      </td><td>Asia               </td></tr>\n",
       "\t<tr><td>OWID_ENG</td><td>Europe</td><td>England            </td></tr>\n",
       "\t<tr><td>OWID_EUR</td><td>      </td><td>Europe             </td></tr>\n",
       "\t<tr><td>OWID_EUN</td><td>      </td><td>European Union     </td></tr>\n",
       "\t<tr><td>OWID_HIC</td><td>      </td><td>High income        </td></tr>\n",
       "\t<tr><td>OWID_INT</td><td>      </td><td>International      </td></tr>\n",
       "\t<tr><td>OWID_KOS</td><td>Europe</td><td>Kosovo             </td></tr>\n",
       "\t<tr><td>OWID_LIC</td><td>      </td><td>Low income         </td></tr>\n",
       "\t<tr><td>OWID_LMC</td><td>      </td><td>Lower middle income</td></tr>\n",
       "\t<tr><td>OWID_NAM</td><td>      </td><td>North America      </td></tr>\n",
       "\t<tr><td>OWID_CYN</td><td>Asia  </td><td>Northern Cyprus    </td></tr>\n",
       "\t<tr><td>OWID_NIR</td><td>Europe</td><td>Northern Ireland   </td></tr>\n",
       "\t<tr><td>OWID_OCE</td><td>      </td><td>Oceania            </td></tr>\n",
       "\t<tr><td>OWID_SCT</td><td>Europe</td><td>Scotland           </td></tr>\n",
       "\t<tr><td>OWID_SAM</td><td>      </td><td>South America      </td></tr>\n",
       "\t<tr><td>OWID_UMC</td><td>      </td><td>Upper middle income</td></tr>\n",
       "\t<tr><td>OWID_WLS</td><td>Europe</td><td>Wales              </td></tr>\n",
       "\t<tr><td>OWID_WRL</td><td>      </td><td>World              </td></tr>\n",
       "</tbody>\n",
       "</table>\n"
      ],
      "text/latex": [
       "A data.table: 19 × 3\n",
       "\\begin{tabular}{lll}\n",
       " iso\\_code & continent & location\\\\\n",
       " <chr> & <chr> & <chr>\\\\\n",
       "\\hline\n",
       "\t OWID\\_AFR &        & Africa             \\\\\n",
       "\t OWID\\_ASI &        & Asia               \\\\\n",
       "\t OWID\\_ENG & Europe & England            \\\\\n",
       "\t OWID\\_EUR &        & Europe             \\\\\n",
       "\t OWID\\_EUN &        & European Union     \\\\\n",
       "\t OWID\\_HIC &        & High income        \\\\\n",
       "\t OWID\\_INT &        & International      \\\\\n",
       "\t OWID\\_KOS & Europe & Kosovo             \\\\\n",
       "\t OWID\\_LIC &        & Low income         \\\\\n",
       "\t OWID\\_LMC &        & Lower middle income\\\\\n",
       "\t OWID\\_NAM &        & North America      \\\\\n",
       "\t OWID\\_CYN & Asia   & Northern Cyprus    \\\\\n",
       "\t OWID\\_NIR & Europe & Northern Ireland   \\\\\n",
       "\t OWID\\_OCE &        & Oceania            \\\\\n",
       "\t OWID\\_SCT & Europe & Scotland           \\\\\n",
       "\t OWID\\_SAM &        & South America      \\\\\n",
       "\t OWID\\_UMC &        & Upper middle income\\\\\n",
       "\t OWID\\_WLS & Europe & Wales              \\\\\n",
       "\t OWID\\_WRL &        & World              \\\\\n",
       "\\end{tabular}\n"
      ],
      "text/markdown": [
       "\n",
       "A data.table: 19 × 3\n",
       "\n",
       "| iso_code &lt;chr&gt; | continent &lt;chr&gt; | location &lt;chr&gt; |\n",
       "|---|---|---|\n",
       "| OWID_AFR | <!----> | Africa              |\n",
       "| OWID_ASI | <!----> | Asia                |\n",
       "| OWID_ENG | Europe | England             |\n",
       "| OWID_EUR | <!----> | Europe              |\n",
       "| OWID_EUN | <!----> | European Union      |\n",
       "| OWID_HIC | <!----> | High income         |\n",
       "| OWID_INT | <!----> | International       |\n",
       "| OWID_KOS | Europe | Kosovo              |\n",
       "| OWID_LIC | <!----> | Low income          |\n",
       "| OWID_LMC | <!----> | Lower middle income |\n",
       "| OWID_NAM | <!----> | North America       |\n",
       "| OWID_CYN | Asia   | Northern Cyprus     |\n",
       "| OWID_NIR | Europe | Northern Ireland    |\n",
       "| OWID_OCE | <!----> | Oceania             |\n",
       "| OWID_SCT | Europe | Scotland            |\n",
       "| OWID_SAM | <!----> | South America       |\n",
       "| OWID_UMC | <!----> | Upper middle income |\n",
       "| OWID_WLS | Europe | Wales               |\n",
       "| OWID_WRL | <!----> | World               |\n",
       "\n"
      ],
      "text/plain": [
       "   iso_code continent location           \n",
       "1  OWID_AFR           Africa             \n",
       "2  OWID_ASI           Asia               \n",
       "3  OWID_ENG Europe    England            \n",
       "4  OWID_EUR           Europe             \n",
       "5  OWID_EUN           European Union     \n",
       "6  OWID_HIC           High income        \n",
       "7  OWID_INT           International      \n",
       "8  OWID_KOS Europe    Kosovo             \n",
       "9  OWID_LIC           Low income         \n",
       "10 OWID_LMC           Lower middle income\n",
       "11 OWID_NAM           North America      \n",
       "12 OWID_CYN Asia      Northern Cyprus    \n",
       "13 OWID_NIR Europe    Northern Ireland   \n",
       "14 OWID_OCE           Oceania            \n",
       "15 OWID_SCT Europe    Scotland           \n",
       "16 OWID_SAM           South America      \n",
       "17 OWID_UMC           Upper middle income\n",
       "18 OWID_WLS Europe    Wales              \n",
       "19 OWID_WRL           World              "
      ]
     },
     "metadata": {},
     "output_type": "display_data"
    },
    {
     "data": {
      "text/html": [
       "<style>\n",
       ".list-inline {list-style: none; margin:0; padding: 0}\n",
       ".list-inline>li {display: inline-block}\n",
       ".list-inline>li:not(:last-child)::after {content: \"\\00b7\"; padding: 0 .5ex}\n",
       "</style>\n",
       "<ol class=list-inline><li>211414</li><li>26</li></ol>\n"
      ],
      "text/latex": [
       "\\begin{enumerate*}\n",
       "\\item 211414\n",
       "\\item 26\n",
       "\\end{enumerate*}\n"
      ],
      "text/markdown": [
       "1. 211414\n",
       "2. 26\n",
       "\n",
       "\n"
      ],
      "text/plain": [
       "[1] 211414     26"
      ]
     },
     "metadata": {},
     "output_type": "display_data"
    },
    {
     "name": "stdout",
     "output_type": "stream",
     "text": [
      "[1] \"18031 rows have been dropped\"\n"
     ]
    }
   ],
   "source": [
    "unique(covid_new_cases[,1:3][which(nchar(covid_new_cases$iso_code) != 3)]) # display \"iso_code\" that do not contain exactly 3 characters\n",
    "covid_data_iso <- covid_new_cases[which(nchar(covid_new_cases$iso_code) == 3)] # only keep \"iso_code\" that contain 3 characters\n",
    "dim(covid_data_iso) # display the dimension of covid_new_iso to make sure the number of rows has decreased\n",
    "print(paste(nrow(covid_data) - nrow(covid_data_iso), \"rows have been dropped\")) # display the number of rows that were dropped"
   ]
  },
  {
   "cell_type": "markdown",
   "id": "3813a70d",
   "metadata": {},
   "source": [
    "From `date` we will identify the month of the dates and include them as a column."
   ]
  },
  {
   "cell_type": "code",
   "execution_count": 7,
   "id": "eb77bd0b",
   "metadata": {},
   "outputs": [
    {
     "data": {
      "text/html": [
       "<style>\n",
       ".list-inline {list-style: none; margin:0; padding: 0}\n",
       ".list-inline>li {display: inline-block}\n",
       ".list-inline>li:not(:last-child)::after {content: \"\\00b7\"; padding: 0 .5ex}\n",
       "</style>\n",
       "<ol class=list-inline><li>211414</li><li>27</li></ol>\n"
      ],
      "text/latex": [
       "\\begin{enumerate*}\n",
       "\\item 211414\n",
       "\\item 27\n",
       "\\end{enumerate*}\n"
      ],
      "text/markdown": [
       "1. 211414\n",
       "2. 27\n",
       "\n",
       "\n"
      ],
      "text/plain": [
       "[1] 211414     27"
      ]
     },
     "metadata": {},
     "output_type": "display_data"
    },
    {
     "data": {
      "text/html": [
       "<table class=\"dataframe\">\n",
       "<caption>A data.table: 6 × 27</caption>\n",
       "<thead>\n",
       "\t<tr><th scope=col>iso_code</th><th scope=col>continent</th><th scope=col>location</th><th scope=col>date</th><th scope=col>month</th><th scope=col>total_cases</th><th scope=col>new_cases</th><th scope=col>new_cases_smoothed</th><th scope=col>total_cases_per_million</th><th scope=col>new_cases_per_million</th><th scope=col>⋯</th><th scope=col>extreme_poverty</th><th scope=col>cardiovasc_death_rate</th><th scope=col>diabetes_prevalence</th><th scope=col>female_smokers</th><th scope=col>male_smokers</th><th scope=col>handwashing_facilities</th><th scope=col>hospital_beds_per_thousand</th><th scope=col>life_expectancy</th><th scope=col>human_development_index</th><th scope=col>population</th></tr>\n",
       "\t<tr><th scope=col>&lt;chr&gt;</th><th scope=col>&lt;chr&gt;</th><th scope=col>&lt;chr&gt;</th><th scope=col>&lt;date&gt;</th><th scope=col>&lt;chr&gt;</th><th scope=col>&lt;dbl&gt;</th><th scope=col>&lt;dbl&gt;</th><th scope=col>&lt;dbl&gt;</th><th scope=col>&lt;dbl&gt;</th><th scope=col>&lt;dbl&gt;</th><th scope=col>⋯</th><th scope=col>&lt;dbl&gt;</th><th scope=col>&lt;dbl&gt;</th><th scope=col>&lt;dbl&gt;</th><th scope=col>&lt;dbl&gt;</th><th scope=col>&lt;dbl&gt;</th><th scope=col>&lt;dbl&gt;</th><th scope=col>&lt;dbl&gt;</th><th scope=col>&lt;dbl&gt;</th><th scope=col>&lt;dbl&gt;</th><th scope=col>&lt;dbl&gt;</th></tr>\n",
       "</thead>\n",
       "<tbody>\n",
       "\t<tr><td>AFG</td><td>Asia</td><td>Afghanistan</td><td>2020-02-24</td><td>Feb</td><td>5</td><td>5</td><td>   NA</td><td>0.125</td><td>0.125</td><td>⋯</td><td>NA</td><td>597.029</td><td>9.59</td><td>NA</td><td>NA</td><td>37.746</td><td>0.5</td><td>64.83</td><td>0.511</td><td>40099462</td></tr>\n",
       "\t<tr><td>AFG</td><td>Asia</td><td>Afghanistan</td><td>2020-02-25</td><td>Feb</td><td>5</td><td>0</td><td>   NA</td><td>0.125</td><td>0.000</td><td>⋯</td><td>NA</td><td>597.029</td><td>9.59</td><td>NA</td><td>NA</td><td>37.746</td><td>0.5</td><td>64.83</td><td>0.511</td><td>40099462</td></tr>\n",
       "\t<tr><td>AFG</td><td>Asia</td><td>Afghanistan</td><td>2020-02-26</td><td>Feb</td><td>5</td><td>0</td><td>   NA</td><td>0.125</td><td>0.000</td><td>⋯</td><td>NA</td><td>597.029</td><td>9.59</td><td>NA</td><td>NA</td><td>37.746</td><td>0.5</td><td>64.83</td><td>0.511</td><td>40099462</td></tr>\n",
       "\t<tr><td>AFG</td><td>Asia</td><td>Afghanistan</td><td>2020-02-27</td><td>Feb</td><td>5</td><td>0</td><td>   NA</td><td>0.125</td><td>0.000</td><td>⋯</td><td>NA</td><td>597.029</td><td>9.59</td><td>NA</td><td>NA</td><td>37.746</td><td>0.5</td><td>64.83</td><td>0.511</td><td>40099462</td></tr>\n",
       "\t<tr><td>AFG</td><td>Asia</td><td>Afghanistan</td><td>2020-02-28</td><td>Feb</td><td>5</td><td>0</td><td>   NA</td><td>0.125</td><td>0.000</td><td>⋯</td><td>NA</td><td>597.029</td><td>9.59</td><td>NA</td><td>NA</td><td>37.746</td><td>0.5</td><td>64.83</td><td>0.511</td><td>40099462</td></tr>\n",
       "\t<tr><td>AFG</td><td>Asia</td><td>Afghanistan</td><td>2020-02-29</td><td>Feb</td><td>5</td><td>0</td><td>0.714</td><td>0.125</td><td>0.000</td><td>⋯</td><td>NA</td><td>597.029</td><td>9.59</td><td>NA</td><td>NA</td><td>37.746</td><td>0.5</td><td>64.83</td><td>0.511</td><td>40099462</td></tr>\n",
       "</tbody>\n",
       "</table>\n"
      ],
      "text/latex": [
       "A data.table: 6 × 27\n",
       "\\begin{tabular}{lllllllllllllllllllll}\n",
       " iso\\_code & continent & location & date & month & total\\_cases & new\\_cases & new\\_cases\\_smoothed & total\\_cases\\_per\\_million & new\\_cases\\_per\\_million & ⋯ & extreme\\_poverty & cardiovasc\\_death\\_rate & diabetes\\_prevalence & female\\_smokers & male\\_smokers & handwashing\\_facilities & hospital\\_beds\\_per\\_thousand & life\\_expectancy & human\\_development\\_index & population\\\\\n",
       " <chr> & <chr> & <chr> & <date> & <chr> & <dbl> & <dbl> & <dbl> & <dbl> & <dbl> & ⋯ & <dbl> & <dbl> & <dbl> & <dbl> & <dbl> & <dbl> & <dbl> & <dbl> & <dbl> & <dbl>\\\\\n",
       "\\hline\n",
       "\t AFG & Asia & Afghanistan & 2020-02-24 & Feb & 5 & 5 &    NA & 0.125 & 0.125 & ⋯ & NA & 597.029 & 9.59 & NA & NA & 37.746 & 0.5 & 64.83 & 0.511 & 40099462\\\\\n",
       "\t AFG & Asia & Afghanistan & 2020-02-25 & Feb & 5 & 0 &    NA & 0.125 & 0.000 & ⋯ & NA & 597.029 & 9.59 & NA & NA & 37.746 & 0.5 & 64.83 & 0.511 & 40099462\\\\\n",
       "\t AFG & Asia & Afghanistan & 2020-02-26 & Feb & 5 & 0 &    NA & 0.125 & 0.000 & ⋯ & NA & 597.029 & 9.59 & NA & NA & 37.746 & 0.5 & 64.83 & 0.511 & 40099462\\\\\n",
       "\t AFG & Asia & Afghanistan & 2020-02-27 & Feb & 5 & 0 &    NA & 0.125 & 0.000 & ⋯ & NA & 597.029 & 9.59 & NA & NA & 37.746 & 0.5 & 64.83 & 0.511 & 40099462\\\\\n",
       "\t AFG & Asia & Afghanistan & 2020-02-28 & Feb & 5 & 0 &    NA & 0.125 & 0.000 & ⋯ & NA & 597.029 & 9.59 & NA & NA & 37.746 & 0.5 & 64.83 & 0.511 & 40099462\\\\\n",
       "\t AFG & Asia & Afghanistan & 2020-02-29 & Feb & 5 & 0 & 0.714 & 0.125 & 0.000 & ⋯ & NA & 597.029 & 9.59 & NA & NA & 37.746 & 0.5 & 64.83 & 0.511 & 40099462\\\\\n",
       "\\end{tabular}\n"
      ],
      "text/markdown": [
       "\n",
       "A data.table: 6 × 27\n",
       "\n",
       "| iso_code &lt;chr&gt; | continent &lt;chr&gt; | location &lt;chr&gt; | date &lt;date&gt; | month &lt;chr&gt; | total_cases &lt;dbl&gt; | new_cases &lt;dbl&gt; | new_cases_smoothed &lt;dbl&gt; | total_cases_per_million &lt;dbl&gt; | new_cases_per_million &lt;dbl&gt; | ⋯ ⋯ | extreme_poverty &lt;dbl&gt; | cardiovasc_death_rate &lt;dbl&gt; | diabetes_prevalence &lt;dbl&gt; | female_smokers &lt;dbl&gt; | male_smokers &lt;dbl&gt; | handwashing_facilities &lt;dbl&gt; | hospital_beds_per_thousand &lt;dbl&gt; | life_expectancy &lt;dbl&gt; | human_development_index &lt;dbl&gt; | population &lt;dbl&gt; |\n",
       "|---|---|---|---|---|---|---|---|---|---|---|---|---|---|---|---|---|---|---|---|---|\n",
       "| AFG | Asia | Afghanistan | 2020-02-24 | Feb | 5 | 5 |    NA | 0.125 | 0.125 | ⋯ | NA | 597.029 | 9.59 | NA | NA | 37.746 | 0.5 | 64.83 | 0.511 | 40099462 |\n",
       "| AFG | Asia | Afghanistan | 2020-02-25 | Feb | 5 | 0 |    NA | 0.125 | 0.000 | ⋯ | NA | 597.029 | 9.59 | NA | NA | 37.746 | 0.5 | 64.83 | 0.511 | 40099462 |\n",
       "| AFG | Asia | Afghanistan | 2020-02-26 | Feb | 5 | 0 |    NA | 0.125 | 0.000 | ⋯ | NA | 597.029 | 9.59 | NA | NA | 37.746 | 0.5 | 64.83 | 0.511 | 40099462 |\n",
       "| AFG | Asia | Afghanistan | 2020-02-27 | Feb | 5 | 0 |    NA | 0.125 | 0.000 | ⋯ | NA | 597.029 | 9.59 | NA | NA | 37.746 | 0.5 | 64.83 | 0.511 | 40099462 |\n",
       "| AFG | Asia | Afghanistan | 2020-02-28 | Feb | 5 | 0 |    NA | 0.125 | 0.000 | ⋯ | NA | 597.029 | 9.59 | NA | NA | 37.746 | 0.5 | 64.83 | 0.511 | 40099462 |\n",
       "| AFG | Asia | Afghanistan | 2020-02-29 | Feb | 5 | 0 | 0.714 | 0.125 | 0.000 | ⋯ | NA | 597.029 | 9.59 | NA | NA | 37.746 | 0.5 | 64.83 | 0.511 | 40099462 |\n",
       "\n"
      ],
      "text/plain": [
       "  iso_code continent location    date       month total_cases new_cases\n",
       "1 AFG      Asia      Afghanistan 2020-02-24 Feb   5           5        \n",
       "2 AFG      Asia      Afghanistan 2020-02-25 Feb   5           0        \n",
       "3 AFG      Asia      Afghanistan 2020-02-26 Feb   5           0        \n",
       "4 AFG      Asia      Afghanistan 2020-02-27 Feb   5           0        \n",
       "5 AFG      Asia      Afghanistan 2020-02-28 Feb   5           0        \n",
       "6 AFG      Asia      Afghanistan 2020-02-29 Feb   5           0        \n",
       "  new_cases_smoothed total_cases_per_million new_cases_per_million ⋯\n",
       "1    NA              0.125                   0.125                 ⋯\n",
       "2    NA              0.125                   0.000                 ⋯\n",
       "3    NA              0.125                   0.000                 ⋯\n",
       "4    NA              0.125                   0.000                 ⋯\n",
       "5    NA              0.125                   0.000                 ⋯\n",
       "6 0.714              0.125                   0.000                 ⋯\n",
       "  extreme_poverty cardiovasc_death_rate diabetes_prevalence female_smokers\n",
       "1 NA              597.029               9.59                NA            \n",
       "2 NA              597.029               9.59                NA            \n",
       "3 NA              597.029               9.59                NA            \n",
       "4 NA              597.029               9.59                NA            \n",
       "5 NA              597.029               9.59                NA            \n",
       "6 NA              597.029               9.59                NA            \n",
       "  male_smokers handwashing_facilities hospital_beds_per_thousand\n",
       "1 NA           37.746                 0.5                       \n",
       "2 NA           37.746                 0.5                       \n",
       "3 NA           37.746                 0.5                       \n",
       "4 NA           37.746                 0.5                       \n",
       "5 NA           37.746                 0.5                       \n",
       "6 NA           37.746                 0.5                       \n",
       "  life_expectancy human_development_index population\n",
       "1 64.83           0.511                   40099462  \n",
       "2 64.83           0.511                   40099462  \n",
       "3 64.83           0.511                   40099462  \n",
       "4 64.83           0.511                   40099462  \n",
       "5 64.83           0.511                   40099462  \n",
       "6 64.83           0.511                   40099462  "
      ]
     },
     "metadata": {},
     "output_type": "display_data"
    }
   ],
   "source": [
    "covid_data_month <-\n",
    "    covid_data_iso %>%\n",
    "    mutate(month = format(date, \"%b\"), .after = date) # Create a new column with abbreviated month names\n",
    "dim(covid_data_month) # display the dimension of covid_data_month to make sure the number of columns has increased\n",
    "head(covid_data_month) # check the first few rows"
   ]
  },
  {
   "cell_type": "markdown",
   "id": "4247c03d",
   "metadata": {},
   "source": [
    "## 1.2 Importing sunshine duration data from webpage<a name=\"p1.2\"></a>"
   ]
  },
  {
   "cell_type": "markdown",
   "id": "0c712bf3",
   "metadata": {},
   "source": [
    "We will then import the sunshine duration data from Wikipedia[<sup>4</sup>](#4)."
   ]
  },
  {
   "cell_type": "code",
   "execution_count": 8,
   "id": "e26e6e83",
   "metadata": {},
   "outputs": [],
   "source": [
    "url <- \"https://en.wikipedia.org/wiki/List_of_cities_by_sunshine_duration\" # save the URL in a variable\n",
    "wikipedia <- \n",
    "    read_html(url) %>% \n",
    "    html_nodes('table.wikitable') %>% \n",
    "    html_table(header = TRUE) # read the tables from URL and save them in another variable"
   ]
  },
  {
   "cell_type": "markdown",
   "id": "374c194f",
   "metadata": {},
   "source": [
    "The Wikipedia page has six `wikitable` (one per continent except for Antarctica), so `wikipedia` is a list of six tibbles.<br>\n",
    "We will bind them into one table."
   ]
  },
  {
   "cell_type": "code",
   "execution_count": 9,
   "id": "8c4fb004",
   "metadata": {},
   "outputs": [
    {
     "data": {
      "text/html": [
       "<style>\n",
       ".list-inline {list-style: none; margin:0; padding: 0}\n",
       ".list-inline>li {display: inline-block}\n",
       ".list-inline>li:not(:last-child)::after {content: \"\\00b7\"; padding: 0 .5ex}\n",
       "</style>\n",
       "<ol class=list-inline><li>391</li><li>16</li></ol>\n"
      ],
      "text/latex": [
       "\\begin{enumerate*}\n",
       "\\item 391\n",
       "\\item 16\n",
       "\\end{enumerate*}\n"
      ],
      "text/markdown": [
       "1. 391\n",
       "2. 16\n",
       "\n",
       "\n"
      ],
      "text/plain": [
       "[1] 391  16"
      ]
     },
     "metadata": {},
     "output_type": "display_data"
    },
    {
     "data": {
      "text/html": [
       "<table class=\"dataframe\">\n",
       "<caption>A data.table: 6 × 16</caption>\n",
       "<thead>\n",
       "\t<tr><th scope=col>Country</th><th scope=col>City</th><th scope=col>Jan</th><th scope=col>Feb</th><th scope=col>Mar</th><th scope=col>Apr</th><th scope=col>May</th><th scope=col>Jun</th><th scope=col>Jul</th><th scope=col>Aug</th><th scope=col>Sep</th><th scope=col>Oct</th><th scope=col>Nov</th><th scope=col>Dec</th><th scope=col>Year</th><th scope=col>Ref.</th></tr>\n",
       "\t<tr><th scope=col>&lt;chr&gt;</th><th scope=col>&lt;chr&gt;</th><th scope=col>&lt;dbl&gt;</th><th scope=col>&lt;dbl&gt;</th><th scope=col>&lt;dbl&gt;</th><th scope=col>&lt;dbl&gt;</th><th scope=col>&lt;dbl&gt;</th><th scope=col>&lt;dbl&gt;</th><th scope=col>&lt;dbl&gt;</th><th scope=col>&lt;dbl&gt;</th><th scope=col>&lt;dbl&gt;</th><th scope=col>&lt;dbl&gt;</th><th scope=col>&lt;dbl&gt;</th><th scope=col>&lt;dbl&gt;</th><th scope=col>&lt;chr&gt;</th><th scope=col>&lt;chr&gt;</th></tr>\n",
       "</thead>\n",
       "<tbody>\n",
       "\t<tr><td>Ivory Coast</td><td>Gagnoa </td><td>183.0</td><td>180.0</td><td>196.0</td><td>188.0</td><td>181.0</td><td>118.0</td><td> 97.0</td><td> 80.0</td><td>110.0</td><td>155.0</td><td>171</td><td>164.0</td><td>1,823.0</td><td>[2]</td></tr>\n",
       "\t<tr><td>Ivory Coast</td><td>Bouaké </td><td>242.0</td><td>224.0</td><td>219.0</td><td>194.0</td><td>208.0</td><td>145.0</td><td>104.0</td><td> 82.0</td><td>115.0</td><td>170.0</td><td>191</td><td>198.0</td><td>2,092.0</td><td>[2]</td></tr>\n",
       "\t<tr><td>Ivory Coast</td><td>Abidjan</td><td>223.0</td><td>223.0</td><td>239.0</td><td>214.0</td><td>205.0</td><td>128.0</td><td>137.0</td><td>125.0</td><td>139.0</td><td>215.0</td><td>224</td><td>224.0</td><td>2,296.0</td><td>[2]</td></tr>\n",
       "\t<tr><td>Ivory Coast</td><td>Odienné</td><td>242.0</td><td>220.2</td><td>217.3</td><td>214.7</td><td>248.8</td><td>221.8</td><td>183.5</td><td>174.5</td><td>185.4</td><td>235.8</td><td>252</td><td>242.6</td><td>2,638.6</td><td>[3]</td></tr>\n",
       "\t<tr><td>Ivory Coast</td><td>Ferké  </td><td>279.0</td><td>249.0</td><td>253.0</td><td>229.0</td><td>251.0</td><td>221.0</td><td>183.0</td><td>151.0</td><td>173.0</td><td>245.0</td><td>261</td><td>262.0</td><td>2,757.0</td><td>[2]</td></tr>\n",
       "\t<tr><td>Benin      </td><td>Cotonou</td><td>213.9</td><td>210.0</td><td>223.2</td><td>219.0</td><td>213.9</td><td>141.0</td><td>136.4</td><td>148.8</td><td>165.0</td><td>207.7</td><td>243</td><td>223.2</td><td>2,345.2</td><td>[4]</td></tr>\n",
       "</tbody>\n",
       "</table>\n"
      ],
      "text/latex": [
       "A data.table: 6 × 16\n",
       "\\begin{tabular}{llllllllllllllll}\n",
       " Country & City & Jan & Feb & Mar & Apr & May & Jun & Jul & Aug & Sep & Oct & Nov & Dec & Year & Ref.\\\\\n",
       " <chr> & <chr> & <dbl> & <dbl> & <dbl> & <dbl> & <dbl> & <dbl> & <dbl> & <dbl> & <dbl> & <dbl> & <dbl> & <dbl> & <chr> & <chr>\\\\\n",
       "\\hline\n",
       "\t Ivory Coast & Gagnoa  & 183.0 & 180.0 & 196.0 & 188.0 & 181.0 & 118.0 &  97.0 &  80.0 & 110.0 & 155.0 & 171 & 164.0 & 1,823.0 & {[}2{]}\\\\\n",
       "\t Ivory Coast & Bouaké  & 242.0 & 224.0 & 219.0 & 194.0 & 208.0 & 145.0 & 104.0 &  82.0 & 115.0 & 170.0 & 191 & 198.0 & 2,092.0 & {[}2{]}\\\\\n",
       "\t Ivory Coast & Abidjan & 223.0 & 223.0 & 239.0 & 214.0 & 205.0 & 128.0 & 137.0 & 125.0 & 139.0 & 215.0 & 224 & 224.0 & 2,296.0 & {[}2{]}\\\\\n",
       "\t Ivory Coast & Odienné & 242.0 & 220.2 & 217.3 & 214.7 & 248.8 & 221.8 & 183.5 & 174.5 & 185.4 & 235.8 & 252 & 242.6 & 2,638.6 & {[}3{]}\\\\\n",
       "\t Ivory Coast & Ferké   & 279.0 & 249.0 & 253.0 & 229.0 & 251.0 & 221.0 & 183.0 & 151.0 & 173.0 & 245.0 & 261 & 262.0 & 2,757.0 & {[}2{]}\\\\\n",
       "\t Benin       & Cotonou & 213.9 & 210.0 & 223.2 & 219.0 & 213.9 & 141.0 & 136.4 & 148.8 & 165.0 & 207.7 & 243 & 223.2 & 2,345.2 & {[}4{]}\\\\\n",
       "\\end{tabular}\n"
      ],
      "text/markdown": [
       "\n",
       "A data.table: 6 × 16\n",
       "\n",
       "| Country &lt;chr&gt; | City &lt;chr&gt; | Jan &lt;dbl&gt; | Feb &lt;dbl&gt; | Mar &lt;dbl&gt; | Apr &lt;dbl&gt; | May &lt;dbl&gt; | Jun &lt;dbl&gt; | Jul &lt;dbl&gt; | Aug &lt;dbl&gt; | Sep &lt;dbl&gt; | Oct &lt;dbl&gt; | Nov &lt;dbl&gt; | Dec &lt;dbl&gt; | Year &lt;chr&gt; | Ref. &lt;chr&gt; |\n",
       "|---|---|---|---|---|---|---|---|---|---|---|---|---|---|---|---|\n",
       "| Ivory Coast | Gagnoa  | 183.0 | 180.0 | 196.0 | 188.0 | 181.0 | 118.0 |  97.0 |  80.0 | 110.0 | 155.0 | 171 | 164.0 | 1,823.0 | [2] |\n",
       "| Ivory Coast | Bouaké  | 242.0 | 224.0 | 219.0 | 194.0 | 208.0 | 145.0 | 104.0 |  82.0 | 115.0 | 170.0 | 191 | 198.0 | 2,092.0 | [2] |\n",
       "| Ivory Coast | Abidjan | 223.0 | 223.0 | 239.0 | 214.0 | 205.0 | 128.0 | 137.0 | 125.0 | 139.0 | 215.0 | 224 | 224.0 | 2,296.0 | [2] |\n",
       "| Ivory Coast | Odienné | 242.0 | 220.2 | 217.3 | 214.7 | 248.8 | 221.8 | 183.5 | 174.5 | 185.4 | 235.8 | 252 | 242.6 | 2,638.6 | [3] |\n",
       "| Ivory Coast | Ferké   | 279.0 | 249.0 | 253.0 | 229.0 | 251.0 | 221.0 | 183.0 | 151.0 | 173.0 | 245.0 | 261 | 262.0 | 2,757.0 | [2] |\n",
       "| Benin       | Cotonou | 213.9 | 210.0 | 223.2 | 219.0 | 213.9 | 141.0 | 136.4 | 148.8 | 165.0 | 207.7 | 243 | 223.2 | 2,345.2 | [4] |\n",
       "\n"
      ],
      "text/plain": [
       "  Country     City    Jan   Feb   Mar   Apr   May   Jun   Jul   Aug   Sep  \n",
       "1 Ivory Coast Gagnoa  183.0 180.0 196.0 188.0 181.0 118.0  97.0  80.0 110.0\n",
       "2 Ivory Coast Bouaké  242.0 224.0 219.0 194.0 208.0 145.0 104.0  82.0 115.0\n",
       "3 Ivory Coast Abidjan 223.0 223.0 239.0 214.0 205.0 128.0 137.0 125.0 139.0\n",
       "4 Ivory Coast Odienné 242.0 220.2 217.3 214.7 248.8 221.8 183.5 174.5 185.4\n",
       "5 Ivory Coast Ferké   279.0 249.0 253.0 229.0 251.0 221.0 183.0 151.0 173.0\n",
       "6 Benin       Cotonou 213.9 210.0 223.2 219.0 213.9 141.0 136.4 148.8 165.0\n",
       "  Oct   Nov Dec   Year    Ref.\n",
       "1 155.0 171 164.0 1,823.0 [2] \n",
       "2 170.0 191 198.0 2,092.0 [2] \n",
       "3 215.0 224 224.0 2,296.0 [2] \n",
       "4 235.8 252 242.6 2,638.6 [3] \n",
       "5 245.0 261 262.0 2,757.0 [2] \n",
       "6 207.7 243 223.2 2,345.2 [4] "
      ]
     },
     "metadata": {},
     "output_type": "display_data"
    },
    {
     "data": {
      "text/html": [
       "<table class=\"dataframe\">\n",
       "<caption>A data.table: 6 × 16</caption>\n",
       "<thead>\n",
       "\t<tr><th scope=col>Country</th><th scope=col>City</th><th scope=col>Jan</th><th scope=col>Feb</th><th scope=col>Mar</th><th scope=col>Apr</th><th scope=col>May</th><th scope=col>Jun</th><th scope=col>Jul</th><th scope=col>Aug</th><th scope=col>Sep</th><th scope=col>Oct</th><th scope=col>Nov</th><th scope=col>Dec</th><th scope=col>Year</th><th scope=col>Ref.</th></tr>\n",
       "\t<tr><th scope=col>&lt;chr&gt;</th><th scope=col>&lt;chr&gt;</th><th scope=col>&lt;dbl&gt;</th><th scope=col>&lt;dbl&gt;</th><th scope=col>&lt;dbl&gt;</th><th scope=col>&lt;dbl&gt;</th><th scope=col>&lt;dbl&gt;</th><th scope=col>&lt;dbl&gt;</th><th scope=col>&lt;dbl&gt;</th><th scope=col>&lt;dbl&gt;</th><th scope=col>&lt;dbl&gt;</th><th scope=col>&lt;dbl&gt;</th><th scope=col>&lt;dbl&gt;</th><th scope=col>&lt;dbl&gt;</th><th scope=col>&lt;chr&gt;</th><th scope=col>&lt;chr&gt;</th></tr>\n",
       "</thead>\n",
       "<tbody>\n",
       "\t<tr><td>New Zealand</td><td>Christchurch</td><td>224.4</td><td>190.5</td><td>177.4</td><td>155.6</td><td>133.3</td><td>117.7</td><td>124.8</td><td>149.0</td><td>166.6</td><td>201.3</td><td>215.3</td><td>214.3</td><td>2,070.2</td><td>?    </td></tr>\n",
       "\t<tr><td>New Zealand</td><td>Wellington  </td><td>240.3</td><td>205.0</td><td>194.7</td><td>153.8</td><td>126.0</td><td>102.3</td><td>111.4</td><td>137.2</td><td>163.2</td><td>191.1</td><td>210.8</td><td>222.9</td><td>2,058.7</td><td>?    </td></tr>\n",
       "\t<tr><td>New Zealand</td><td>Hamilton    </td><td>229.8</td><td>192.9</td><td>193.3</td><td>165.1</td><td>138.3</td><td>112.8</td><td>126.4</td><td>144.1</td><td>147.5</td><td>174.8</td><td>187.1</td><td>207.6</td><td>2,019.6</td><td>?    </td></tr>\n",
       "\t<tr><td>New Zealand</td><td>Auckland    </td><td>228.8</td><td>194.9</td><td>189.2</td><td>157.3</td><td>139.8</td><td>110.3</td><td>128.1</td><td>142.9</td><td>148.6</td><td>178.1</td><td>188.1</td><td>197.2</td><td>2,003.1</td><td>?    </td></tr>\n",
       "\t<tr><td>Fiji       </td><td>Suva        </td><td>192.2</td><td>178.0</td><td>170.5</td><td>153.0</td><td>145.7</td><td>141.0</td><td>136.4</td><td>142.6</td><td>135.0</td><td>164.3</td><td>168.0</td><td>195.3</td><td>1,922.0</td><td>[193]</td></tr>\n",
       "\t<tr><td>New Zealand</td><td>Dunedin     </td><td>179.6</td><td>158.0</td><td>146.1</td><td>125.9</td><td>108.4</td><td> 95.3</td><td>110.6</td><td>122.2</td><td>136.8</td><td>165.5</td><td>166.9</td><td>168.3</td><td>1,683.7</td><td>[194]</td></tr>\n",
       "</tbody>\n",
       "</table>\n"
      ],
      "text/latex": [
       "A data.table: 6 × 16\n",
       "\\begin{tabular}{llllllllllllllll}\n",
       " Country & City & Jan & Feb & Mar & Apr & May & Jun & Jul & Aug & Sep & Oct & Nov & Dec & Year & Ref.\\\\\n",
       " <chr> & <chr> & <dbl> & <dbl> & <dbl> & <dbl> & <dbl> & <dbl> & <dbl> & <dbl> & <dbl> & <dbl> & <dbl> & <dbl> & <chr> & <chr>\\\\\n",
       "\\hline\n",
       "\t New Zealand & Christchurch & 224.4 & 190.5 & 177.4 & 155.6 & 133.3 & 117.7 & 124.8 & 149.0 & 166.6 & 201.3 & 215.3 & 214.3 & 2,070.2 & ?    \\\\\n",
       "\t New Zealand & Wellington   & 240.3 & 205.0 & 194.7 & 153.8 & 126.0 & 102.3 & 111.4 & 137.2 & 163.2 & 191.1 & 210.8 & 222.9 & 2,058.7 & ?    \\\\\n",
       "\t New Zealand & Hamilton     & 229.8 & 192.9 & 193.3 & 165.1 & 138.3 & 112.8 & 126.4 & 144.1 & 147.5 & 174.8 & 187.1 & 207.6 & 2,019.6 & ?    \\\\\n",
       "\t New Zealand & Auckland     & 228.8 & 194.9 & 189.2 & 157.3 & 139.8 & 110.3 & 128.1 & 142.9 & 148.6 & 178.1 & 188.1 & 197.2 & 2,003.1 & ?    \\\\\n",
       "\t Fiji        & Suva         & 192.2 & 178.0 & 170.5 & 153.0 & 145.7 & 141.0 & 136.4 & 142.6 & 135.0 & 164.3 & 168.0 & 195.3 & 1,922.0 & {[}193{]}\\\\\n",
       "\t New Zealand & Dunedin      & 179.6 & 158.0 & 146.1 & 125.9 & 108.4 &  95.3 & 110.6 & 122.2 & 136.8 & 165.5 & 166.9 & 168.3 & 1,683.7 & {[}194{]}\\\\\n",
       "\\end{tabular}\n"
      ],
      "text/markdown": [
       "\n",
       "A data.table: 6 × 16\n",
       "\n",
       "| Country &lt;chr&gt; | City &lt;chr&gt; | Jan &lt;dbl&gt; | Feb &lt;dbl&gt; | Mar &lt;dbl&gt; | Apr &lt;dbl&gt; | May &lt;dbl&gt; | Jun &lt;dbl&gt; | Jul &lt;dbl&gt; | Aug &lt;dbl&gt; | Sep &lt;dbl&gt; | Oct &lt;dbl&gt; | Nov &lt;dbl&gt; | Dec &lt;dbl&gt; | Year &lt;chr&gt; | Ref. &lt;chr&gt; |\n",
       "|---|---|---|---|---|---|---|---|---|---|---|---|---|---|---|---|\n",
       "| New Zealand | Christchurch | 224.4 | 190.5 | 177.4 | 155.6 | 133.3 | 117.7 | 124.8 | 149.0 | 166.6 | 201.3 | 215.3 | 214.3 | 2,070.2 | ?     |\n",
       "| New Zealand | Wellington   | 240.3 | 205.0 | 194.7 | 153.8 | 126.0 | 102.3 | 111.4 | 137.2 | 163.2 | 191.1 | 210.8 | 222.9 | 2,058.7 | ?     |\n",
       "| New Zealand | Hamilton     | 229.8 | 192.9 | 193.3 | 165.1 | 138.3 | 112.8 | 126.4 | 144.1 | 147.5 | 174.8 | 187.1 | 207.6 | 2,019.6 | ?     |\n",
       "| New Zealand | Auckland     | 228.8 | 194.9 | 189.2 | 157.3 | 139.8 | 110.3 | 128.1 | 142.9 | 148.6 | 178.1 | 188.1 | 197.2 | 2,003.1 | ?     |\n",
       "| Fiji        | Suva         | 192.2 | 178.0 | 170.5 | 153.0 | 145.7 | 141.0 | 136.4 | 142.6 | 135.0 | 164.3 | 168.0 | 195.3 | 1,922.0 | [193] |\n",
       "| New Zealand | Dunedin      | 179.6 | 158.0 | 146.1 | 125.9 | 108.4 |  95.3 | 110.6 | 122.2 | 136.8 | 165.5 | 166.9 | 168.3 | 1,683.7 | [194] |\n",
       "\n"
      ],
      "text/plain": [
       "  Country     City         Jan   Feb   Mar   Apr   May   Jun   Jul   Aug  \n",
       "1 New Zealand Christchurch 224.4 190.5 177.4 155.6 133.3 117.7 124.8 149.0\n",
       "2 New Zealand Wellington   240.3 205.0 194.7 153.8 126.0 102.3 111.4 137.2\n",
       "3 New Zealand Hamilton     229.8 192.9 193.3 165.1 138.3 112.8 126.4 144.1\n",
       "4 New Zealand Auckland     228.8 194.9 189.2 157.3 139.8 110.3 128.1 142.9\n",
       "5 Fiji        Suva         192.2 178.0 170.5 153.0 145.7 141.0 136.4 142.6\n",
       "6 New Zealand Dunedin      179.6 158.0 146.1 125.9 108.4  95.3 110.6 122.2\n",
       "  Sep   Oct   Nov   Dec   Year    Ref. \n",
       "1 166.6 201.3 215.3 214.3 2,070.2 ?    \n",
       "2 163.2 191.1 210.8 222.9 2,058.7 ?    \n",
       "3 147.5 174.8 187.1 207.6 2,019.6 ?    \n",
       "4 148.6 178.1 188.1 197.2 2,003.1 ?    \n",
       "5 135.0 164.3 168.0 195.3 1,922.0 [193]\n",
       "6 136.8 165.5 166.9 168.3 1,683.7 [194]"
      ]
     },
     "metadata": {},
     "output_type": "display_data"
    }
   ],
   "source": [
    "sunshine_data <- rbindlist(wikipedia) # bind the list of tibbles into one table\n",
    "dim(sunshine_data) # display the dimension of sunshine_data\n",
    "head(sunshine_data) # check the first few rows\n",
    "tail(sunshine_data) # check the last few rows"
   ]
  },
  {
   "cell_type": "markdown",
   "id": "c1fc23a9",
   "metadata": {},
   "source": [
    "`Year` shows the yearly sunshine duration per country. Convert `Year` from character to double."
   ]
  },
  {
   "cell_type": "code",
   "execution_count": 10,
   "id": "36a728b6",
   "metadata": {},
   "outputs": [
    {
     "data": {
      "text/html": [
       "'double'"
      ],
      "text/latex": [
       "'double'"
      ],
      "text/markdown": [
       "'double'"
      ],
      "text/plain": [
       "[1] \"double\""
      ]
     },
     "metadata": {},
     "output_type": "display_data"
    }
   ],
   "source": [
    "sunshine_data$Year <- as.numeric(sub(\",\",\"\",sunshine_data$Year)) # Convert \"Year\" to double\n",
    "typeof(sunshine_data$Year) # Check if it was converted successfully"
   ]
  },
  {
   "cell_type": "markdown",
   "id": "1a76e59b",
   "metadata": {},
   "source": [
    "Some countries in `sunshine_data` has data from several cities. <br>\n",
    "We will calculate their mean so that there are one row of data per country. <br>\n",
    "In a longer project ideally this calculations would be weighted by population, but in this case we are using the simple mean calculation."
   ]
  },
  {
   "cell_type": "code",
   "execution_count": 11,
   "id": "cda1cddb",
   "metadata": {},
   "outputs": [
    {
     "data": {
      "text/html": [
       "<table class=\"dataframe\">\n",
       "<caption>A tibble: 6 × 14</caption>\n",
       "<thead>\n",
       "\t<tr><th scope=col>Country</th><th scope=col>Jan</th><th scope=col>Feb</th><th scope=col>Mar</th><th scope=col>Apr</th><th scope=col>May</th><th scope=col>Jun</th><th scope=col>Jul</th><th scope=col>Aug</th><th scope=col>Sep</th><th scope=col>Oct</th><th scope=col>Nov</th><th scope=col>Dec</th><th scope=col>Year</th></tr>\n",
       "\t<tr><th scope=col>&lt;chr&gt;</th><th scope=col>&lt;dbl&gt;</th><th scope=col>&lt;dbl&gt;</th><th scope=col>&lt;dbl&gt;</th><th scope=col>&lt;dbl&gt;</th><th scope=col>&lt;dbl&gt;</th><th scope=col>&lt;dbl&gt;</th><th scope=col>&lt;dbl&gt;</th><th scope=col>&lt;dbl&gt;</th><th scope=col>&lt;dbl&gt;</th><th scope=col>&lt;dbl&gt;</th><th scope=col>&lt;dbl&gt;</th><th scope=col>&lt;dbl&gt;</th><th scope=col>&lt;dbl&gt;</th></tr>\n",
       "</thead>\n",
       "<tbody>\n",
       "\t<tr><td>Afghanistan</td><td>177.2</td><td>178.6</td><td>204.5</td><td>232.5</td><td>310.3</td><td>353.4</td><td>356.8</td><td>339.7</td><td>303.9</td><td>282.6</td><td>253.2</td><td>182.4</td><td>3175.1</td></tr>\n",
       "\t<tr><td>Albania    </td><td>124.0</td><td>125.0</td><td>165.0</td><td>191.0</td><td>263.0</td><td>298.0</td><td>354.0</td><td>327.0</td><td>264.0</td><td>218.0</td><td>127.0</td><td> 88.0</td><td>2544.0</td></tr>\n",
       "\t<tr><td>Algeria    </td><td>223.3</td><td>220.2</td><td>262.2</td><td>292.5</td><td>323.8</td><td>312.0</td><td>353.2</td><td>325.4</td><td>262.5</td><td>269.5</td><td>225.0</td><td>204.4</td><td>3266.5</td></tr>\n",
       "\t<tr><td>Angola     </td><td>219.0</td><td>208.0</td><td>213.0</td><td>199.0</td><td>233.0</td><td>223.0</td><td>175.0</td><td>150.0</td><td>145.0</td><td>164.0</td><td>199.0</td><td>212.0</td><td>2341.0</td></tr>\n",
       "\t<tr><td>Argentina  </td><td>238.2</td><td>207.1</td><td>185.1</td><td>170.6</td><td>151.5</td><td>123.4</td><td>138.6</td><td>170.4</td><td>174.6</td><td>208.6</td><td>222.8</td><td>229.4</td><td>2220.3</td></tr>\n",
       "\t<tr><td>Armenia    </td><td> 93.0</td><td>108.0</td><td>162.0</td><td>177.0</td><td>242.0</td><td>297.0</td><td>343.0</td><td>332.0</td><td>278.0</td><td>212.0</td><td>138.0</td><td> 92.0</td><td>2474.0</td></tr>\n",
       "</tbody>\n",
       "</table>\n"
      ],
      "text/latex": [
       "A tibble: 6 × 14\n",
       "\\begin{tabular}{llllllllllllll}\n",
       " Country & Jan & Feb & Mar & Apr & May & Jun & Jul & Aug & Sep & Oct & Nov & Dec & Year\\\\\n",
       " <chr> & <dbl> & <dbl> & <dbl> & <dbl> & <dbl> & <dbl> & <dbl> & <dbl> & <dbl> & <dbl> & <dbl> & <dbl> & <dbl>\\\\\n",
       "\\hline\n",
       "\t Afghanistan & 177.2 & 178.6 & 204.5 & 232.5 & 310.3 & 353.4 & 356.8 & 339.7 & 303.9 & 282.6 & 253.2 & 182.4 & 3175.1\\\\\n",
       "\t Albania     & 124.0 & 125.0 & 165.0 & 191.0 & 263.0 & 298.0 & 354.0 & 327.0 & 264.0 & 218.0 & 127.0 &  88.0 & 2544.0\\\\\n",
       "\t Algeria     & 223.3 & 220.2 & 262.2 & 292.5 & 323.8 & 312.0 & 353.2 & 325.4 & 262.5 & 269.5 & 225.0 & 204.4 & 3266.5\\\\\n",
       "\t Angola      & 219.0 & 208.0 & 213.0 & 199.0 & 233.0 & 223.0 & 175.0 & 150.0 & 145.0 & 164.0 & 199.0 & 212.0 & 2341.0\\\\\n",
       "\t Argentina   & 238.2 & 207.1 & 185.1 & 170.6 & 151.5 & 123.4 & 138.6 & 170.4 & 174.6 & 208.6 & 222.8 & 229.4 & 2220.3\\\\\n",
       "\t Armenia     &  93.0 & 108.0 & 162.0 & 177.0 & 242.0 & 297.0 & 343.0 & 332.0 & 278.0 & 212.0 & 138.0 &  92.0 & 2474.0\\\\\n",
       "\\end{tabular}\n"
      ],
      "text/markdown": [
       "\n",
       "A tibble: 6 × 14\n",
       "\n",
       "| Country &lt;chr&gt; | Jan &lt;dbl&gt; | Feb &lt;dbl&gt; | Mar &lt;dbl&gt; | Apr &lt;dbl&gt; | May &lt;dbl&gt; | Jun &lt;dbl&gt; | Jul &lt;dbl&gt; | Aug &lt;dbl&gt; | Sep &lt;dbl&gt; | Oct &lt;dbl&gt; | Nov &lt;dbl&gt; | Dec &lt;dbl&gt; | Year &lt;dbl&gt; |\n",
       "|---|---|---|---|---|---|---|---|---|---|---|---|---|---|\n",
       "| Afghanistan | 177.2 | 178.6 | 204.5 | 232.5 | 310.3 | 353.4 | 356.8 | 339.7 | 303.9 | 282.6 | 253.2 | 182.4 | 3175.1 |\n",
       "| Albania     | 124.0 | 125.0 | 165.0 | 191.0 | 263.0 | 298.0 | 354.0 | 327.0 | 264.0 | 218.0 | 127.0 |  88.0 | 2544.0 |\n",
       "| Algeria     | 223.3 | 220.2 | 262.2 | 292.5 | 323.8 | 312.0 | 353.2 | 325.4 | 262.5 | 269.5 | 225.0 | 204.4 | 3266.5 |\n",
       "| Angola      | 219.0 | 208.0 | 213.0 | 199.0 | 233.0 | 223.0 | 175.0 | 150.0 | 145.0 | 164.0 | 199.0 | 212.0 | 2341.0 |\n",
       "| Argentina   | 238.2 | 207.1 | 185.1 | 170.6 | 151.5 | 123.4 | 138.6 | 170.4 | 174.6 | 208.6 | 222.8 | 229.4 | 2220.3 |\n",
       "| Armenia     |  93.0 | 108.0 | 162.0 | 177.0 | 242.0 | 297.0 | 343.0 | 332.0 | 278.0 | 212.0 | 138.0 |  92.0 | 2474.0 |\n",
       "\n"
      ],
      "text/plain": [
       "  Country     Jan   Feb   Mar   Apr   May   Jun   Jul   Aug   Sep   Oct   Nov  \n",
       "1 Afghanistan 177.2 178.6 204.5 232.5 310.3 353.4 356.8 339.7 303.9 282.6 253.2\n",
       "2 Albania     124.0 125.0 165.0 191.0 263.0 298.0 354.0 327.0 264.0 218.0 127.0\n",
       "3 Algeria     223.3 220.2 262.2 292.5 323.8 312.0 353.2 325.4 262.5 269.5 225.0\n",
       "4 Angola      219.0 208.0 213.0 199.0 233.0 223.0 175.0 150.0 145.0 164.0 199.0\n",
       "5 Argentina   238.2 207.1 185.1 170.6 151.5 123.4 138.6 170.4 174.6 208.6 222.8\n",
       "6 Armenia      93.0 108.0 162.0 177.0 242.0 297.0 343.0 332.0 278.0 212.0 138.0\n",
       "  Dec   Year  \n",
       "1 182.4 3175.1\n",
       "2  88.0 2544.0\n",
       "3 204.4 3266.5\n",
       "4 212.0 2341.0\n",
       "5 229.4 2220.3\n",
       "6  92.0 2474.0"
      ]
     },
     "metadata": {},
     "output_type": "display_data"
    }
   ],
   "source": [
    "avg_sunshine_per_country <- \n",
    "    sunshine_data %>%\n",
    "    select(-c(City, Ref.)) %>% # remove \"City\" and \"Ref.\" columns\n",
    "    group_by(Country) %>%\n",
    "    summarise_all(mean) %>% # calculate mean per country\n",
    "    mutate_if(is.numeric, round, 1) # round all numeric columns to one decimal place\n",
    "head(avg_sunshine_per_country) # check the first few rows"
   ]
  },
  {
   "cell_type": "markdown",
   "id": "191b6c50",
   "metadata": {},
   "source": [
    "To merge the sunshine duration data with COVID data, we will look up the ISO 3166-1 alpha-3 codes from country names and assign them to all rows of `avg_sunshine_per_country`."
   ]
  },
  {
   "cell_type": "code",
   "execution_count": 12,
   "id": "4bd4f468",
   "metadata": {},
   "outputs": [
    {
     "data": {
      "text/html": [
       "<table class=\"dataframe\">\n",
       "<caption>A tibble: 6 × 15</caption>\n",
       "<thead>\n",
       "\t<tr><th scope=col>iso_code</th><th scope=col>Country</th><th scope=col>Jan</th><th scope=col>Feb</th><th scope=col>Mar</th><th scope=col>Apr</th><th scope=col>May</th><th scope=col>Jun</th><th scope=col>Jul</th><th scope=col>Aug</th><th scope=col>Sep</th><th scope=col>Oct</th><th scope=col>Nov</th><th scope=col>Dec</th><th scope=col>Year</th></tr>\n",
       "\t<tr><th scope=col>&lt;chr&gt;</th><th scope=col>&lt;chr&gt;</th><th scope=col>&lt;dbl&gt;</th><th scope=col>&lt;dbl&gt;</th><th scope=col>&lt;dbl&gt;</th><th scope=col>&lt;dbl&gt;</th><th scope=col>&lt;dbl&gt;</th><th scope=col>&lt;dbl&gt;</th><th scope=col>&lt;dbl&gt;</th><th scope=col>&lt;dbl&gt;</th><th scope=col>&lt;dbl&gt;</th><th scope=col>&lt;dbl&gt;</th><th scope=col>&lt;dbl&gt;</th><th scope=col>&lt;dbl&gt;</th><th scope=col>&lt;dbl&gt;</th></tr>\n",
       "</thead>\n",
       "<tbody>\n",
       "\t<tr><td>AFG</td><td>Afghanistan</td><td>177.2</td><td>178.6</td><td>204.5</td><td>232.5</td><td>310.3</td><td>353.4</td><td>356.8</td><td>339.7</td><td>303.9</td><td>282.6</td><td>253.2</td><td>182.4</td><td>3175.1</td></tr>\n",
       "\t<tr><td>ALB</td><td>Albania    </td><td>124.0</td><td>125.0</td><td>165.0</td><td>191.0</td><td>263.0</td><td>298.0</td><td>354.0</td><td>327.0</td><td>264.0</td><td>218.0</td><td>127.0</td><td> 88.0</td><td>2544.0</td></tr>\n",
       "\t<tr><td>DZA</td><td>Algeria    </td><td>223.3</td><td>220.2</td><td>262.2</td><td>292.5</td><td>323.8</td><td>312.0</td><td>353.2</td><td>325.4</td><td>262.5</td><td>269.5</td><td>225.0</td><td>204.4</td><td>3266.5</td></tr>\n",
       "\t<tr><td>AGO</td><td>Angola     </td><td>219.0</td><td>208.0</td><td>213.0</td><td>199.0</td><td>233.0</td><td>223.0</td><td>175.0</td><td>150.0</td><td>145.0</td><td>164.0</td><td>199.0</td><td>212.0</td><td>2341.0</td></tr>\n",
       "\t<tr><td>ARG</td><td>Argentina  </td><td>238.2</td><td>207.1</td><td>185.1</td><td>170.6</td><td>151.5</td><td>123.4</td><td>138.6</td><td>170.4</td><td>174.6</td><td>208.6</td><td>222.8</td><td>229.4</td><td>2220.3</td></tr>\n",
       "\t<tr><td>ARM</td><td>Armenia    </td><td> 93.0</td><td>108.0</td><td>162.0</td><td>177.0</td><td>242.0</td><td>297.0</td><td>343.0</td><td>332.0</td><td>278.0</td><td>212.0</td><td>138.0</td><td> 92.0</td><td>2474.0</td></tr>\n",
       "</tbody>\n",
       "</table>\n"
      ],
      "text/latex": [
       "A tibble: 6 × 15\n",
       "\\begin{tabular}{lllllllllllllll}\n",
       " iso\\_code & Country & Jan & Feb & Mar & Apr & May & Jun & Jul & Aug & Sep & Oct & Nov & Dec & Year\\\\\n",
       " <chr> & <chr> & <dbl> & <dbl> & <dbl> & <dbl> & <dbl> & <dbl> & <dbl> & <dbl> & <dbl> & <dbl> & <dbl> & <dbl> & <dbl>\\\\\n",
       "\\hline\n",
       "\t AFG & Afghanistan & 177.2 & 178.6 & 204.5 & 232.5 & 310.3 & 353.4 & 356.8 & 339.7 & 303.9 & 282.6 & 253.2 & 182.4 & 3175.1\\\\\n",
       "\t ALB & Albania     & 124.0 & 125.0 & 165.0 & 191.0 & 263.0 & 298.0 & 354.0 & 327.0 & 264.0 & 218.0 & 127.0 &  88.0 & 2544.0\\\\\n",
       "\t DZA & Algeria     & 223.3 & 220.2 & 262.2 & 292.5 & 323.8 & 312.0 & 353.2 & 325.4 & 262.5 & 269.5 & 225.0 & 204.4 & 3266.5\\\\\n",
       "\t AGO & Angola      & 219.0 & 208.0 & 213.0 & 199.0 & 233.0 & 223.0 & 175.0 & 150.0 & 145.0 & 164.0 & 199.0 & 212.0 & 2341.0\\\\\n",
       "\t ARG & Argentina   & 238.2 & 207.1 & 185.1 & 170.6 & 151.5 & 123.4 & 138.6 & 170.4 & 174.6 & 208.6 & 222.8 & 229.4 & 2220.3\\\\\n",
       "\t ARM & Armenia     &  93.0 & 108.0 & 162.0 & 177.0 & 242.0 & 297.0 & 343.0 & 332.0 & 278.0 & 212.0 & 138.0 &  92.0 & 2474.0\\\\\n",
       "\\end{tabular}\n"
      ],
      "text/markdown": [
       "\n",
       "A tibble: 6 × 15\n",
       "\n",
       "| iso_code &lt;chr&gt; | Country &lt;chr&gt; | Jan &lt;dbl&gt; | Feb &lt;dbl&gt; | Mar &lt;dbl&gt; | Apr &lt;dbl&gt; | May &lt;dbl&gt; | Jun &lt;dbl&gt; | Jul &lt;dbl&gt; | Aug &lt;dbl&gt; | Sep &lt;dbl&gt; | Oct &lt;dbl&gt; | Nov &lt;dbl&gt; | Dec &lt;dbl&gt; | Year &lt;dbl&gt; |\n",
       "|---|---|---|---|---|---|---|---|---|---|---|---|---|---|---|\n",
       "| AFG | Afghanistan | 177.2 | 178.6 | 204.5 | 232.5 | 310.3 | 353.4 | 356.8 | 339.7 | 303.9 | 282.6 | 253.2 | 182.4 | 3175.1 |\n",
       "| ALB | Albania     | 124.0 | 125.0 | 165.0 | 191.0 | 263.0 | 298.0 | 354.0 | 327.0 | 264.0 | 218.0 | 127.0 |  88.0 | 2544.0 |\n",
       "| DZA | Algeria     | 223.3 | 220.2 | 262.2 | 292.5 | 323.8 | 312.0 | 353.2 | 325.4 | 262.5 | 269.5 | 225.0 | 204.4 | 3266.5 |\n",
       "| AGO | Angola      | 219.0 | 208.0 | 213.0 | 199.0 | 233.0 | 223.0 | 175.0 | 150.0 | 145.0 | 164.0 | 199.0 | 212.0 | 2341.0 |\n",
       "| ARG | Argentina   | 238.2 | 207.1 | 185.1 | 170.6 | 151.5 | 123.4 | 138.6 | 170.4 | 174.6 | 208.6 | 222.8 | 229.4 | 2220.3 |\n",
       "| ARM | Armenia     |  93.0 | 108.0 | 162.0 | 177.0 | 242.0 | 297.0 | 343.0 | 332.0 | 278.0 | 212.0 | 138.0 |  92.0 | 2474.0 |\n",
       "\n"
      ],
      "text/plain": [
       "  iso_code Country     Jan   Feb   Mar   Apr   May   Jun   Jul   Aug   Sep  \n",
       "1 AFG      Afghanistan 177.2 178.6 204.5 232.5 310.3 353.4 356.8 339.7 303.9\n",
       "2 ALB      Albania     124.0 125.0 165.0 191.0 263.0 298.0 354.0 327.0 264.0\n",
       "3 DZA      Algeria     223.3 220.2 262.2 292.5 323.8 312.0 353.2 325.4 262.5\n",
       "4 AGO      Angola      219.0 208.0 213.0 199.0 233.0 223.0 175.0 150.0 145.0\n",
       "5 ARG      Argentina   238.2 207.1 185.1 170.6 151.5 123.4 138.6 170.4 174.6\n",
       "6 ARM      Armenia      93.0 108.0 162.0 177.0 242.0 297.0 343.0 332.0 278.0\n",
       "  Oct   Nov   Dec   Year  \n",
       "1 282.6 253.2 182.4 3175.1\n",
       "2 218.0 127.0  88.0 2544.0\n",
       "3 269.5 225.0 204.4 3266.5\n",
       "4 164.0 199.0 212.0 2341.0\n",
       "5 208.6 222.8 229.4 2220.3\n",
       "6 212.0 138.0  92.0 2474.0"
      ]
     },
     "metadata": {},
     "output_type": "display_data"
    }
   ],
   "source": [
    "avg_sunshine_per_iso <- \n",
    "    avg_sunshine_per_country %>% \n",
    "    mutate(iso_code = Country %>% countrycode(origin = 'country.name', destination = 'iso3c'), .before = Country) # assign ISO 3166-1 alpha-3 codes\n",
    "head(avg_sunshine_per_iso) # check the first few rows to check that iso_code has been added"
   ]
  },
  {
   "cell_type": "markdown",
   "id": "a617bf01",
   "metadata": {},
   "source": [
    "We will also use `gather` to restructure all monthly sunshine duration into one column."
   ]
  },
  {
   "cell_type": "code",
   "execution_count": 13,
   "id": "d9fa40ff",
   "metadata": {},
   "outputs": [
    {
     "data": {
      "text/html": [
       "<style>\n",
       ".list-inline {list-style: none; margin:0; padding: 0}\n",
       ".list-inline>li {display: inline-block}\n",
       ".list-inline>li:not(:last-child)::after {content: \"\\00b7\"; padding: 0 .5ex}\n",
       "</style>\n",
       "<ol class=list-inline><li>1680</li><li>5</li></ol>\n"
      ],
      "text/latex": [
       "\\begin{enumerate*}\n",
       "\\item 1680\n",
       "\\item 5\n",
       "\\end{enumerate*}\n"
      ],
      "text/markdown": [
       "1. 1680\n",
       "2. 5\n",
       "\n",
       "\n"
      ],
      "text/plain": [
       "[1] 1680    5"
      ]
     },
     "metadata": {},
     "output_type": "display_data"
    },
    {
     "data": {
      "text/html": [
       "<table class=\"dataframe\">\n",
       "<caption>A tibble: 6 × 5</caption>\n",
       "<thead>\n",
       "\t<tr><th scope=col>iso_code</th><th scope=col>Country</th><th scope=col>sunshine_hours_year</th><th scope=col>month</th><th scope=col>sunshine_hours_month</th></tr>\n",
       "\t<tr><th scope=col>&lt;chr&gt;</th><th scope=col>&lt;chr&gt;</th><th scope=col>&lt;dbl&gt;</th><th scope=col>&lt;chr&gt;</th><th scope=col>&lt;dbl&gt;</th></tr>\n",
       "</thead>\n",
       "<tbody>\n",
       "\t<tr><td>AFG</td><td>Afghanistan</td><td>3175.1</td><td>Jan</td><td>177.2</td></tr>\n",
       "\t<tr><td>ALB</td><td>Albania    </td><td>2544.0</td><td>Jan</td><td>124.0</td></tr>\n",
       "\t<tr><td>DZA</td><td>Algeria    </td><td>3266.5</td><td>Jan</td><td>223.3</td></tr>\n",
       "\t<tr><td>AGO</td><td>Angola     </td><td>2341.0</td><td>Jan</td><td>219.0</td></tr>\n",
       "\t<tr><td>ARG</td><td>Argentina  </td><td>2220.3</td><td>Jan</td><td>238.2</td></tr>\n",
       "\t<tr><td>ARM</td><td>Armenia    </td><td>2474.0</td><td>Jan</td><td> 93.0</td></tr>\n",
       "</tbody>\n",
       "</table>\n"
      ],
      "text/latex": [
       "A tibble: 6 × 5\n",
       "\\begin{tabular}{lllll}\n",
       " iso\\_code & Country & sunshine\\_hours\\_year & month & sunshine\\_hours\\_month\\\\\n",
       " <chr> & <chr> & <dbl> & <chr> & <dbl>\\\\\n",
       "\\hline\n",
       "\t AFG & Afghanistan & 3175.1 & Jan & 177.2\\\\\n",
       "\t ALB & Albania     & 2544.0 & Jan & 124.0\\\\\n",
       "\t DZA & Algeria     & 3266.5 & Jan & 223.3\\\\\n",
       "\t AGO & Angola      & 2341.0 & Jan & 219.0\\\\\n",
       "\t ARG & Argentina   & 2220.3 & Jan & 238.2\\\\\n",
       "\t ARM & Armenia     & 2474.0 & Jan &  93.0\\\\\n",
       "\\end{tabular}\n"
      ],
      "text/markdown": [
       "\n",
       "A tibble: 6 × 5\n",
       "\n",
       "| iso_code &lt;chr&gt; | Country &lt;chr&gt; | sunshine_hours_year &lt;dbl&gt; | month &lt;chr&gt; | sunshine_hours_month &lt;dbl&gt; |\n",
       "|---|---|---|---|---|\n",
       "| AFG | Afghanistan | 3175.1 | Jan | 177.2 |\n",
       "| ALB | Albania     | 2544.0 | Jan | 124.0 |\n",
       "| DZA | Algeria     | 3266.5 | Jan | 223.3 |\n",
       "| AGO | Angola      | 2341.0 | Jan | 219.0 |\n",
       "| ARG | Argentina   | 2220.3 | Jan | 238.2 |\n",
       "| ARM | Armenia     | 2474.0 | Jan |  93.0 |\n",
       "\n"
      ],
      "text/plain": [
       "  iso_code Country     sunshine_hours_year month sunshine_hours_month\n",
       "1 AFG      Afghanistan 3175.1              Jan   177.2               \n",
       "2 ALB      Albania     2544.0              Jan   124.0               \n",
       "3 DZA      Algeria     3266.5              Jan   223.3               \n",
       "4 AGO      Angola      2341.0              Jan   219.0               \n",
       "5 ARG      Argentina   2220.3              Jan   238.2               \n",
       "6 ARM      Armenia     2474.0              Jan    93.0               "
      ]
     },
     "metadata": {},
     "output_type": "display_data"
    }
   ],
   "source": [
    "avg_sunshine_per_month <-\n",
    "    avg_sunshine_per_iso %>% gather(month, sunshine_hours_month, Jan:Dec) # Create new columns \"month\" and \"sumshine_hours_month\"\n",
    "colnames(avg_sunshine_per_month)[3] <- \"sunshine_hours_year\" # Rename the third column\n",
    "dim(avg_sunshine_per_month) # display the dimension of avg_sunshine_per_month\n",
    "head(avg_sunshine_per_month) # check the first few rows"
   ]
  },
  {
   "cell_type": "markdown",
   "id": "30c7575e",
   "metadata": {},
   "source": [
    "`avg_sunshine_per_month` does not include data for all the countries that exist in `covid_data_month`. We will take a note of these missing countries to be investigated for sampling bias in [section 1.5](#p1.5)."
   ]
  },
  {
   "cell_type": "code",
   "execution_count": 14,
   "id": "c396e8a7",
   "metadata": {},
   "outputs": [
    {
     "name": "stdout",
     "output_type": "stream",
     "text": [
      "[1] \"We do not have sunshine hours data for  90  countries\"\n"
     ]
    }
   ],
   "source": [
    "no_sunshine_data <- \n",
    "    unique(covid_data_month$iso_code[which(covid_data_month$iso_code %in% avg_sunshine_per_month$iso_code == FALSE)]) # save the iso codes for countries without sunshine data in a variable\n",
    "print(paste(\"We do not have sunshine hours data for \", length(no_sunshine_data), \" countries\")) # display the number of countries without sunshine duration data"
   ]
  },
  {
   "cell_type": "markdown",
   "id": "a8c577f3",
   "metadata": {},
   "source": [
    "## 1.3 Merging datasets<a name=\"p1.3\"></a>"
   ]
  },
  {
   "cell_type": "markdown",
   "id": "3af61d45",
   "metadata": {},
   "source": [
    "We will now merge the two datasets `covid_data_month` and `avg_sunshine_per_month`."
   ]
  },
  {
   "cell_type": "code",
   "execution_count": 15,
   "id": "268f1c81",
   "metadata": {
    "scrolled": false
   },
   "outputs": [
    {
     "data": {
      "text/html": [
       "<style>\n",
       ".list-inline {list-style: none; margin:0; padding: 0}\n",
       ".list-inline>li {display: inline-block}\n",
       ".list-inline>li:not(:last-child)::after {content: \"\\00b7\"; padding: 0 .5ex}\n",
       "</style>\n",
       "<ol class=list-inline><li>134149</li><li>29</li></ol>\n"
      ],
      "text/latex": [
       "\\begin{enumerate*}\n",
       "\\item 134149\n",
       "\\item 29\n",
       "\\end{enumerate*}\n"
      ],
      "text/markdown": [
       "1. 134149\n",
       "2. 29\n",
       "\n",
       "\n"
      ],
      "text/plain": [
       "[1] 134149     29"
      ]
     },
     "metadata": {},
     "output_type": "display_data"
    },
    {
     "data": {
      "text/html": [
       "<table class=\"dataframe\">\n",
       "<caption>A data.table: 6 × 29</caption>\n",
       "<thead>\n",
       "\t<tr><th scope=col>iso_code</th><th scope=col>continent</th><th scope=col>location</th><th scope=col>date</th><th scope=col>month</th><th scope=col>total_cases</th><th scope=col>new_cases</th><th scope=col>new_cases_smoothed</th><th scope=col>total_cases_per_million</th><th scope=col>new_cases_per_million</th><th scope=col>⋯</th><th scope=col>diabetes_prevalence</th><th scope=col>female_smokers</th><th scope=col>male_smokers</th><th scope=col>handwashing_facilities</th><th scope=col>hospital_beds_per_thousand</th><th scope=col>life_expectancy</th><th scope=col>human_development_index</th><th scope=col>population</th><th scope=col>sunshine_hours_year</th><th scope=col>sunshine_hours_month</th></tr>\n",
       "\t<tr><th scope=col>&lt;chr&gt;</th><th scope=col>&lt;chr&gt;</th><th scope=col>&lt;chr&gt;</th><th scope=col>&lt;date&gt;</th><th scope=col>&lt;chr&gt;</th><th scope=col>&lt;dbl&gt;</th><th scope=col>&lt;dbl&gt;</th><th scope=col>&lt;dbl&gt;</th><th scope=col>&lt;dbl&gt;</th><th scope=col>&lt;dbl&gt;</th><th scope=col>⋯</th><th scope=col>&lt;dbl&gt;</th><th scope=col>&lt;dbl&gt;</th><th scope=col>&lt;dbl&gt;</th><th scope=col>&lt;dbl&gt;</th><th scope=col>&lt;dbl&gt;</th><th scope=col>&lt;dbl&gt;</th><th scope=col>&lt;dbl&gt;</th><th scope=col>&lt;dbl&gt;</th><th scope=col>&lt;dbl&gt;</th><th scope=col>&lt;dbl&gt;</th></tr>\n",
       "</thead>\n",
       "<tbody>\n",
       "\t<tr><td>AFG</td><td>Asia</td><td>Afghanistan</td><td>2020-02-24</td><td>Feb</td><td>5</td><td>5</td><td>   NA</td><td>0.125</td><td>0.125</td><td>⋯</td><td>9.59</td><td>NA</td><td>NA</td><td>37.746</td><td>0.5</td><td>64.83</td><td>0.511</td><td>40099462</td><td>3175.1</td><td>178.6</td></tr>\n",
       "\t<tr><td>AFG</td><td>Asia</td><td>Afghanistan</td><td>2020-02-25</td><td>Feb</td><td>5</td><td>0</td><td>   NA</td><td>0.125</td><td>0.000</td><td>⋯</td><td>9.59</td><td>NA</td><td>NA</td><td>37.746</td><td>0.5</td><td>64.83</td><td>0.511</td><td>40099462</td><td>3175.1</td><td>178.6</td></tr>\n",
       "\t<tr><td>AFG</td><td>Asia</td><td>Afghanistan</td><td>2020-02-26</td><td>Feb</td><td>5</td><td>0</td><td>   NA</td><td>0.125</td><td>0.000</td><td>⋯</td><td>9.59</td><td>NA</td><td>NA</td><td>37.746</td><td>0.5</td><td>64.83</td><td>0.511</td><td>40099462</td><td>3175.1</td><td>178.6</td></tr>\n",
       "\t<tr><td>AFG</td><td>Asia</td><td>Afghanistan</td><td>2020-02-27</td><td>Feb</td><td>5</td><td>0</td><td>   NA</td><td>0.125</td><td>0.000</td><td>⋯</td><td>9.59</td><td>NA</td><td>NA</td><td>37.746</td><td>0.5</td><td>64.83</td><td>0.511</td><td>40099462</td><td>3175.1</td><td>178.6</td></tr>\n",
       "\t<tr><td>AFG</td><td>Asia</td><td>Afghanistan</td><td>2020-02-28</td><td>Feb</td><td>5</td><td>0</td><td>   NA</td><td>0.125</td><td>0.000</td><td>⋯</td><td>9.59</td><td>NA</td><td>NA</td><td>37.746</td><td>0.5</td><td>64.83</td><td>0.511</td><td>40099462</td><td>3175.1</td><td>178.6</td></tr>\n",
       "\t<tr><td>AFG</td><td>Asia</td><td>Afghanistan</td><td>2020-02-29</td><td>Feb</td><td>5</td><td>0</td><td>0.714</td><td>0.125</td><td>0.000</td><td>⋯</td><td>9.59</td><td>NA</td><td>NA</td><td>37.746</td><td>0.5</td><td>64.83</td><td>0.511</td><td>40099462</td><td>3175.1</td><td>178.6</td></tr>\n",
       "</tbody>\n",
       "</table>\n"
      ],
      "text/latex": [
       "A data.table: 6 × 29\n",
       "\\begin{tabular}{lllllllllllllllllllll}\n",
       " iso\\_code & continent & location & date & month & total\\_cases & new\\_cases & new\\_cases\\_smoothed & total\\_cases\\_per\\_million & new\\_cases\\_per\\_million & ⋯ & diabetes\\_prevalence & female\\_smokers & male\\_smokers & handwashing\\_facilities & hospital\\_beds\\_per\\_thousand & life\\_expectancy & human\\_development\\_index & population & sunshine\\_hours\\_year & sunshine\\_hours\\_month\\\\\n",
       " <chr> & <chr> & <chr> & <date> & <chr> & <dbl> & <dbl> & <dbl> & <dbl> & <dbl> & ⋯ & <dbl> & <dbl> & <dbl> & <dbl> & <dbl> & <dbl> & <dbl> & <dbl> & <dbl> & <dbl>\\\\\n",
       "\\hline\n",
       "\t AFG & Asia & Afghanistan & 2020-02-24 & Feb & 5 & 5 &    NA & 0.125 & 0.125 & ⋯ & 9.59 & NA & NA & 37.746 & 0.5 & 64.83 & 0.511 & 40099462 & 3175.1 & 178.6\\\\\n",
       "\t AFG & Asia & Afghanistan & 2020-02-25 & Feb & 5 & 0 &    NA & 0.125 & 0.000 & ⋯ & 9.59 & NA & NA & 37.746 & 0.5 & 64.83 & 0.511 & 40099462 & 3175.1 & 178.6\\\\\n",
       "\t AFG & Asia & Afghanistan & 2020-02-26 & Feb & 5 & 0 &    NA & 0.125 & 0.000 & ⋯ & 9.59 & NA & NA & 37.746 & 0.5 & 64.83 & 0.511 & 40099462 & 3175.1 & 178.6\\\\\n",
       "\t AFG & Asia & Afghanistan & 2020-02-27 & Feb & 5 & 0 &    NA & 0.125 & 0.000 & ⋯ & 9.59 & NA & NA & 37.746 & 0.5 & 64.83 & 0.511 & 40099462 & 3175.1 & 178.6\\\\\n",
       "\t AFG & Asia & Afghanistan & 2020-02-28 & Feb & 5 & 0 &    NA & 0.125 & 0.000 & ⋯ & 9.59 & NA & NA & 37.746 & 0.5 & 64.83 & 0.511 & 40099462 & 3175.1 & 178.6\\\\\n",
       "\t AFG & Asia & Afghanistan & 2020-02-29 & Feb & 5 & 0 & 0.714 & 0.125 & 0.000 & ⋯ & 9.59 & NA & NA & 37.746 & 0.5 & 64.83 & 0.511 & 40099462 & 3175.1 & 178.6\\\\\n",
       "\\end{tabular}\n"
      ],
      "text/markdown": [
       "\n",
       "A data.table: 6 × 29\n",
       "\n",
       "| iso_code &lt;chr&gt; | continent &lt;chr&gt; | location &lt;chr&gt; | date &lt;date&gt; | month &lt;chr&gt; | total_cases &lt;dbl&gt; | new_cases &lt;dbl&gt; | new_cases_smoothed &lt;dbl&gt; | total_cases_per_million &lt;dbl&gt; | new_cases_per_million &lt;dbl&gt; | ⋯ ⋯ | diabetes_prevalence &lt;dbl&gt; | female_smokers &lt;dbl&gt; | male_smokers &lt;dbl&gt; | handwashing_facilities &lt;dbl&gt; | hospital_beds_per_thousand &lt;dbl&gt; | life_expectancy &lt;dbl&gt; | human_development_index &lt;dbl&gt; | population &lt;dbl&gt; | sunshine_hours_year &lt;dbl&gt; | sunshine_hours_month &lt;dbl&gt; |\n",
       "|---|---|---|---|---|---|---|---|---|---|---|---|---|---|---|---|---|---|---|---|---|\n",
       "| AFG | Asia | Afghanistan | 2020-02-24 | Feb | 5 | 5 |    NA | 0.125 | 0.125 | ⋯ | 9.59 | NA | NA | 37.746 | 0.5 | 64.83 | 0.511 | 40099462 | 3175.1 | 178.6 |\n",
       "| AFG | Asia | Afghanistan | 2020-02-25 | Feb | 5 | 0 |    NA | 0.125 | 0.000 | ⋯ | 9.59 | NA | NA | 37.746 | 0.5 | 64.83 | 0.511 | 40099462 | 3175.1 | 178.6 |\n",
       "| AFG | Asia | Afghanistan | 2020-02-26 | Feb | 5 | 0 |    NA | 0.125 | 0.000 | ⋯ | 9.59 | NA | NA | 37.746 | 0.5 | 64.83 | 0.511 | 40099462 | 3175.1 | 178.6 |\n",
       "| AFG | Asia | Afghanistan | 2020-02-27 | Feb | 5 | 0 |    NA | 0.125 | 0.000 | ⋯ | 9.59 | NA | NA | 37.746 | 0.5 | 64.83 | 0.511 | 40099462 | 3175.1 | 178.6 |\n",
       "| AFG | Asia | Afghanistan | 2020-02-28 | Feb | 5 | 0 |    NA | 0.125 | 0.000 | ⋯ | 9.59 | NA | NA | 37.746 | 0.5 | 64.83 | 0.511 | 40099462 | 3175.1 | 178.6 |\n",
       "| AFG | Asia | Afghanistan | 2020-02-29 | Feb | 5 | 0 | 0.714 | 0.125 | 0.000 | ⋯ | 9.59 | NA | NA | 37.746 | 0.5 | 64.83 | 0.511 | 40099462 | 3175.1 | 178.6 |\n",
       "\n"
      ],
      "text/plain": [
       "  iso_code continent location    date       month total_cases new_cases\n",
       "1 AFG      Asia      Afghanistan 2020-02-24 Feb   5           5        \n",
       "2 AFG      Asia      Afghanistan 2020-02-25 Feb   5           0        \n",
       "3 AFG      Asia      Afghanistan 2020-02-26 Feb   5           0        \n",
       "4 AFG      Asia      Afghanistan 2020-02-27 Feb   5           0        \n",
       "5 AFG      Asia      Afghanistan 2020-02-28 Feb   5           0        \n",
       "6 AFG      Asia      Afghanistan 2020-02-29 Feb   5           0        \n",
       "  new_cases_smoothed total_cases_per_million new_cases_per_million ⋯\n",
       "1    NA              0.125                   0.125                 ⋯\n",
       "2    NA              0.125                   0.000                 ⋯\n",
       "3    NA              0.125                   0.000                 ⋯\n",
       "4    NA              0.125                   0.000                 ⋯\n",
       "5    NA              0.125                   0.000                 ⋯\n",
       "6 0.714              0.125                   0.000                 ⋯\n",
       "  diabetes_prevalence female_smokers male_smokers handwashing_facilities\n",
       "1 9.59                NA             NA           37.746                \n",
       "2 9.59                NA             NA           37.746                \n",
       "3 9.59                NA             NA           37.746                \n",
       "4 9.59                NA             NA           37.746                \n",
       "5 9.59                NA             NA           37.746                \n",
       "6 9.59                NA             NA           37.746                \n",
       "  hospital_beds_per_thousand life_expectancy human_development_index population\n",
       "1 0.5                        64.83           0.511                   40099462  \n",
       "2 0.5                        64.83           0.511                   40099462  \n",
       "3 0.5                        64.83           0.511                   40099462  \n",
       "4 0.5                        64.83           0.511                   40099462  \n",
       "5 0.5                        64.83           0.511                   40099462  \n",
       "6 0.5                        64.83           0.511                   40099462  \n",
       "  sunshine_hours_year sunshine_hours_month\n",
       "1 3175.1              178.6               \n",
       "2 3175.1              178.6               \n",
       "3 3175.1              178.6               \n",
       "4 3175.1              178.6               \n",
       "5 3175.1              178.6               \n",
       "6 3175.1              178.6               "
      ]
     },
     "metadata": {},
     "output_type": "display_data"
    },
    {
     "data": {
      "text/html": [
       "<table class=\"dataframe\">\n",
       "<caption>A data.table: 6 × 29</caption>\n",
       "<thead>\n",
       "\t<tr><th scope=col>iso_code</th><th scope=col>continent</th><th scope=col>location</th><th scope=col>date</th><th scope=col>month</th><th scope=col>total_cases</th><th scope=col>new_cases</th><th scope=col>new_cases_smoothed</th><th scope=col>total_cases_per_million</th><th scope=col>new_cases_per_million</th><th scope=col>⋯</th><th scope=col>diabetes_prevalence</th><th scope=col>female_smokers</th><th scope=col>male_smokers</th><th scope=col>handwashing_facilities</th><th scope=col>hospital_beds_per_thousand</th><th scope=col>life_expectancy</th><th scope=col>human_development_index</th><th scope=col>population</th><th scope=col>sunshine_hours_year</th><th scope=col>sunshine_hours_month</th></tr>\n",
       "\t<tr><th scope=col>&lt;chr&gt;</th><th scope=col>&lt;chr&gt;</th><th scope=col>&lt;chr&gt;</th><th scope=col>&lt;date&gt;</th><th scope=col>&lt;chr&gt;</th><th scope=col>&lt;dbl&gt;</th><th scope=col>&lt;dbl&gt;</th><th scope=col>&lt;dbl&gt;</th><th scope=col>&lt;dbl&gt;</th><th scope=col>&lt;dbl&gt;</th><th scope=col>⋯</th><th scope=col>&lt;dbl&gt;</th><th scope=col>&lt;dbl&gt;</th><th scope=col>&lt;dbl&gt;</th><th scope=col>&lt;dbl&gt;</th><th scope=col>&lt;dbl&gt;</th><th scope=col>&lt;dbl&gt;</th><th scope=col>&lt;dbl&gt;</th><th scope=col>&lt;dbl&gt;</th><th scope=col>&lt;dbl&gt;</th><th scope=col>&lt;dbl&gt;</th></tr>\n",
       "</thead>\n",
       "<tbody>\n",
       "\t<tr><td>ZWE</td><td>Africa</td><td>Zimbabwe</td><td>2022-10-17</td><td>Oct</td><td>257893</td><td>0</td><td>20.571</td><td>16124.84</td><td>0</td><td>⋯</td><td>1.82</td><td>1.6</td><td>30.7</td><td>36.791</td><td>1.7</td><td>61.49</td><td>0.571</td><td>15993524</td><td>3065.4</td><td>279</td></tr>\n",
       "\t<tr><td>ZWE</td><td>Africa</td><td>Zimbabwe</td><td>2022-10-18</td><td>Oct</td><td>257893</td><td>0</td><td>20.571</td><td>16124.84</td><td>0</td><td>⋯</td><td>1.82</td><td>1.6</td><td>30.7</td><td>36.791</td><td>1.7</td><td>61.49</td><td>0.571</td><td>15993524</td><td>3065.4</td><td>279</td></tr>\n",
       "\t<tr><td>ZWE</td><td>Africa</td><td>Zimbabwe</td><td>2022-10-19</td><td>Oct</td><td>257893</td><td>0</td><td>13.571</td><td>16124.84</td><td>0</td><td>⋯</td><td>1.82</td><td>1.6</td><td>30.7</td><td>36.791</td><td>1.7</td><td>61.49</td><td>0.571</td><td>15993524</td><td>3065.4</td><td>279</td></tr>\n",
       "\t<tr><td>ZWE</td><td>Africa</td><td>Zimbabwe</td><td>2022-10-20</td><td>Oct</td><td>257893</td><td>0</td><td> 9.429</td><td>16124.84</td><td>0</td><td>⋯</td><td>1.82</td><td>1.6</td><td>30.7</td><td>36.791</td><td>1.7</td><td>61.49</td><td>0.571</td><td>15993524</td><td>3065.4</td><td>279</td></tr>\n",
       "\t<tr><td>ZWE</td><td>Africa</td><td>Zimbabwe</td><td>2022-10-21</td><td>Oct</td><td>257893</td><td>0</td><td> 9.429</td><td>16124.84</td><td>0</td><td>⋯</td><td>1.82</td><td>1.6</td><td>30.7</td><td>36.791</td><td>1.7</td><td>61.49</td><td>0.571</td><td>15993524</td><td>3065.4</td><td>279</td></tr>\n",
       "\t<tr><td>ZWE</td><td>Africa</td><td>Zimbabwe</td><td>2022-10-22</td><td>Oct</td><td>257893</td><td>0</td><td> 9.429</td><td>16124.84</td><td>0</td><td>⋯</td><td>1.82</td><td>1.6</td><td>30.7</td><td>36.791</td><td>1.7</td><td>61.49</td><td>0.571</td><td>15993524</td><td>3065.4</td><td>279</td></tr>\n",
       "</tbody>\n",
       "</table>\n"
      ],
      "text/latex": [
       "A data.table: 6 × 29\n",
       "\\begin{tabular}{lllllllllllllllllllll}\n",
       " iso\\_code & continent & location & date & month & total\\_cases & new\\_cases & new\\_cases\\_smoothed & total\\_cases\\_per\\_million & new\\_cases\\_per\\_million & ⋯ & diabetes\\_prevalence & female\\_smokers & male\\_smokers & handwashing\\_facilities & hospital\\_beds\\_per\\_thousand & life\\_expectancy & human\\_development\\_index & population & sunshine\\_hours\\_year & sunshine\\_hours\\_month\\\\\n",
       " <chr> & <chr> & <chr> & <date> & <chr> & <dbl> & <dbl> & <dbl> & <dbl> & <dbl> & ⋯ & <dbl> & <dbl> & <dbl> & <dbl> & <dbl> & <dbl> & <dbl> & <dbl> & <dbl> & <dbl>\\\\\n",
       "\\hline\n",
       "\t ZWE & Africa & Zimbabwe & 2022-10-17 & Oct & 257893 & 0 & 20.571 & 16124.84 & 0 & ⋯ & 1.82 & 1.6 & 30.7 & 36.791 & 1.7 & 61.49 & 0.571 & 15993524 & 3065.4 & 279\\\\\n",
       "\t ZWE & Africa & Zimbabwe & 2022-10-18 & Oct & 257893 & 0 & 20.571 & 16124.84 & 0 & ⋯ & 1.82 & 1.6 & 30.7 & 36.791 & 1.7 & 61.49 & 0.571 & 15993524 & 3065.4 & 279\\\\\n",
       "\t ZWE & Africa & Zimbabwe & 2022-10-19 & Oct & 257893 & 0 & 13.571 & 16124.84 & 0 & ⋯ & 1.82 & 1.6 & 30.7 & 36.791 & 1.7 & 61.49 & 0.571 & 15993524 & 3065.4 & 279\\\\\n",
       "\t ZWE & Africa & Zimbabwe & 2022-10-20 & Oct & 257893 & 0 &  9.429 & 16124.84 & 0 & ⋯ & 1.82 & 1.6 & 30.7 & 36.791 & 1.7 & 61.49 & 0.571 & 15993524 & 3065.4 & 279\\\\\n",
       "\t ZWE & Africa & Zimbabwe & 2022-10-21 & Oct & 257893 & 0 &  9.429 & 16124.84 & 0 & ⋯ & 1.82 & 1.6 & 30.7 & 36.791 & 1.7 & 61.49 & 0.571 & 15993524 & 3065.4 & 279\\\\\n",
       "\t ZWE & Africa & Zimbabwe & 2022-10-22 & Oct & 257893 & 0 &  9.429 & 16124.84 & 0 & ⋯ & 1.82 & 1.6 & 30.7 & 36.791 & 1.7 & 61.49 & 0.571 & 15993524 & 3065.4 & 279\\\\\n",
       "\\end{tabular}\n"
      ],
      "text/markdown": [
       "\n",
       "A data.table: 6 × 29\n",
       "\n",
       "| iso_code &lt;chr&gt; | continent &lt;chr&gt; | location &lt;chr&gt; | date &lt;date&gt; | month &lt;chr&gt; | total_cases &lt;dbl&gt; | new_cases &lt;dbl&gt; | new_cases_smoothed &lt;dbl&gt; | total_cases_per_million &lt;dbl&gt; | new_cases_per_million &lt;dbl&gt; | ⋯ ⋯ | diabetes_prevalence &lt;dbl&gt; | female_smokers &lt;dbl&gt; | male_smokers &lt;dbl&gt; | handwashing_facilities &lt;dbl&gt; | hospital_beds_per_thousand &lt;dbl&gt; | life_expectancy &lt;dbl&gt; | human_development_index &lt;dbl&gt; | population &lt;dbl&gt; | sunshine_hours_year &lt;dbl&gt; | sunshine_hours_month &lt;dbl&gt; |\n",
       "|---|---|---|---|---|---|---|---|---|---|---|---|---|---|---|---|---|---|---|---|---|\n",
       "| ZWE | Africa | Zimbabwe | 2022-10-17 | Oct | 257893 | 0 | 20.571 | 16124.84 | 0 | ⋯ | 1.82 | 1.6 | 30.7 | 36.791 | 1.7 | 61.49 | 0.571 | 15993524 | 3065.4 | 279 |\n",
       "| ZWE | Africa | Zimbabwe | 2022-10-18 | Oct | 257893 | 0 | 20.571 | 16124.84 | 0 | ⋯ | 1.82 | 1.6 | 30.7 | 36.791 | 1.7 | 61.49 | 0.571 | 15993524 | 3065.4 | 279 |\n",
       "| ZWE | Africa | Zimbabwe | 2022-10-19 | Oct | 257893 | 0 | 13.571 | 16124.84 | 0 | ⋯ | 1.82 | 1.6 | 30.7 | 36.791 | 1.7 | 61.49 | 0.571 | 15993524 | 3065.4 | 279 |\n",
       "| ZWE | Africa | Zimbabwe | 2022-10-20 | Oct | 257893 | 0 |  9.429 | 16124.84 | 0 | ⋯ | 1.82 | 1.6 | 30.7 | 36.791 | 1.7 | 61.49 | 0.571 | 15993524 | 3065.4 | 279 |\n",
       "| ZWE | Africa | Zimbabwe | 2022-10-21 | Oct | 257893 | 0 |  9.429 | 16124.84 | 0 | ⋯ | 1.82 | 1.6 | 30.7 | 36.791 | 1.7 | 61.49 | 0.571 | 15993524 | 3065.4 | 279 |\n",
       "| ZWE | Africa | Zimbabwe | 2022-10-22 | Oct | 257893 | 0 |  9.429 | 16124.84 | 0 | ⋯ | 1.82 | 1.6 | 30.7 | 36.791 | 1.7 | 61.49 | 0.571 | 15993524 | 3065.4 | 279 |\n",
       "\n"
      ],
      "text/plain": [
       "  iso_code continent location date       month total_cases new_cases\n",
       "1 ZWE      Africa    Zimbabwe 2022-10-17 Oct   257893      0        \n",
       "2 ZWE      Africa    Zimbabwe 2022-10-18 Oct   257893      0        \n",
       "3 ZWE      Africa    Zimbabwe 2022-10-19 Oct   257893      0        \n",
       "4 ZWE      Africa    Zimbabwe 2022-10-20 Oct   257893      0        \n",
       "5 ZWE      Africa    Zimbabwe 2022-10-21 Oct   257893      0        \n",
       "6 ZWE      Africa    Zimbabwe 2022-10-22 Oct   257893      0        \n",
       "  new_cases_smoothed total_cases_per_million new_cases_per_million ⋯\n",
       "1 20.571             16124.84                0                     ⋯\n",
       "2 20.571             16124.84                0                     ⋯\n",
       "3 13.571             16124.84                0                     ⋯\n",
       "4  9.429             16124.84                0                     ⋯\n",
       "5  9.429             16124.84                0                     ⋯\n",
       "6  9.429             16124.84                0                     ⋯\n",
       "  diabetes_prevalence female_smokers male_smokers handwashing_facilities\n",
       "1 1.82                1.6            30.7         36.791                \n",
       "2 1.82                1.6            30.7         36.791                \n",
       "3 1.82                1.6            30.7         36.791                \n",
       "4 1.82                1.6            30.7         36.791                \n",
       "5 1.82                1.6            30.7         36.791                \n",
       "6 1.82                1.6            30.7         36.791                \n",
       "  hospital_beds_per_thousand life_expectancy human_development_index population\n",
       "1 1.7                        61.49           0.571                   15993524  \n",
       "2 1.7                        61.49           0.571                   15993524  \n",
       "3 1.7                        61.49           0.571                   15993524  \n",
       "4 1.7                        61.49           0.571                   15993524  \n",
       "5 1.7                        61.49           0.571                   15993524  \n",
       "6 1.7                        61.49           0.571                   15993524  \n",
       "  sunshine_hours_year sunshine_hours_month\n",
       "1 3065.4              279                 \n",
       "2 3065.4              279                 \n",
       "3 3065.4              279                 \n",
       "4 3065.4              279                 \n",
       "5 3065.4              279                 \n",
       "6 3065.4              279                 "
      ]
     },
     "metadata": {},
     "output_type": "display_data"
    }
   ],
   "source": [
    "merged_df <- covid_data_month %>% inner_join(avg_sunshine_per_month[, -2], by = c(\"iso_code\", \"month\")) # inner join the two datasets\n",
    "dim(merged_df) # display the dimension of merged_df\n",
    "head(merged_df) # check the first few rows\n",
    "tail(merged_df) # check the last few rows"
   ]
  },
  {
   "cell_type": "markdown",
   "id": "ed4beecf",
   "metadata": {},
   "source": [
    "## 1.4 Data cleaning<a name=\"p1.4\"></a>"
   ]
  },
  {
   "cell_type": "markdown",
   "id": "c06a9149",
   "metadata": {},
   "source": [
    "In this section we will inspect and clean `merged_df`."
   ]
  },
  {
   "cell_type": "markdown",
   "id": "c258cb16",
   "metadata": {},
   "source": [
    "### 1.4.1 Duplicates<a name=\"p1.4.1\"></a>"
   ]
  },
  {
   "cell_type": "markdown",
   "id": "0728bd92",
   "metadata": {},
   "source": [
    "Check that there are no duplicated rows in `merged_df`."
   ]
  },
  {
   "cell_type": "code",
   "execution_count": 16,
   "id": "db8dfada",
   "metadata": {},
   "outputs": [
    {
     "data": {
      "text/html": [
       "0"
      ],
      "text/latex": [
       "0"
      ],
      "text/markdown": [
       "0"
      ],
      "text/plain": [
       "[1] 0"
      ]
     },
     "metadata": {},
     "output_type": "display_data"
    }
   ],
   "source": [
    "sum((duplicated(merged_df)))"
   ]
  },
  {
   "cell_type": "markdown",
   "id": "241f5038",
   "metadata": {},
   "source": [
    "### 1.4.2 Inspecting fixed variables<a name=\"p1.4.2\"></a>"
   ]
  },
  {
   "cell_type": "markdown",
   "id": "f2f33e6e",
   "metadata": {},
   "source": [
    "We will inspect and clean fixed variables, which are variables that are not updated daily.<br>\n",
    "First let's create a table of count and percentage of NA values per variable."
   ]
  },
  {
   "cell_type": "code",
   "execution_count": 17,
   "id": "0cced986",
   "metadata": {},
   "outputs": [
    {
     "data": {
      "text/html": [
       "<table class=\"dataframe\">\n",
       "<caption>A data.frame: 29 × 2</caption>\n",
       "<thead>\n",
       "\t<tr><th></th><th scope=col>sum_of_na</th><th scope=col>percentage_na</th></tr>\n",
       "\t<tr><th></th><th scope=col>&lt;dbl&gt;</th><th scope=col>&lt;dbl&gt;</th></tr>\n",
       "</thead>\n",
       "<tbody>\n",
       "\t<tr><th scope=row>iso_code</th><td>    0</td><td> 0.00</td></tr>\n",
       "\t<tr><th scope=row>continent</th><td>    0</td><td> 0.00</td></tr>\n",
       "\t<tr><th scope=row>location</th><td>    0</td><td> 0.00</td></tr>\n",
       "\t<tr><th scope=row>date</th><td>    0</td><td> 0.00</td></tr>\n",
       "\t<tr><th scope=row>month</th><td>    0</td><td> 0.00</td></tr>\n",
       "\t<tr><th scope=row>total_cases</th><td> 2004</td><td> 1.49</td></tr>\n",
       "\t<tr><th scope=row>new_cases</th><td> 2211</td><td> 1.65</td></tr>\n",
       "\t<tr><th scope=row>new_cases_smoothed</th><td> 2926</td><td> 2.18</td></tr>\n",
       "\t<tr><th scope=row>total_cases_per_million</th><td> 2004</td><td> 1.49</td></tr>\n",
       "\t<tr><th scope=row>new_cases_per_million</th><td> 2211</td><td> 1.65</td></tr>\n",
       "\t<tr><th scope=row>new_cases_smoothed_per_million</th><td> 2926</td><td> 2.18</td></tr>\n",
       "\t<tr><th scope=row>stringency_index</th><td>12078</td><td> 9.00</td></tr>\n",
       "\t<tr><th scope=row>population_density</th><td> 3805</td><td> 2.84</td></tr>\n",
       "\t<tr><th scope=row>median_age</th><td> 3793</td><td> 2.83</td></tr>\n",
       "\t<tr><th scope=row>aged_65_older</th><td> 4804</td><td> 3.58</td></tr>\n",
       "\t<tr><th scope=row>aged_70_older</th><td> 4763</td><td> 3.55</td></tr>\n",
       "\t<tr><th scope=row>gdp_per_capita</th><td> 6646</td><td> 4.95</td></tr>\n",
       "\t<tr><th scope=row>extreme_poverty</th><td>40392</td><td>30.11</td></tr>\n",
       "\t<tr><th scope=row>cardiovasc_death_rate</th><td> 3793</td><td> 2.83</td></tr>\n",
       "\t<tr><th scope=row>diabetes_prevalence</th><td> 3837</td><td> 2.86</td></tr>\n",
       "\t<tr><th scope=row>female_smokers</th><td>30158</td><td>22.48</td></tr>\n",
       "\t<tr><th scope=row>male_smokers</th><td>32075</td><td>23.91</td></tr>\n",
       "\t<tr><th scope=row>handwashing_facilities</th><td>73778</td><td>55.00</td></tr>\n",
       "\t<tr><th scope=row>hospital_beds_per_thousand</th><td>16098</td><td>12.00</td></tr>\n",
       "\t<tr><th scope=row>life_expectancy</th><td>    0</td><td> 0.00</td></tr>\n",
       "\t<tr><th scope=row>human_development_index</th><td> 7486</td><td> 5.58</td></tr>\n",
       "\t<tr><th scope=row>population</th><td>    0</td><td> 0.00</td></tr>\n",
       "\t<tr><th scope=row>sunshine_hours_year</th><td>    0</td><td> 0.00</td></tr>\n",
       "\t<tr><th scope=row>sunshine_hours_month</th><td>    0</td><td> 0.00</td></tr>\n",
       "</tbody>\n",
       "</table>\n"
      ],
      "text/latex": [
       "A data.frame: 29 × 2\n",
       "\\begin{tabular}{r|ll}\n",
       "  & sum\\_of\\_na & percentage\\_na\\\\\n",
       "  & <dbl> & <dbl>\\\\\n",
       "\\hline\n",
       "\tiso\\_code &     0 &  0.00\\\\\n",
       "\tcontinent &     0 &  0.00\\\\\n",
       "\tlocation &     0 &  0.00\\\\\n",
       "\tdate &     0 &  0.00\\\\\n",
       "\tmonth &     0 &  0.00\\\\\n",
       "\ttotal\\_cases &  2004 &  1.49\\\\\n",
       "\tnew\\_cases &  2211 &  1.65\\\\\n",
       "\tnew\\_cases\\_smoothed &  2926 &  2.18\\\\\n",
       "\ttotal\\_cases\\_per\\_million &  2004 &  1.49\\\\\n",
       "\tnew\\_cases\\_per\\_million &  2211 &  1.65\\\\\n",
       "\tnew\\_cases\\_smoothed\\_per\\_million &  2926 &  2.18\\\\\n",
       "\tstringency\\_index & 12078 &  9.00\\\\\n",
       "\tpopulation\\_density &  3805 &  2.84\\\\\n",
       "\tmedian\\_age &  3793 &  2.83\\\\\n",
       "\taged\\_65\\_older &  4804 &  3.58\\\\\n",
       "\taged\\_70\\_older &  4763 &  3.55\\\\\n",
       "\tgdp\\_per\\_capita &  6646 &  4.95\\\\\n",
       "\textreme\\_poverty & 40392 & 30.11\\\\\n",
       "\tcardiovasc\\_death\\_rate &  3793 &  2.83\\\\\n",
       "\tdiabetes\\_prevalence &  3837 &  2.86\\\\\n",
       "\tfemale\\_smokers & 30158 & 22.48\\\\\n",
       "\tmale\\_smokers & 32075 & 23.91\\\\\n",
       "\thandwashing\\_facilities & 73778 & 55.00\\\\\n",
       "\thospital\\_beds\\_per\\_thousand & 16098 & 12.00\\\\\n",
       "\tlife\\_expectancy &     0 &  0.00\\\\\n",
       "\thuman\\_development\\_index &  7486 &  5.58\\\\\n",
       "\tpopulation &     0 &  0.00\\\\\n",
       "\tsunshine\\_hours\\_year &     0 &  0.00\\\\\n",
       "\tsunshine\\_hours\\_month &     0 &  0.00\\\\\n",
       "\\end{tabular}\n"
      ],
      "text/markdown": [
       "\n",
       "A data.frame: 29 × 2\n",
       "\n",
       "| <!--/--> | sum_of_na &lt;dbl&gt; | percentage_na &lt;dbl&gt; |\n",
       "|---|---|---|\n",
       "| iso_code |     0 |  0.00 |\n",
       "| continent |     0 |  0.00 |\n",
       "| location |     0 |  0.00 |\n",
       "| date |     0 |  0.00 |\n",
       "| month |     0 |  0.00 |\n",
       "| total_cases |  2004 |  1.49 |\n",
       "| new_cases |  2211 |  1.65 |\n",
       "| new_cases_smoothed |  2926 |  2.18 |\n",
       "| total_cases_per_million |  2004 |  1.49 |\n",
       "| new_cases_per_million |  2211 |  1.65 |\n",
       "| new_cases_smoothed_per_million |  2926 |  2.18 |\n",
       "| stringency_index | 12078 |  9.00 |\n",
       "| population_density |  3805 |  2.84 |\n",
       "| median_age |  3793 |  2.83 |\n",
       "| aged_65_older |  4804 |  3.58 |\n",
       "| aged_70_older |  4763 |  3.55 |\n",
       "| gdp_per_capita |  6646 |  4.95 |\n",
       "| extreme_poverty | 40392 | 30.11 |\n",
       "| cardiovasc_death_rate |  3793 |  2.83 |\n",
       "| diabetes_prevalence |  3837 |  2.86 |\n",
       "| female_smokers | 30158 | 22.48 |\n",
       "| male_smokers | 32075 | 23.91 |\n",
       "| handwashing_facilities | 73778 | 55.00 |\n",
       "| hospital_beds_per_thousand | 16098 | 12.00 |\n",
       "| life_expectancy |     0 |  0.00 |\n",
       "| human_development_index |  7486 |  5.58 |\n",
       "| population |     0 |  0.00 |\n",
       "| sunshine_hours_year |     0 |  0.00 |\n",
       "| sunshine_hours_month |     0 |  0.00 |\n",
       "\n"
      ],
      "text/plain": [
       "                               sum_of_na percentage_na\n",
       "iso_code                           0      0.00        \n",
       "continent                          0      0.00        \n",
       "location                           0      0.00        \n",
       "date                               0      0.00        \n",
       "month                              0      0.00        \n",
       "total_cases                     2004      1.49        \n",
       "new_cases                       2211      1.65        \n",
       "new_cases_smoothed              2926      2.18        \n",
       "total_cases_per_million         2004      1.49        \n",
       "new_cases_per_million           2211      1.65        \n",
       "new_cases_smoothed_per_million  2926      2.18        \n",
       "stringency_index               12078      9.00        \n",
       "population_density              3805      2.84        \n",
       "median_age                      3793      2.83        \n",
       "aged_65_older                   4804      3.58        \n",
       "aged_70_older                   4763      3.55        \n",
       "gdp_per_capita                  6646      4.95        \n",
       "extreme_poverty                40392     30.11        \n",
       "cardiovasc_death_rate           3793      2.83        \n",
       "diabetes_prevalence             3837      2.86        \n",
       "female_smokers                 30158     22.48        \n",
       "male_smokers                   32075     23.91        \n",
       "handwashing_facilities         73778     55.00        \n",
       "hospital_beds_per_thousand     16098     12.00        \n",
       "life_expectancy                    0      0.00        \n",
       "human_development_index         7486      5.58        \n",
       "population                         0      0.00        \n",
       "sunshine_hours_year                0      0.00        \n",
       "sunshine_hours_month               0      0.00        "
      ]
     },
     "metadata": {},
     "output_type": "display_data"
    }
   ],
   "source": [
    "na_df <- data.frame(colSums(is.na(merged_df))) # create a dataframe of sum of NA per column\n",
    "colnames(na_df) <- \"sum_of_na\" # rename the column that shows sum of NAs\n",
    "na_percentage_df <- na_df %>% mutate(percentage_na = round((sum_of_na / nrow(merged_df)) * 100, 2)) # calculate the percentage of NA values\n",
    "na_percentage_df"
   ]
  },
  {
   "cell_type": "markdown",
   "id": "41edb808",
   "metadata": {},
   "source": [
    "We will remove the variables where missing data represent more than 10% of the total, which are all fixed variables."
   ]
  },
  {
   "cell_type": "code",
   "execution_count": 18,
   "id": "a28c2626",
   "metadata": {},
   "outputs": [
    {
     "name": "stdout",
     "output_type": "stream",
     "text": [
      "[1] \"5 columns below have been dropped\"\n"
     ]
    },
    {
     "data": {
      "text/html": [
       "<style>\n",
       ".list-inline {list-style: none; margin:0; padding: 0}\n",
       ".list-inline>li {display: inline-block}\n",
       ".list-inline>li:not(:last-child)::after {content: \"\\00b7\"; padding: 0 .5ex}\n",
       "</style>\n",
       "<ol class=list-inline><li>'extreme_poverty'</li><li>'female_smokers'</li><li>'male_smokers'</li><li>'handwashing_facilities'</li><li>'hospital_beds_per_thousand'</li></ol>\n"
      ],
      "text/latex": [
       "\\begin{enumerate*}\n",
       "\\item 'extreme\\_poverty'\n",
       "\\item 'female\\_smokers'\n",
       "\\item 'male\\_smokers'\n",
       "\\item 'handwashing\\_facilities'\n",
       "\\item 'hospital\\_beds\\_per\\_thousand'\n",
       "\\end{enumerate*}\n"
      ],
      "text/markdown": [
       "1. 'extreme_poverty'\n",
       "2. 'female_smokers'\n",
       "3. 'male_smokers'\n",
       "4. 'handwashing_facilities'\n",
       "5. 'hospital_beds_per_thousand'\n",
       "\n",
       "\n"
      ],
      "text/plain": [
       "[1] \"extreme_poverty\"            \"female_smokers\"            \n",
       "[3] \"male_smokers\"               \"handwashing_facilities\"    \n",
       "[5] \"hospital_beds_per_thousand\""
      ]
     },
     "metadata": {},
     "output_type": "display_data"
    }
   ],
   "source": [
    "columns_removed <- merged_df %>% select(colnames(merged_df)[which(na_percentage_df$percentage_na < 10)]) # remove the columns where more than 10% of data are missing\n",
    "print(paste(sum(na_percentage_df$percentage_na > 10), \"columns below have been dropped\")) # display the number of columns that were removed\n",
    "colnames(merged_df)[which(na_percentage_df$percentage_na > 10)] # display the column names that were removed"
   ]
  },
  {
   "cell_type": "markdown",
   "id": "5a82ae7d",
   "metadata": {},
   "source": [
    "For the remaining fixed variables, we want to check from which countries the data are missing.<br>\n",
    "We will start by creating a table for number of observations per country."
   ]
  },
  {
   "cell_type": "code",
   "execution_count": 19,
   "id": "6b6f0a5e",
   "metadata": {},
   "outputs": [
    {
     "data": {
      "text/html": [
       "<table class=\"dataframe\">\n",
       "<caption>A data.table: 6 × 2</caption>\n",
       "<thead>\n",
       "\t<tr><th scope=col>iso_code</th><th scope=col>observations</th></tr>\n",
       "\t<tr><th scope=col>&lt;chr&gt;</th><th scope=col>&lt;int&gt;</th></tr>\n",
       "</thead>\n",
       "<tbody>\n",
       "\t<tr><td>AFG</td><td> 972</td></tr>\n",
       "\t<tr><td>AGO</td><td> 947</td></tr>\n",
       "\t<tr><td>ALB</td><td> 971</td></tr>\n",
       "\t<tr><td>ARE</td><td> 998</td></tr>\n",
       "\t<tr><td>ARG</td><td>1026</td></tr>\n",
       "\t<tr><td>ARM</td><td> 993</td></tr>\n",
       "</tbody>\n",
       "</table>\n"
      ],
      "text/latex": [
       "A data.table: 6 × 2\n",
       "\\begin{tabular}{ll}\n",
       " iso\\_code & observations\\\\\n",
       " <chr> & <int>\\\\\n",
       "\\hline\n",
       "\t AFG &  972\\\\\n",
       "\t AGO &  947\\\\\n",
       "\t ALB &  971\\\\\n",
       "\t ARE &  998\\\\\n",
       "\t ARG & 1026\\\\\n",
       "\t ARM &  993\\\\\n",
       "\\end{tabular}\n"
      ],
      "text/markdown": [
       "\n",
       "A data.table: 6 × 2\n",
       "\n",
       "| iso_code &lt;chr&gt; | observations &lt;int&gt; |\n",
       "|---|---|\n",
       "| AFG |  972 |\n",
       "| AGO |  947 |\n",
       "| ALB |  971 |\n",
       "| ARE |  998 |\n",
       "| ARG | 1026 |\n",
       "| ARM |  993 |\n",
       "\n"
      ],
      "text/plain": [
       "  iso_code observations\n",
       "1 AFG       972        \n",
       "2 AGO       947        \n",
       "3 ALB       971        \n",
       "4 ARE       998        \n",
       "5 ARG      1026        \n",
       "6 ARM       993        "
      ]
     },
     "metadata": {},
     "output_type": "display_data"
    }
   ],
   "source": [
    "observations_per_country <- \n",
    "    columns_removed %>% \n",
    "    count(iso_code) # count the number of observations per iso codes\n",
    "colnames(observations_per_country)[2] <- \"observations\" # rename the column that shows the number of observations\n",
    "head(observations_per_country) # check the first few rows"
   ]
  },
  {
   "cell_type": "markdown",
   "id": "27ca5252",
   "metadata": {},
   "source": [
    "Then create a table showing the count of missing data per variable per country."
   ]
  },
  {
   "cell_type": "code",
   "execution_count": 20,
   "id": "2442064e",
   "metadata": {},
   "outputs": [
    {
     "data": {
      "text/html": [
       "<style>\n",
       ".list-inline {list-style: none; margin:0; padding: 0}\n",
       ".list-inline>li {display: inline-block}\n",
       ".list-inline>li:not(:last-child)::after {content: \"\\00b7\"; padding: 0 .5ex}\n",
       "</style>\n",
       "<ol class=list-inline><li>139</li><li>22</li></ol>\n"
      ],
      "text/latex": [
       "\\begin{enumerate*}\n",
       "\\item 139\n",
       "\\item 22\n",
       "\\end{enumerate*}\n"
      ],
      "text/markdown": [
       "1. 139\n",
       "2. 22\n",
       "\n",
       "\n"
      ],
      "text/plain": [
       "[1] 139  22"
      ]
     },
     "metadata": {},
     "output_type": "display_data"
    },
    {
     "data": {
      "text/html": [
       "<table class=\"dataframe\">\n",
       "<caption>A grouped_df: 6 × 22</caption>\n",
       "<thead>\n",
       "\t<tr><th scope=col>iso_code</th><th scope=col>location</th><th scope=col>total_cases</th><th scope=col>new_cases</th><th scope=col>new_cases_smoothed</th><th scope=col>total_cases_per_million</th><th scope=col>new_cases_per_million</th><th scope=col>new_cases_smoothed_per_million</th><th scope=col>stringency_index</th><th scope=col>population_density</th><th scope=col>⋯</th><th scope=col>aged_70_older</th><th scope=col>gdp_per_capita</th><th scope=col>cardiovasc_death_rate</th><th scope=col>diabetes_prevalence</th><th scope=col>life_expectancy</th><th scope=col>human_development_index</th><th scope=col>population</th><th scope=col>sunshine_hours_year</th><th scope=col>sunshine_hours_month</th><th scope=col>observations</th></tr>\n",
       "\t<tr><th scope=col>&lt;chr&gt;</th><th scope=col>&lt;chr&gt;</th><th scope=col>&lt;int&gt;</th><th scope=col>&lt;int&gt;</th><th scope=col>&lt;int&gt;</th><th scope=col>&lt;int&gt;</th><th scope=col>&lt;int&gt;</th><th scope=col>&lt;int&gt;</th><th scope=col>&lt;int&gt;</th><th scope=col>&lt;int&gt;</th><th scope=col>⋯</th><th scope=col>&lt;int&gt;</th><th scope=col>&lt;int&gt;</th><th scope=col>&lt;int&gt;</th><th scope=col>&lt;int&gt;</th><th scope=col>&lt;int&gt;</th><th scope=col>&lt;int&gt;</th><th scope=col>&lt;int&gt;</th><th scope=col>&lt;int&gt;</th><th scope=col>&lt;int&gt;</th><th scope=col>&lt;int&gt;</th></tr>\n",
       "</thead>\n",
       "<tbody>\n",
       "\t<tr><td>AFG</td><td>Afghanistan         </td><td> 0</td><td> 2</td><td> 7</td><td> 0</td><td> 2</td><td> 7</td><td> 32</td><td>0</td><td>⋯</td><td>0</td><td>0</td><td>0</td><td>0</td><td>0</td><td>0</td><td>0</td><td>0</td><td>0</td><td> 972</td></tr>\n",
       "\t<tr><td>AGO</td><td>Angola              </td><td> 0</td><td> 0</td><td> 5</td><td> 0</td><td> 0</td><td> 5</td><td> 27</td><td>0</td><td>⋯</td><td>0</td><td>0</td><td>0</td><td>0</td><td>0</td><td>0</td><td>0</td><td>0</td><td>0</td><td> 947</td></tr>\n",
       "\t<tr><td>ALB</td><td>Albania             </td><td>13</td><td>13</td><td>18</td><td>13</td><td>13</td><td>18</td><td> 17</td><td>0</td><td>⋯</td><td>0</td><td>0</td><td>0</td><td>0</td><td>0</td><td>0</td><td>0</td><td>0</td><td>0</td><td> 971</td></tr>\n",
       "\t<tr><td>ARE</td><td>United Arab Emirates</td><td> 0</td><td> 0</td><td> 5</td><td> 0</td><td> 0</td><td> 5</td><td> 20</td><td>0</td><td>⋯</td><td>0</td><td>0</td><td>0</td><td>0</td><td>0</td><td>0</td><td>0</td><td>0</td><td>0</td><td> 998</td></tr>\n",
       "\t<tr><td>ARG</td><td>Argentina           </td><td>62</td><td>68</td><td>73</td><td>62</td><td>68</td><td>73</td><td> 47</td><td>0</td><td>⋯</td><td>0</td><td>0</td><td>0</td><td>0</td><td>0</td><td>0</td><td>0</td><td>0</td><td>0</td><td>1026</td></tr>\n",
       "\t<tr><td>ARM</td><td>Armenia             </td><td>27</td><td>32</td><td>37</td><td>27</td><td>32</td><td>37</td><td>993</td><td>0</td><td>⋯</td><td>0</td><td>0</td><td>0</td><td>0</td><td>0</td><td>0</td><td>0</td><td>0</td><td>0</td><td> 993</td></tr>\n",
       "</tbody>\n",
       "</table>\n"
      ],
      "text/latex": [
       "A grouped\\_df: 6 × 22\n",
       "\\begin{tabular}{lllllllllllllllllllll}\n",
       " iso\\_code & location & total\\_cases & new\\_cases & new\\_cases\\_smoothed & total\\_cases\\_per\\_million & new\\_cases\\_per\\_million & new\\_cases\\_smoothed\\_per\\_million & stringency\\_index & population\\_density & ⋯ & aged\\_70\\_older & gdp\\_per\\_capita & cardiovasc\\_death\\_rate & diabetes\\_prevalence & life\\_expectancy & human\\_development\\_index & population & sunshine\\_hours\\_year & sunshine\\_hours\\_month & observations\\\\\n",
       " <chr> & <chr> & <int> & <int> & <int> & <int> & <int> & <int> & <int> & <int> & ⋯ & <int> & <int> & <int> & <int> & <int> & <int> & <int> & <int> & <int> & <int>\\\\\n",
       "\\hline\n",
       "\t AFG & Afghanistan          &  0 &  2 &  7 &  0 &  2 &  7 &  32 & 0 & ⋯ & 0 & 0 & 0 & 0 & 0 & 0 & 0 & 0 & 0 &  972\\\\\n",
       "\t AGO & Angola               &  0 &  0 &  5 &  0 &  0 &  5 &  27 & 0 & ⋯ & 0 & 0 & 0 & 0 & 0 & 0 & 0 & 0 & 0 &  947\\\\\n",
       "\t ALB & Albania              & 13 & 13 & 18 & 13 & 13 & 18 &  17 & 0 & ⋯ & 0 & 0 & 0 & 0 & 0 & 0 & 0 & 0 & 0 &  971\\\\\n",
       "\t ARE & United Arab Emirates &  0 &  0 &  5 &  0 &  0 &  5 &  20 & 0 & ⋯ & 0 & 0 & 0 & 0 & 0 & 0 & 0 & 0 & 0 &  998\\\\\n",
       "\t ARG & Argentina            & 62 & 68 & 73 & 62 & 68 & 73 &  47 & 0 & ⋯ & 0 & 0 & 0 & 0 & 0 & 0 & 0 & 0 & 0 & 1026\\\\\n",
       "\t ARM & Armenia              & 27 & 32 & 37 & 27 & 32 & 37 & 993 & 0 & ⋯ & 0 & 0 & 0 & 0 & 0 & 0 & 0 & 0 & 0 &  993\\\\\n",
       "\\end{tabular}\n"
      ],
      "text/markdown": [
       "\n",
       "A grouped_df: 6 × 22\n",
       "\n",
       "| iso_code &lt;chr&gt; | location &lt;chr&gt; | total_cases &lt;int&gt; | new_cases &lt;int&gt; | new_cases_smoothed &lt;int&gt; | total_cases_per_million &lt;int&gt; | new_cases_per_million &lt;int&gt; | new_cases_smoothed_per_million &lt;int&gt; | stringency_index &lt;int&gt; | population_density &lt;int&gt; | ⋯ ⋯ | aged_70_older &lt;int&gt; | gdp_per_capita &lt;int&gt; | cardiovasc_death_rate &lt;int&gt; | diabetes_prevalence &lt;int&gt; | life_expectancy &lt;int&gt; | human_development_index &lt;int&gt; | population &lt;int&gt; | sunshine_hours_year &lt;int&gt; | sunshine_hours_month &lt;int&gt; | observations &lt;int&gt; |\n",
       "|---|---|---|---|---|---|---|---|---|---|---|---|---|---|---|---|---|---|---|---|---|\n",
       "| AFG | Afghanistan          |  0 |  2 |  7 |  0 |  2 |  7 |  32 | 0 | ⋯ | 0 | 0 | 0 | 0 | 0 | 0 | 0 | 0 | 0 |  972 |\n",
       "| AGO | Angola               |  0 |  0 |  5 |  0 |  0 |  5 |  27 | 0 | ⋯ | 0 | 0 | 0 | 0 | 0 | 0 | 0 | 0 | 0 |  947 |\n",
       "| ALB | Albania              | 13 | 13 | 18 | 13 | 13 | 18 |  17 | 0 | ⋯ | 0 | 0 | 0 | 0 | 0 | 0 | 0 | 0 | 0 |  971 |\n",
       "| ARE | United Arab Emirates |  0 |  0 |  5 |  0 |  0 |  5 |  20 | 0 | ⋯ | 0 | 0 | 0 | 0 | 0 | 0 | 0 | 0 | 0 |  998 |\n",
       "| ARG | Argentina            | 62 | 68 | 73 | 62 | 68 | 73 |  47 | 0 | ⋯ | 0 | 0 | 0 | 0 | 0 | 0 | 0 | 0 | 0 | 1026 |\n",
       "| ARM | Armenia              | 27 | 32 | 37 | 27 | 32 | 37 | 993 | 0 | ⋯ | 0 | 0 | 0 | 0 | 0 | 0 | 0 | 0 | 0 |  993 |\n",
       "\n"
      ],
      "text/plain": [
       "  iso_code location             total_cases new_cases new_cases_smoothed\n",
       "1 AFG      Afghanistan           0           2         7                \n",
       "2 AGO      Angola                0           0         5                \n",
       "3 ALB      Albania              13          13        18                \n",
       "4 ARE      United Arab Emirates  0           0         5                \n",
       "5 ARG      Argentina            62          68        73                \n",
       "6 ARM      Armenia              27          32        37                \n",
       "  total_cases_per_million new_cases_per_million new_cases_smoothed_per_million\n",
       "1  0                       2                     7                            \n",
       "2  0                       0                     5                            \n",
       "3 13                      13                    18                            \n",
       "4  0                       0                     5                            \n",
       "5 62                      68                    73                            \n",
       "6 27                      32                    37                            \n",
       "  stringency_index population_density ⋯ aged_70_older gdp_per_capita\n",
       "1  32              0                  ⋯ 0             0             \n",
       "2  27              0                  ⋯ 0             0             \n",
       "3  17              0                  ⋯ 0             0             \n",
       "4  20              0                  ⋯ 0             0             \n",
       "5  47              0                  ⋯ 0             0             \n",
       "6 993              0                  ⋯ 0             0             \n",
       "  cardiovasc_death_rate diabetes_prevalence life_expectancy\n",
       "1 0                     0                   0              \n",
       "2 0                     0                   0              \n",
       "3 0                     0                   0              \n",
       "4 0                     0                   0              \n",
       "5 0                     0                   0              \n",
       "6 0                     0                   0              \n",
       "  human_development_index population sunshine_hours_year sunshine_hours_month\n",
       "1 0                       0          0                   0                   \n",
       "2 0                       0          0                   0                   \n",
       "3 0                       0          0                   0                   \n",
       "4 0                       0          0                   0                   \n",
       "5 0                       0          0                   0                   \n",
       "6 0                       0          0                   0                   \n",
       "  observations\n",
       "1  972        \n",
       "2  947        \n",
       "3  971        \n",
       "4  998        \n",
       "5 1026        \n",
       "6  993        "
      ]
     },
     "metadata": {},
     "output_type": "display_data"
    }
   ],
   "source": [
    "missing_data_count <- \n",
    "    columns_removed %>%\n",
    "    select(-date) %>% # remove \"date\" column\n",
    "    group_by(iso_code, location) %>% # group by iso codes and country names\n",
    "    summarise_if(is.double, function(x) sum(is.na(x))) %>% # for numerical columns, show sum of NAs\n",
    "    left_join(observations_per_country, by = \"iso_code\") # join observations_per_country to missing_data_count\n",
    "dim(missing_data_count) # display the dimension of missing_data_count\n",
    "head(missing_data_count) # check the first few rows"
   ]
  },
  {
   "cell_type": "markdown",
   "id": "e2c83248",
   "metadata": {},
   "source": [
    "For each fixed variables, calculate the percentage of missing data per country and filter for the ones that are missing 100%.<br>\n",
    "Since these variables are not daily updated, fixed variables should either be 0% or 100% missing.\n",
    "Data from these countries will be dropped in [Section 1.4.3](#p1.4.3)."
   ]
  },
  {
   "cell_type": "code",
   "execution_count": 21,
   "id": "f301fee8",
   "metadata": {
    "scrolled": false
   },
   "outputs": [
    {
     "data": {
      "text/html": [
       "<table class=\"dataframe\">\n",
       "<caption>A grouped_df: 10 × 10</caption>\n",
       "<thead>\n",
       "\t<tr><th scope=col>iso_code</th><th scope=col>location</th><th scope=col>percentage_na_population_density</th><th scope=col>percentage_na_median_age</th><th scope=col>percentage_na_aged_65_older</th><th scope=col>percentage_na_aged_70_older</th><th scope=col>percentage_na_gdp_per_capita</th><th scope=col>percentage_na_cardiovasc_death_rate</th><th scope=col>percentage_na_diabetes_prevalence</th><th scope=col>percentage_na_human_development_index</th></tr>\n",
       "\t<tr><th scope=col>&lt;chr&gt;</th><th scope=col>&lt;chr&gt;</th><th scope=col>&lt;dbl&gt;</th><th scope=col>&lt;dbl&gt;</th><th scope=col>&lt;dbl&gt;</th><th scope=col>&lt;dbl&gt;</th><th scope=col>&lt;dbl&gt;</th><th scope=col>&lt;dbl&gt;</th><th scope=col>&lt;dbl&gt;</th><th scope=col>&lt;dbl&gt;</th></tr>\n",
       "</thead>\n",
       "<tbody>\n",
       "\t<tr><td>FLK</td><td>Falkland Islands         </td><td>100</td><td>100</td><td>100</td><td>100</td><td>100</td><td>100</td><td>100</td><td>100</td></tr>\n",
       "\t<tr><td>FRO</td><td>Faeroe Islands           </td><td>  0</td><td>100</td><td>100</td><td>100</td><td>100</td><td>100</td><td>100</td><td>100</td></tr>\n",
       "\t<tr><td>MCO</td><td>Monaco                   </td><td>  0</td><td>100</td><td>100</td><td>100</td><td>100</td><td>100</td><td>  0</td><td>100</td></tr>\n",
       "\t<tr><td>PRI</td><td>Puerto Rico              </td><td>  0</td><td>  0</td><td>  0</td><td>  0</td><td>  0</td><td>  0</td><td>  0</td><td>100</td></tr>\n",
       "\t<tr><td>PRK</td><td>North Korea              </td><td>  0</td><td>  0</td><td>  0</td><td>  0</td><td>100</td><td>  0</td><td>  0</td><td>100</td></tr>\n",
       "\t<tr><td>SOM</td><td>Somalia                  </td><td>  0</td><td>  0</td><td>  0</td><td>  0</td><td>100</td><td>  0</td><td>  0</td><td>100</td></tr>\n",
       "\t<tr><td>SPM</td><td>Saint Pierre and Miquelon</td><td>100</td><td>100</td><td>100</td><td>100</td><td>100</td><td>100</td><td>100</td><td>100</td></tr>\n",
       "\t<tr><td>SRB</td><td>Serbia                   </td><td>  0</td><td>  0</td><td>  0</td><td>100</td><td>  0</td><td>  0</td><td>  0</td><td>  0</td></tr>\n",
       "\t<tr><td>SSD</td><td>South Sudan              </td><td>100</td><td>  0</td><td>  0</td><td>  0</td><td>  0</td><td>  0</td><td>  0</td><td>  0</td></tr>\n",
       "\t<tr><td>TWN</td><td>Taiwan                   </td><td>100</td><td>  0</td><td>100</td><td>  0</td><td>100</td><td>  0</td><td>100</td><td>100</td></tr>\n",
       "</tbody>\n",
       "</table>\n"
      ],
      "text/latex": [
       "A grouped\\_df: 10 × 10\n",
       "\\begin{tabular}{llllllllll}\n",
       " iso\\_code & location & percentage\\_na\\_population\\_density & percentage\\_na\\_median\\_age & percentage\\_na\\_aged\\_65\\_older & percentage\\_na\\_aged\\_70\\_older & percentage\\_na\\_gdp\\_per\\_capita & percentage\\_na\\_cardiovasc\\_death\\_rate & percentage\\_na\\_diabetes\\_prevalence & percentage\\_na\\_human\\_development\\_index\\\\\n",
       " <chr> & <chr> & <dbl> & <dbl> & <dbl> & <dbl> & <dbl> & <dbl> & <dbl> & <dbl>\\\\\n",
       "\\hline\n",
       "\t FLK & Falkland Islands          & 100 & 100 & 100 & 100 & 100 & 100 & 100 & 100\\\\\n",
       "\t FRO & Faeroe Islands            &   0 & 100 & 100 & 100 & 100 & 100 & 100 & 100\\\\\n",
       "\t MCO & Monaco                    &   0 & 100 & 100 & 100 & 100 & 100 &   0 & 100\\\\\n",
       "\t PRI & Puerto Rico               &   0 &   0 &   0 &   0 &   0 &   0 &   0 & 100\\\\\n",
       "\t PRK & North Korea               &   0 &   0 &   0 &   0 & 100 &   0 &   0 & 100\\\\\n",
       "\t SOM & Somalia                   &   0 &   0 &   0 &   0 & 100 &   0 &   0 & 100\\\\\n",
       "\t SPM & Saint Pierre and Miquelon & 100 & 100 & 100 & 100 & 100 & 100 & 100 & 100\\\\\n",
       "\t SRB & Serbia                    &   0 &   0 &   0 & 100 &   0 &   0 &   0 &   0\\\\\n",
       "\t SSD & South Sudan               & 100 &   0 &   0 &   0 &   0 &   0 &   0 &   0\\\\\n",
       "\t TWN & Taiwan                    & 100 &   0 & 100 &   0 & 100 &   0 & 100 & 100\\\\\n",
       "\\end{tabular}\n"
      ],
      "text/markdown": [
       "\n",
       "A grouped_df: 10 × 10\n",
       "\n",
       "| iso_code &lt;chr&gt; | location &lt;chr&gt; | percentage_na_population_density &lt;dbl&gt; | percentage_na_median_age &lt;dbl&gt; | percentage_na_aged_65_older &lt;dbl&gt; | percentage_na_aged_70_older &lt;dbl&gt; | percentage_na_gdp_per_capita &lt;dbl&gt; | percentage_na_cardiovasc_death_rate &lt;dbl&gt; | percentage_na_diabetes_prevalence &lt;dbl&gt; | percentage_na_human_development_index &lt;dbl&gt; |\n",
       "|---|---|---|---|---|---|---|---|---|---|\n",
       "| FLK | Falkland Islands          | 100 | 100 | 100 | 100 | 100 | 100 | 100 | 100 |\n",
       "| FRO | Faeroe Islands            |   0 | 100 | 100 | 100 | 100 | 100 | 100 | 100 |\n",
       "| MCO | Monaco                    |   0 | 100 | 100 | 100 | 100 | 100 |   0 | 100 |\n",
       "| PRI | Puerto Rico               |   0 |   0 |   0 |   0 |   0 |   0 |   0 | 100 |\n",
       "| PRK | North Korea               |   0 |   0 |   0 |   0 | 100 |   0 |   0 | 100 |\n",
       "| SOM | Somalia                   |   0 |   0 |   0 |   0 | 100 |   0 |   0 | 100 |\n",
       "| SPM | Saint Pierre and Miquelon | 100 | 100 | 100 | 100 | 100 | 100 | 100 | 100 |\n",
       "| SRB | Serbia                    |   0 |   0 |   0 | 100 |   0 |   0 |   0 |   0 |\n",
       "| SSD | South Sudan               | 100 |   0 |   0 |   0 |   0 |   0 |   0 |   0 |\n",
       "| TWN | Taiwan                    | 100 |   0 | 100 |   0 | 100 |   0 | 100 | 100 |\n",
       "\n"
      ],
      "text/plain": [
       "   iso_code location                  percentage_na_population_density\n",
       "1  FLK      Falkland Islands          100                             \n",
       "2  FRO      Faeroe Islands              0                             \n",
       "3  MCO      Monaco                      0                             \n",
       "4  PRI      Puerto Rico                 0                             \n",
       "5  PRK      North Korea                 0                             \n",
       "6  SOM      Somalia                     0                             \n",
       "7  SPM      Saint Pierre and Miquelon 100                             \n",
       "8  SRB      Serbia                      0                             \n",
       "9  SSD      South Sudan               100                             \n",
       "10 TWN      Taiwan                    100                             \n",
       "   percentage_na_median_age percentage_na_aged_65_older\n",
       "1  100                      100                        \n",
       "2  100                      100                        \n",
       "3  100                      100                        \n",
       "4    0                        0                        \n",
       "5    0                        0                        \n",
       "6    0                        0                        \n",
       "7  100                      100                        \n",
       "8    0                        0                        \n",
       "9    0                        0                        \n",
       "10   0                      100                        \n",
       "   percentage_na_aged_70_older percentage_na_gdp_per_capita\n",
       "1  100                         100                         \n",
       "2  100                         100                         \n",
       "3  100                         100                         \n",
       "4    0                           0                         \n",
       "5    0                         100                         \n",
       "6    0                         100                         \n",
       "7  100                         100                         \n",
       "8  100                           0                         \n",
       "9    0                           0                         \n",
       "10   0                         100                         \n",
       "   percentage_na_cardiovasc_death_rate percentage_na_diabetes_prevalence\n",
       "1  100                                 100                              \n",
       "2  100                                 100                              \n",
       "3  100                                   0                              \n",
       "4    0                                   0                              \n",
       "5    0                                   0                              \n",
       "6    0                                   0                              \n",
       "7  100                                 100                              \n",
       "8    0                                   0                              \n",
       "9    0                                   0                              \n",
       "10   0                                 100                              \n",
       "   percentage_na_human_development_index\n",
       "1  100                                  \n",
       "2  100                                  \n",
       "3  100                                  \n",
       "4  100                                  \n",
       "5  100                                  \n",
       "6  100                                  \n",
       "7  100                                  \n",
       "8    0                                  \n",
       "9    0                                  \n",
       "10 100                                  "
      ]
     },
     "metadata": {},
     "output_type": "display_data"
    }
   ],
   "source": [
    "missing_fixed_variables <- \n",
    "    missing_data_count %>%\n",
    "    group_by(iso_code, location) %>%\n",
    "    transmute(percentage_na_population_density = round((population_density / observations) * 100, 2), # calculate the NA percentage of \"population_density\" per country\n",
    "              percentage_na_median_age = round((median_age / observations) * 100, 2), # calculate the NA percentage of \"median_age\" per country\n",
    "              percentage_na_aged_65_older = round((aged_65_older / observations) * 100, 2), # calculate the NA percentage of \"aged_65_older\" per country\n",
    "              percentage_na_aged_70_older = round((aged_70_older / observations) * 100, 2), # calculate the NA percentage of \"aged_70_older\" per country\n",
    "              percentage_na_gdp_per_capita = round((gdp_per_capita / observations) * 100, 2), # calculate the NA percentage of \"gdp_per_capita\" per country\n",
    "              percentage_na_cardiovasc_death_rate = round((cardiovasc_death_rate / observations) * 100, 2), # calculate the NA percentage of \"cardiovasc_death_rate\" per country\n",
    "              percentage_na_diabetes_prevalence = round((diabetes_prevalence / observations) * 100, 2), # calculate the NA percentage of \"diabetes_prevalence\" per country\n",
    "              percentage_na_human_development_index = round((human_development_index / observations) * 100, 2) # calculate the NA percentage of \"human_development_index\" per country\n",
    "          ) %>%\n",
    "    filter_if(is.double, any_vars(. == 100)) # filter for rows including any variables missing 100%\n",
    "missing_fixed_variables"
   ]
  },
  {
   "cell_type": "markdown",
   "id": "8e343686",
   "metadata": {},
   "source": [
    "### 1.4.3 Inspecting daily updated variables<a name=\"p1.4.3\"></a>"
   ]
  },
  {
   "cell_type": "markdown",
   "id": "2681dd36",
   "metadata": {},
   "source": [
    "Here we will inspect the missing percentage of daily updated variables in relation to countries.<br>\n",
    "Similar to fixed variables, we will calculate the percentage of missing data per country.<br>\n",
    "This time we will filter for more than 10% missing values, since these variables are updated daily."
   ]
  },
  {
   "cell_type": "code",
   "execution_count": 22,
   "id": "8d6547f6",
   "metadata": {},
   "outputs": [
    {
     "data": {
      "text/html": [
       "<table class=\"dataframe\">\n",
       "<caption>A grouped_df: 10 × 9</caption>\n",
       "<thead>\n",
       "\t<tr><th scope=col>iso_code</th><th scope=col>location</th><th scope=col>percentage_na_stringency_index</th><th scope=col>percentage_na_total_cases</th><th scope=col>percentage_na_new_cases</th><th scope=col>percentage_na_new_cases_smoothed</th><th scope=col>percentage_na_total_cases_per_million</th><th scope=col>percentage_na_new_cases_per_million</th><th scope=col>percentage_na_new_cases_smoothed_per_million</th></tr>\n",
       "\t<tr><th scope=col>&lt;chr&gt;</th><th scope=col>&lt;chr&gt;</th><th scope=col>&lt;dbl&gt;</th><th scope=col>&lt;dbl&gt;</th><th scope=col>&lt;dbl&gt;</th><th scope=col>&lt;dbl&gt;</th><th scope=col>&lt;dbl&gt;</th><th scope=col>&lt;dbl&gt;</th><th scope=col>&lt;dbl&gt;</th></tr>\n",
       "</thead>\n",
       "<tbody>\n",
       "\t<tr><td>ARM</td><td>Armenia                  </td><td>100</td><td>  2.72</td><td>  3.22</td><td>  3.73</td><td>  2.72</td><td>  3.22</td><td>  3.73</td></tr>\n",
       "\t<tr><td>ERI</td><td>Eritrea                  </td><td>100</td><td>  0.00</td><td>  0.00</td><td>  0.53</td><td>  0.00</td><td>  0.00</td><td>  0.53</td></tr>\n",
       "\t<tr><td>FLK</td><td>Falkland Islands         </td><td>100</td><td>  0.00</td><td>  0.21</td><td>  0.75</td><td>  0.00</td><td>  0.21</td><td>  0.75</td></tr>\n",
       "\t<tr><td>GNB</td><td>Guinea-Bissau            </td><td>100</td><td>  0.00</td><td>  0.00</td><td>  0.53</td><td>  0.00</td><td>  0.00</td><td>  0.53</td></tr>\n",
       "\t<tr><td>GNQ</td><td>Equatorial Guinea        </td><td>100</td><td>  0.00</td><td>  0.11</td><td>  0.63</td><td>  0.00</td><td>  0.11</td><td>  0.63</td></tr>\n",
       "\t<tr><td>MKD</td><td>North Macedonia          </td><td>100</td><td>  0.00</td><td>  0.10</td><td>  0.62</td><td>  0.00</td><td>  0.10</td><td>  0.62</td></tr>\n",
       "\t<tr><td>MNE</td><td>Montenegro               </td><td>100</td><td>  0.00</td><td>  0.00</td><td>  0.53</td><td>  0.00</td><td>  0.00</td><td>  0.53</td></tr>\n",
       "\t<tr><td>PRI</td><td>Puerto Rico              </td><td>100</td><td>100.00</td><td>100.00</td><td>100.00</td><td>100.00</td><td>100.00</td><td>100.00</td></tr>\n",
       "\t<tr><td>PRK</td><td>North Korea              </td><td>100</td><td> 81.82</td><td> 81.82</td><td> 82.38</td><td> 81.82</td><td> 81.82</td><td> 82.38</td></tr>\n",
       "\t<tr><td>SPM</td><td>Saint Pierre and Miquelon</td><td>100</td><td>  0.00</td><td>  0.11</td><td>  0.64</td><td>  0.00</td><td>  0.11</td><td>  0.64</td></tr>\n",
       "</tbody>\n",
       "</table>\n"
      ],
      "text/latex": [
       "A grouped\\_df: 10 × 9\n",
       "\\begin{tabular}{lllllllll}\n",
       " iso\\_code & location & percentage\\_na\\_stringency\\_index & percentage\\_na\\_total\\_cases & percentage\\_na\\_new\\_cases & percentage\\_na\\_new\\_cases\\_smoothed & percentage\\_na\\_total\\_cases\\_per\\_million & percentage\\_na\\_new\\_cases\\_per\\_million & percentage\\_na\\_new\\_cases\\_smoothed\\_per\\_million\\\\\n",
       " <chr> & <chr> & <dbl> & <dbl> & <dbl> & <dbl> & <dbl> & <dbl> & <dbl>\\\\\n",
       "\\hline\n",
       "\t ARM & Armenia                   & 100 &   2.72 &   3.22 &   3.73 &   2.72 &   3.22 &   3.73\\\\\n",
       "\t ERI & Eritrea                   & 100 &   0.00 &   0.00 &   0.53 &   0.00 &   0.00 &   0.53\\\\\n",
       "\t FLK & Falkland Islands          & 100 &   0.00 &   0.21 &   0.75 &   0.00 &   0.21 &   0.75\\\\\n",
       "\t GNB & Guinea-Bissau             & 100 &   0.00 &   0.00 &   0.53 &   0.00 &   0.00 &   0.53\\\\\n",
       "\t GNQ & Equatorial Guinea         & 100 &   0.00 &   0.11 &   0.63 &   0.00 &   0.11 &   0.63\\\\\n",
       "\t MKD & North Macedonia           & 100 &   0.00 &   0.10 &   0.62 &   0.00 &   0.10 &   0.62\\\\\n",
       "\t MNE & Montenegro                & 100 &   0.00 &   0.00 &   0.53 &   0.00 &   0.00 &   0.53\\\\\n",
       "\t PRI & Puerto Rico               & 100 & 100.00 & 100.00 & 100.00 & 100.00 & 100.00 & 100.00\\\\\n",
       "\t PRK & North Korea               & 100 &  81.82 &  81.82 &  82.38 &  81.82 &  81.82 &  82.38\\\\\n",
       "\t SPM & Saint Pierre and Miquelon & 100 &   0.00 &   0.11 &   0.64 &   0.00 &   0.11 &   0.64\\\\\n",
       "\\end{tabular}\n"
      ],
      "text/markdown": [
       "\n",
       "A grouped_df: 10 × 9\n",
       "\n",
       "| iso_code &lt;chr&gt; | location &lt;chr&gt; | percentage_na_stringency_index &lt;dbl&gt; | percentage_na_total_cases &lt;dbl&gt; | percentage_na_new_cases &lt;dbl&gt; | percentage_na_new_cases_smoothed &lt;dbl&gt; | percentage_na_total_cases_per_million &lt;dbl&gt; | percentage_na_new_cases_per_million &lt;dbl&gt; | percentage_na_new_cases_smoothed_per_million &lt;dbl&gt; |\n",
       "|---|---|---|---|---|---|---|---|---|\n",
       "| ARM | Armenia                   | 100 |   2.72 |   3.22 |   3.73 |   2.72 |   3.22 |   3.73 |\n",
       "| ERI | Eritrea                   | 100 |   0.00 |   0.00 |   0.53 |   0.00 |   0.00 |   0.53 |\n",
       "| FLK | Falkland Islands          | 100 |   0.00 |   0.21 |   0.75 |   0.00 |   0.21 |   0.75 |\n",
       "| GNB | Guinea-Bissau             | 100 |   0.00 |   0.00 |   0.53 |   0.00 |   0.00 |   0.53 |\n",
       "| GNQ | Equatorial Guinea         | 100 |   0.00 |   0.11 |   0.63 |   0.00 |   0.11 |   0.63 |\n",
       "| MKD | North Macedonia           | 100 |   0.00 |   0.10 |   0.62 |   0.00 |   0.10 |   0.62 |\n",
       "| MNE | Montenegro                | 100 |   0.00 |   0.00 |   0.53 |   0.00 |   0.00 |   0.53 |\n",
       "| PRI | Puerto Rico               | 100 | 100.00 | 100.00 | 100.00 | 100.00 | 100.00 | 100.00 |\n",
       "| PRK | North Korea               | 100 |  81.82 |  81.82 |  82.38 |  81.82 |  81.82 |  82.38 |\n",
       "| SPM | Saint Pierre and Miquelon | 100 |   0.00 |   0.11 |   0.64 |   0.00 |   0.11 |   0.64 |\n",
       "\n"
      ],
      "text/plain": [
       "   iso_code location                  percentage_na_stringency_index\n",
       "1  ARM      Armenia                   100                           \n",
       "2  ERI      Eritrea                   100                           \n",
       "3  FLK      Falkland Islands          100                           \n",
       "4  GNB      Guinea-Bissau             100                           \n",
       "5  GNQ      Equatorial Guinea         100                           \n",
       "6  MKD      North Macedonia           100                           \n",
       "7  MNE      Montenegro                100                           \n",
       "8  PRI      Puerto Rico               100                           \n",
       "9  PRK      North Korea               100                           \n",
       "10 SPM      Saint Pierre and Miquelon 100                           \n",
       "   percentage_na_total_cases percentage_na_new_cases\n",
       "1    2.72                      3.22                 \n",
       "2    0.00                      0.00                 \n",
       "3    0.00                      0.21                 \n",
       "4    0.00                      0.00                 \n",
       "5    0.00                      0.11                 \n",
       "6    0.00                      0.10                 \n",
       "7    0.00                      0.00                 \n",
       "8  100.00                    100.00                 \n",
       "9   81.82                     81.82                 \n",
       "10   0.00                      0.11                 \n",
       "   percentage_na_new_cases_smoothed percentage_na_total_cases_per_million\n",
       "1    3.73                             2.72                               \n",
       "2    0.53                             0.00                               \n",
       "3    0.75                             0.00                               \n",
       "4    0.53                             0.00                               \n",
       "5    0.63                             0.00                               \n",
       "6    0.62                             0.00                               \n",
       "7    0.53                             0.00                               \n",
       "8  100.00                           100.00                               \n",
       "9   82.38                            81.82                               \n",
       "10   0.64                             0.00                               \n",
       "   percentage_na_new_cases_per_million\n",
       "1    3.22                             \n",
       "2    0.00                             \n",
       "3    0.21                             \n",
       "4    0.00                             \n",
       "5    0.11                             \n",
       "6    0.10                             \n",
       "7    0.00                             \n",
       "8  100.00                             \n",
       "9   81.82                             \n",
       "10   0.11                             \n",
       "   percentage_na_new_cases_smoothed_per_million\n",
       "1    3.73                                      \n",
       "2    0.53                                      \n",
       "3    0.75                                      \n",
       "4    0.53                                      \n",
       "5    0.63                                      \n",
       "6    0.62                                      \n",
       "7    0.53                                      \n",
       "8  100.00                                      \n",
       "9   82.38                                      \n",
       "10   0.64                                      "
      ]
     },
     "metadata": {},
     "output_type": "display_data"
    }
   ],
   "source": [
    "missing_daily_updated_variables <- \n",
    "    missing_data_count %>%\n",
    "    group_by(iso_code, location) %>%\n",
    "    transmute(percentage_na_stringency_index = round((stringency_index / observations) * 100, 2), # calculate the NA percentage of \"stringency_index\" per country\n",
    "              percentage_na_total_cases = round((total_cases / observations) * 100, 2), # calculate the NA percentage of \"total_cases\" per country\n",
    "              percentage_na_new_cases = round((new_cases / observations) * 100, 2), # calculate the NA percentage of \"new_cases\" per country\n",
    "              percentage_na_new_cases_smoothed = round((new_cases_smoothed / observations) * 100, 2), # calculate the NA percentage of \"new_cases_smoothed\" per country\n",
    "              percentage_na_total_cases_per_million = round((total_cases_per_million / observations) * 100, 2), # calculate the NA percentage of \"total_cases_per_million\" per country\n",
    "              percentage_na_new_cases_per_million = round((new_cases_per_million / observations) * 100, 2), # calculate the NA percentage of \"new_cases_per_million\" per country\n",
    "              percentage_na_new_cases_smoothed_per_million = round((new_cases_smoothed_per_million / observations) * 100, 2) # calculate the NA percentage of \"new_cases_smoothed_per_million\" per country\n",
    "          ) %>%\n",
    "    filter_if(is.double, any_vars(. > 10)) # filter for rows including any variables missing more than 10%\n",
    "missing_daily_updated_variables"
   ]
  },
  {
   "cell_type": "markdown",
   "id": "c085a572",
   "metadata": {},
   "source": [
    "Let's create a list iso codes from countries in `missing_fixed_variables` and `missing_daily_updated_variables`."
   ]
  },
  {
   "cell_type": "code",
   "execution_count": 23,
   "id": "cdbb9b2d",
   "metadata": {},
   "outputs": [
    {
     "name": "stdout",
     "output_type": "stream",
     "text": [
      "[1] \"We are missing high percentage of data from  16  countries\"\n"
     ]
    }
   ],
   "source": [
    "countries_to_drop <- \n",
    "    unique(c(missing_fixed_variables$iso_code, missing_daily_updated_variables$iso_code)) # unique list of \"iso_code\" from two grouped dataframes\n",
    "print(paste(\"We are missing high percentage of data from \", length(countries_to_drop), \" countries\")) # display the number of countries in countries_to_drop"
   ]
  },
  {
   "cell_type": "markdown",
   "id": "328b8d90",
   "metadata": {},
   "source": [
    "We will then drop rows that contain the 16 countries in `countries_to_drop`."
   ]
  },
  {
   "cell_type": "code",
   "execution_count": 24,
   "id": "c48d74ea",
   "metadata": {},
   "outputs": [
    {
     "data": {
      "text/html": [
       "<style>\n",
       ".list-inline {list-style: none; margin:0; padding: 0}\n",
       ".list-inline>li {display: inline-block}\n",
       ".list-inline>li:not(:last-child)::after {content: \"\\00b7\"; padding: 0 .5ex}\n",
       "</style>\n",
       "<ol class=list-inline><li>119009</li><li>24</li></ol>\n"
      ],
      "text/latex": [
       "\\begin{enumerate*}\n",
       "\\item 119009\n",
       "\\item 24\n",
       "\\end{enumerate*}\n"
      ],
      "text/markdown": [
       "1. 119009\n",
       "2. 24\n",
       "\n",
       "\n"
      ],
      "text/plain": [
       "[1] 119009     24"
      ]
     },
     "metadata": {},
     "output_type": "display_data"
    },
    {
     "data": {
      "text/html": [
       "<table class=\"dataframe\">\n",
       "<caption>A data.table: 6 × 24</caption>\n",
       "<thead>\n",
       "\t<tr><th scope=col>iso_code</th><th scope=col>continent</th><th scope=col>location</th><th scope=col>date</th><th scope=col>month</th><th scope=col>total_cases</th><th scope=col>new_cases</th><th scope=col>new_cases_smoothed</th><th scope=col>total_cases_per_million</th><th scope=col>new_cases_per_million</th><th scope=col>⋯</th><th scope=col>aged_65_older</th><th scope=col>aged_70_older</th><th scope=col>gdp_per_capita</th><th scope=col>cardiovasc_death_rate</th><th scope=col>diabetes_prevalence</th><th scope=col>life_expectancy</th><th scope=col>human_development_index</th><th scope=col>population</th><th scope=col>sunshine_hours_year</th><th scope=col>sunshine_hours_month</th></tr>\n",
       "\t<tr><th scope=col>&lt;chr&gt;</th><th scope=col>&lt;chr&gt;</th><th scope=col>&lt;chr&gt;</th><th scope=col>&lt;date&gt;</th><th scope=col>&lt;chr&gt;</th><th scope=col>&lt;dbl&gt;</th><th scope=col>&lt;dbl&gt;</th><th scope=col>&lt;dbl&gt;</th><th scope=col>&lt;dbl&gt;</th><th scope=col>&lt;dbl&gt;</th><th scope=col>⋯</th><th scope=col>&lt;dbl&gt;</th><th scope=col>&lt;dbl&gt;</th><th scope=col>&lt;dbl&gt;</th><th scope=col>&lt;dbl&gt;</th><th scope=col>&lt;dbl&gt;</th><th scope=col>&lt;dbl&gt;</th><th scope=col>&lt;dbl&gt;</th><th scope=col>&lt;dbl&gt;</th><th scope=col>&lt;dbl&gt;</th><th scope=col>&lt;dbl&gt;</th></tr>\n",
       "</thead>\n",
       "<tbody>\n",
       "\t<tr><td>AFG</td><td>Asia</td><td>Afghanistan</td><td>2020-02-24</td><td>Feb</td><td>5</td><td>5</td><td>   NA</td><td>0.125</td><td>0.125</td><td>⋯</td><td>2.581</td><td>1.337</td><td>1803.987</td><td>597.029</td><td>9.59</td><td>64.83</td><td>0.511</td><td>40099462</td><td>3175.1</td><td>178.6</td></tr>\n",
       "\t<tr><td>AFG</td><td>Asia</td><td>Afghanistan</td><td>2020-02-25</td><td>Feb</td><td>5</td><td>0</td><td>   NA</td><td>0.125</td><td>0.000</td><td>⋯</td><td>2.581</td><td>1.337</td><td>1803.987</td><td>597.029</td><td>9.59</td><td>64.83</td><td>0.511</td><td>40099462</td><td>3175.1</td><td>178.6</td></tr>\n",
       "\t<tr><td>AFG</td><td>Asia</td><td>Afghanistan</td><td>2020-02-26</td><td>Feb</td><td>5</td><td>0</td><td>   NA</td><td>0.125</td><td>0.000</td><td>⋯</td><td>2.581</td><td>1.337</td><td>1803.987</td><td>597.029</td><td>9.59</td><td>64.83</td><td>0.511</td><td>40099462</td><td>3175.1</td><td>178.6</td></tr>\n",
       "\t<tr><td>AFG</td><td>Asia</td><td>Afghanistan</td><td>2020-02-27</td><td>Feb</td><td>5</td><td>0</td><td>   NA</td><td>0.125</td><td>0.000</td><td>⋯</td><td>2.581</td><td>1.337</td><td>1803.987</td><td>597.029</td><td>9.59</td><td>64.83</td><td>0.511</td><td>40099462</td><td>3175.1</td><td>178.6</td></tr>\n",
       "\t<tr><td>AFG</td><td>Asia</td><td>Afghanistan</td><td>2020-02-28</td><td>Feb</td><td>5</td><td>0</td><td>   NA</td><td>0.125</td><td>0.000</td><td>⋯</td><td>2.581</td><td>1.337</td><td>1803.987</td><td>597.029</td><td>9.59</td><td>64.83</td><td>0.511</td><td>40099462</td><td>3175.1</td><td>178.6</td></tr>\n",
       "\t<tr><td>AFG</td><td>Asia</td><td>Afghanistan</td><td>2020-02-29</td><td>Feb</td><td>5</td><td>0</td><td>0.714</td><td>0.125</td><td>0.000</td><td>⋯</td><td>2.581</td><td>1.337</td><td>1803.987</td><td>597.029</td><td>9.59</td><td>64.83</td><td>0.511</td><td>40099462</td><td>3175.1</td><td>178.6</td></tr>\n",
       "</tbody>\n",
       "</table>\n"
      ],
      "text/latex": [
       "A data.table: 6 × 24\n",
       "\\begin{tabular}{lllllllllllllllllllll}\n",
       " iso\\_code & continent & location & date & month & total\\_cases & new\\_cases & new\\_cases\\_smoothed & total\\_cases\\_per\\_million & new\\_cases\\_per\\_million & ⋯ & aged\\_65\\_older & aged\\_70\\_older & gdp\\_per\\_capita & cardiovasc\\_death\\_rate & diabetes\\_prevalence & life\\_expectancy & human\\_development\\_index & population & sunshine\\_hours\\_year & sunshine\\_hours\\_month\\\\\n",
       " <chr> & <chr> & <chr> & <date> & <chr> & <dbl> & <dbl> & <dbl> & <dbl> & <dbl> & ⋯ & <dbl> & <dbl> & <dbl> & <dbl> & <dbl> & <dbl> & <dbl> & <dbl> & <dbl> & <dbl>\\\\\n",
       "\\hline\n",
       "\t AFG & Asia & Afghanistan & 2020-02-24 & Feb & 5 & 5 &    NA & 0.125 & 0.125 & ⋯ & 2.581 & 1.337 & 1803.987 & 597.029 & 9.59 & 64.83 & 0.511 & 40099462 & 3175.1 & 178.6\\\\\n",
       "\t AFG & Asia & Afghanistan & 2020-02-25 & Feb & 5 & 0 &    NA & 0.125 & 0.000 & ⋯ & 2.581 & 1.337 & 1803.987 & 597.029 & 9.59 & 64.83 & 0.511 & 40099462 & 3175.1 & 178.6\\\\\n",
       "\t AFG & Asia & Afghanistan & 2020-02-26 & Feb & 5 & 0 &    NA & 0.125 & 0.000 & ⋯ & 2.581 & 1.337 & 1803.987 & 597.029 & 9.59 & 64.83 & 0.511 & 40099462 & 3175.1 & 178.6\\\\\n",
       "\t AFG & Asia & Afghanistan & 2020-02-27 & Feb & 5 & 0 &    NA & 0.125 & 0.000 & ⋯ & 2.581 & 1.337 & 1803.987 & 597.029 & 9.59 & 64.83 & 0.511 & 40099462 & 3175.1 & 178.6\\\\\n",
       "\t AFG & Asia & Afghanistan & 2020-02-28 & Feb & 5 & 0 &    NA & 0.125 & 0.000 & ⋯ & 2.581 & 1.337 & 1803.987 & 597.029 & 9.59 & 64.83 & 0.511 & 40099462 & 3175.1 & 178.6\\\\\n",
       "\t AFG & Asia & Afghanistan & 2020-02-29 & Feb & 5 & 0 & 0.714 & 0.125 & 0.000 & ⋯ & 2.581 & 1.337 & 1803.987 & 597.029 & 9.59 & 64.83 & 0.511 & 40099462 & 3175.1 & 178.6\\\\\n",
       "\\end{tabular}\n"
      ],
      "text/markdown": [
       "\n",
       "A data.table: 6 × 24\n",
       "\n",
       "| iso_code &lt;chr&gt; | continent &lt;chr&gt; | location &lt;chr&gt; | date &lt;date&gt; | month &lt;chr&gt; | total_cases &lt;dbl&gt; | new_cases &lt;dbl&gt; | new_cases_smoothed &lt;dbl&gt; | total_cases_per_million &lt;dbl&gt; | new_cases_per_million &lt;dbl&gt; | ⋯ ⋯ | aged_65_older &lt;dbl&gt; | aged_70_older &lt;dbl&gt; | gdp_per_capita &lt;dbl&gt; | cardiovasc_death_rate &lt;dbl&gt; | diabetes_prevalence &lt;dbl&gt; | life_expectancy &lt;dbl&gt; | human_development_index &lt;dbl&gt; | population &lt;dbl&gt; | sunshine_hours_year &lt;dbl&gt; | sunshine_hours_month &lt;dbl&gt; |\n",
       "|---|---|---|---|---|---|---|---|---|---|---|---|---|---|---|---|---|---|---|---|---|\n",
       "| AFG | Asia | Afghanistan | 2020-02-24 | Feb | 5 | 5 |    NA | 0.125 | 0.125 | ⋯ | 2.581 | 1.337 | 1803.987 | 597.029 | 9.59 | 64.83 | 0.511 | 40099462 | 3175.1 | 178.6 |\n",
       "| AFG | Asia | Afghanistan | 2020-02-25 | Feb | 5 | 0 |    NA | 0.125 | 0.000 | ⋯ | 2.581 | 1.337 | 1803.987 | 597.029 | 9.59 | 64.83 | 0.511 | 40099462 | 3175.1 | 178.6 |\n",
       "| AFG | Asia | Afghanistan | 2020-02-26 | Feb | 5 | 0 |    NA | 0.125 | 0.000 | ⋯ | 2.581 | 1.337 | 1803.987 | 597.029 | 9.59 | 64.83 | 0.511 | 40099462 | 3175.1 | 178.6 |\n",
       "| AFG | Asia | Afghanistan | 2020-02-27 | Feb | 5 | 0 |    NA | 0.125 | 0.000 | ⋯ | 2.581 | 1.337 | 1803.987 | 597.029 | 9.59 | 64.83 | 0.511 | 40099462 | 3175.1 | 178.6 |\n",
       "| AFG | Asia | Afghanistan | 2020-02-28 | Feb | 5 | 0 |    NA | 0.125 | 0.000 | ⋯ | 2.581 | 1.337 | 1803.987 | 597.029 | 9.59 | 64.83 | 0.511 | 40099462 | 3175.1 | 178.6 |\n",
       "| AFG | Asia | Afghanistan | 2020-02-29 | Feb | 5 | 0 | 0.714 | 0.125 | 0.000 | ⋯ | 2.581 | 1.337 | 1803.987 | 597.029 | 9.59 | 64.83 | 0.511 | 40099462 | 3175.1 | 178.6 |\n",
       "\n"
      ],
      "text/plain": [
       "  iso_code continent location    date       month total_cases new_cases\n",
       "1 AFG      Asia      Afghanistan 2020-02-24 Feb   5           5        \n",
       "2 AFG      Asia      Afghanistan 2020-02-25 Feb   5           0        \n",
       "3 AFG      Asia      Afghanistan 2020-02-26 Feb   5           0        \n",
       "4 AFG      Asia      Afghanistan 2020-02-27 Feb   5           0        \n",
       "5 AFG      Asia      Afghanistan 2020-02-28 Feb   5           0        \n",
       "6 AFG      Asia      Afghanistan 2020-02-29 Feb   5           0        \n",
       "  new_cases_smoothed total_cases_per_million new_cases_per_million ⋯\n",
       "1    NA              0.125                   0.125                 ⋯\n",
       "2    NA              0.125                   0.000                 ⋯\n",
       "3    NA              0.125                   0.000                 ⋯\n",
       "4    NA              0.125                   0.000                 ⋯\n",
       "5    NA              0.125                   0.000                 ⋯\n",
       "6 0.714              0.125                   0.000                 ⋯\n",
       "  aged_65_older aged_70_older gdp_per_capita cardiovasc_death_rate\n",
       "1 2.581         1.337         1803.987       597.029              \n",
       "2 2.581         1.337         1803.987       597.029              \n",
       "3 2.581         1.337         1803.987       597.029              \n",
       "4 2.581         1.337         1803.987       597.029              \n",
       "5 2.581         1.337         1803.987       597.029              \n",
       "6 2.581         1.337         1803.987       597.029              \n",
       "  diabetes_prevalence life_expectancy human_development_index population\n",
       "1 9.59                64.83           0.511                   40099462  \n",
       "2 9.59                64.83           0.511                   40099462  \n",
       "3 9.59                64.83           0.511                   40099462  \n",
       "4 9.59                64.83           0.511                   40099462  \n",
       "5 9.59                64.83           0.511                   40099462  \n",
       "6 9.59                64.83           0.511                   40099462  \n",
       "  sunshine_hours_year sunshine_hours_month\n",
       "1 3175.1              178.6               \n",
       "2 3175.1              178.6               \n",
       "3 3175.1              178.6               \n",
       "4 3175.1              178.6               \n",
       "5 3175.1              178.6               \n",
       "6 3175.1              178.6               "
      ]
     },
     "metadata": {},
     "output_type": "display_data"
    }
   ],
   "source": [
    "countries_removed <-\n",
    "    columns_removed[which(columns_removed$iso_code %in% countries_to_drop == FALSE)] # remove countries from countries_to_drop\n",
    "dim(countries_removed) # display the dimension of countries_removed\n",
    "head(countries_removed) # check the first few rows"
   ]
  },
  {
   "cell_type": "markdown",
   "id": "f7f786f9",
   "metadata": {},
   "source": [
    "Following removal of missing data in relation to countries, we will also inspect the daily updated variables in relation to dates.<br>\n",
    "First we will create a table for number of observations per date."
   ]
  },
  {
   "cell_type": "code",
   "execution_count": 25,
   "id": "b93ba2e4",
   "metadata": {},
   "outputs": [
    {
     "data": {
      "text/html": [
       "<table class=\"dataframe\">\n",
       "<caption>A data.table: 6 × 2</caption>\n",
       "<thead>\n",
       "\t<tr><th scope=col>date</th><th scope=col>observations</th></tr>\n",
       "\t<tr><th scope=col>&lt;date&gt;</th><th scope=col>&lt;int&gt;</th></tr>\n",
       "</thead>\n",
       "<tbody>\n",
       "\t<tr><td>2020-01-01</td><td>2</td></tr>\n",
       "\t<tr><td>2020-01-02</td><td>2</td></tr>\n",
       "\t<tr><td>2020-01-03</td><td>2</td></tr>\n",
       "\t<tr><td>2020-01-04</td><td>3</td></tr>\n",
       "\t<tr><td>2020-01-05</td><td>3</td></tr>\n",
       "\t<tr><td>2020-01-06</td><td>6</td></tr>\n",
       "</tbody>\n",
       "</table>\n"
      ],
      "text/latex": [
       "A data.table: 6 × 2\n",
       "\\begin{tabular}{ll}\n",
       " date & observations\\\\\n",
       " <date> & <int>\\\\\n",
       "\\hline\n",
       "\t 2020-01-01 & 2\\\\\n",
       "\t 2020-01-02 & 2\\\\\n",
       "\t 2020-01-03 & 2\\\\\n",
       "\t 2020-01-04 & 3\\\\\n",
       "\t 2020-01-05 & 3\\\\\n",
       "\t 2020-01-06 & 6\\\\\n",
       "\\end{tabular}\n"
      ],
      "text/markdown": [
       "\n",
       "A data.table: 6 × 2\n",
       "\n",
       "| date &lt;date&gt; | observations &lt;int&gt; |\n",
       "|---|---|\n",
       "| 2020-01-01 | 2 |\n",
       "| 2020-01-02 | 2 |\n",
       "| 2020-01-03 | 2 |\n",
       "| 2020-01-04 | 3 |\n",
       "| 2020-01-05 | 3 |\n",
       "| 2020-01-06 | 6 |\n",
       "\n"
      ],
      "text/plain": [
       "  date       observations\n",
       "1 2020-01-01 2           \n",
       "2 2020-01-02 2           \n",
       "3 2020-01-03 2           \n",
       "4 2020-01-04 3           \n",
       "5 2020-01-05 3           \n",
       "6 2020-01-06 6           "
      ]
     },
     "metadata": {},
     "output_type": "display_data"
    }
   ],
   "source": [
    "observations_per_date <- \n",
    "    columns_removed %>% \n",
    "    count(date) # count the number of observations per date\n",
    "colnames(observations_per_date)[2] <- \"observations\" # rename the column that shows the number of observations\n",
    "head(observations_per_date) # check the first few rows"
   ]
  },
  {
   "cell_type": "markdown",
   "id": "2ee3e377",
   "metadata": {},
   "source": [
    "We will calculate the median of observations per date, and create a plot to determine a cut off point for the start date."
   ]
  },
  {
   "cell_type": "code",
   "execution_count": 26,
   "id": "eeba6e4c",
   "metadata": {},
   "outputs": [
    {
     "name": "stdout",
     "output_type": "stream",
     "text": [
      "[1] \"Median value of observations per date is 139\"\n"
     ]
    },
    {
     "data": {
      "image/png": "[encoded data removed]",
      "text/plain": [
       "plot without title"
      ]
     },
     "metadata": {
      "image/png": {
       "height": 420,
       "width": 420
      }
     },
     "output_type": "display_data"
    }
   ],
   "source": [
    "print(paste(\"Median value of observations per date is\", median(observations_per_date$observations))) # display the median number of observations\n",
    "ggplot(observations_per_date, aes(x = date, y = observations)) + \n",
    "    geom_line(colour = \"#7294D4\", size = 2, alpha = 0.5) + # create a line plot\n",
    "    geom_vline(xintercept = as.Date(\"2020-04-01\", \"%Y-%m-%d\"), size = 1, linetype = \"dashed\") # draw a line at 2020-04-01"
   ]
  },
  {
   "cell_type": "markdown",
   "id": "01d651cc",
   "metadata": {},
   "source": [
    "The plot shows an increase in the number of observations in early 2020 till it reaches the median value of 139.<br>\n",
    "This is because the countries were starting to collect the data in the first quarter of 2020.<br>\n",
    "We will set the start date of this dataset to `2020-04-01` where the dashed line is."
   ]
  },
  {
   "cell_type": "markdown",
   "id": "f2d970f4",
   "metadata": {},
   "source": [
    "In order to determine the end date of this dataset, we will first create a table showing the count of missing data per variable per date.<br>\n",
    "We're skipping `per_million` variables since they are calculated from `total_cases`, `new_cases`, and `new_cases_smoothed`."
   ]
  },
  {
   "cell_type": "code",
   "execution_count": 27,
   "id": "f6e4ce51",
   "metadata": {
    "scrolled": true
   },
   "outputs": [
    {
     "data": {
      "text/html": [
       "<style>\n",
       ".list-inline {list-style: none; margin:0; padding: 0}\n",
       ".list-inline>li {display: inline-block}\n",
       ".list-inline>li:not(:last-child)::after {content: \"\\00b7\"; padding: 0 .5ex}\n",
       "</style>\n",
       "<ol class=list-inline><li>1026</li><li>6</li></ol>\n"
      ],
      "text/latex": [
       "\\begin{enumerate*}\n",
       "\\item 1026\n",
       "\\item 6\n",
       "\\end{enumerate*}\n"
      ],
      "text/markdown": [
       "1. 1026\n",
       "2. 6\n",
       "\n",
       "\n"
      ],
      "text/plain": [
       "[1] 1026    6"
      ]
     },
     "metadata": {},
     "output_type": "display_data"
    },
    {
     "data": {
      "text/html": [
       "<table class=\"dataframe\">\n",
       "<caption>A grouped_df: 6 × 6</caption>\n",
       "<thead>\n",
       "\t<tr><th scope=col>date</th><th scope=col>month</th><th scope=col>total_cases</th><th scope=col>new_cases</th><th scope=col>new_cases_smoothed</th><th scope=col>stringency_index</th></tr>\n",
       "\t<tr><th scope=col>&lt;date&gt;</th><th scope=col>&lt;chr&gt;</th><th scope=col>&lt;int&gt;</th><th scope=col>&lt;int&gt;</th><th scope=col>&lt;int&gt;</th><th scope=col>&lt;int&gt;</th></tr>\n",
       "</thead>\n",
       "<tbody>\n",
       "\t<tr><td>2020-01-01</td><td>Jan</td><td>2</td><td>2</td><td>2</td><td>2</td></tr>\n",
       "\t<tr><td>2020-01-02</td><td>Jan</td><td>2</td><td>2</td><td>2</td><td>2</td></tr>\n",
       "\t<tr><td>2020-01-03</td><td>Jan</td><td>2</td><td>2</td><td>2</td><td>2</td></tr>\n",
       "\t<tr><td>2020-01-04</td><td>Jan</td><td>3</td><td>3</td><td>3</td><td>3</td></tr>\n",
       "\t<tr><td>2020-01-05</td><td>Jan</td><td>3</td><td>3</td><td>3</td><td>3</td></tr>\n",
       "\t<tr><td>2020-01-06</td><td>Jan</td><td>6</td><td>6</td><td>6</td><td>6</td></tr>\n",
       "</tbody>\n",
       "</table>\n"
      ],
      "text/latex": [
       "A grouped\\_df: 6 × 6\n",
       "\\begin{tabular}{llllll}\n",
       " date & month & total\\_cases & new\\_cases & new\\_cases\\_smoothed & stringency\\_index\\\\\n",
       " <date> & <chr> & <int> & <int> & <int> & <int>\\\\\n",
       "\\hline\n",
       "\t 2020-01-01 & Jan & 2 & 2 & 2 & 2\\\\\n",
       "\t 2020-01-02 & Jan & 2 & 2 & 2 & 2\\\\\n",
       "\t 2020-01-03 & Jan & 2 & 2 & 2 & 2\\\\\n",
       "\t 2020-01-04 & Jan & 3 & 3 & 3 & 3\\\\\n",
       "\t 2020-01-05 & Jan & 3 & 3 & 3 & 3\\\\\n",
       "\t 2020-01-06 & Jan & 6 & 6 & 6 & 6\\\\\n",
       "\\end{tabular}\n"
      ],
      "text/markdown": [
       "\n",
       "A grouped_df: 6 × 6\n",
       "\n",
       "| date &lt;date&gt; | month &lt;chr&gt; | total_cases &lt;int&gt; | new_cases &lt;int&gt; | new_cases_smoothed &lt;int&gt; | stringency_index &lt;int&gt; |\n",
       "|---|---|---|---|---|---|\n",
       "| 2020-01-01 | Jan | 2 | 2 | 2 | 2 |\n",
       "| 2020-01-02 | Jan | 2 | 2 | 2 | 2 |\n",
       "| 2020-01-03 | Jan | 2 | 2 | 2 | 2 |\n",
       "| 2020-01-04 | Jan | 3 | 3 | 3 | 3 |\n",
       "| 2020-01-05 | Jan | 3 | 3 | 3 | 3 |\n",
       "| 2020-01-06 | Jan | 6 | 6 | 6 | 6 |\n",
       "\n"
      ],
      "text/plain": [
       "  date       month total_cases new_cases new_cases_smoothed stringency_index\n",
       "1 2020-01-01 Jan   2           2         2                  2               \n",
       "2 2020-01-02 Jan   2           2         2                  2               \n",
       "3 2020-01-03 Jan   2           2         2                  2               \n",
       "4 2020-01-04 Jan   3           3         3                  3               \n",
       "5 2020-01-05 Jan   3           3         3                  3               \n",
       "6 2020-01-06 Jan   6           6         6                  6               "
      ]
     },
     "metadata": {},
     "output_type": "display_data"
    }
   ],
   "source": [
    "daily_na <-\n",
    "    countries_removed %>%\n",
    "    select(date, month, total_cases, new_cases, new_cases_smoothed, stringency_index) %>% # select daily updated variables without \"per_million\"\n",
    "    group_by(date, month) %>% # group by \"date\" and \"month\"\n",
    "    summarise_if(is.double, function(x) sum(is.na(x))) # for numerical columns, show sum of NAs\n",
    "dim(daily_na) # display the dimension of daily_na\n",
    "head(daily_na) # check the first few rows"
   ]
  },
  {
   "cell_type": "markdown",
   "id": "39c5694f",
   "metadata": {},
   "source": [
    "Let's check the data from the last month (October 2022)."
   ]
  },
  {
   "cell_type": "code",
   "execution_count": 28,
   "id": "eecdd5ab",
   "metadata": {},
   "outputs": [
    {
     "data": {
      "text/html": [
       "<table class=\"dataframe\">\n",
       "<caption>A grouped_df: 22 × 6</caption>\n",
       "<thead>\n",
       "\t<tr><th scope=col>date</th><th scope=col>month</th><th scope=col>total_cases</th><th scope=col>new_cases</th><th scope=col>new_cases_smoothed</th><th scope=col>stringency_index</th></tr>\n",
       "\t<tr><th scope=col>&lt;date&gt;</th><th scope=col>&lt;chr&gt;</th><th scope=col>&lt;int&gt;</th><th scope=col>&lt;int&gt;</th><th scope=col>&lt;int&gt;</th><th scope=col>&lt;int&gt;</th></tr>\n",
       "</thead>\n",
       "<tbody>\n",
       "\t<tr><td>2022-10-01</td><td>Oct</td><td>0</td><td> 0</td><td> 0</td><td> 28</td></tr>\n",
       "\t<tr><td>2022-10-02</td><td>Oct</td><td>0</td><td> 0</td><td> 0</td><td> 28</td></tr>\n",
       "\t<tr><td>2022-10-03</td><td>Oct</td><td>0</td><td> 0</td><td> 0</td><td> 32</td></tr>\n",
       "\t<tr><td>2022-10-04</td><td>Oct</td><td>0</td><td> 0</td><td> 0</td><td> 41</td></tr>\n",
       "\t<tr><td>2022-10-05</td><td>Oct</td><td>0</td><td> 0</td><td> 0</td><td> 45</td></tr>\n",
       "\t<tr><td>2022-10-06</td><td>Oct</td><td>0</td><td> 0</td><td> 0</td><td>123</td></tr>\n",
       "\t<tr><td>2022-10-07</td><td>Oct</td><td>0</td><td> 0</td><td> 0</td><td>123</td></tr>\n",
       "\t<tr><td>2022-10-08</td><td>Oct</td><td>0</td><td> 0</td><td> 0</td><td>123</td></tr>\n",
       "\t<tr><td>2022-10-09</td><td>Oct</td><td>0</td><td> 0</td><td> 0</td><td>123</td></tr>\n",
       "\t<tr><td>2022-10-10</td><td>Oct</td><td>0</td><td> 0</td><td> 0</td><td>123</td></tr>\n",
       "\t<tr><td>2022-10-11</td><td>Oct</td><td>0</td><td> 1</td><td> 1</td><td>123</td></tr>\n",
       "\t<tr><td>2022-10-12</td><td>Oct</td><td>0</td><td> 0</td><td> 0</td><td>123</td></tr>\n",
       "\t<tr><td>2022-10-13</td><td>Oct</td><td>0</td><td> 0</td><td> 0</td><td>123</td></tr>\n",
       "\t<tr><td>2022-10-14</td><td>Oct</td><td>0</td><td> 0</td><td> 0</td><td>123</td></tr>\n",
       "\t<tr><td>2022-10-15</td><td>Oct</td><td>0</td><td> 0</td><td> 0</td><td>123</td></tr>\n",
       "\t<tr><td>2022-10-16</td><td>Oct</td><td>0</td><td> 0</td><td> 0</td><td>123</td></tr>\n",
       "\t<tr><td>2022-10-17</td><td>Oct</td><td>0</td><td> 1</td><td> 1</td><td>123</td></tr>\n",
       "\t<tr><td>2022-10-18</td><td>Oct</td><td>0</td><td> 5</td><td> 5</td><td>123</td></tr>\n",
       "\t<tr><td>2022-10-19</td><td>Oct</td><td>0</td><td> 9</td><td> 9</td><td>123</td></tr>\n",
       "\t<tr><td>2022-10-20</td><td>Oct</td><td>0</td><td>13</td><td>13</td><td>123</td></tr>\n",
       "\t<tr><td>2022-10-21</td><td>Oct</td><td>0</td><td>22</td><td>22</td><td>123</td></tr>\n",
       "\t<tr><td>2022-10-22</td><td>Oct</td><td>0</td><td>35</td><td>35</td><td>123</td></tr>\n",
       "</tbody>\n",
       "</table>\n"
      ],
      "text/latex": [
       "A grouped\\_df: 22 × 6\n",
       "\\begin{tabular}{llllll}\n",
       " date & month & total\\_cases & new\\_cases & new\\_cases\\_smoothed & stringency\\_index\\\\\n",
       " <date> & <chr> & <int> & <int> & <int> & <int>\\\\\n",
       "\\hline\n",
       "\t 2022-10-01 & Oct & 0 &  0 &  0 &  28\\\\\n",
       "\t 2022-10-02 & Oct & 0 &  0 &  0 &  28\\\\\n",
       "\t 2022-10-03 & Oct & 0 &  0 &  0 &  32\\\\\n",
       "\t 2022-10-04 & Oct & 0 &  0 &  0 &  41\\\\\n",
       "\t 2022-10-05 & Oct & 0 &  0 &  0 &  45\\\\\n",
       "\t 2022-10-06 & Oct & 0 &  0 &  0 & 123\\\\\n",
       "\t 2022-10-07 & Oct & 0 &  0 &  0 & 123\\\\\n",
       "\t 2022-10-08 & Oct & 0 &  0 &  0 & 123\\\\\n",
       "\t 2022-10-09 & Oct & 0 &  0 &  0 & 123\\\\\n",
       "\t 2022-10-10 & Oct & 0 &  0 &  0 & 123\\\\\n",
       "\t 2022-10-11 & Oct & 0 &  1 &  1 & 123\\\\\n",
       "\t 2022-10-12 & Oct & 0 &  0 &  0 & 123\\\\\n",
       "\t 2022-10-13 & Oct & 0 &  0 &  0 & 123\\\\\n",
       "\t 2022-10-14 & Oct & 0 &  0 &  0 & 123\\\\\n",
       "\t 2022-10-15 & Oct & 0 &  0 &  0 & 123\\\\\n",
       "\t 2022-10-16 & Oct & 0 &  0 &  0 & 123\\\\\n",
       "\t 2022-10-17 & Oct & 0 &  1 &  1 & 123\\\\\n",
       "\t 2022-10-18 & Oct & 0 &  5 &  5 & 123\\\\\n",
       "\t 2022-10-19 & Oct & 0 &  9 &  9 & 123\\\\\n",
       "\t 2022-10-20 & Oct & 0 & 13 & 13 & 123\\\\\n",
       "\t 2022-10-21 & Oct & 0 & 22 & 22 & 123\\\\\n",
       "\t 2022-10-22 & Oct & 0 & 35 & 35 & 123\\\\\n",
       "\\end{tabular}\n"
      ],
      "text/markdown": [
       "\n",
       "A grouped_df: 22 × 6\n",
       "\n",
       "| date &lt;date&gt; | month &lt;chr&gt; | total_cases &lt;int&gt; | new_cases &lt;int&gt; | new_cases_smoothed &lt;int&gt; | stringency_index &lt;int&gt; |\n",
       "|---|---|---|---|---|---|\n",
       "| 2022-10-01 | Oct | 0 |  0 |  0 |  28 |\n",
       "| 2022-10-02 | Oct | 0 |  0 |  0 |  28 |\n",
       "| 2022-10-03 | Oct | 0 |  0 |  0 |  32 |\n",
       "| 2022-10-04 | Oct | 0 |  0 |  0 |  41 |\n",
       "| 2022-10-05 | Oct | 0 |  0 |  0 |  45 |\n",
       "| 2022-10-06 | Oct | 0 |  0 |  0 | 123 |\n",
       "| 2022-10-07 | Oct | 0 |  0 |  0 | 123 |\n",
       "| 2022-10-08 | Oct | 0 |  0 |  0 | 123 |\n",
       "| 2022-10-09 | Oct | 0 |  0 |  0 | 123 |\n",
       "| 2022-10-10 | Oct | 0 |  0 |  0 | 123 |\n",
       "| 2022-10-11 | Oct | 0 |  1 |  1 | 123 |\n",
       "| 2022-10-12 | Oct | 0 |  0 |  0 | 123 |\n",
       "| 2022-10-13 | Oct | 0 |  0 |  0 | 123 |\n",
       "| 2022-10-14 | Oct | 0 |  0 |  0 | 123 |\n",
       "| 2022-10-15 | Oct | 0 |  0 |  0 | 123 |\n",
       "| 2022-10-16 | Oct | 0 |  0 |  0 | 123 |\n",
       "| 2022-10-17 | Oct | 0 |  1 |  1 | 123 |\n",
       "| 2022-10-18 | Oct | 0 |  5 |  5 | 123 |\n",
       "| 2022-10-19 | Oct | 0 |  9 |  9 | 123 |\n",
       "| 2022-10-20 | Oct | 0 | 13 | 13 | 123 |\n",
       "| 2022-10-21 | Oct | 0 | 22 | 22 | 123 |\n",
       "| 2022-10-22 | Oct | 0 | 35 | 35 | 123 |\n",
       "\n"
      ],
      "text/plain": [
       "   date       month total_cases new_cases new_cases_smoothed stringency_index\n",
       "1  2022-10-01 Oct   0            0         0                  28             \n",
       "2  2022-10-02 Oct   0            0         0                  28             \n",
       "3  2022-10-03 Oct   0            0         0                  32             \n",
       "4  2022-10-04 Oct   0            0         0                  41             \n",
       "5  2022-10-05 Oct   0            0         0                  45             \n",
       "6  2022-10-06 Oct   0            0         0                 123             \n",
       "7  2022-10-07 Oct   0            0         0                 123             \n",
       "8  2022-10-08 Oct   0            0         0                 123             \n",
       "9  2022-10-09 Oct   0            0         0                 123             \n",
       "10 2022-10-10 Oct   0            0         0                 123             \n",
       "11 2022-10-11 Oct   0            1         1                 123             \n",
       "12 2022-10-12 Oct   0            0         0                 123             \n",
       "13 2022-10-13 Oct   0            0         0                 123             \n",
       "14 2022-10-14 Oct   0            0         0                 123             \n",
       "15 2022-10-15 Oct   0            0         0                 123             \n",
       "16 2022-10-16 Oct   0            0         0                 123             \n",
       "17 2022-10-17 Oct   0            1         1                 123             \n",
       "18 2022-10-18 Oct   0            5         5                 123             \n",
       "19 2022-10-19 Oct   0            9         9                 123             \n",
       "20 2022-10-20 Oct   0           13        13                 123             \n",
       "21 2022-10-21 Oct   0           22        22                 123             \n",
       "22 2022-10-22 Oct   0           35        35                 123             "
      ]
     },
     "metadata": {},
     "output_type": "display_data"
    }
   ],
   "source": [
    "daily_na %>%\n",
    "    filter(date >= as.Date(\"2022-10-01\", \"%Y-%m-%d\")) # filter for dates in October 2022"
   ]
  },
  {
   "cell_type": "markdown",
   "id": "4f9609cc",
   "metadata": {},
   "source": [
    "We can see that the number of missing `stringency_index` increases before the number of missing `new_cases` and `new_cases_smoothed`.<br>\n",
    "We will create a plot to determine a cut off point for the end date."
   ]
  },
  {
   "cell_type": "code",
   "execution_count": 29,
   "id": "2ca892e1",
   "metadata": {},
   "outputs": [
    {
     "data": {
      "image/png": "[encoded data removed]",
      "text/plain": [
       "plot without title"
      ]
     },
     "metadata": {
      "image/png": {
       "height": 420,
       "width": 420
      }
     },
     "output_type": "display_data"
    }
   ],
   "source": [
    "daily_na %>%\n",
    "    filter(date >= as.Date(\"2022-10-01\", \"%Y-%m-%d\")) %>% # filter for data in October 2022\n",
    "    ggplot() + \n",
    "    geom_point(aes(x = date, y = new_cases), size = 3, color = \"#E6A0C4\") + # plot the missing number of \"new_cases\"\n",
    "    geom_point(aes(x = date, y = stringency_index), size = 3, color = \"#7294D4\") + # plot the missing number of \"stringency_index\"\n",
    "    geom_vline(xintercept = as.Date(\"2022-10-06\", \"%Y-%m-%d\"), size = 1, linetype = \"dashed\") + # draw a line at 2022-10-06\n",
    "    geom_vline(xintercept = as.Date(\"2022-10-18\", \"%Y-%m-%d\"), size = 1, linetype = \"dashed\") + # draw a line at 2022-10-18\n",
    "    ylab(\"count of na\")"
   ]
  },
  {
   "cell_type": "markdown",
   "id": "eddf194a",
   "metadata": {},
   "source": [
    "Although the number of missing `stringency_index` increases around `2022-10-06`, the number of missing `new_cases` doesn't start to increase till around `2022-10-18`. <br>We will set the start date of this dataset to `2022-10-18` and inpute the missing data for `stringency_index`.<br>\n",
    "From `countries_removed` let's drop rows from dates before `2020-04-01` and after `2022-10-18`."
   ]
  },
  {
   "cell_type": "code",
   "execution_count": 30,
   "id": "feb36846",
   "metadata": {},
   "outputs": [
    {
     "data": {
      "text/html": [
       "<style>\n",
       ".list-inline {list-style: none; margin:0; padding: 0}\n",
       ".list-inline>li {display: inline-block}\n",
       ".list-inline>li:not(:last-child)::after {content: \"\\00b7\"; padding: 0 .5ex}\n",
       "</style>\n",
       "<ol class=list-inline><li>114319</li><li>24</li></ol>\n"
      ],
      "text/latex": [
       "\\begin{enumerate*}\n",
       "\\item 114319\n",
       "\\item 24\n",
       "\\end{enumerate*}\n"
      ],
      "text/markdown": [
       "1. 114319\n",
       "2. 24\n",
       "\n",
       "\n"
      ],
      "text/plain": [
       "[1] 114319     24"
      ]
     },
     "metadata": {},
     "output_type": "display_data"
    },
    {
     "data": {
      "text/html": [
       "<table class=\"dataframe\">\n",
       "<caption>A data.table: 6 × 24</caption>\n",
       "<thead>\n",
       "\t<tr><th scope=col>iso_code</th><th scope=col>continent</th><th scope=col>location</th><th scope=col>date</th><th scope=col>month</th><th scope=col>total_cases</th><th scope=col>new_cases</th><th scope=col>new_cases_smoothed</th><th scope=col>total_cases_per_million</th><th scope=col>new_cases_per_million</th><th scope=col>⋯</th><th scope=col>aged_65_older</th><th scope=col>aged_70_older</th><th scope=col>gdp_per_capita</th><th scope=col>cardiovasc_death_rate</th><th scope=col>diabetes_prevalence</th><th scope=col>life_expectancy</th><th scope=col>human_development_index</th><th scope=col>population</th><th scope=col>sunshine_hours_year</th><th scope=col>sunshine_hours_month</th></tr>\n",
       "\t<tr><th scope=col>&lt;chr&gt;</th><th scope=col>&lt;chr&gt;</th><th scope=col>&lt;chr&gt;</th><th scope=col>&lt;date&gt;</th><th scope=col>&lt;chr&gt;</th><th scope=col>&lt;dbl&gt;</th><th scope=col>&lt;dbl&gt;</th><th scope=col>&lt;dbl&gt;</th><th scope=col>&lt;dbl&gt;</th><th scope=col>&lt;dbl&gt;</th><th scope=col>⋯</th><th scope=col>&lt;dbl&gt;</th><th scope=col>&lt;dbl&gt;</th><th scope=col>&lt;dbl&gt;</th><th scope=col>&lt;dbl&gt;</th><th scope=col>&lt;dbl&gt;</th><th scope=col>&lt;dbl&gt;</th><th scope=col>&lt;dbl&gt;</th><th scope=col>&lt;dbl&gt;</th><th scope=col>&lt;dbl&gt;</th><th scope=col>&lt;dbl&gt;</th></tr>\n",
       "</thead>\n",
       "<tbody>\n",
       "\t<tr><td>AFG</td><td>Asia</td><td>Afghanistan</td><td>2020-04-01</td><td>Apr</td><td>192</td><td>26</td><td>16.857</td><td>4.788</td><td>0.648</td><td>⋯</td><td>2.581</td><td>1.337</td><td>1803.987</td><td>597.029</td><td>9.59</td><td>64.83</td><td>0.511</td><td>40099462</td><td>3175.1</td><td>232.5</td></tr>\n",
       "\t<tr><td>AFG</td><td>Asia</td><td>Afghanistan</td><td>2020-04-02</td><td>Apr</td><td>235</td><td>43</td><td>22.143</td><td>5.860</td><td>1.072</td><td>⋯</td><td>2.581</td><td>1.337</td><td>1803.987</td><td>597.029</td><td>9.59</td><td>64.83</td><td>0.511</td><td>40099462</td><td>3175.1</td><td>232.5</td></tr>\n",
       "\t<tr><td>AFG</td><td>Asia</td><td>Afghanistan</td><td>2020-04-03</td><td>Apr</td><td>269</td><td>34</td><td>25.429</td><td>6.708</td><td>0.848</td><td>⋯</td><td>2.581</td><td>1.337</td><td>1803.987</td><td>597.029</td><td>9.59</td><td>64.83</td><td>0.511</td><td>40099462</td><td>3175.1</td><td>232.5</td></tr>\n",
       "\t<tr><td>AFG</td><td>Asia</td><td>Afghanistan</td><td>2020-04-04</td><td>Apr</td><td>270</td><td> 1</td><td>23.429</td><td>6.733</td><td>0.025</td><td>⋯</td><td>2.581</td><td>1.337</td><td>1803.987</td><td>597.029</td><td>9.59</td><td>64.83</td><td>0.511</td><td>40099462</td><td>3175.1</td><td>232.5</td></tr>\n",
       "\t<tr><td>AFG</td><td>Asia</td><td>Afghanistan</td><td>2020-04-05</td><td>Apr</td><td>299</td><td>29</td><td>26.429</td><td>7.456</td><td>0.723</td><td>⋯</td><td>2.581</td><td>1.337</td><td>1803.987</td><td>597.029</td><td>9.59</td><td>64.83</td><td>0.511</td><td>40099462</td><td>3175.1</td><td>232.5</td></tr>\n",
       "\t<tr><td>AFG</td><td>Asia</td><td>Afghanistan</td><td>2020-04-06</td><td>Apr</td><td>337</td><td>38</td><td>31.857</td><td>8.404</td><td>0.948</td><td>⋯</td><td>2.581</td><td>1.337</td><td>1803.987</td><td>597.029</td><td>9.59</td><td>64.83</td><td>0.511</td><td>40099462</td><td>3175.1</td><td>232.5</td></tr>\n",
       "</tbody>\n",
       "</table>\n"
      ],
      "text/latex": [
       "A data.table: 6 × 24\n",
       "\\begin{tabular}{lllllllllllllllllllll}\n",
       " iso\\_code & continent & location & date & month & total\\_cases & new\\_cases & new\\_cases\\_smoothed & total\\_cases\\_per\\_million & new\\_cases\\_per\\_million & ⋯ & aged\\_65\\_older & aged\\_70\\_older & gdp\\_per\\_capita & cardiovasc\\_death\\_rate & diabetes\\_prevalence & life\\_expectancy & human\\_development\\_index & population & sunshine\\_hours\\_year & sunshine\\_hours\\_month\\\\\n",
       " <chr> & <chr> & <chr> & <date> & <chr> & <dbl> & <dbl> & <dbl> & <dbl> & <dbl> & ⋯ & <dbl> & <dbl> & <dbl> & <dbl> & <dbl> & <dbl> & <dbl> & <dbl> & <dbl> & <dbl>\\\\\n",
       "\\hline\n",
       "\t AFG & Asia & Afghanistan & 2020-04-01 & Apr & 192 & 26 & 16.857 & 4.788 & 0.648 & ⋯ & 2.581 & 1.337 & 1803.987 & 597.029 & 9.59 & 64.83 & 0.511 & 40099462 & 3175.1 & 232.5\\\\\n",
       "\t AFG & Asia & Afghanistan & 2020-04-02 & Apr & 235 & 43 & 22.143 & 5.860 & 1.072 & ⋯ & 2.581 & 1.337 & 1803.987 & 597.029 & 9.59 & 64.83 & 0.511 & 40099462 & 3175.1 & 232.5\\\\\n",
       "\t AFG & Asia & Afghanistan & 2020-04-03 & Apr & 269 & 34 & 25.429 & 6.708 & 0.848 & ⋯ & 2.581 & 1.337 & 1803.987 & 597.029 & 9.59 & 64.83 & 0.511 & 40099462 & 3175.1 & 232.5\\\\\n",
       "\t AFG & Asia & Afghanistan & 2020-04-04 & Apr & 270 &  1 & 23.429 & 6.733 & 0.025 & ⋯ & 2.581 & 1.337 & 1803.987 & 597.029 & 9.59 & 64.83 & 0.511 & 40099462 & 3175.1 & 232.5\\\\\n",
       "\t AFG & Asia & Afghanistan & 2020-04-05 & Apr & 299 & 29 & 26.429 & 7.456 & 0.723 & ⋯ & 2.581 & 1.337 & 1803.987 & 597.029 & 9.59 & 64.83 & 0.511 & 40099462 & 3175.1 & 232.5\\\\\n",
       "\t AFG & Asia & Afghanistan & 2020-04-06 & Apr & 337 & 38 & 31.857 & 8.404 & 0.948 & ⋯ & 2.581 & 1.337 & 1803.987 & 597.029 & 9.59 & 64.83 & 0.511 & 40099462 & 3175.1 & 232.5\\\\\n",
       "\\end{tabular}\n"
      ],
      "text/markdown": [
       "\n",
       "A data.table: 6 × 24\n",
       "\n",
       "| iso_code &lt;chr&gt; | continent &lt;chr&gt; | location &lt;chr&gt; | date &lt;date&gt; | month &lt;chr&gt; | total_cases &lt;dbl&gt; | new_cases &lt;dbl&gt; | new_cases_smoothed &lt;dbl&gt; | total_cases_per_million &lt;dbl&gt; | new_cases_per_million &lt;dbl&gt; | ⋯ ⋯ | aged_65_older &lt;dbl&gt; | aged_70_older &lt;dbl&gt; | gdp_per_capita &lt;dbl&gt; | cardiovasc_death_rate &lt;dbl&gt; | diabetes_prevalence &lt;dbl&gt; | life_expectancy &lt;dbl&gt; | human_development_index &lt;dbl&gt; | population &lt;dbl&gt; | sunshine_hours_year &lt;dbl&gt; | sunshine_hours_month &lt;dbl&gt; |\n",
       "|---|---|---|---|---|---|---|---|---|---|---|---|---|---|---|---|---|---|---|---|---|\n",
       "| AFG | Asia | Afghanistan | 2020-04-01 | Apr | 192 | 26 | 16.857 | 4.788 | 0.648 | ⋯ | 2.581 | 1.337 | 1803.987 | 597.029 | 9.59 | 64.83 | 0.511 | 40099462 | 3175.1 | 232.5 |\n",
       "| AFG | Asia | Afghanistan | 2020-04-02 | Apr | 235 | 43 | 22.143 | 5.860 | 1.072 | ⋯ | 2.581 | 1.337 | 1803.987 | 597.029 | 9.59 | 64.83 | 0.511 | 40099462 | 3175.1 | 232.5 |\n",
       "| AFG | Asia | Afghanistan | 2020-04-03 | Apr | 269 | 34 | 25.429 | 6.708 | 0.848 | ⋯ | 2.581 | 1.337 | 1803.987 | 597.029 | 9.59 | 64.83 | 0.511 | 40099462 | 3175.1 | 232.5 |\n",
       "| AFG | Asia | Afghanistan | 2020-04-04 | Apr | 270 |  1 | 23.429 | 6.733 | 0.025 | ⋯ | 2.581 | 1.337 | 1803.987 | 597.029 | 9.59 | 64.83 | 0.511 | 40099462 | 3175.1 | 232.5 |\n",
       "| AFG | Asia | Afghanistan | 2020-04-05 | Apr | 299 | 29 | 26.429 | 7.456 | 0.723 | ⋯ | 2.581 | 1.337 | 1803.987 | 597.029 | 9.59 | 64.83 | 0.511 | 40099462 | 3175.1 | 232.5 |\n",
       "| AFG | Asia | Afghanistan | 2020-04-06 | Apr | 337 | 38 | 31.857 | 8.404 | 0.948 | ⋯ | 2.581 | 1.337 | 1803.987 | 597.029 | 9.59 | 64.83 | 0.511 | 40099462 | 3175.1 | 232.5 |\n",
       "\n"
      ],
      "text/plain": [
       "  iso_code continent location    date       month total_cases new_cases\n",
       "1 AFG      Asia      Afghanistan 2020-04-01 Apr   192         26       \n",
       "2 AFG      Asia      Afghanistan 2020-04-02 Apr   235         43       \n",
       "3 AFG      Asia      Afghanistan 2020-04-03 Apr   269         34       \n",
       "4 AFG      Asia      Afghanistan 2020-04-04 Apr   270          1       \n",
       "5 AFG      Asia      Afghanistan 2020-04-05 Apr   299         29       \n",
       "6 AFG      Asia      Afghanistan 2020-04-06 Apr   337         38       \n",
       "  new_cases_smoothed total_cases_per_million new_cases_per_million ⋯\n",
       "1 16.857             4.788                   0.648                 ⋯\n",
       "2 22.143             5.860                   1.072                 ⋯\n",
       "3 25.429             6.708                   0.848                 ⋯\n",
       "4 23.429             6.733                   0.025                 ⋯\n",
       "5 26.429             7.456                   0.723                 ⋯\n",
       "6 31.857             8.404                   0.948                 ⋯\n",
       "  aged_65_older aged_70_older gdp_per_capita cardiovasc_death_rate\n",
       "1 2.581         1.337         1803.987       597.029              \n",
       "2 2.581         1.337         1803.987       597.029              \n",
       "3 2.581         1.337         1803.987       597.029              \n",
       "4 2.581         1.337         1803.987       597.029              \n",
       "5 2.581         1.337         1803.987       597.029              \n",
       "6 2.581         1.337         1803.987       597.029              \n",
       "  diabetes_prevalence life_expectancy human_development_index population\n",
       "1 9.59                64.83           0.511                   40099462  \n",
       "2 9.59                64.83           0.511                   40099462  \n",
       "3 9.59                64.83           0.511                   40099462  \n",
       "4 9.59                64.83           0.511                   40099462  \n",
       "5 9.59                64.83           0.511                   40099462  \n",
       "6 9.59                64.83           0.511                   40099462  \n",
       "  sunshine_hours_year sunshine_hours_month\n",
       "1 3175.1              232.5               \n",
       "2 3175.1              232.5               \n",
       "3 3175.1              232.5               \n",
       "4 3175.1              232.5               \n",
       "5 3175.1              232.5               \n",
       "6 3175.1              232.5               "
      ]
     },
     "metadata": {},
     "output_type": "display_data"
    },
    {
     "data": {
      "text/html": [
       "<table class=\"dataframe\">\n",
       "<caption>A data.table: 6 × 24</caption>\n",
       "<thead>\n",
       "\t<tr><th scope=col>iso_code</th><th scope=col>continent</th><th scope=col>location</th><th scope=col>date</th><th scope=col>month</th><th scope=col>total_cases</th><th scope=col>new_cases</th><th scope=col>new_cases_smoothed</th><th scope=col>total_cases_per_million</th><th scope=col>new_cases_per_million</th><th scope=col>⋯</th><th scope=col>aged_65_older</th><th scope=col>aged_70_older</th><th scope=col>gdp_per_capita</th><th scope=col>cardiovasc_death_rate</th><th scope=col>diabetes_prevalence</th><th scope=col>life_expectancy</th><th scope=col>human_development_index</th><th scope=col>population</th><th scope=col>sunshine_hours_year</th><th scope=col>sunshine_hours_month</th></tr>\n",
       "\t<tr><th scope=col>&lt;chr&gt;</th><th scope=col>&lt;chr&gt;</th><th scope=col>&lt;chr&gt;</th><th scope=col>&lt;date&gt;</th><th scope=col>&lt;chr&gt;</th><th scope=col>&lt;dbl&gt;</th><th scope=col>&lt;dbl&gt;</th><th scope=col>&lt;dbl&gt;</th><th scope=col>&lt;dbl&gt;</th><th scope=col>&lt;dbl&gt;</th><th scope=col>⋯</th><th scope=col>&lt;dbl&gt;</th><th scope=col>&lt;dbl&gt;</th><th scope=col>&lt;dbl&gt;</th><th scope=col>&lt;dbl&gt;</th><th scope=col>&lt;dbl&gt;</th><th scope=col>&lt;dbl&gt;</th><th scope=col>&lt;dbl&gt;</th><th scope=col>&lt;dbl&gt;</th><th scope=col>&lt;dbl&gt;</th><th scope=col>&lt;dbl&gt;</th></tr>\n",
       "</thead>\n",
       "<tbody>\n",
       "\t<tr><td>ZWE</td><td>Africa</td><td>Zimbabwe</td><td>2022-10-13</td><td>Oct</td><td>257827</td><td>29</td><td>24.571</td><td>16120.71</td><td>1.813</td><td>⋯</td><td>2.822</td><td>1.882</td><td>1899.775</td><td>307.846</td><td>1.82</td><td>61.49</td><td>0.571</td><td>15993524</td><td>3065.4</td><td>279</td></tr>\n",
       "\t<tr><td>ZWE</td><td>Africa</td><td>Zimbabwe</td><td>2022-10-14</td><td>Oct</td><td>257827</td><td> 0</td><td>24.571</td><td>16120.71</td><td>0.000</td><td>⋯</td><td>2.822</td><td>1.882</td><td>1899.775</td><td>307.846</td><td>1.82</td><td>61.49</td><td>0.571</td><td>15993524</td><td>3065.4</td><td>279</td></tr>\n",
       "\t<tr><td>ZWE</td><td>Africa</td><td>Zimbabwe</td><td>2022-10-15</td><td>Oct</td><td>257827</td><td> 0</td><td>24.571</td><td>16120.71</td><td>0.000</td><td>⋯</td><td>2.822</td><td>1.882</td><td>1899.775</td><td>307.846</td><td>1.82</td><td>61.49</td><td>0.571</td><td>15993524</td><td>3065.4</td><td>279</td></tr>\n",
       "\t<tr><td>ZWE</td><td>Africa</td><td>Zimbabwe</td><td>2022-10-16</td><td>Oct</td><td>257893</td><td>66</td><td>34.000</td><td>16124.84</td><td>4.127</td><td>⋯</td><td>2.822</td><td>1.882</td><td>1899.775</td><td>307.846</td><td>1.82</td><td>61.49</td><td>0.571</td><td>15993524</td><td>3065.4</td><td>279</td></tr>\n",
       "\t<tr><td>ZWE</td><td>Africa</td><td>Zimbabwe</td><td>2022-10-17</td><td>Oct</td><td>257893</td><td> 0</td><td>20.571</td><td>16124.84</td><td>0.000</td><td>⋯</td><td>2.822</td><td>1.882</td><td>1899.775</td><td>307.846</td><td>1.82</td><td>61.49</td><td>0.571</td><td>15993524</td><td>3065.4</td><td>279</td></tr>\n",
       "\t<tr><td>ZWE</td><td>Africa</td><td>Zimbabwe</td><td>2022-10-18</td><td>Oct</td><td>257893</td><td> 0</td><td>20.571</td><td>16124.84</td><td>0.000</td><td>⋯</td><td>2.822</td><td>1.882</td><td>1899.775</td><td>307.846</td><td>1.82</td><td>61.49</td><td>0.571</td><td>15993524</td><td>3065.4</td><td>279</td></tr>\n",
       "</tbody>\n",
       "</table>\n"
      ],
      "text/latex": [
       "A data.table: 6 × 24\n",
       "\\begin{tabular}{lllllllllllllllllllll}\n",
       " iso\\_code & continent & location & date & month & total\\_cases & new\\_cases & new\\_cases\\_smoothed & total\\_cases\\_per\\_million & new\\_cases\\_per\\_million & ⋯ & aged\\_65\\_older & aged\\_70\\_older & gdp\\_per\\_capita & cardiovasc\\_death\\_rate & diabetes\\_prevalence & life\\_expectancy & human\\_development\\_index & population & sunshine\\_hours\\_year & sunshine\\_hours\\_month\\\\\n",
       " <chr> & <chr> & <chr> & <date> & <chr> & <dbl> & <dbl> & <dbl> & <dbl> & <dbl> & ⋯ & <dbl> & <dbl> & <dbl> & <dbl> & <dbl> & <dbl> & <dbl> & <dbl> & <dbl> & <dbl>\\\\\n",
       "\\hline\n",
       "\t ZWE & Africa & Zimbabwe & 2022-10-13 & Oct & 257827 & 29 & 24.571 & 16120.71 & 1.813 & ⋯ & 2.822 & 1.882 & 1899.775 & 307.846 & 1.82 & 61.49 & 0.571 & 15993524 & 3065.4 & 279\\\\\n",
       "\t ZWE & Africa & Zimbabwe & 2022-10-14 & Oct & 257827 &  0 & 24.571 & 16120.71 & 0.000 & ⋯ & 2.822 & 1.882 & 1899.775 & 307.846 & 1.82 & 61.49 & 0.571 & 15993524 & 3065.4 & 279\\\\\n",
       "\t ZWE & Africa & Zimbabwe & 2022-10-15 & Oct & 257827 &  0 & 24.571 & 16120.71 & 0.000 & ⋯ & 2.822 & 1.882 & 1899.775 & 307.846 & 1.82 & 61.49 & 0.571 & 15993524 & 3065.4 & 279\\\\\n",
       "\t ZWE & Africa & Zimbabwe & 2022-10-16 & Oct & 257893 & 66 & 34.000 & 16124.84 & 4.127 & ⋯ & 2.822 & 1.882 & 1899.775 & 307.846 & 1.82 & 61.49 & 0.571 & 15993524 & 3065.4 & 279\\\\\n",
       "\t ZWE & Africa & Zimbabwe & 2022-10-17 & Oct & 257893 &  0 & 20.571 & 16124.84 & 0.000 & ⋯ & 2.822 & 1.882 & 1899.775 & 307.846 & 1.82 & 61.49 & 0.571 & 15993524 & 3065.4 & 279\\\\\n",
       "\t ZWE & Africa & Zimbabwe & 2022-10-18 & Oct & 257893 &  0 & 20.571 & 16124.84 & 0.000 & ⋯ & 2.822 & 1.882 & 1899.775 & 307.846 & 1.82 & 61.49 & 0.571 & 15993524 & 3065.4 & 279\\\\\n",
       "\\end{tabular}\n"
      ],
      "text/markdown": [
       "\n",
       "A data.table: 6 × 24\n",
       "\n",
       "| iso_code &lt;chr&gt; | continent &lt;chr&gt; | location &lt;chr&gt; | date &lt;date&gt; | month &lt;chr&gt; | total_cases &lt;dbl&gt; | new_cases &lt;dbl&gt; | new_cases_smoothed &lt;dbl&gt; | total_cases_per_million &lt;dbl&gt; | new_cases_per_million &lt;dbl&gt; | ⋯ ⋯ | aged_65_older &lt;dbl&gt; | aged_70_older &lt;dbl&gt; | gdp_per_capita &lt;dbl&gt; | cardiovasc_death_rate &lt;dbl&gt; | diabetes_prevalence &lt;dbl&gt; | life_expectancy &lt;dbl&gt; | human_development_index &lt;dbl&gt; | population &lt;dbl&gt; | sunshine_hours_year &lt;dbl&gt; | sunshine_hours_month &lt;dbl&gt; |\n",
       "|---|---|---|---|---|---|---|---|---|---|---|---|---|---|---|---|---|---|---|---|---|\n",
       "| ZWE | Africa | Zimbabwe | 2022-10-13 | Oct | 257827 | 29 | 24.571 | 16120.71 | 1.813 | ⋯ | 2.822 | 1.882 | 1899.775 | 307.846 | 1.82 | 61.49 | 0.571 | 15993524 | 3065.4 | 279 |\n",
       "| ZWE | Africa | Zimbabwe | 2022-10-14 | Oct | 257827 |  0 | 24.571 | 16120.71 | 0.000 | ⋯ | 2.822 | 1.882 | 1899.775 | 307.846 | 1.82 | 61.49 | 0.571 | 15993524 | 3065.4 | 279 |\n",
       "| ZWE | Africa | Zimbabwe | 2022-10-15 | Oct | 257827 |  0 | 24.571 | 16120.71 | 0.000 | ⋯ | 2.822 | 1.882 | 1899.775 | 307.846 | 1.82 | 61.49 | 0.571 | 15993524 | 3065.4 | 279 |\n",
       "| ZWE | Africa | Zimbabwe | 2022-10-16 | Oct | 257893 | 66 | 34.000 | 16124.84 | 4.127 | ⋯ | 2.822 | 1.882 | 1899.775 | 307.846 | 1.82 | 61.49 | 0.571 | 15993524 | 3065.4 | 279 |\n",
       "| ZWE | Africa | Zimbabwe | 2022-10-17 | Oct | 257893 |  0 | 20.571 | 16124.84 | 0.000 | ⋯ | 2.822 | 1.882 | 1899.775 | 307.846 | 1.82 | 61.49 | 0.571 | 15993524 | 3065.4 | 279 |\n",
       "| ZWE | Africa | Zimbabwe | 2022-10-18 | Oct | 257893 |  0 | 20.571 | 16124.84 | 0.000 | ⋯ | 2.822 | 1.882 | 1899.775 | 307.846 | 1.82 | 61.49 | 0.571 | 15993524 | 3065.4 | 279 |\n",
       "\n"
      ],
      "text/plain": [
       "  iso_code continent location date       month total_cases new_cases\n",
       "1 ZWE      Africa    Zimbabwe 2022-10-13 Oct   257827      29       \n",
       "2 ZWE      Africa    Zimbabwe 2022-10-14 Oct   257827       0       \n",
       "3 ZWE      Africa    Zimbabwe 2022-10-15 Oct   257827       0       \n",
       "4 ZWE      Africa    Zimbabwe 2022-10-16 Oct   257893      66       \n",
       "5 ZWE      Africa    Zimbabwe 2022-10-17 Oct   257893       0       \n",
       "6 ZWE      Africa    Zimbabwe 2022-10-18 Oct   257893       0       \n",
       "  new_cases_smoothed total_cases_per_million new_cases_per_million ⋯\n",
       "1 24.571             16120.71                1.813                 ⋯\n",
       "2 24.571             16120.71                0.000                 ⋯\n",
       "3 24.571             16120.71                0.000                 ⋯\n",
       "4 34.000             16124.84                4.127                 ⋯\n",
       "5 20.571             16124.84                0.000                 ⋯\n",
       "6 20.571             16124.84                0.000                 ⋯\n",
       "  aged_65_older aged_70_older gdp_per_capita cardiovasc_death_rate\n",
       "1 2.822         1.882         1899.775       307.846              \n",
       "2 2.822         1.882         1899.775       307.846              \n",
       "3 2.822         1.882         1899.775       307.846              \n",
       "4 2.822         1.882         1899.775       307.846              \n",
       "5 2.822         1.882         1899.775       307.846              \n",
       "6 2.822         1.882         1899.775       307.846              \n",
       "  diabetes_prevalence life_expectancy human_development_index population\n",
       "1 1.82                61.49           0.571                   15993524  \n",
       "2 1.82                61.49           0.571                   15993524  \n",
       "3 1.82                61.49           0.571                   15993524  \n",
       "4 1.82                61.49           0.571                   15993524  \n",
       "5 1.82                61.49           0.571                   15993524  \n",
       "6 1.82                61.49           0.571                   15993524  \n",
       "  sunshine_hours_year sunshine_hours_month\n",
       "1 3065.4              279                 \n",
       "2 3065.4              279                 \n",
       "3 3065.4              279                 \n",
       "4 3065.4              279                 \n",
       "5 3065.4              279                 \n",
       "6 3065.4              279                 "
      ]
     },
     "metadata": {},
     "output_type": "display_data"
    }
   ],
   "source": [
    "dates_removed <-\n",
    "    countries_removed[which(countries_removed$date >= as.Date(\"2020-04-01\", \"%Y-%m-%d\") & countries_removed$date <= as.Date(\"2022-10-18\", \"%Y-%m-%d\"))] # remove the rows from dates before the start date and after the end date\n",
    "dim(dates_removed) # display the dimension of dates_removed\n",
    "head(dates_removed) # check the first few rows\n",
    "tail(dates_removed) # check the last few rows"
   ]
  },
  {
   "cell_type": "markdown",
   "id": "fb4a6109",
   "metadata": {},
   "source": [
    "### 1.4.4 Imputation<a name=\"p1.4.4\"></a>"
   ]
  },
  {
   "cell_type": "markdown",
   "id": "d0424cb4",
   "metadata": {},
   "source": [
    "In this part we will impute the rest of the missing data.<br>\n",
    "First we will check the number of remaining missing data per variable."
   ]
  },
  {
   "cell_type": "code",
   "execution_count": 31,
   "id": "291c65d0",
   "metadata": {},
   "outputs": [
    {
     "data": {
      "text/html": [
       "<table class=\"dataframe\">\n",
       "<caption>A data.frame: 24 × 1</caption>\n",
       "<thead>\n",
       "\t<tr><th></th><th scope=col>colSums.is.na.dates_removed..</th></tr>\n",
       "\t<tr><th></th><th scope=col>&lt;dbl&gt;</th></tr>\n",
       "</thead>\n",
       "<tbody>\n",
       "\t<tr><th scope=row>iso_code</th><td>   0</td></tr>\n",
       "\t<tr><th scope=row>continent</th><td>   0</td></tr>\n",
       "\t<tr><th scope=row>location</th><td>   0</td></tr>\n",
       "\t<tr><th scope=row>date</th><td>   0</td></tr>\n",
       "\t<tr><th scope=row>month</th><td>   0</td></tr>\n",
       "\t<tr><th scope=row>total_cases</th><td>   1</td></tr>\n",
       "\t<tr><th scope=row>new_cases</th><td> 105</td></tr>\n",
       "\t<tr><th scope=row>new_cases_smoothed</th><td> 147</td></tr>\n",
       "\t<tr><th scope=row>total_cases_per_million</th><td>   1</td></tr>\n",
       "\t<tr><th scope=row>new_cases_per_million</th><td> 105</td></tr>\n",
       "\t<tr><th scope=row>new_cases_smoothed_per_million</th><td> 147</td></tr>\n",
       "\t<tr><th scope=row>stringency_index</th><td>2011</td></tr>\n",
       "\t<tr><th scope=row>population_density</th><td>   0</td></tr>\n",
       "\t<tr><th scope=row>median_age</th><td>   0</td></tr>\n",
       "\t<tr><th scope=row>aged_65_older</th><td>   0</td></tr>\n",
       "\t<tr><th scope=row>aged_70_older</th><td>   0</td></tr>\n",
       "\t<tr><th scope=row>gdp_per_capita</th><td>   0</td></tr>\n",
       "\t<tr><th scope=row>cardiovasc_death_rate</th><td>   0</td></tr>\n",
       "\t<tr><th scope=row>diabetes_prevalence</th><td>   0</td></tr>\n",
       "\t<tr><th scope=row>life_expectancy</th><td>   0</td></tr>\n",
       "\t<tr><th scope=row>human_development_index</th><td>   0</td></tr>\n",
       "\t<tr><th scope=row>population</th><td>   0</td></tr>\n",
       "\t<tr><th scope=row>sunshine_hours_year</th><td>   0</td></tr>\n",
       "\t<tr><th scope=row>sunshine_hours_month</th><td>   0</td></tr>\n",
       "</tbody>\n",
       "</table>\n"
      ],
      "text/latex": [
       "A data.frame: 24 × 1\n",
       "\\begin{tabular}{r|l}\n",
       "  & colSums.is.na.dates\\_removed..\\\\\n",
       "  & <dbl>\\\\\n",
       "\\hline\n",
       "\tiso\\_code &    0\\\\\n",
       "\tcontinent &    0\\\\\n",
       "\tlocation &    0\\\\\n",
       "\tdate &    0\\\\\n",
       "\tmonth &    0\\\\\n",
       "\ttotal\\_cases &    1\\\\\n",
       "\tnew\\_cases &  105\\\\\n",
       "\tnew\\_cases\\_smoothed &  147\\\\\n",
       "\ttotal\\_cases\\_per\\_million &    1\\\\\n",
       "\tnew\\_cases\\_per\\_million &  105\\\\\n",
       "\tnew\\_cases\\_smoothed\\_per\\_million &  147\\\\\n",
       "\tstringency\\_index & 2011\\\\\n",
       "\tpopulation\\_density &    0\\\\\n",
       "\tmedian\\_age &    0\\\\\n",
       "\taged\\_65\\_older &    0\\\\\n",
       "\taged\\_70\\_older &    0\\\\\n",
       "\tgdp\\_per\\_capita &    0\\\\\n",
       "\tcardiovasc\\_death\\_rate &    0\\\\\n",
       "\tdiabetes\\_prevalence &    0\\\\\n",
       "\tlife\\_expectancy &    0\\\\\n",
       "\thuman\\_development\\_index &    0\\\\\n",
       "\tpopulation &    0\\\\\n",
       "\tsunshine\\_hours\\_year &    0\\\\\n",
       "\tsunshine\\_hours\\_month &    0\\\\\n",
       "\\end{tabular}\n"
      ],
      "text/markdown": [
       "\n",
       "A data.frame: 24 × 1\n",
       "\n",
       "| <!--/--> | colSums.is.na.dates_removed.. &lt;dbl&gt; |\n",
       "|---|---|\n",
       "| iso_code |    0 |\n",
       "| continent |    0 |\n",
       "| location |    0 |\n",
       "| date |    0 |\n",
       "| month |    0 |\n",
       "| total_cases |    1 |\n",
       "| new_cases |  105 |\n",
       "| new_cases_smoothed |  147 |\n",
       "| total_cases_per_million |    1 |\n",
       "| new_cases_per_million |  105 |\n",
       "| new_cases_smoothed_per_million |  147 |\n",
       "| stringency_index | 2011 |\n",
       "| population_density |    0 |\n",
       "| median_age |    0 |\n",
       "| aged_65_older |    0 |\n",
       "| aged_70_older |    0 |\n",
       "| gdp_per_capita |    0 |\n",
       "| cardiovasc_death_rate |    0 |\n",
       "| diabetes_prevalence |    0 |\n",
       "| life_expectancy |    0 |\n",
       "| human_development_index |    0 |\n",
       "| population |    0 |\n",
       "| sunshine_hours_year |    0 |\n",
       "| sunshine_hours_month |    0 |\n",
       "\n"
      ],
      "text/plain": [
       "                               colSums.is.na.dates_removed..\n",
       "iso_code                          0                         \n",
       "continent                         0                         \n",
       "location                          0                         \n",
       "date                              0                         \n",
       "month                             0                         \n",
       "total_cases                       1                         \n",
       "new_cases                       105                         \n",
       "new_cases_smoothed              147                         \n",
       "total_cases_per_million           1                         \n",
       "new_cases_per_million           105                         \n",
       "new_cases_smoothed_per_million  147                         \n",
       "stringency_index               2011                         \n",
       "population_density                0                         \n",
       "median_age                        0                         \n",
       "aged_65_older                     0                         \n",
       "aged_70_older                     0                         \n",
       "gdp_per_capita                    0                         \n",
       "cardiovasc_death_rate             0                         \n",
       "diabetes_prevalence               0                         \n",
       "life_expectancy                   0                         \n",
       "human_development_index           0                         \n",
       "population                        0                         \n",
       "sunshine_hours_year               0                         \n",
       "sunshine_hours_month              0                         "
      ]
     },
     "metadata": {},
     "output_type": "display_data"
    }
   ],
   "source": [
    "data.frame(colSums(is.na(dates_removed))) # create a dataframe of sum of NA per column"
   ]
  },
  {
   "cell_type": "markdown",
   "id": "4631ee8b",
   "metadata": {},
   "source": [
    "We can see that all the missing data are in daily updated variables, and there are now no missing data in fixed variables.<br>\n",
    "We will first use LOCF (last observation carried forward) technique to fill in the missing data with the data that was observed the day before."
   ]
  },
  {
   "cell_type": "code",
   "execution_count": 32,
   "id": "be5bdafd",
   "metadata": {},
   "outputs": [
    {
     "data": {
      "text/html": [
       "<style>\n",
       ".list-inline {list-style: none; margin:0; padding: 0}\n",
       ".list-inline>li {display: inline-block}\n",
       ".list-inline>li:not(:last-child)::after {content: \"\\00b7\"; padding: 0 .5ex}\n",
       "</style>\n",
       "<ol class=list-inline><li>114319</li><li>24</li></ol>\n"
      ],
      "text/latex": [
       "\\begin{enumerate*}\n",
       "\\item 114319\n",
       "\\item 24\n",
       "\\end{enumerate*}\n"
      ],
      "text/markdown": [
       "1. 114319\n",
       "2. 24\n",
       "\n",
       "\n"
      ],
      "text/plain": [
       "[1] 114319     24"
      ]
     },
     "metadata": {},
     "output_type": "display_data"
    },
    {
     "data": {
      "text/html": [
       "<table class=\"dataframe\">\n",
       "<caption>A grouped_df: 6 × 24</caption>\n",
       "<thead>\n",
       "\t<tr><th scope=col>iso_code</th><th scope=col>continent</th><th scope=col>location</th><th scope=col>date</th><th scope=col>month</th><th scope=col>total_cases</th><th scope=col>new_cases</th><th scope=col>new_cases_smoothed</th><th scope=col>total_cases_per_million</th><th scope=col>new_cases_per_million</th><th scope=col>⋯</th><th scope=col>aged_65_older</th><th scope=col>aged_70_older</th><th scope=col>gdp_per_capita</th><th scope=col>cardiovasc_death_rate</th><th scope=col>diabetes_prevalence</th><th scope=col>life_expectancy</th><th scope=col>human_development_index</th><th scope=col>population</th><th scope=col>sunshine_hours_year</th><th scope=col>sunshine_hours_month</th></tr>\n",
       "\t<tr><th scope=col>&lt;chr&gt;</th><th scope=col>&lt;chr&gt;</th><th scope=col>&lt;chr&gt;</th><th scope=col>&lt;date&gt;</th><th scope=col>&lt;chr&gt;</th><th scope=col>&lt;dbl&gt;</th><th scope=col>&lt;dbl&gt;</th><th scope=col>&lt;dbl&gt;</th><th scope=col>&lt;dbl&gt;</th><th scope=col>&lt;dbl&gt;</th><th scope=col>⋯</th><th scope=col>&lt;dbl&gt;</th><th scope=col>&lt;dbl&gt;</th><th scope=col>&lt;dbl&gt;</th><th scope=col>&lt;dbl&gt;</th><th scope=col>&lt;dbl&gt;</th><th scope=col>&lt;dbl&gt;</th><th scope=col>&lt;dbl&gt;</th><th scope=col>&lt;dbl&gt;</th><th scope=col>&lt;dbl&gt;</th><th scope=col>&lt;dbl&gt;</th></tr>\n",
       "</thead>\n",
       "<tbody>\n",
       "\t<tr><td>AFG</td><td>Asia</td><td>Afghanistan</td><td>2020-04-01</td><td>Apr</td><td>192</td><td>26</td><td>16.857</td><td>4.788</td><td>0.648</td><td>⋯</td><td>2.581</td><td>1.337</td><td>1803.987</td><td>597.029</td><td>9.59</td><td>64.83</td><td>0.511</td><td>40099462</td><td>3175.1</td><td>232.5</td></tr>\n",
       "\t<tr><td>AFG</td><td>Asia</td><td>Afghanistan</td><td>2020-04-02</td><td>Apr</td><td>235</td><td>43</td><td>22.143</td><td>5.860</td><td>1.072</td><td>⋯</td><td>2.581</td><td>1.337</td><td>1803.987</td><td>597.029</td><td>9.59</td><td>64.83</td><td>0.511</td><td>40099462</td><td>3175.1</td><td>232.5</td></tr>\n",
       "\t<tr><td>AFG</td><td>Asia</td><td>Afghanistan</td><td>2020-04-03</td><td>Apr</td><td>269</td><td>34</td><td>25.429</td><td>6.708</td><td>0.848</td><td>⋯</td><td>2.581</td><td>1.337</td><td>1803.987</td><td>597.029</td><td>9.59</td><td>64.83</td><td>0.511</td><td>40099462</td><td>3175.1</td><td>232.5</td></tr>\n",
       "\t<tr><td>AFG</td><td>Asia</td><td>Afghanistan</td><td>2020-04-04</td><td>Apr</td><td>270</td><td> 1</td><td>23.429</td><td>6.733</td><td>0.025</td><td>⋯</td><td>2.581</td><td>1.337</td><td>1803.987</td><td>597.029</td><td>9.59</td><td>64.83</td><td>0.511</td><td>40099462</td><td>3175.1</td><td>232.5</td></tr>\n",
       "\t<tr><td>AFG</td><td>Asia</td><td>Afghanistan</td><td>2020-04-05</td><td>Apr</td><td>299</td><td>29</td><td>26.429</td><td>7.456</td><td>0.723</td><td>⋯</td><td>2.581</td><td>1.337</td><td>1803.987</td><td>597.029</td><td>9.59</td><td>64.83</td><td>0.511</td><td>40099462</td><td>3175.1</td><td>232.5</td></tr>\n",
       "\t<tr><td>AFG</td><td>Asia</td><td>Afghanistan</td><td>2020-04-06</td><td>Apr</td><td>337</td><td>38</td><td>31.857</td><td>8.404</td><td>0.948</td><td>⋯</td><td>2.581</td><td>1.337</td><td>1803.987</td><td>597.029</td><td>9.59</td><td>64.83</td><td>0.511</td><td>40099462</td><td>3175.1</td><td>232.5</td></tr>\n",
       "</tbody>\n",
       "</table>\n"
      ],
      "text/latex": [
       "A grouped\\_df: 6 × 24\n",
       "\\begin{tabular}{lllllllllllllllllllll}\n",
       " iso\\_code & continent & location & date & month & total\\_cases & new\\_cases & new\\_cases\\_smoothed & total\\_cases\\_per\\_million & new\\_cases\\_per\\_million & ⋯ & aged\\_65\\_older & aged\\_70\\_older & gdp\\_per\\_capita & cardiovasc\\_death\\_rate & diabetes\\_prevalence & life\\_expectancy & human\\_development\\_index & population & sunshine\\_hours\\_year & sunshine\\_hours\\_month\\\\\n",
       " <chr> & <chr> & <chr> & <date> & <chr> & <dbl> & <dbl> & <dbl> & <dbl> & <dbl> & ⋯ & <dbl> & <dbl> & <dbl> & <dbl> & <dbl> & <dbl> & <dbl> & <dbl> & <dbl> & <dbl>\\\\\n",
       "\\hline\n",
       "\t AFG & Asia & Afghanistan & 2020-04-01 & Apr & 192 & 26 & 16.857 & 4.788 & 0.648 & ⋯ & 2.581 & 1.337 & 1803.987 & 597.029 & 9.59 & 64.83 & 0.511 & 40099462 & 3175.1 & 232.5\\\\\n",
       "\t AFG & Asia & Afghanistan & 2020-04-02 & Apr & 235 & 43 & 22.143 & 5.860 & 1.072 & ⋯ & 2.581 & 1.337 & 1803.987 & 597.029 & 9.59 & 64.83 & 0.511 & 40099462 & 3175.1 & 232.5\\\\\n",
       "\t AFG & Asia & Afghanistan & 2020-04-03 & Apr & 269 & 34 & 25.429 & 6.708 & 0.848 & ⋯ & 2.581 & 1.337 & 1803.987 & 597.029 & 9.59 & 64.83 & 0.511 & 40099462 & 3175.1 & 232.5\\\\\n",
       "\t AFG & Asia & Afghanistan & 2020-04-04 & Apr & 270 &  1 & 23.429 & 6.733 & 0.025 & ⋯ & 2.581 & 1.337 & 1803.987 & 597.029 & 9.59 & 64.83 & 0.511 & 40099462 & 3175.1 & 232.5\\\\\n",
       "\t AFG & Asia & Afghanistan & 2020-04-05 & Apr & 299 & 29 & 26.429 & 7.456 & 0.723 & ⋯ & 2.581 & 1.337 & 1803.987 & 597.029 & 9.59 & 64.83 & 0.511 & 40099462 & 3175.1 & 232.5\\\\\n",
       "\t AFG & Asia & Afghanistan & 2020-04-06 & Apr & 337 & 38 & 31.857 & 8.404 & 0.948 & ⋯ & 2.581 & 1.337 & 1803.987 & 597.029 & 9.59 & 64.83 & 0.511 & 40099462 & 3175.1 & 232.5\\\\\n",
       "\\end{tabular}\n"
      ],
      "text/markdown": [
       "\n",
       "A grouped_df: 6 × 24\n",
       "\n",
       "| iso_code &lt;chr&gt; | continent &lt;chr&gt; | location &lt;chr&gt; | date &lt;date&gt; | month &lt;chr&gt; | total_cases &lt;dbl&gt; | new_cases &lt;dbl&gt; | new_cases_smoothed &lt;dbl&gt; | total_cases_per_million &lt;dbl&gt; | new_cases_per_million &lt;dbl&gt; | ⋯ ⋯ | aged_65_older &lt;dbl&gt; | aged_70_older &lt;dbl&gt; | gdp_per_capita &lt;dbl&gt; | cardiovasc_death_rate &lt;dbl&gt; | diabetes_prevalence &lt;dbl&gt; | life_expectancy &lt;dbl&gt; | human_development_index &lt;dbl&gt; | population &lt;dbl&gt; | sunshine_hours_year &lt;dbl&gt; | sunshine_hours_month &lt;dbl&gt; |\n",
       "|---|---|---|---|---|---|---|---|---|---|---|---|---|---|---|---|---|---|---|---|---|\n",
       "| AFG | Asia | Afghanistan | 2020-04-01 | Apr | 192 | 26 | 16.857 | 4.788 | 0.648 | ⋯ | 2.581 | 1.337 | 1803.987 | 597.029 | 9.59 | 64.83 | 0.511 | 40099462 | 3175.1 | 232.5 |\n",
       "| AFG | Asia | Afghanistan | 2020-04-02 | Apr | 235 | 43 | 22.143 | 5.860 | 1.072 | ⋯ | 2.581 | 1.337 | 1803.987 | 597.029 | 9.59 | 64.83 | 0.511 | 40099462 | 3175.1 | 232.5 |\n",
       "| AFG | Asia | Afghanistan | 2020-04-03 | Apr | 269 | 34 | 25.429 | 6.708 | 0.848 | ⋯ | 2.581 | 1.337 | 1803.987 | 597.029 | 9.59 | 64.83 | 0.511 | 40099462 | 3175.1 | 232.5 |\n",
       "| AFG | Asia | Afghanistan | 2020-04-04 | Apr | 270 |  1 | 23.429 | 6.733 | 0.025 | ⋯ | 2.581 | 1.337 | 1803.987 | 597.029 | 9.59 | 64.83 | 0.511 | 40099462 | 3175.1 | 232.5 |\n",
       "| AFG | Asia | Afghanistan | 2020-04-05 | Apr | 299 | 29 | 26.429 | 7.456 | 0.723 | ⋯ | 2.581 | 1.337 | 1803.987 | 597.029 | 9.59 | 64.83 | 0.511 | 40099462 | 3175.1 | 232.5 |\n",
       "| AFG | Asia | Afghanistan | 2020-04-06 | Apr | 337 | 38 | 31.857 | 8.404 | 0.948 | ⋯ | 2.581 | 1.337 | 1803.987 | 597.029 | 9.59 | 64.83 | 0.511 | 40099462 | 3175.1 | 232.5 |\n",
       "\n"
      ],
      "text/plain": [
       "  iso_code continent location    date       month total_cases new_cases\n",
       "1 AFG      Asia      Afghanistan 2020-04-01 Apr   192         26       \n",
       "2 AFG      Asia      Afghanistan 2020-04-02 Apr   235         43       \n",
       "3 AFG      Asia      Afghanistan 2020-04-03 Apr   269         34       \n",
       "4 AFG      Asia      Afghanistan 2020-04-04 Apr   270          1       \n",
       "5 AFG      Asia      Afghanistan 2020-04-05 Apr   299         29       \n",
       "6 AFG      Asia      Afghanistan 2020-04-06 Apr   337         38       \n",
       "  new_cases_smoothed total_cases_per_million new_cases_per_million ⋯\n",
       "1 16.857             4.788                   0.648                 ⋯\n",
       "2 22.143             5.860                   1.072                 ⋯\n",
       "3 25.429             6.708                   0.848                 ⋯\n",
       "4 23.429             6.733                   0.025                 ⋯\n",
       "5 26.429             7.456                   0.723                 ⋯\n",
       "6 31.857             8.404                   0.948                 ⋯\n",
       "  aged_65_older aged_70_older gdp_per_capita cardiovasc_death_rate\n",
       "1 2.581         1.337         1803.987       597.029              \n",
       "2 2.581         1.337         1803.987       597.029              \n",
       "3 2.581         1.337         1803.987       597.029              \n",
       "4 2.581         1.337         1803.987       597.029              \n",
       "5 2.581         1.337         1803.987       597.029              \n",
       "6 2.581         1.337         1803.987       597.029              \n",
       "  diabetes_prevalence life_expectancy human_development_index population\n",
       "1 9.59                64.83           0.511                   40099462  \n",
       "2 9.59                64.83           0.511                   40099462  \n",
       "3 9.59                64.83           0.511                   40099462  \n",
       "4 9.59                64.83           0.511                   40099462  \n",
       "5 9.59                64.83           0.511                   40099462  \n",
       "6 9.59                64.83           0.511                   40099462  \n",
       "  sunshine_hours_year sunshine_hours_month\n",
       "1 3175.1              232.5               \n",
       "2 3175.1              232.5               \n",
       "3 3175.1              232.5               \n",
       "4 3175.1              232.5               \n",
       "5 3175.1              232.5               \n",
       "6 3175.1              232.5               "
      ]
     },
     "metadata": {},
     "output_type": "display_data"
    },
    {
     "data": {
      "text/html": [
       "<table class=\"dataframe\">\n",
       "<caption>A grouped_df: 6 × 24</caption>\n",
       "<thead>\n",
       "\t<tr><th scope=col>iso_code</th><th scope=col>continent</th><th scope=col>location</th><th scope=col>date</th><th scope=col>month</th><th scope=col>total_cases</th><th scope=col>new_cases</th><th scope=col>new_cases_smoothed</th><th scope=col>total_cases_per_million</th><th scope=col>new_cases_per_million</th><th scope=col>⋯</th><th scope=col>aged_65_older</th><th scope=col>aged_70_older</th><th scope=col>gdp_per_capita</th><th scope=col>cardiovasc_death_rate</th><th scope=col>diabetes_prevalence</th><th scope=col>life_expectancy</th><th scope=col>human_development_index</th><th scope=col>population</th><th scope=col>sunshine_hours_year</th><th scope=col>sunshine_hours_month</th></tr>\n",
       "\t<tr><th scope=col>&lt;chr&gt;</th><th scope=col>&lt;chr&gt;</th><th scope=col>&lt;chr&gt;</th><th scope=col>&lt;date&gt;</th><th scope=col>&lt;chr&gt;</th><th scope=col>&lt;dbl&gt;</th><th scope=col>&lt;dbl&gt;</th><th scope=col>&lt;dbl&gt;</th><th scope=col>&lt;dbl&gt;</th><th scope=col>&lt;dbl&gt;</th><th scope=col>⋯</th><th scope=col>&lt;dbl&gt;</th><th scope=col>&lt;dbl&gt;</th><th scope=col>&lt;dbl&gt;</th><th scope=col>&lt;dbl&gt;</th><th scope=col>&lt;dbl&gt;</th><th scope=col>&lt;dbl&gt;</th><th scope=col>&lt;dbl&gt;</th><th scope=col>&lt;dbl&gt;</th><th scope=col>&lt;dbl&gt;</th><th scope=col>&lt;dbl&gt;</th></tr>\n",
       "</thead>\n",
       "<tbody>\n",
       "\t<tr><td>ZWE</td><td>Africa</td><td>Zimbabwe</td><td>2022-10-13</td><td>Oct</td><td>257827</td><td>29</td><td>24.571</td><td>16120.71</td><td>1.813</td><td>⋯</td><td>2.822</td><td>1.882</td><td>1899.775</td><td>307.846</td><td>1.82</td><td>61.49</td><td>0.571</td><td>15993524</td><td>3065.4</td><td>279</td></tr>\n",
       "\t<tr><td>ZWE</td><td>Africa</td><td>Zimbabwe</td><td>2022-10-14</td><td>Oct</td><td>257827</td><td> 0</td><td>24.571</td><td>16120.71</td><td>0.000</td><td>⋯</td><td>2.822</td><td>1.882</td><td>1899.775</td><td>307.846</td><td>1.82</td><td>61.49</td><td>0.571</td><td>15993524</td><td>3065.4</td><td>279</td></tr>\n",
       "\t<tr><td>ZWE</td><td>Africa</td><td>Zimbabwe</td><td>2022-10-15</td><td>Oct</td><td>257827</td><td> 0</td><td>24.571</td><td>16120.71</td><td>0.000</td><td>⋯</td><td>2.822</td><td>1.882</td><td>1899.775</td><td>307.846</td><td>1.82</td><td>61.49</td><td>0.571</td><td>15993524</td><td>3065.4</td><td>279</td></tr>\n",
       "\t<tr><td>ZWE</td><td>Africa</td><td>Zimbabwe</td><td>2022-10-16</td><td>Oct</td><td>257893</td><td>66</td><td>34.000</td><td>16124.84</td><td>4.127</td><td>⋯</td><td>2.822</td><td>1.882</td><td>1899.775</td><td>307.846</td><td>1.82</td><td>61.49</td><td>0.571</td><td>15993524</td><td>3065.4</td><td>279</td></tr>\n",
       "\t<tr><td>ZWE</td><td>Africa</td><td>Zimbabwe</td><td>2022-10-17</td><td>Oct</td><td>257893</td><td> 0</td><td>20.571</td><td>16124.84</td><td>0.000</td><td>⋯</td><td>2.822</td><td>1.882</td><td>1899.775</td><td>307.846</td><td>1.82</td><td>61.49</td><td>0.571</td><td>15993524</td><td>3065.4</td><td>279</td></tr>\n",
       "\t<tr><td>ZWE</td><td>Africa</td><td>Zimbabwe</td><td>2022-10-18</td><td>Oct</td><td>257893</td><td> 0</td><td>20.571</td><td>16124.84</td><td>0.000</td><td>⋯</td><td>2.822</td><td>1.882</td><td>1899.775</td><td>307.846</td><td>1.82</td><td>61.49</td><td>0.571</td><td>15993524</td><td>3065.4</td><td>279</td></tr>\n",
       "</tbody>\n",
       "</table>\n"
      ],
      "text/latex": [
       "A grouped\\_df: 6 × 24\n",
       "\\begin{tabular}{lllllllllllllllllllll}\n",
       " iso\\_code & continent & location & date & month & total\\_cases & new\\_cases & new\\_cases\\_smoothed & total\\_cases\\_per\\_million & new\\_cases\\_per\\_million & ⋯ & aged\\_65\\_older & aged\\_70\\_older & gdp\\_per\\_capita & cardiovasc\\_death\\_rate & diabetes\\_prevalence & life\\_expectancy & human\\_development\\_index & population & sunshine\\_hours\\_year & sunshine\\_hours\\_month\\\\\n",
       " <chr> & <chr> & <chr> & <date> & <chr> & <dbl> & <dbl> & <dbl> & <dbl> & <dbl> & ⋯ & <dbl> & <dbl> & <dbl> & <dbl> & <dbl> & <dbl> & <dbl> & <dbl> & <dbl> & <dbl>\\\\\n",
       "\\hline\n",
       "\t ZWE & Africa & Zimbabwe & 2022-10-13 & Oct & 257827 & 29 & 24.571 & 16120.71 & 1.813 & ⋯ & 2.822 & 1.882 & 1899.775 & 307.846 & 1.82 & 61.49 & 0.571 & 15993524 & 3065.4 & 279\\\\\n",
       "\t ZWE & Africa & Zimbabwe & 2022-10-14 & Oct & 257827 &  0 & 24.571 & 16120.71 & 0.000 & ⋯ & 2.822 & 1.882 & 1899.775 & 307.846 & 1.82 & 61.49 & 0.571 & 15993524 & 3065.4 & 279\\\\\n",
       "\t ZWE & Africa & Zimbabwe & 2022-10-15 & Oct & 257827 &  0 & 24.571 & 16120.71 & 0.000 & ⋯ & 2.822 & 1.882 & 1899.775 & 307.846 & 1.82 & 61.49 & 0.571 & 15993524 & 3065.4 & 279\\\\\n",
       "\t ZWE & Africa & Zimbabwe & 2022-10-16 & Oct & 257893 & 66 & 34.000 & 16124.84 & 4.127 & ⋯ & 2.822 & 1.882 & 1899.775 & 307.846 & 1.82 & 61.49 & 0.571 & 15993524 & 3065.4 & 279\\\\\n",
       "\t ZWE & Africa & Zimbabwe & 2022-10-17 & Oct & 257893 &  0 & 20.571 & 16124.84 & 0.000 & ⋯ & 2.822 & 1.882 & 1899.775 & 307.846 & 1.82 & 61.49 & 0.571 & 15993524 & 3065.4 & 279\\\\\n",
       "\t ZWE & Africa & Zimbabwe & 2022-10-18 & Oct & 257893 &  0 & 20.571 & 16124.84 & 0.000 & ⋯ & 2.822 & 1.882 & 1899.775 & 307.846 & 1.82 & 61.49 & 0.571 & 15993524 & 3065.4 & 279\\\\\n",
       "\\end{tabular}\n"
      ],
      "text/markdown": [
       "\n",
       "A grouped_df: 6 × 24\n",
       "\n",
       "| iso_code &lt;chr&gt; | continent &lt;chr&gt; | location &lt;chr&gt; | date &lt;date&gt; | month &lt;chr&gt; | total_cases &lt;dbl&gt; | new_cases &lt;dbl&gt; | new_cases_smoothed &lt;dbl&gt; | total_cases_per_million &lt;dbl&gt; | new_cases_per_million &lt;dbl&gt; | ⋯ ⋯ | aged_65_older &lt;dbl&gt; | aged_70_older &lt;dbl&gt; | gdp_per_capita &lt;dbl&gt; | cardiovasc_death_rate &lt;dbl&gt; | diabetes_prevalence &lt;dbl&gt; | life_expectancy &lt;dbl&gt; | human_development_index &lt;dbl&gt; | population &lt;dbl&gt; | sunshine_hours_year &lt;dbl&gt; | sunshine_hours_month &lt;dbl&gt; |\n",
       "|---|---|---|---|---|---|---|---|---|---|---|---|---|---|---|---|---|---|---|---|---|\n",
       "| ZWE | Africa | Zimbabwe | 2022-10-13 | Oct | 257827 | 29 | 24.571 | 16120.71 | 1.813 | ⋯ | 2.822 | 1.882 | 1899.775 | 307.846 | 1.82 | 61.49 | 0.571 | 15993524 | 3065.4 | 279 |\n",
       "| ZWE | Africa | Zimbabwe | 2022-10-14 | Oct | 257827 |  0 | 24.571 | 16120.71 | 0.000 | ⋯ | 2.822 | 1.882 | 1899.775 | 307.846 | 1.82 | 61.49 | 0.571 | 15993524 | 3065.4 | 279 |\n",
       "| ZWE | Africa | Zimbabwe | 2022-10-15 | Oct | 257827 |  0 | 24.571 | 16120.71 | 0.000 | ⋯ | 2.822 | 1.882 | 1899.775 | 307.846 | 1.82 | 61.49 | 0.571 | 15993524 | 3065.4 | 279 |\n",
       "| ZWE | Africa | Zimbabwe | 2022-10-16 | Oct | 257893 | 66 | 34.000 | 16124.84 | 4.127 | ⋯ | 2.822 | 1.882 | 1899.775 | 307.846 | 1.82 | 61.49 | 0.571 | 15993524 | 3065.4 | 279 |\n",
       "| ZWE | Africa | Zimbabwe | 2022-10-17 | Oct | 257893 |  0 | 20.571 | 16124.84 | 0.000 | ⋯ | 2.822 | 1.882 | 1899.775 | 307.846 | 1.82 | 61.49 | 0.571 | 15993524 | 3065.4 | 279 |\n",
       "| ZWE | Africa | Zimbabwe | 2022-10-18 | Oct | 257893 |  0 | 20.571 | 16124.84 | 0.000 | ⋯ | 2.822 | 1.882 | 1899.775 | 307.846 | 1.82 | 61.49 | 0.571 | 15993524 | 3065.4 | 279 |\n",
       "\n"
      ],
      "text/plain": [
       "  iso_code continent location date       month total_cases new_cases\n",
       "1 ZWE      Africa    Zimbabwe 2022-10-13 Oct   257827      29       \n",
       "2 ZWE      Africa    Zimbabwe 2022-10-14 Oct   257827       0       \n",
       "3 ZWE      Africa    Zimbabwe 2022-10-15 Oct   257827       0       \n",
       "4 ZWE      Africa    Zimbabwe 2022-10-16 Oct   257893      66       \n",
       "5 ZWE      Africa    Zimbabwe 2022-10-17 Oct   257893       0       \n",
       "6 ZWE      Africa    Zimbabwe 2022-10-18 Oct   257893       0       \n",
       "  new_cases_smoothed total_cases_per_million new_cases_per_million ⋯\n",
       "1 24.571             16120.71                1.813                 ⋯\n",
       "2 24.571             16120.71                0.000                 ⋯\n",
       "3 24.571             16120.71                0.000                 ⋯\n",
       "4 34.000             16124.84                4.127                 ⋯\n",
       "5 20.571             16124.84                0.000                 ⋯\n",
       "6 20.571             16124.84                0.000                 ⋯\n",
       "  aged_65_older aged_70_older gdp_per_capita cardiovasc_death_rate\n",
       "1 2.822         1.882         1899.775       307.846              \n",
       "2 2.822         1.882         1899.775       307.846              \n",
       "3 2.822         1.882         1899.775       307.846              \n",
       "4 2.822         1.882         1899.775       307.846              \n",
       "5 2.822         1.882         1899.775       307.846              \n",
       "6 2.822         1.882         1899.775       307.846              \n",
       "  diabetes_prevalence life_expectancy human_development_index population\n",
       "1 1.82                61.49           0.571                   15993524  \n",
       "2 1.82                61.49           0.571                   15993524  \n",
       "3 1.82                61.49           0.571                   15993524  \n",
       "4 1.82                61.49           0.571                   15993524  \n",
       "5 1.82                61.49           0.571                   15993524  \n",
       "6 1.82                61.49           0.571                   15993524  \n",
       "  sunshine_hours_year sunshine_hours_month\n",
       "1 3065.4              279                 \n",
       "2 3065.4              279                 \n",
       "3 3065.4              279                 \n",
       "4 3065.4              279                 \n",
       "5 3065.4              279                 \n",
       "6 3065.4              279                 "
      ]
     },
     "metadata": {},
     "output_type": "display_data"
    }
   ],
   "source": [
    "locf <-\n",
    "    dates_removed %>%\n",
    "    group_by(iso_code) %>% # group the data by iso codes\n",
    "    mutate_at(vars(total_cases,\n",
    "                   new_cases,\n",
    "                   new_cases_smoothed,\n",
    "                   total_cases_per_million,\n",
    "                   new_cases_per_million,\n",
    "                   new_cases_smoothed_per_million,\n",
    "                   stringency_index\n",
    "                  ), \n",
    "              function(x) (na.locf(x, na.rm = FALSE))) # specify columns and apply LOCF to those columns\n",
    "dim(locf) # display the dimension of locf\n",
    "head(locf) # check the first few rows\n",
    "tail(locf) # check the last few rows"
   ]
  },
  {
   "cell_type": "markdown",
   "id": "5a121760",
   "metadata": {},
   "source": [
    "Let's check for the number of remaining missing data per variable after LOCF."
   ]
  },
  {
   "cell_type": "code",
   "execution_count": 33,
   "id": "1e84027b",
   "metadata": {},
   "outputs": [
    {
     "data": {
      "text/html": [
       "<table class=\"dataframe\">\n",
       "<caption>A data.frame: 24 × 1</caption>\n",
       "<thead>\n",
       "\t<tr><th></th><th scope=col>colSums.is.na.locf..</th></tr>\n",
       "\t<tr><th></th><th scope=col>&lt;dbl&gt;</th></tr>\n",
       "</thead>\n",
       "<tbody>\n",
       "\t<tr><th scope=row>iso_code</th><td> 0</td></tr>\n",
       "\t<tr><th scope=row>continent</th><td> 0</td></tr>\n",
       "\t<tr><th scope=row>location</th><td> 0</td></tr>\n",
       "\t<tr><th scope=row>date</th><td> 0</td></tr>\n",
       "\t<tr><th scope=row>month</th><td> 0</td></tr>\n",
       "\t<tr><th scope=row>total_cases</th><td> 1</td></tr>\n",
       "\t<tr><th scope=row>new_cases</th><td> 1</td></tr>\n",
       "\t<tr><th scope=row>new_cases_smoothed</th><td>18</td></tr>\n",
       "\t<tr><th scope=row>total_cases_per_million</th><td> 1</td></tr>\n",
       "\t<tr><th scope=row>new_cases_per_million</th><td> 1</td></tr>\n",
       "\t<tr><th scope=row>new_cases_smoothed_per_million</th><td>18</td></tr>\n",
       "\t<tr><th scope=row>stringency_index</th><td> 0</td></tr>\n",
       "\t<tr><th scope=row>population_density</th><td> 0</td></tr>\n",
       "\t<tr><th scope=row>median_age</th><td> 0</td></tr>\n",
       "\t<tr><th scope=row>aged_65_older</th><td> 0</td></tr>\n",
       "\t<tr><th scope=row>aged_70_older</th><td> 0</td></tr>\n",
       "\t<tr><th scope=row>gdp_per_capita</th><td> 0</td></tr>\n",
       "\t<tr><th scope=row>cardiovasc_death_rate</th><td> 0</td></tr>\n",
       "\t<tr><th scope=row>diabetes_prevalence</th><td> 0</td></tr>\n",
       "\t<tr><th scope=row>life_expectancy</th><td> 0</td></tr>\n",
       "\t<tr><th scope=row>human_development_index</th><td> 0</td></tr>\n",
       "\t<tr><th scope=row>population</th><td> 0</td></tr>\n",
       "\t<tr><th scope=row>sunshine_hours_year</th><td> 0</td></tr>\n",
       "\t<tr><th scope=row>sunshine_hours_month</th><td> 0</td></tr>\n",
       "</tbody>\n",
       "</table>\n"
      ],
      "text/latex": [
       "A data.frame: 24 × 1\n",
       "\\begin{tabular}{r|l}\n",
       "  & colSums.is.na.locf..\\\\\n",
       "  & <dbl>\\\\\n",
       "\\hline\n",
       "\tiso\\_code &  0\\\\\n",
       "\tcontinent &  0\\\\\n",
       "\tlocation &  0\\\\\n",
       "\tdate &  0\\\\\n",
       "\tmonth &  0\\\\\n",
       "\ttotal\\_cases &  1\\\\\n",
       "\tnew\\_cases &  1\\\\\n",
       "\tnew\\_cases\\_smoothed & 18\\\\\n",
       "\ttotal\\_cases\\_per\\_million &  1\\\\\n",
       "\tnew\\_cases\\_per\\_million &  1\\\\\n",
       "\tnew\\_cases\\_smoothed\\_per\\_million & 18\\\\\n",
       "\tstringency\\_index &  0\\\\\n",
       "\tpopulation\\_density &  0\\\\\n",
       "\tmedian\\_age &  0\\\\\n",
       "\taged\\_65\\_older &  0\\\\\n",
       "\taged\\_70\\_older &  0\\\\\n",
       "\tgdp\\_per\\_capita &  0\\\\\n",
       "\tcardiovasc\\_death\\_rate &  0\\\\\n",
       "\tdiabetes\\_prevalence &  0\\\\\n",
       "\tlife\\_expectancy &  0\\\\\n",
       "\thuman\\_development\\_index &  0\\\\\n",
       "\tpopulation &  0\\\\\n",
       "\tsunshine\\_hours\\_year &  0\\\\\n",
       "\tsunshine\\_hours\\_month &  0\\\\\n",
       "\\end{tabular}\n"
      ],
      "text/markdown": [
       "\n",
       "A data.frame: 24 × 1\n",
       "\n",
       "| <!--/--> | colSums.is.na.locf.. &lt;dbl&gt; |\n",
       "|---|---|\n",
       "| iso_code |  0 |\n",
       "| continent |  0 |\n",
       "| location |  0 |\n",
       "| date |  0 |\n",
       "| month |  0 |\n",
       "| total_cases |  1 |\n",
       "| new_cases |  1 |\n",
       "| new_cases_smoothed | 18 |\n",
       "| total_cases_per_million |  1 |\n",
       "| new_cases_per_million |  1 |\n",
       "| new_cases_smoothed_per_million | 18 |\n",
       "| stringency_index |  0 |\n",
       "| population_density |  0 |\n",
       "| median_age |  0 |\n",
       "| aged_65_older |  0 |\n",
       "| aged_70_older |  0 |\n",
       "| gdp_per_capita |  0 |\n",
       "| cardiovasc_death_rate |  0 |\n",
       "| diabetes_prevalence |  0 |\n",
       "| life_expectancy |  0 |\n",
       "| human_development_index |  0 |\n",
       "| population |  0 |\n",
       "| sunshine_hours_year |  0 |\n",
       "| sunshine_hours_month |  0 |\n",
       "\n"
      ],
      "text/plain": [
       "                               colSums.is.na.locf..\n",
       "iso_code                        0                  \n",
       "continent                       0                  \n",
       "location                        0                  \n",
       "date                            0                  \n",
       "month                           0                  \n",
       "total_cases                     1                  \n",
       "new_cases                       1                  \n",
       "new_cases_smoothed             18                  \n",
       "total_cases_per_million         1                  \n",
       "new_cases_per_million           1                  \n",
       "new_cases_smoothed_per_million 18                  \n",
       "stringency_index                0                  \n",
       "population_density              0                  \n",
       "median_age                      0                  \n",
       "aged_65_older                   0                  \n",
       "aged_70_older                   0                  \n",
       "gdp_per_capita                  0                  \n",
       "cardiovasc_death_rate           0                  \n",
       "diabetes_prevalence             0                  \n",
       "life_expectancy                 0                  \n",
       "human_development_index         0                  \n",
       "population                      0                  \n",
       "sunshine_hours_year             0                  \n",
       "sunshine_hours_month            0                  "
      ]
     },
     "metadata": {},
     "output_type": "display_data"
    }
   ],
   "source": [
    "data.frame(colSums(is.na(locf))) # create a dataframe of sum of NA per column"
   ]
  },
  {
   "cell_type": "markdown",
   "id": "1ea64089",
   "metadata": {},
   "source": [
    "We can see that the number of missing values for `new_cases`, `new_cases_smoothed`, `new_cases_per_million`, and `new_cases_smoothed_per_million` have decreased, and for `stringency_index` there are now no missing cases.<br>\n",
    "We will then use NOCB (next observation carried backward) technique to fill in the rest of the missing data with the data that was observed the day after."
   ]
  },
  {
   "cell_type": "code",
   "execution_count": 34,
   "id": "6c6bf226",
   "metadata": {},
   "outputs": [
    {
     "data": {
      "text/html": [
       "<style>\n",
       ".list-inline {list-style: none; margin:0; padding: 0}\n",
       ".list-inline>li {display: inline-block}\n",
       ".list-inline>li:not(:last-child)::after {content: \"\\00b7\"; padding: 0 .5ex}\n",
       "</style>\n",
       "<ol class=list-inline><li>114319</li><li>24</li></ol>\n"
      ],
      "text/latex": [
       "\\begin{enumerate*}\n",
       "\\item 114319\n",
       "\\item 24\n",
       "\\end{enumerate*}\n"
      ],
      "text/markdown": [
       "1. 114319\n",
       "2. 24\n",
       "\n",
       "\n"
      ],
      "text/plain": [
       "[1] 114319     24"
      ]
     },
     "metadata": {},
     "output_type": "display_data"
    },
    {
     "data": {
      "text/html": [
       "<table class=\"dataframe\">\n",
       "<caption>A grouped_df: 6 × 24</caption>\n",
       "<thead>\n",
       "\t<tr><th scope=col>iso_code</th><th scope=col>continent</th><th scope=col>location</th><th scope=col>date</th><th scope=col>month</th><th scope=col>total_cases</th><th scope=col>new_cases</th><th scope=col>new_cases_smoothed</th><th scope=col>total_cases_per_million</th><th scope=col>new_cases_per_million</th><th scope=col>⋯</th><th scope=col>aged_65_older</th><th scope=col>aged_70_older</th><th scope=col>gdp_per_capita</th><th scope=col>cardiovasc_death_rate</th><th scope=col>diabetes_prevalence</th><th scope=col>life_expectancy</th><th scope=col>human_development_index</th><th scope=col>population</th><th scope=col>sunshine_hours_year</th><th scope=col>sunshine_hours_month</th></tr>\n",
       "\t<tr><th scope=col>&lt;chr&gt;</th><th scope=col>&lt;chr&gt;</th><th scope=col>&lt;chr&gt;</th><th scope=col>&lt;date&gt;</th><th scope=col>&lt;chr&gt;</th><th scope=col>&lt;dbl&gt;</th><th scope=col>&lt;dbl&gt;</th><th scope=col>&lt;dbl&gt;</th><th scope=col>&lt;dbl&gt;</th><th scope=col>&lt;dbl&gt;</th><th scope=col>⋯</th><th scope=col>&lt;dbl&gt;</th><th scope=col>&lt;dbl&gt;</th><th scope=col>&lt;dbl&gt;</th><th scope=col>&lt;dbl&gt;</th><th scope=col>&lt;dbl&gt;</th><th scope=col>&lt;dbl&gt;</th><th scope=col>&lt;dbl&gt;</th><th scope=col>&lt;dbl&gt;</th><th scope=col>&lt;dbl&gt;</th><th scope=col>&lt;dbl&gt;</th></tr>\n",
       "</thead>\n",
       "<tbody>\n",
       "\t<tr><td>AFG</td><td>Asia</td><td>Afghanistan</td><td>2020-04-01</td><td>Apr</td><td>192</td><td>26</td><td>16.857</td><td>4.788</td><td>0.648</td><td>⋯</td><td>2.581</td><td>1.337</td><td>1803.987</td><td>597.029</td><td>9.59</td><td>64.83</td><td>0.511</td><td>40099462</td><td>3175.1</td><td>232.5</td></tr>\n",
       "\t<tr><td>AFG</td><td>Asia</td><td>Afghanistan</td><td>2020-04-02</td><td>Apr</td><td>235</td><td>43</td><td>22.143</td><td>5.860</td><td>1.072</td><td>⋯</td><td>2.581</td><td>1.337</td><td>1803.987</td><td>597.029</td><td>9.59</td><td>64.83</td><td>0.511</td><td>40099462</td><td>3175.1</td><td>232.5</td></tr>\n",
       "\t<tr><td>AFG</td><td>Asia</td><td>Afghanistan</td><td>2020-04-03</td><td>Apr</td><td>269</td><td>34</td><td>25.429</td><td>6.708</td><td>0.848</td><td>⋯</td><td>2.581</td><td>1.337</td><td>1803.987</td><td>597.029</td><td>9.59</td><td>64.83</td><td>0.511</td><td>40099462</td><td>3175.1</td><td>232.5</td></tr>\n",
       "\t<tr><td>AFG</td><td>Asia</td><td>Afghanistan</td><td>2020-04-04</td><td>Apr</td><td>270</td><td> 1</td><td>23.429</td><td>6.733</td><td>0.025</td><td>⋯</td><td>2.581</td><td>1.337</td><td>1803.987</td><td>597.029</td><td>9.59</td><td>64.83</td><td>0.511</td><td>40099462</td><td>3175.1</td><td>232.5</td></tr>\n",
       "\t<tr><td>AFG</td><td>Asia</td><td>Afghanistan</td><td>2020-04-05</td><td>Apr</td><td>299</td><td>29</td><td>26.429</td><td>7.456</td><td>0.723</td><td>⋯</td><td>2.581</td><td>1.337</td><td>1803.987</td><td>597.029</td><td>9.59</td><td>64.83</td><td>0.511</td><td>40099462</td><td>3175.1</td><td>232.5</td></tr>\n",
       "\t<tr><td>AFG</td><td>Asia</td><td>Afghanistan</td><td>2020-04-06</td><td>Apr</td><td>337</td><td>38</td><td>31.857</td><td>8.404</td><td>0.948</td><td>⋯</td><td>2.581</td><td>1.337</td><td>1803.987</td><td>597.029</td><td>9.59</td><td>64.83</td><td>0.511</td><td>40099462</td><td>3175.1</td><td>232.5</td></tr>\n",
       "</tbody>\n",
       "</table>\n"
      ],
      "text/latex": [
       "A grouped\\_df: 6 × 24\n",
       "\\begin{tabular}{lllllllllllllllllllll}\n",
       " iso\\_code & continent & location & date & month & total\\_cases & new\\_cases & new\\_cases\\_smoothed & total\\_cases\\_per\\_million & new\\_cases\\_per\\_million & ⋯ & aged\\_65\\_older & aged\\_70\\_older & gdp\\_per\\_capita & cardiovasc\\_death\\_rate & diabetes\\_prevalence & life\\_expectancy & human\\_development\\_index & population & sunshine\\_hours\\_year & sunshine\\_hours\\_month\\\\\n",
       " <chr> & <chr> & <chr> & <date> & <chr> & <dbl> & <dbl> & <dbl> & <dbl> & <dbl> & ⋯ & <dbl> & <dbl> & <dbl> & <dbl> & <dbl> & <dbl> & <dbl> & <dbl> & <dbl> & <dbl>\\\\\n",
       "\\hline\n",
       "\t AFG & Asia & Afghanistan & 2020-04-01 & Apr & 192 & 26 & 16.857 & 4.788 & 0.648 & ⋯ & 2.581 & 1.337 & 1803.987 & 597.029 & 9.59 & 64.83 & 0.511 & 40099462 & 3175.1 & 232.5\\\\\n",
       "\t AFG & Asia & Afghanistan & 2020-04-02 & Apr & 235 & 43 & 22.143 & 5.860 & 1.072 & ⋯ & 2.581 & 1.337 & 1803.987 & 597.029 & 9.59 & 64.83 & 0.511 & 40099462 & 3175.1 & 232.5\\\\\n",
       "\t AFG & Asia & Afghanistan & 2020-04-03 & Apr & 269 & 34 & 25.429 & 6.708 & 0.848 & ⋯ & 2.581 & 1.337 & 1803.987 & 597.029 & 9.59 & 64.83 & 0.511 & 40099462 & 3175.1 & 232.5\\\\\n",
       "\t AFG & Asia & Afghanistan & 2020-04-04 & Apr & 270 &  1 & 23.429 & 6.733 & 0.025 & ⋯ & 2.581 & 1.337 & 1803.987 & 597.029 & 9.59 & 64.83 & 0.511 & 40099462 & 3175.1 & 232.5\\\\\n",
       "\t AFG & Asia & Afghanistan & 2020-04-05 & Apr & 299 & 29 & 26.429 & 7.456 & 0.723 & ⋯ & 2.581 & 1.337 & 1803.987 & 597.029 & 9.59 & 64.83 & 0.511 & 40099462 & 3175.1 & 232.5\\\\\n",
       "\t AFG & Asia & Afghanistan & 2020-04-06 & Apr & 337 & 38 & 31.857 & 8.404 & 0.948 & ⋯ & 2.581 & 1.337 & 1803.987 & 597.029 & 9.59 & 64.83 & 0.511 & 40099462 & 3175.1 & 232.5\\\\\n",
       "\\end{tabular}\n"
      ],
      "text/markdown": [
       "\n",
       "A grouped_df: 6 × 24\n",
       "\n",
       "| iso_code &lt;chr&gt; | continent &lt;chr&gt; | location &lt;chr&gt; | date &lt;date&gt; | month &lt;chr&gt; | total_cases &lt;dbl&gt; | new_cases &lt;dbl&gt; | new_cases_smoothed &lt;dbl&gt; | total_cases_per_million &lt;dbl&gt; | new_cases_per_million &lt;dbl&gt; | ⋯ ⋯ | aged_65_older &lt;dbl&gt; | aged_70_older &lt;dbl&gt; | gdp_per_capita &lt;dbl&gt; | cardiovasc_death_rate &lt;dbl&gt; | diabetes_prevalence &lt;dbl&gt; | life_expectancy &lt;dbl&gt; | human_development_index &lt;dbl&gt; | population &lt;dbl&gt; | sunshine_hours_year &lt;dbl&gt; | sunshine_hours_month &lt;dbl&gt; |\n",
       "|---|---|---|---|---|---|---|---|---|---|---|---|---|---|---|---|---|---|---|---|---|\n",
       "| AFG | Asia | Afghanistan | 2020-04-01 | Apr | 192 | 26 | 16.857 | 4.788 | 0.648 | ⋯ | 2.581 | 1.337 | 1803.987 | 597.029 | 9.59 | 64.83 | 0.511 | 40099462 | 3175.1 | 232.5 |\n",
       "| AFG | Asia | Afghanistan | 2020-04-02 | Apr | 235 | 43 | 22.143 | 5.860 | 1.072 | ⋯ | 2.581 | 1.337 | 1803.987 | 597.029 | 9.59 | 64.83 | 0.511 | 40099462 | 3175.1 | 232.5 |\n",
       "| AFG | Asia | Afghanistan | 2020-04-03 | Apr | 269 | 34 | 25.429 | 6.708 | 0.848 | ⋯ | 2.581 | 1.337 | 1803.987 | 597.029 | 9.59 | 64.83 | 0.511 | 40099462 | 3175.1 | 232.5 |\n",
       "| AFG | Asia | Afghanistan | 2020-04-04 | Apr | 270 |  1 | 23.429 | 6.733 | 0.025 | ⋯ | 2.581 | 1.337 | 1803.987 | 597.029 | 9.59 | 64.83 | 0.511 | 40099462 | 3175.1 | 232.5 |\n",
       "| AFG | Asia | Afghanistan | 2020-04-05 | Apr | 299 | 29 | 26.429 | 7.456 | 0.723 | ⋯ | 2.581 | 1.337 | 1803.987 | 597.029 | 9.59 | 64.83 | 0.511 | 40099462 | 3175.1 | 232.5 |\n",
       "| AFG | Asia | Afghanistan | 2020-04-06 | Apr | 337 | 38 | 31.857 | 8.404 | 0.948 | ⋯ | 2.581 | 1.337 | 1803.987 | 597.029 | 9.59 | 64.83 | 0.511 | 40099462 | 3175.1 | 232.5 |\n",
       "\n"
      ],
      "text/plain": [
       "  iso_code continent location    date       month total_cases new_cases\n",
       "1 AFG      Asia      Afghanistan 2020-04-01 Apr   192         26       \n",
       "2 AFG      Asia      Afghanistan 2020-04-02 Apr   235         43       \n",
       "3 AFG      Asia      Afghanistan 2020-04-03 Apr   269         34       \n",
       "4 AFG      Asia      Afghanistan 2020-04-04 Apr   270          1       \n",
       "5 AFG      Asia      Afghanistan 2020-04-05 Apr   299         29       \n",
       "6 AFG      Asia      Afghanistan 2020-04-06 Apr   337         38       \n",
       "  new_cases_smoothed total_cases_per_million new_cases_per_million ⋯\n",
       "1 16.857             4.788                   0.648                 ⋯\n",
       "2 22.143             5.860                   1.072                 ⋯\n",
       "3 25.429             6.708                   0.848                 ⋯\n",
       "4 23.429             6.733                   0.025                 ⋯\n",
       "5 26.429             7.456                   0.723                 ⋯\n",
       "6 31.857             8.404                   0.948                 ⋯\n",
       "  aged_65_older aged_70_older gdp_per_capita cardiovasc_death_rate\n",
       "1 2.581         1.337         1803.987       597.029              \n",
       "2 2.581         1.337         1803.987       597.029              \n",
       "3 2.581         1.337         1803.987       597.029              \n",
       "4 2.581         1.337         1803.987       597.029              \n",
       "5 2.581         1.337         1803.987       597.029              \n",
       "6 2.581         1.337         1803.987       597.029              \n",
       "  diabetes_prevalence life_expectancy human_development_index population\n",
       "1 9.59                64.83           0.511                   40099462  \n",
       "2 9.59                64.83           0.511                   40099462  \n",
       "3 9.59                64.83           0.511                   40099462  \n",
       "4 9.59                64.83           0.511                   40099462  \n",
       "5 9.59                64.83           0.511                   40099462  \n",
       "6 9.59                64.83           0.511                   40099462  \n",
       "  sunshine_hours_year sunshine_hours_month\n",
       "1 3175.1              232.5               \n",
       "2 3175.1              232.5               \n",
       "3 3175.1              232.5               \n",
       "4 3175.1              232.5               \n",
       "5 3175.1              232.5               \n",
       "6 3175.1              232.5               "
      ]
     },
     "metadata": {},
     "output_type": "display_data"
    },
    {
     "data": {
      "text/html": [
       "<table class=\"dataframe\">\n",
       "<caption>A grouped_df: 6 × 24</caption>\n",
       "<thead>\n",
       "\t<tr><th scope=col>iso_code</th><th scope=col>continent</th><th scope=col>location</th><th scope=col>date</th><th scope=col>month</th><th scope=col>total_cases</th><th scope=col>new_cases</th><th scope=col>new_cases_smoothed</th><th scope=col>total_cases_per_million</th><th scope=col>new_cases_per_million</th><th scope=col>⋯</th><th scope=col>aged_65_older</th><th scope=col>aged_70_older</th><th scope=col>gdp_per_capita</th><th scope=col>cardiovasc_death_rate</th><th scope=col>diabetes_prevalence</th><th scope=col>life_expectancy</th><th scope=col>human_development_index</th><th scope=col>population</th><th scope=col>sunshine_hours_year</th><th scope=col>sunshine_hours_month</th></tr>\n",
       "\t<tr><th scope=col>&lt;chr&gt;</th><th scope=col>&lt;chr&gt;</th><th scope=col>&lt;chr&gt;</th><th scope=col>&lt;date&gt;</th><th scope=col>&lt;chr&gt;</th><th scope=col>&lt;dbl&gt;</th><th scope=col>&lt;dbl&gt;</th><th scope=col>&lt;dbl&gt;</th><th scope=col>&lt;dbl&gt;</th><th scope=col>&lt;dbl&gt;</th><th scope=col>⋯</th><th scope=col>&lt;dbl&gt;</th><th scope=col>&lt;dbl&gt;</th><th scope=col>&lt;dbl&gt;</th><th scope=col>&lt;dbl&gt;</th><th scope=col>&lt;dbl&gt;</th><th scope=col>&lt;dbl&gt;</th><th scope=col>&lt;dbl&gt;</th><th scope=col>&lt;dbl&gt;</th><th scope=col>&lt;dbl&gt;</th><th scope=col>&lt;dbl&gt;</th></tr>\n",
       "</thead>\n",
       "<tbody>\n",
       "\t<tr><td>ZWE</td><td>Africa</td><td>Zimbabwe</td><td>2022-10-13</td><td>Oct</td><td>257827</td><td>29</td><td>24.571</td><td>16120.71</td><td>1.813</td><td>⋯</td><td>2.822</td><td>1.882</td><td>1899.775</td><td>307.846</td><td>1.82</td><td>61.49</td><td>0.571</td><td>15993524</td><td>3065.4</td><td>279</td></tr>\n",
       "\t<tr><td>ZWE</td><td>Africa</td><td>Zimbabwe</td><td>2022-10-14</td><td>Oct</td><td>257827</td><td> 0</td><td>24.571</td><td>16120.71</td><td>0.000</td><td>⋯</td><td>2.822</td><td>1.882</td><td>1899.775</td><td>307.846</td><td>1.82</td><td>61.49</td><td>0.571</td><td>15993524</td><td>3065.4</td><td>279</td></tr>\n",
       "\t<tr><td>ZWE</td><td>Africa</td><td>Zimbabwe</td><td>2022-10-15</td><td>Oct</td><td>257827</td><td> 0</td><td>24.571</td><td>16120.71</td><td>0.000</td><td>⋯</td><td>2.822</td><td>1.882</td><td>1899.775</td><td>307.846</td><td>1.82</td><td>61.49</td><td>0.571</td><td>15993524</td><td>3065.4</td><td>279</td></tr>\n",
       "\t<tr><td>ZWE</td><td>Africa</td><td>Zimbabwe</td><td>2022-10-16</td><td>Oct</td><td>257893</td><td>66</td><td>34.000</td><td>16124.84</td><td>4.127</td><td>⋯</td><td>2.822</td><td>1.882</td><td>1899.775</td><td>307.846</td><td>1.82</td><td>61.49</td><td>0.571</td><td>15993524</td><td>3065.4</td><td>279</td></tr>\n",
       "\t<tr><td>ZWE</td><td>Africa</td><td>Zimbabwe</td><td>2022-10-17</td><td>Oct</td><td>257893</td><td> 0</td><td>20.571</td><td>16124.84</td><td>0.000</td><td>⋯</td><td>2.822</td><td>1.882</td><td>1899.775</td><td>307.846</td><td>1.82</td><td>61.49</td><td>0.571</td><td>15993524</td><td>3065.4</td><td>279</td></tr>\n",
       "\t<tr><td>ZWE</td><td>Africa</td><td>Zimbabwe</td><td>2022-10-18</td><td>Oct</td><td>257893</td><td> 0</td><td>20.571</td><td>16124.84</td><td>0.000</td><td>⋯</td><td>2.822</td><td>1.882</td><td>1899.775</td><td>307.846</td><td>1.82</td><td>61.49</td><td>0.571</td><td>15993524</td><td>3065.4</td><td>279</td></tr>\n",
       "</tbody>\n",
       "</table>\n"
      ],
      "text/latex": [
       "A grouped\\_df: 6 × 24\n",
       "\\begin{tabular}{lllllllllllllllllllll}\n",
       " iso\\_code & continent & location & date & month & total\\_cases & new\\_cases & new\\_cases\\_smoothed & total\\_cases\\_per\\_million & new\\_cases\\_per\\_million & ⋯ & aged\\_65\\_older & aged\\_70\\_older & gdp\\_per\\_capita & cardiovasc\\_death\\_rate & diabetes\\_prevalence & life\\_expectancy & human\\_development\\_index & population & sunshine\\_hours\\_year & sunshine\\_hours\\_month\\\\\n",
       " <chr> & <chr> & <chr> & <date> & <chr> & <dbl> & <dbl> & <dbl> & <dbl> & <dbl> & ⋯ & <dbl> & <dbl> & <dbl> & <dbl> & <dbl> & <dbl> & <dbl> & <dbl> & <dbl> & <dbl>\\\\\n",
       "\\hline\n",
       "\t ZWE & Africa & Zimbabwe & 2022-10-13 & Oct & 257827 & 29 & 24.571 & 16120.71 & 1.813 & ⋯ & 2.822 & 1.882 & 1899.775 & 307.846 & 1.82 & 61.49 & 0.571 & 15993524 & 3065.4 & 279\\\\\n",
       "\t ZWE & Africa & Zimbabwe & 2022-10-14 & Oct & 257827 &  0 & 24.571 & 16120.71 & 0.000 & ⋯ & 2.822 & 1.882 & 1899.775 & 307.846 & 1.82 & 61.49 & 0.571 & 15993524 & 3065.4 & 279\\\\\n",
       "\t ZWE & Africa & Zimbabwe & 2022-10-15 & Oct & 257827 &  0 & 24.571 & 16120.71 & 0.000 & ⋯ & 2.822 & 1.882 & 1899.775 & 307.846 & 1.82 & 61.49 & 0.571 & 15993524 & 3065.4 & 279\\\\\n",
       "\t ZWE & Africa & Zimbabwe & 2022-10-16 & Oct & 257893 & 66 & 34.000 & 16124.84 & 4.127 & ⋯ & 2.822 & 1.882 & 1899.775 & 307.846 & 1.82 & 61.49 & 0.571 & 15993524 & 3065.4 & 279\\\\\n",
       "\t ZWE & Africa & Zimbabwe & 2022-10-17 & Oct & 257893 &  0 & 20.571 & 16124.84 & 0.000 & ⋯ & 2.822 & 1.882 & 1899.775 & 307.846 & 1.82 & 61.49 & 0.571 & 15993524 & 3065.4 & 279\\\\\n",
       "\t ZWE & Africa & Zimbabwe & 2022-10-18 & Oct & 257893 &  0 & 20.571 & 16124.84 & 0.000 & ⋯ & 2.822 & 1.882 & 1899.775 & 307.846 & 1.82 & 61.49 & 0.571 & 15993524 & 3065.4 & 279\\\\\n",
       "\\end{tabular}\n"
      ],
      "text/markdown": [
       "\n",
       "A grouped_df: 6 × 24\n",
       "\n",
       "| iso_code &lt;chr&gt; | continent &lt;chr&gt; | location &lt;chr&gt; | date &lt;date&gt; | month &lt;chr&gt; | total_cases &lt;dbl&gt; | new_cases &lt;dbl&gt; | new_cases_smoothed &lt;dbl&gt; | total_cases_per_million &lt;dbl&gt; | new_cases_per_million &lt;dbl&gt; | ⋯ ⋯ | aged_65_older &lt;dbl&gt; | aged_70_older &lt;dbl&gt; | gdp_per_capita &lt;dbl&gt; | cardiovasc_death_rate &lt;dbl&gt; | diabetes_prevalence &lt;dbl&gt; | life_expectancy &lt;dbl&gt; | human_development_index &lt;dbl&gt; | population &lt;dbl&gt; | sunshine_hours_year &lt;dbl&gt; | sunshine_hours_month &lt;dbl&gt; |\n",
       "|---|---|---|---|---|---|---|---|---|---|---|---|---|---|---|---|---|---|---|---|---|\n",
       "| ZWE | Africa | Zimbabwe | 2022-10-13 | Oct | 257827 | 29 | 24.571 | 16120.71 | 1.813 | ⋯ | 2.822 | 1.882 | 1899.775 | 307.846 | 1.82 | 61.49 | 0.571 | 15993524 | 3065.4 | 279 |\n",
       "| ZWE | Africa | Zimbabwe | 2022-10-14 | Oct | 257827 |  0 | 24.571 | 16120.71 | 0.000 | ⋯ | 2.822 | 1.882 | 1899.775 | 307.846 | 1.82 | 61.49 | 0.571 | 15993524 | 3065.4 | 279 |\n",
       "| ZWE | Africa | Zimbabwe | 2022-10-15 | Oct | 257827 |  0 | 24.571 | 16120.71 | 0.000 | ⋯ | 2.822 | 1.882 | 1899.775 | 307.846 | 1.82 | 61.49 | 0.571 | 15993524 | 3065.4 | 279 |\n",
       "| ZWE | Africa | Zimbabwe | 2022-10-16 | Oct | 257893 | 66 | 34.000 | 16124.84 | 4.127 | ⋯ | 2.822 | 1.882 | 1899.775 | 307.846 | 1.82 | 61.49 | 0.571 | 15993524 | 3065.4 | 279 |\n",
       "| ZWE | Africa | Zimbabwe | 2022-10-17 | Oct | 257893 |  0 | 20.571 | 16124.84 | 0.000 | ⋯ | 2.822 | 1.882 | 1899.775 | 307.846 | 1.82 | 61.49 | 0.571 | 15993524 | 3065.4 | 279 |\n",
       "| ZWE | Africa | Zimbabwe | 2022-10-18 | Oct | 257893 |  0 | 20.571 | 16124.84 | 0.000 | ⋯ | 2.822 | 1.882 | 1899.775 | 307.846 | 1.82 | 61.49 | 0.571 | 15993524 | 3065.4 | 279 |\n",
       "\n"
      ],
      "text/plain": [
       "  iso_code continent location date       month total_cases new_cases\n",
       "1 ZWE      Africa    Zimbabwe 2022-10-13 Oct   257827      29       \n",
       "2 ZWE      Africa    Zimbabwe 2022-10-14 Oct   257827       0       \n",
       "3 ZWE      Africa    Zimbabwe 2022-10-15 Oct   257827       0       \n",
       "4 ZWE      Africa    Zimbabwe 2022-10-16 Oct   257893      66       \n",
       "5 ZWE      Africa    Zimbabwe 2022-10-17 Oct   257893       0       \n",
       "6 ZWE      Africa    Zimbabwe 2022-10-18 Oct   257893       0       \n",
       "  new_cases_smoothed total_cases_per_million new_cases_per_million ⋯\n",
       "1 24.571             16120.71                1.813                 ⋯\n",
       "2 24.571             16120.71                0.000                 ⋯\n",
       "3 24.571             16120.71                0.000                 ⋯\n",
       "4 34.000             16124.84                4.127                 ⋯\n",
       "5 20.571             16124.84                0.000                 ⋯\n",
       "6 20.571             16124.84                0.000                 ⋯\n",
       "  aged_65_older aged_70_older gdp_per_capita cardiovasc_death_rate\n",
       "1 2.822         1.882         1899.775       307.846              \n",
       "2 2.822         1.882         1899.775       307.846              \n",
       "3 2.822         1.882         1899.775       307.846              \n",
       "4 2.822         1.882         1899.775       307.846              \n",
       "5 2.822         1.882         1899.775       307.846              \n",
       "6 2.822         1.882         1899.775       307.846              \n",
       "  diabetes_prevalence life_expectancy human_development_index population\n",
       "1 1.82                61.49           0.571                   15993524  \n",
       "2 1.82                61.49           0.571                   15993524  \n",
       "3 1.82                61.49           0.571                   15993524  \n",
       "4 1.82                61.49           0.571                   15993524  \n",
       "5 1.82                61.49           0.571                   15993524  \n",
       "6 1.82                61.49           0.571                   15993524  \n",
       "  sunshine_hours_year sunshine_hours_month\n",
       "1 3065.4              279                 \n",
       "2 3065.4              279                 \n",
       "3 3065.4              279                 \n",
       "4 3065.4              279                 \n",
       "5 3065.4              279                 \n",
       "6 3065.4              279                 "
      ]
     },
     "metadata": {},
     "output_type": "display_data"
    }
   ],
   "source": [
    "nocb <-\n",
    "    locf %>%\n",
    "    group_by(iso_code) %>% # group the data by iso codes\n",
    "    mutate_at(vars(total_cases,\n",
    "                   new_cases,\n",
    "                   new_cases_smoothed,\n",
    "                   total_cases_per_million,\n",
    "                   new_cases_per_million,\n",
    "                   new_cases_smoothed_per_million\n",
    "                  ), \n",
    "              function(x) (na.locf(x, na.rm = FALSE, fromLast = TRUE))) # specify columns and apply NOCB to those columns\n",
    "dim(nocb) # display the dimension of nocb\n",
    "head(nocb) # check the first few rows\n",
    "tail(nocb) # check the last few rows"
   ]
  },
  {
   "cell_type": "markdown",
   "id": "25266603",
   "metadata": {},
   "source": [
    "Last check for the number of remaining missing data per variable after NOCB."
   ]
  },
  {
   "cell_type": "code",
   "execution_count": 35,
   "id": "0356d46c",
   "metadata": {},
   "outputs": [
    {
     "data": {
      "text/html": [
       "<table class=\"dataframe\">\n",
       "<caption>A data.frame: 24 × 1</caption>\n",
       "<thead>\n",
       "\t<tr><th></th><th scope=col>colSums.is.na.nocb..</th></tr>\n",
       "\t<tr><th></th><th scope=col>&lt;dbl&gt;</th></tr>\n",
       "</thead>\n",
       "<tbody>\n",
       "\t<tr><th scope=row>iso_code</th><td>0</td></tr>\n",
       "\t<tr><th scope=row>continent</th><td>0</td></tr>\n",
       "\t<tr><th scope=row>location</th><td>0</td></tr>\n",
       "\t<tr><th scope=row>date</th><td>0</td></tr>\n",
       "\t<tr><th scope=row>month</th><td>0</td></tr>\n",
       "\t<tr><th scope=row>total_cases</th><td>0</td></tr>\n",
       "\t<tr><th scope=row>new_cases</th><td>0</td></tr>\n",
       "\t<tr><th scope=row>new_cases_smoothed</th><td>0</td></tr>\n",
       "\t<tr><th scope=row>total_cases_per_million</th><td>0</td></tr>\n",
       "\t<tr><th scope=row>new_cases_per_million</th><td>0</td></tr>\n",
       "\t<tr><th scope=row>new_cases_smoothed_per_million</th><td>0</td></tr>\n",
       "\t<tr><th scope=row>stringency_index</th><td>0</td></tr>\n",
       "\t<tr><th scope=row>population_density</th><td>0</td></tr>\n",
       "\t<tr><th scope=row>median_age</th><td>0</td></tr>\n",
       "\t<tr><th scope=row>aged_65_older</th><td>0</td></tr>\n",
       "\t<tr><th scope=row>aged_70_older</th><td>0</td></tr>\n",
       "\t<tr><th scope=row>gdp_per_capita</th><td>0</td></tr>\n",
       "\t<tr><th scope=row>cardiovasc_death_rate</th><td>0</td></tr>\n",
       "\t<tr><th scope=row>diabetes_prevalence</th><td>0</td></tr>\n",
       "\t<tr><th scope=row>life_expectancy</th><td>0</td></tr>\n",
       "\t<tr><th scope=row>human_development_index</th><td>0</td></tr>\n",
       "\t<tr><th scope=row>population</th><td>0</td></tr>\n",
       "\t<tr><th scope=row>sunshine_hours_year</th><td>0</td></tr>\n",
       "\t<tr><th scope=row>sunshine_hours_month</th><td>0</td></tr>\n",
       "</tbody>\n",
       "</table>\n"
      ],
      "text/latex": [
       "A data.frame: 24 × 1\n",
       "\\begin{tabular}{r|l}\n",
       "  & colSums.is.na.nocb..\\\\\n",
       "  & <dbl>\\\\\n",
       "\\hline\n",
       "\tiso\\_code & 0\\\\\n",
       "\tcontinent & 0\\\\\n",
       "\tlocation & 0\\\\\n",
       "\tdate & 0\\\\\n",
       "\tmonth & 0\\\\\n",
       "\ttotal\\_cases & 0\\\\\n",
       "\tnew\\_cases & 0\\\\\n",
       "\tnew\\_cases\\_smoothed & 0\\\\\n",
       "\ttotal\\_cases\\_per\\_million & 0\\\\\n",
       "\tnew\\_cases\\_per\\_million & 0\\\\\n",
       "\tnew\\_cases\\_smoothed\\_per\\_million & 0\\\\\n",
       "\tstringency\\_index & 0\\\\\n",
       "\tpopulation\\_density & 0\\\\\n",
       "\tmedian\\_age & 0\\\\\n",
       "\taged\\_65\\_older & 0\\\\\n",
       "\taged\\_70\\_older & 0\\\\\n",
       "\tgdp\\_per\\_capita & 0\\\\\n",
       "\tcardiovasc\\_death\\_rate & 0\\\\\n",
       "\tdiabetes\\_prevalence & 0\\\\\n",
       "\tlife\\_expectancy & 0\\\\\n",
       "\thuman\\_development\\_index & 0\\\\\n",
       "\tpopulation & 0\\\\\n",
       "\tsunshine\\_hours\\_year & 0\\\\\n",
       "\tsunshine\\_hours\\_month & 0\\\\\n",
       "\\end{tabular}\n"
      ],
      "text/markdown": [
       "\n",
       "A data.frame: 24 × 1\n",
       "\n",
       "| <!--/--> | colSums.is.na.nocb.. &lt;dbl&gt; |\n",
       "|---|---|\n",
       "| iso_code | 0 |\n",
       "| continent | 0 |\n",
       "| location | 0 |\n",
       "| date | 0 |\n",
       "| month | 0 |\n",
       "| total_cases | 0 |\n",
       "| new_cases | 0 |\n",
       "| new_cases_smoothed | 0 |\n",
       "| total_cases_per_million | 0 |\n",
       "| new_cases_per_million | 0 |\n",
       "| new_cases_smoothed_per_million | 0 |\n",
       "| stringency_index | 0 |\n",
       "| population_density | 0 |\n",
       "| median_age | 0 |\n",
       "| aged_65_older | 0 |\n",
       "| aged_70_older | 0 |\n",
       "| gdp_per_capita | 0 |\n",
       "| cardiovasc_death_rate | 0 |\n",
       "| diabetes_prevalence | 0 |\n",
       "| life_expectancy | 0 |\n",
       "| human_development_index | 0 |\n",
       "| population | 0 |\n",
       "| sunshine_hours_year | 0 |\n",
       "| sunshine_hours_month | 0 |\n",
       "\n"
      ],
      "text/plain": [
       "                               colSums.is.na.nocb..\n",
       "iso_code                       0                   \n",
       "continent                      0                   \n",
       "location                       0                   \n",
       "date                           0                   \n",
       "month                          0                   \n",
       "total_cases                    0                   \n",
       "new_cases                      0                   \n",
       "new_cases_smoothed             0                   \n",
       "total_cases_per_million        0                   \n",
       "new_cases_per_million          0                   \n",
       "new_cases_smoothed_per_million 0                   \n",
       "stringency_index               0                   \n",
       "population_density             0                   \n",
       "median_age                     0                   \n",
       "aged_65_older                  0                   \n",
       "aged_70_older                  0                   \n",
       "gdp_per_capita                 0                   \n",
       "cardiovasc_death_rate          0                   \n",
       "diabetes_prevalence            0                   \n",
       "life_expectancy                0                   \n",
       "human_development_index        0                   \n",
       "population                     0                   \n",
       "sunshine_hours_year            0                   \n",
       "sunshine_hours_month           0                   "
      ]
     },
     "metadata": {},
     "output_type": "display_data"
    }
   ],
   "source": [
    "data.frame(colSums(is.na(nocb))) # create a dataframe of sum of NA per column"
   ]
  },
  {
   "cell_type": "markdown",
   "id": "fedfb6b8",
   "metadata": {},
   "source": [
    "Now there are no missing data across all variables.<br>\n",
    "Let's update the class of `nocb` to `data.table` and write it out to a CSV file."
   ]
  },
  {
   "cell_type": "code",
   "execution_count": 36,
   "id": "eaca7e06",
   "metadata": {},
   "outputs": [
    {
     "data": {
      "text/html": [
       "<style>\n",
       ".list-inline {list-style: none; margin:0; padding: 0}\n",
       ".list-inline>li {display: inline-block}\n",
       ".list-inline>li:not(:last-child)::after {content: \"\\00b7\"; padding: 0 .5ex}\n",
       "</style>\n",
       "<ol class=list-inline><li>'data.table'</li><li>'data.frame'</li></ol>\n"
      ],
      "text/latex": [
       "\\begin{enumerate*}\n",
       "\\item 'data.table'\n",
       "\\item 'data.frame'\n",
       "\\end{enumerate*}\n"
      ],
      "text/markdown": [
       "1. 'data.table'\n",
       "2. 'data.frame'\n",
       "\n",
       "\n"
      ],
      "text/plain": [
       "[1] \"data.table\" \"data.frame\""
      ]
     },
     "metadata": {},
     "output_type": "display_data"
    }
   ],
   "source": [
    "final_df <- setDT(nocb) # convert nocb to data.table\n",
    "class(final_df) # check that the conversion worked\n",
    "write.csv(final_df, file='covid_sunshine.csv') # write final_df out to a CSV file"
   ]
  },
  {
   "cell_type": "markdown",
   "id": "78b71edc",
   "metadata": {},
   "source": [
    "## 1.5 Sampling bias of merging and cleaning<a name=\"p1.5\"></a>"
   ]
  },
  {
   "cell_type": "markdown",
   "id": "0bc18385",
   "metadata": {},
   "source": [
    "During the merging and cleaning of data, we have removed several countries from the original `owid-covid-data.csv`.<br>\n",
    "In this part we will investigate the sampling bias introduced by this.<br>\n",
    "Let's first create a list of all countries removed from `owid-covid-data.csv`."
   ]
  },
  {
   "cell_type": "code",
   "execution_count": 37,
   "id": "418cd9ce",
   "metadata": {},
   "outputs": [
    {
     "name": "stdout",
     "output_type": "stream",
     "text": [
      "[1] \"106 countries have been removed through merging and cleaning\"\n"
     ]
    }
   ],
   "source": [
    "bias_check <- unique(c(no_sunshine_data, countries_to_drop)) # create a list of unique valies from no_sunshine_data and countries_to_drop\n",
    "print(paste(length(bias_check), \"countries have been removed through merging and cleaning\")) # display the number of countries that have been dropeed"
   ]
  },
  {
   "cell_type": "markdown",
   "id": "60663bc2",
   "metadata": {},
   "source": [
    "We will then add a column to the COVID data to indicate if each observations were removed during merging and cleaning."
   ]
  },
  {
   "cell_type": "code",
   "execution_count": 38,
   "id": "e8fda061",
   "metadata": {},
   "outputs": [
    {
     "data": {
      "text/html": [
       "<style>\n",
       ".list-inline {list-style: none; margin:0; padding: 0}\n",
       ".list-inline>li {display: inline-block}\n",
       ".list-inline>li:not(:last-child)::after {content: \"\\00b7\"; padding: 0 .5ex}\n",
       "</style>\n",
       "<ol class=list-inline><li>211414</li><li>28</li></ol>\n"
      ],
      "text/latex": [
       "\\begin{enumerate*}\n",
       "\\item 211414\n",
       "\\item 28\n",
       "\\end{enumerate*}\n"
      ],
      "text/markdown": [
       "1. 211414\n",
       "2. 28\n",
       "\n",
       "\n"
      ],
      "text/plain": [
       "[1] 211414     28"
      ]
     },
     "metadata": {},
     "output_type": "display_data"
    },
    {
     "data": {
      "text/html": [
       "<table class=\"dataframe\">\n",
       "<caption>A data.table: 6 × 28</caption>\n",
       "<thead>\n",
       "\t<tr><th scope=col>iso_code</th><th scope=col>continent</th><th scope=col>location</th><th scope=col>date</th><th scope=col>month</th><th scope=col>total_cases</th><th scope=col>new_cases</th><th scope=col>new_cases_smoothed</th><th scope=col>total_cases_per_million</th><th scope=col>new_cases_per_million</th><th scope=col>⋯</th><th scope=col>cardiovasc_death_rate</th><th scope=col>diabetes_prevalence</th><th scope=col>female_smokers</th><th scope=col>male_smokers</th><th scope=col>handwashing_facilities</th><th scope=col>hospital_beds_per_thousand</th><th scope=col>life_expectancy</th><th scope=col>human_development_index</th><th scope=col>population</th><th scope=col>removed</th></tr>\n",
       "\t<tr><th scope=col>&lt;chr&gt;</th><th scope=col>&lt;chr&gt;</th><th scope=col>&lt;chr&gt;</th><th scope=col>&lt;date&gt;</th><th scope=col>&lt;chr&gt;</th><th scope=col>&lt;dbl&gt;</th><th scope=col>&lt;dbl&gt;</th><th scope=col>&lt;dbl&gt;</th><th scope=col>&lt;dbl&gt;</th><th scope=col>&lt;dbl&gt;</th><th scope=col>⋯</th><th scope=col>&lt;dbl&gt;</th><th scope=col>&lt;dbl&gt;</th><th scope=col>&lt;dbl&gt;</th><th scope=col>&lt;dbl&gt;</th><th scope=col>&lt;dbl&gt;</th><th scope=col>&lt;dbl&gt;</th><th scope=col>&lt;dbl&gt;</th><th scope=col>&lt;dbl&gt;</th><th scope=col>&lt;dbl&gt;</th><th scope=col>&lt;lgl&gt;</th></tr>\n",
       "</thead>\n",
       "<tbody>\n",
       "\t<tr><td>AFG</td><td>Asia</td><td>Afghanistan</td><td>2020-02-24</td><td>Feb</td><td>5</td><td>5</td><td>   NA</td><td>0.125</td><td>0.125</td><td>⋯</td><td>597.029</td><td>9.59</td><td>NA</td><td>NA</td><td>37.746</td><td>0.5</td><td>64.83</td><td>0.511</td><td>40099462</td><td>FALSE</td></tr>\n",
       "\t<tr><td>AFG</td><td>Asia</td><td>Afghanistan</td><td>2020-02-25</td><td>Feb</td><td>5</td><td>0</td><td>   NA</td><td>0.125</td><td>0.000</td><td>⋯</td><td>597.029</td><td>9.59</td><td>NA</td><td>NA</td><td>37.746</td><td>0.5</td><td>64.83</td><td>0.511</td><td>40099462</td><td>FALSE</td></tr>\n",
       "\t<tr><td>AFG</td><td>Asia</td><td>Afghanistan</td><td>2020-02-26</td><td>Feb</td><td>5</td><td>0</td><td>   NA</td><td>0.125</td><td>0.000</td><td>⋯</td><td>597.029</td><td>9.59</td><td>NA</td><td>NA</td><td>37.746</td><td>0.5</td><td>64.83</td><td>0.511</td><td>40099462</td><td>FALSE</td></tr>\n",
       "\t<tr><td>AFG</td><td>Asia</td><td>Afghanistan</td><td>2020-02-27</td><td>Feb</td><td>5</td><td>0</td><td>   NA</td><td>0.125</td><td>0.000</td><td>⋯</td><td>597.029</td><td>9.59</td><td>NA</td><td>NA</td><td>37.746</td><td>0.5</td><td>64.83</td><td>0.511</td><td>40099462</td><td>FALSE</td></tr>\n",
       "\t<tr><td>AFG</td><td>Asia</td><td>Afghanistan</td><td>2020-02-28</td><td>Feb</td><td>5</td><td>0</td><td>   NA</td><td>0.125</td><td>0.000</td><td>⋯</td><td>597.029</td><td>9.59</td><td>NA</td><td>NA</td><td>37.746</td><td>0.5</td><td>64.83</td><td>0.511</td><td>40099462</td><td>FALSE</td></tr>\n",
       "\t<tr><td>AFG</td><td>Asia</td><td>Afghanistan</td><td>2020-02-29</td><td>Feb</td><td>5</td><td>0</td><td>0.714</td><td>0.125</td><td>0.000</td><td>⋯</td><td>597.029</td><td>9.59</td><td>NA</td><td>NA</td><td>37.746</td><td>0.5</td><td>64.83</td><td>0.511</td><td>40099462</td><td>FALSE</td></tr>\n",
       "</tbody>\n",
       "</table>\n"
      ],
      "text/latex": [
       "A data.table: 6 × 28\n",
       "\\begin{tabular}{lllllllllllllllllllll}\n",
       " iso\\_code & continent & location & date & month & total\\_cases & new\\_cases & new\\_cases\\_smoothed & total\\_cases\\_per\\_million & new\\_cases\\_per\\_million & ⋯ & cardiovasc\\_death\\_rate & diabetes\\_prevalence & female\\_smokers & male\\_smokers & handwashing\\_facilities & hospital\\_beds\\_per\\_thousand & life\\_expectancy & human\\_development\\_index & population & removed\\\\\n",
       " <chr> & <chr> & <chr> & <date> & <chr> & <dbl> & <dbl> & <dbl> & <dbl> & <dbl> & ⋯ & <dbl> & <dbl> & <dbl> & <dbl> & <dbl> & <dbl> & <dbl> & <dbl> & <dbl> & <lgl>\\\\\n",
       "\\hline\n",
       "\t AFG & Asia & Afghanistan & 2020-02-24 & Feb & 5 & 5 &    NA & 0.125 & 0.125 & ⋯ & 597.029 & 9.59 & NA & NA & 37.746 & 0.5 & 64.83 & 0.511 & 40099462 & FALSE\\\\\n",
       "\t AFG & Asia & Afghanistan & 2020-02-25 & Feb & 5 & 0 &    NA & 0.125 & 0.000 & ⋯ & 597.029 & 9.59 & NA & NA & 37.746 & 0.5 & 64.83 & 0.511 & 40099462 & FALSE\\\\\n",
       "\t AFG & Asia & Afghanistan & 2020-02-26 & Feb & 5 & 0 &    NA & 0.125 & 0.000 & ⋯ & 597.029 & 9.59 & NA & NA & 37.746 & 0.5 & 64.83 & 0.511 & 40099462 & FALSE\\\\\n",
       "\t AFG & Asia & Afghanistan & 2020-02-27 & Feb & 5 & 0 &    NA & 0.125 & 0.000 & ⋯ & 597.029 & 9.59 & NA & NA & 37.746 & 0.5 & 64.83 & 0.511 & 40099462 & FALSE\\\\\n",
       "\t AFG & Asia & Afghanistan & 2020-02-28 & Feb & 5 & 0 &    NA & 0.125 & 0.000 & ⋯ & 597.029 & 9.59 & NA & NA & 37.746 & 0.5 & 64.83 & 0.511 & 40099462 & FALSE\\\\\n",
       "\t AFG & Asia & Afghanistan & 2020-02-29 & Feb & 5 & 0 & 0.714 & 0.125 & 0.000 & ⋯ & 597.029 & 9.59 & NA & NA & 37.746 & 0.5 & 64.83 & 0.511 & 40099462 & FALSE\\\\\n",
       "\\end{tabular}\n"
      ],
      "text/markdown": [
       "\n",
       "A data.table: 6 × 28\n",
       "\n",
       "| iso_code &lt;chr&gt; | continent &lt;chr&gt; | location &lt;chr&gt; | date &lt;date&gt; | month &lt;chr&gt; | total_cases &lt;dbl&gt; | new_cases &lt;dbl&gt; | new_cases_smoothed &lt;dbl&gt; | total_cases_per_million &lt;dbl&gt; | new_cases_per_million &lt;dbl&gt; | ⋯ ⋯ | cardiovasc_death_rate &lt;dbl&gt; | diabetes_prevalence &lt;dbl&gt; | female_smokers &lt;dbl&gt; | male_smokers &lt;dbl&gt; | handwashing_facilities &lt;dbl&gt; | hospital_beds_per_thousand &lt;dbl&gt; | life_expectancy &lt;dbl&gt; | human_development_index &lt;dbl&gt; | population &lt;dbl&gt; | removed &lt;lgl&gt; |\n",
       "|---|---|---|---|---|---|---|---|---|---|---|---|---|---|---|---|---|---|---|---|---|\n",
       "| AFG | Asia | Afghanistan | 2020-02-24 | Feb | 5 | 5 |    NA | 0.125 | 0.125 | ⋯ | 597.029 | 9.59 | NA | NA | 37.746 | 0.5 | 64.83 | 0.511 | 40099462 | FALSE |\n",
       "| AFG | Asia | Afghanistan | 2020-02-25 | Feb | 5 | 0 |    NA | 0.125 | 0.000 | ⋯ | 597.029 | 9.59 | NA | NA | 37.746 | 0.5 | 64.83 | 0.511 | 40099462 | FALSE |\n",
       "| AFG | Asia | Afghanistan | 2020-02-26 | Feb | 5 | 0 |    NA | 0.125 | 0.000 | ⋯ | 597.029 | 9.59 | NA | NA | 37.746 | 0.5 | 64.83 | 0.511 | 40099462 | FALSE |\n",
       "| AFG | Asia | Afghanistan | 2020-02-27 | Feb | 5 | 0 |    NA | 0.125 | 0.000 | ⋯ | 597.029 | 9.59 | NA | NA | 37.746 | 0.5 | 64.83 | 0.511 | 40099462 | FALSE |\n",
       "| AFG | Asia | Afghanistan | 2020-02-28 | Feb | 5 | 0 |    NA | 0.125 | 0.000 | ⋯ | 597.029 | 9.59 | NA | NA | 37.746 | 0.5 | 64.83 | 0.511 | 40099462 | FALSE |\n",
       "| AFG | Asia | Afghanistan | 2020-02-29 | Feb | 5 | 0 | 0.714 | 0.125 | 0.000 | ⋯ | 597.029 | 9.59 | NA | NA | 37.746 | 0.5 | 64.83 | 0.511 | 40099462 | FALSE |\n",
       "\n"
      ],
      "text/plain": [
       "  iso_code continent location    date       month total_cases new_cases\n",
       "1 AFG      Asia      Afghanistan 2020-02-24 Feb   5           5        \n",
       "2 AFG      Asia      Afghanistan 2020-02-25 Feb   5           0        \n",
       "3 AFG      Asia      Afghanistan 2020-02-26 Feb   5           0        \n",
       "4 AFG      Asia      Afghanistan 2020-02-27 Feb   5           0        \n",
       "5 AFG      Asia      Afghanistan 2020-02-28 Feb   5           0        \n",
       "6 AFG      Asia      Afghanistan 2020-02-29 Feb   5           0        \n",
       "  new_cases_smoothed total_cases_per_million new_cases_per_million ⋯\n",
       "1    NA              0.125                   0.125                 ⋯\n",
       "2    NA              0.125                   0.000                 ⋯\n",
       "3    NA              0.125                   0.000                 ⋯\n",
       "4    NA              0.125                   0.000                 ⋯\n",
       "5    NA              0.125                   0.000                 ⋯\n",
       "6 0.714              0.125                   0.000                 ⋯\n",
       "  cardiovasc_death_rate diabetes_prevalence female_smokers male_smokers\n",
       "1 597.029               9.59                NA             NA          \n",
       "2 597.029               9.59                NA             NA          \n",
       "3 597.029               9.59                NA             NA          \n",
       "4 597.029               9.59                NA             NA          \n",
       "5 597.029               9.59                NA             NA          \n",
       "6 597.029               9.59                NA             NA          \n",
       "  handwashing_facilities hospital_beds_per_thousand life_expectancy\n",
       "1 37.746                 0.5                        64.83          \n",
       "2 37.746                 0.5                        64.83          \n",
       "3 37.746                 0.5                        64.83          \n",
       "4 37.746                 0.5                        64.83          \n",
       "5 37.746                 0.5                        64.83          \n",
       "6 37.746                 0.5                        64.83          \n",
       "  human_development_index population removed\n",
       "1 0.511                   40099462   FALSE  \n",
       "2 0.511                   40099462   FALSE  \n",
       "3 0.511                   40099462   FALSE  \n",
       "4 0.511                   40099462   FALSE  \n",
       "5 0.511                   40099462   FALSE  \n",
       "6 0.511                   40099462   FALSE  "
      ]
     },
     "metadata": {},
     "output_type": "display_data"
    }
   ],
   "source": [
    "bias_check_table <- \n",
    "    covid_data_month %>%\n",
    "    mutate(removed = ifelse(covid_data_month$iso_code %in% bias_check, TRUE, FALSE)) # add a boolean column of if they were removed\n",
    "dim(bias_check_table) # display the dimension of nocb\n",
    "head(bias_check_table) # check the first few rows"
   ]
  },
  {
   "cell_type": "markdown",
   "id": "f06ba520",
   "metadata": {},
   "source": [
    "### 1.5.1 New cases per million<a name=\"p1.5.1\"></a>"
   ]
  },
  {
   "cell_type": "markdown",
   "id": "52e91db1",
   "metadata": {},
   "source": [
    "Create a boxplot to compare `new_cases_per_million` between countries that were removed and not removed."
   ]
  },
  {
   "cell_type": "code",
   "execution_count": 39,
   "id": "7de7907c",
   "metadata": {
    "scrolled": false
   },
   "outputs": [
    {
     "name": "stderr",
     "output_type": "stream",
     "text": [
      "Warning message:\n",
      "\"Transformation introduced infinite values in continuous y-axis\"\n",
      "Warning message:\n",
      "\"Removed 71614 rows containing non-finite values (stat_boxplot).\"\n"
     ]
    },
    {
     "data": {
      "image/png": "[encoded data removed]",
      "text/plain": [
       "plot without title"
      ]
     },
     "metadata": {
      "image/png": {
       "height": 420,
       "width": 420
      }
     },
     "output_type": "display_data"
    }
   ],
   "source": [
    "ggplot(bias_check_table, aes(x = removed, y = new_cases_per_million, fill = removed)) + \n",
    "    geom_boxplot(alpha = 0.5) + # create a boxplot of new_cases_per_million grouped by removed status\n",
    "    scale_y_log10() + # scale the y-axis with base-10 logarithmic\n",
    "    scale_fill_manual(values = c(\"#E6A0C4\", \"#C6CDF7\"))"
   ]
  },
  {
   "cell_type": "markdown",
   "id": "76e0e1eb",
   "metadata": {},
   "source": [
    "Create summaries of `new_cases_per_million` for the two groups."
   ]
  },
  {
   "cell_type": "code",
   "execution_count": 40,
   "id": "d2f5686c",
   "metadata": {},
   "outputs": [
    {
     "data": {
      "text/plain": [
       "$`FALSE`\n",
       "    Min.  1st Qu.   Median     Mean  3rd Qu.     Max.     NA's \n",
       "    0.00     0.23    11.14   172.32   107.34 35195.42      585 \n",
       "\n",
       "$`TRUE`\n",
       "     Min.   1st Qu.    Median      Mean   3rd Qu.      Max.      NA's \n",
       "     0.00      0.00      0.89    217.74     72.01 195005.31      8565 \n"
      ]
     },
     "metadata": {},
     "output_type": "display_data"
    }
   ],
   "source": [
    "tapply(bias_check_table$new_cases_per_million, bias_check_table$removed, summary) # create summaries of new_cases_per_million"
   ]
  },
  {
   "cell_type": "markdown",
   "id": "f44c670e",
   "metadata": {},
   "source": [
    "Although the median of removed group is lower than the non-removed group, overall they seem comparable in terms of `new_cases_per_million`."
   ]
  },
  {
   "cell_type": "markdown",
   "id": "7ef7d880",
   "metadata": {},
   "source": [
    "### 1.5.2 GDP per capita<a name=\"p1.5.2\"></a>"
   ]
  },
  {
   "cell_type": "markdown",
   "id": "32543d44",
   "metadata": {},
   "source": [
    "We will also perform the same comparison for  `gdp_per_capita`.<br>\n",
    "First, reduce `bias_check_table` to one row per country since `gdp_per_capita` is a fixed data."
   ]
  },
  {
   "cell_type": "code",
   "execution_count": 41,
   "id": "b03e3112",
   "metadata": {},
   "outputs": [],
   "source": [
    "bias_check_table_fixed <-\n",
    "    bias_check_table %>%\n",
    "    group_by(iso_code) %>% # group by iso codes\n",
    "    slice(1) # slice one row per group"
   ]
  },
  {
   "cell_type": "markdown",
   "id": "27bea2f4",
   "metadata": {},
   "source": [
    "Then create a boxplot to compare `gdp_per_capita` between countries that were removed and not removed."
   ]
  },
  {
   "cell_type": "code",
   "execution_count": 42,
   "id": "38b5e789",
   "metadata": {},
   "outputs": [
    {
     "name": "stderr",
     "output_type": "stream",
     "text": [
      "Warning message:\n",
      "\"Removed 35 rows containing non-finite values (stat_boxplot).\"\n"
     ]
    },
    {
     "data": {
      "image/png": "[encoded data removed]",
      "text/plain": [
       "plot without title"
      ]
     },
     "metadata": {
      "image/png": {
       "height": 420,
       "width": 420
      }
     },
     "output_type": "display_data"
    }
   ],
   "source": [
    "bias_check_table_fixed %>%\n",
    "    ggplot(aes(x = removed, y = gdp_per_capita, fill = removed)) + \n",
    "    geom_boxplot(alpha = 0.5) + # create a boxplot of new_cases_per_million grouped by removed status\n",
    "    scale_y_log10() + # scale the y-axis with base-10 logarithmic\n",
    "    scale_fill_manual(values = c(\"#E6A0C4\", \"#C6CDF7\"))"
   ]
  },
  {
   "cell_type": "markdown",
   "id": "621e19a4",
   "metadata": {},
   "source": [
    "Also create a summary of `gdp_per_capita` for the two groups."
   ]
  },
  {
   "cell_type": "code",
   "execution_count": 43,
   "id": "db719009",
   "metadata": {},
   "outputs": [
    {
     "data": {
      "text/plain": [
       "$`FALSE`\n",
       "   Min. 1st Qu.  Median    Mean 3rd Qu.    Max. \n",
       "  661.2  4504.1 13913.8 19771.6 30778.0 94278.0 \n",
       "\n",
       "$`TRUE`\n",
       "    Min.  1st Qu.   Median     Mean  3rd Qu.     Max.     NA's \n",
       "   752.8   3610.1  10727.1  18321.9  22047.9 116935.6       35 \n"
      ]
     },
     "metadata": {},
     "output_type": "display_data"
    }
   ],
   "source": [
    "tapply(bias_check_table_fixed$gdp_per_capita, bias_check_table_fixed$removed, summary) # create summaries of gdp_per_capita"
   ]
  },
  {
   "cell_type": "markdown",
   "id": "5cd906e7",
   "metadata": {},
   "source": [
    "The removed group has slightly lower `gdp_per_capita` in both mean and median."
   ]
  },
  {
   "cell_type": "markdown",
   "id": "95399007",
   "metadata": {},
   "source": [
    "### 1.5.3 Population<a name=\"p1.5.3\"></a>"
   ]
  },
  {
   "cell_type": "markdown",
   "id": "89f4bda5",
   "metadata": {},
   "source": [
    "Create a boxplot to compare `population` between countries that were removed and not removed."
   ]
  },
  {
   "cell_type": "code",
   "execution_count": 44,
   "id": "ec357e5e",
   "metadata": {},
   "outputs": [
    {
     "data": {
      "image/png": "[encoded data removed]",
      "text/plain": [
       "plot without title"
      ]
     },
     "metadata": {
      "image/png": {
       "height": 420,
       "width": 420
      }
     },
     "output_type": "display_data"
    }
   ],
   "source": [
    "ggplot(bias_check_table_fixed, aes(x = removed, y = population, fill = removed)) + \n",
    "    geom_boxplot(alpha = 0.5) + # create a boxplot of population grouped by removed status\n",
    "    scale_y_log10() + # scale the y-axis with base-10 logarithmic\n",
    "    scale_fill_manual(values = c(\"#E6A0C4\", \"#C6CDF7\"))"
   ]
  },
  {
   "cell_type": "markdown",
   "id": "8ca5b718",
   "metadata": {},
   "source": [
    "Create summaries of `population` for the two groups."
   ]
  },
  {
   "cell_type": "code",
   "execution_count": 45,
   "id": "5f539868",
   "metadata": {
    "scrolled": true
   },
   "outputs": [
    {
     "data": {
      "text/plain": [
       "$`FALSE`\n",
       "     Min.   1st Qu.    Median      Mean   3rd Qu.      Max. \n",
       "3.703e+05 5.455e+06 1.688e+07 6.036e+07 4.547e+07 1.426e+09 \n",
       "\n",
       "$`TRUE`\n",
       "    Min.  1st Qu.   Median     Mean  3rd Qu.     Max. \n",
       "      47    57948   403968  4554543  5148816 53798084 \n"
      ]
     },
     "metadata": {},
     "output_type": "display_data"
    }
   ],
   "source": [
    "tapply(bias_check_table_fixed$population, bias_check_table_fixed$removed, summary) # create summaries of population"
   ]
  },
  {
   "cell_type": "markdown",
   "id": "8e728c04",
   "metadata": {},
   "source": [
    "The removed group has significantly lower `population` compared to the non-removed group.<br>\n",
    "From the three comparisons above we can say that the mergning and cleaning steps of the data have introduced a sampling bias to under-represent countries with smaller populations and slightly lower GDP per capita."
   ]
  },
  {
   "cell_type": "markdown",
   "id": "36f86c6d",
   "metadata": {},
   "source": [
    "# Part 2: Data Exploration<a name=\"p2\"></a>"
   ]
  },
  {
   "cell_type": "markdown",
   "id": "19e7e389",
   "metadata": {},
   "source": [
    "In this section we will explore the data from `final_df` to understand them further.<br>\n",
    "First we will inspect the data types of each variables."
   ]
  },
  {
   "cell_type": "code",
   "execution_count": 46,
   "id": "778ffd89",
   "metadata": {},
   "outputs": [
    {
     "data": {
      "text/html": [
       "<table class=\"dataframe\">\n",
       "<caption>A data.frame: 24 × 1</caption>\n",
       "<thead>\n",
       "\t<tr><th></th><th scope=col>sapply.final_df..typeof.</th></tr>\n",
       "\t<tr><th></th><th scope=col>&lt;chr&gt;</th></tr>\n",
       "</thead>\n",
       "<tbody>\n",
       "\t<tr><th scope=row>iso_code</th><td>character</td></tr>\n",
       "\t<tr><th scope=row>continent</th><td>character</td></tr>\n",
       "\t<tr><th scope=row>location</th><td>character</td></tr>\n",
       "\t<tr><th scope=row>date</th><td>double   </td></tr>\n",
       "\t<tr><th scope=row>month</th><td>character</td></tr>\n",
       "\t<tr><th scope=row>total_cases</th><td>double   </td></tr>\n",
       "\t<tr><th scope=row>new_cases</th><td>double   </td></tr>\n",
       "\t<tr><th scope=row>new_cases_smoothed</th><td>double   </td></tr>\n",
       "\t<tr><th scope=row>total_cases_per_million</th><td>double   </td></tr>\n",
       "\t<tr><th scope=row>new_cases_per_million</th><td>double   </td></tr>\n",
       "\t<tr><th scope=row>new_cases_smoothed_per_million</th><td>double   </td></tr>\n",
       "\t<tr><th scope=row>stringency_index</th><td>double   </td></tr>\n",
       "\t<tr><th scope=row>population_density</th><td>double   </td></tr>\n",
       "\t<tr><th scope=row>median_age</th><td>double   </td></tr>\n",
       "\t<tr><th scope=row>aged_65_older</th><td>double   </td></tr>\n",
       "\t<tr><th scope=row>aged_70_older</th><td>double   </td></tr>\n",
       "\t<tr><th scope=row>gdp_per_capita</th><td>double   </td></tr>\n",
       "\t<tr><th scope=row>cardiovasc_death_rate</th><td>double   </td></tr>\n",
       "\t<tr><th scope=row>diabetes_prevalence</th><td>double   </td></tr>\n",
       "\t<tr><th scope=row>life_expectancy</th><td>double   </td></tr>\n",
       "\t<tr><th scope=row>human_development_index</th><td>double   </td></tr>\n",
       "\t<tr><th scope=row>population</th><td>double   </td></tr>\n",
       "\t<tr><th scope=row>sunshine_hours_year</th><td>double   </td></tr>\n",
       "\t<tr><th scope=row>sunshine_hours_month</th><td>double   </td></tr>\n",
       "</tbody>\n",
       "</table>\n"
      ],
      "text/latex": [
       "A data.frame: 24 × 1\n",
       "\\begin{tabular}{r|l}\n",
       "  & sapply.final\\_df..typeof.\\\\\n",
       "  & <chr>\\\\\n",
       "\\hline\n",
       "\tiso\\_code & character\\\\\n",
       "\tcontinent & character\\\\\n",
       "\tlocation & character\\\\\n",
       "\tdate & double   \\\\\n",
       "\tmonth & character\\\\\n",
       "\ttotal\\_cases & double   \\\\\n",
       "\tnew\\_cases & double   \\\\\n",
       "\tnew\\_cases\\_smoothed & double   \\\\\n",
       "\ttotal\\_cases\\_per\\_million & double   \\\\\n",
       "\tnew\\_cases\\_per\\_million & double   \\\\\n",
       "\tnew\\_cases\\_smoothed\\_per\\_million & double   \\\\\n",
       "\tstringency\\_index & double   \\\\\n",
       "\tpopulation\\_density & double   \\\\\n",
       "\tmedian\\_age & double   \\\\\n",
       "\taged\\_65\\_older & double   \\\\\n",
       "\taged\\_70\\_older & double   \\\\\n",
       "\tgdp\\_per\\_capita & double   \\\\\n",
       "\tcardiovasc\\_death\\_rate & double   \\\\\n",
       "\tdiabetes\\_prevalence & double   \\\\\n",
       "\tlife\\_expectancy & double   \\\\\n",
       "\thuman\\_development\\_index & double   \\\\\n",
       "\tpopulation & double   \\\\\n",
       "\tsunshine\\_hours\\_year & double   \\\\\n",
       "\tsunshine\\_hours\\_month & double   \\\\\n",
       "\\end{tabular}\n"
      ],
      "text/markdown": [
       "\n",
       "A data.frame: 24 × 1\n",
       "\n",
       "| <!--/--> | sapply.final_df..typeof. &lt;chr&gt; |\n",
       "|---|---|\n",
       "| iso_code | character |\n",
       "| continent | character |\n",
       "| location | character |\n",
       "| date | double    |\n",
       "| month | character |\n",
       "| total_cases | double    |\n",
       "| new_cases | double    |\n",
       "| new_cases_smoothed | double    |\n",
       "| total_cases_per_million | double    |\n",
       "| new_cases_per_million | double    |\n",
       "| new_cases_smoothed_per_million | double    |\n",
       "| stringency_index | double    |\n",
       "| population_density | double    |\n",
       "| median_age | double    |\n",
       "| aged_65_older | double    |\n",
       "| aged_70_older | double    |\n",
       "| gdp_per_capita | double    |\n",
       "| cardiovasc_death_rate | double    |\n",
       "| diabetes_prevalence | double    |\n",
       "| life_expectancy | double    |\n",
       "| human_development_index | double    |\n",
       "| population | double    |\n",
       "| sunshine_hours_year | double    |\n",
       "| sunshine_hours_month | double    |\n",
       "\n"
      ],
      "text/plain": [
       "                               sapply.final_df..typeof.\n",
       "iso_code                       character               \n",
       "continent                      character               \n",
       "location                       character               \n",
       "date                           double                  \n",
       "month                          character               \n",
       "total_cases                    double                  \n",
       "new_cases                      double                  \n",
       "new_cases_smoothed             double                  \n",
       "total_cases_per_million        double                  \n",
       "new_cases_per_million          double                  \n",
       "new_cases_smoothed_per_million double                  \n",
       "stringency_index               double                  \n",
       "population_density             double                  \n",
       "median_age                     double                  \n",
       "aged_65_older                  double                  \n",
       "aged_70_older                  double                  \n",
       "gdp_per_capita                 double                  \n",
       "cardiovasc_death_rate          double                  \n",
       "diabetes_prevalence            double                  \n",
       "life_expectancy                double                  \n",
       "human_development_index        double                  \n",
       "population                     double                  \n",
       "sunshine_hours_year            double                  \n",
       "sunshine_hours_month           double                  "
      ]
     },
     "metadata": {},
     "output_type": "display_data"
    }
   ],
   "source": [
    "data.frame(sapply(final_df, typeof)) # create a dataframe showing data type of each variables"
   ]
  },
  {
   "cell_type": "markdown",
   "id": "8f235740",
   "metadata": {},
   "source": [
    "Data types are correct for all variables.<br>\n",
    "We will also display the distribution of `double` type variables except for `date`."
   ]
  },
  {
   "cell_type": "code",
   "execution_count": 47,
   "id": "af825914",
   "metadata": {
    "scrolled": false
   },
   "outputs": [
    {
     "data": {
      "text/plain": [
       "  total_cases         new_cases       new_cases_smoothed\n",
       " Min.   :       1   Min.   :      0   Min.   :     0.0  \n",
       " 1st Qu.:   22796   1st Qu.:      6   1st Qu.:    34.4  \n",
       " Median :  169396   Median :    220   Median :   331.0  \n",
       " Mean   : 1866273   Mean   :   5175   Mean   :  5157.5  \n",
       " 3rd Qu.:  958772   3rd Qu.:   1760   3rd Qu.:  2016.3  \n",
       " Max.   :97023267   Max.   :1355210   Max.   :806874.4  \n",
       " total_cases_per_million new_cases_per_million new_cases_smoothed_per_million\n",
       " Min.   :     0.1        Min.   :    0.00      Min.   :    0.00              \n",
       " 1st Qu.:  1492.5        1st Qu.:    0.32      1st Qu.:    2.17              \n",
       " Median : 10810.8        Median :   12.60      Median :   22.20              \n",
       " Mean   : 59179.5        Mean   :  178.04      Mean   :  177.55              \n",
       " 3rd Qu.: 71598.5        3rd Qu.:  114.67      3rd Qu.:  140.46              \n",
       " Max.   :662430.1        Max.   :35195.42      Max.   :10968.16              \n",
       " stringency_index population_density   median_age    aged_65_older   \n",
       " Min.   :  0.00   Min.   :   1.98    Min.   :15.10   Min.   : 1.144  \n",
       " 1st Qu.: 30.11   1st Qu.:  23.26    1st Qu.:20.80   1st Qu.: 3.402  \n",
       " Median : 47.06   Median :  68.50    Median :30.60   Median : 6.857  \n",
       " Mean   : 47.18   Mean   : 184.12    Mean   :31.16   Mean   : 9.646  \n",
       " 3rd Qu.: 64.81   3rd Qu.: 126.72    3rd Qu.:41.00   3rd Qu.:15.504  \n",
       " Max.   :100.00   Max.   :7915.73    Max.   :48.20   Max.   :27.049  \n",
       " aged_70_older    gdp_per_capita    cardiovasc_death_rate diabetes_prevalence\n",
       " Min.   : 0.526   Min.   :  661.2   Min.   : 79.37        Min.   : 0.990     \n",
       " 1st Qu.: 2.034   1st Qu.: 4466.5   1st Qu.:151.09        1st Qu.: 4.820     \n",
       " Median : 4.321   Median :13913.8   Median :241.22        Median : 6.470     \n",
       " Mean   : 6.211   Mean   :19801.4   Mean   :257.18        Mean   : 7.002     \n",
       " 3rd Qu.:10.244   3rd Qu.:31400.8   3rd Qu.:329.94        3rd Qu.: 8.350     \n",
       " Max.   :18.493   Max.   :94278.0   Max.   :724.42        Max.   :18.680     \n",
       " life_expectancy human_development_index   population       \n",
       " Min.   :53.28   Min.   :0.3940          Min.   :3.703e+05  \n",
       " 1st Qu.:66.60   1st Qu.:0.5810          1st Qu.:5.454e+06  \n",
       " Median :75.05   Median :0.7590          Median :1.688e+07  \n",
       " Mean   :73.07   Mean   :0.7355          Mean   :6.046e+07  \n",
       " 3rd Qu.:78.86   3rd Qu.:0.8870          3rd Qu.:4.566e+07  \n",
       " Max.   :84.63   Max.   :0.9570          Max.   :1.426e+09  \n",
       " sunshine_hours_year sunshine_hours_month\n",
       " Min.   :1326        Min.   : 15.7       \n",
       " 1st Qu.:1994        1st Qu.:164.5       \n",
       " Median :2372        Median :216.0       \n",
       " Mean   :2468        Mean   :210.7       \n",
       " 3rd Qu.:2966        3rd Qu.:262.5       \n",
       " Max.   :3738        Max.   :387.5       "
      ]
     },
     "metadata": {},
     "output_type": "display_data"
    }
   ],
   "source": [
    "summary(final_df[, 6:24]) # Display the distrubution of columns 6-24"
   ]
  },
  {
   "cell_type": "markdown",
   "id": "4fa3317d",
   "metadata": {},
   "source": [
    "## 2.1 Time series data<a name=\"p2.1\"></a>"
   ]
  },
  {
   "cell_type": "markdown",
   "id": "dfe2d36a",
   "metadata": {},
   "source": [
    "In this part we will visualise the time series data to explore them.<br>\n",
    "Visualise `total_cases` for randomly selected sample countries."
   ]
  },
  {
   "cell_type": "code",
   "execution_count": 48,
   "id": "0e089292",
   "metadata": {},
   "outputs": [
    {
     "data": {
      "image/png": "[encoded data removed]",
      "text/plain": [
       "plot without title"
      ]
     },
     "metadata": {
      "image/png": {
       "height": 420,
       "width": 420
      }
     },
     "output_type": "display_data"
    }
   ],
   "source": [
    "final_df %>%\n",
    "    filter(iso_code %in% sample(unique(iso_code), 3, replace = FALSE)) %>% # select three iso codes without replacement and filter final_df\n",
    "    ggplot(aes(x = date, y = total_cases, color = location)) + \n",
    "    geom_line(size = 2, alpha = 0.7) + # create a lineplot of total_cases grouped by country\n",
    "    scale_color_manual(values = c(\"#0C775F\", \"#7294D4\", \"#E6A0C4\"))"
   ]
  },
  {
   "cell_type": "markdown",
   "id": "5d98c8fe",
   "metadata": {},
   "source": [
    "`total_cases` shows the total confirmed cases of COVID-19 per country.<br>\n",
    "Since this data is cumulative, it is expected that values increase as time passes at rates depending on `new_cases`."
   ]
  },
  {
   "cell_type": "markdown",
   "id": "59db4833",
   "metadata": {},
   "source": [
    "Visualise `new_cases` for randomly selected sample countries."
   ]
  },
  {
   "cell_type": "code",
   "execution_count": 49,
   "id": "e01975c1",
   "metadata": {},
   "outputs": [
    {
     "data": {
      "image/png": "[encoded data removed]",
      "text/plain": [
       "plot without title"
      ]
     },
     "metadata": {
      "image/png": {
       "height": 420,
       "width": 420
      }
     },
     "output_type": "display_data"
    }
   ],
   "source": [
    "final_df %>%\n",
    "    filter(iso_code %in% sample(unique(iso_code), 3, replace = FALSE)) %>% # select three iso codes without replacement and filter final_df\n",
    "    ggplot(aes(x = date, y = new_cases, color = location)) +\n",
    "    geom_line(size = 1, alpha = 0.7) + # create a lineplot of new_cases grouped by country\n",
    "    scale_color_manual(values = c(\"#0C775F\", \"#7294D4\", \"#E6A0C4\"))"
   ]
  },
  {
   "cell_type": "markdown",
   "id": "deb4ab31",
   "metadata": {},
   "source": [
    "`new_cases`shows the new confirmed cases of COVID-19 per country.<br>\n",
    "We can see that each country has several peaks in cases over the timeline."
   ]
  },
  {
   "cell_type": "markdown",
   "id": "97521f39",
   "metadata": {},
   "source": [
    "Visualise `new_cases_smoothed` for ramdomly selected sample countries."
   ]
  },
  {
   "cell_type": "code",
   "execution_count": 50,
   "id": "f0a2403a",
   "metadata": {},
   "outputs": [
    {
     "data": {
      "image/png": "[encoded data removed]",
      "text/plain": [
       "plot without title"
      ]
     },
     "metadata": {
      "image/png": {
       "height": 420,
       "width": 420
      }
     },
     "output_type": "display_data"
    }
   ],
   "source": [
    "final_df %>%\n",
    "    filter(iso_code %in% sample(unique(iso_code), 3, replace = FALSE)) %>% # select three iso codes without replacement and filter final_df\n",
    "    ggplot(aes(x = date, y = new_cases_smoothed, color = location)) +\n",
    "    geom_line(size = 1.5, alpha = 0.7) + # create a lineplot of new_cases_smoothed grouped by country\n",
    "    scale_color_manual(values = c(\"#0C775F\", \"#7294D4\", \"#E6A0C4\"))"
   ]
  },
  {
   "cell_type": "markdown",
   "id": "94f03b4b",
   "metadata": {},
   "source": [
    "`new_cases_smoothed` shows the new confirmed cases of COVID-19 (7-day smoothed).<br>\n",
    "Even with outliers removed we can still see the pattern of several peaks in cases over the timeline."
   ]
  },
  {
   "cell_type": "markdown",
   "id": "da7ac44b",
   "metadata": {},
   "source": [
    "Visualise `total_cases_per_million` for randomly selected sample countries."
   ]
  },
  {
   "cell_type": "code",
   "execution_count": 51,
   "id": "ec6eeb62",
   "metadata": {},
   "outputs": [
    {
     "data": {
      "image/png": "[encoded data removed]",
      "text/plain": [
       "plot without title"
      ]
     },
     "metadata": {
      "image/png": {
       "height": 420,
       "width": 420
      }
     },
     "output_type": "display_data"
    }
   ],
   "source": [
    "final_df %>%\n",
    "    filter(iso_code %in% sample(unique(iso_code), 3, replace = FALSE)) %>% # select three iso codes without replacement and filter final_df\n",
    "    ggplot(aes(x = date, y = total_cases_per_million, color = location)) +\n",
    "    geom_line(size = 2, alpha = 0.7) + # create a lineplot of total_cases_per_million grouped by country\n",
    "    scale_color_manual(values = c(\"#0C775F\", \"#7294D4\", \"#E6A0C4\"))"
   ]
  },
  {
   "cell_type": "markdown",
   "id": "c7d0fff7",
   "metadata": {},
   "source": [
    "`total_cases_per_million` shows the total confirmed cases of COVID-19 per 1,000,000 people.<br>\n",
    "Similar to `total_cases` this is cumulative, but with the data adjusted for population we can see that some countries have low confirmed cases compared to others overall."
   ]
  },
  {
   "cell_type": "markdown",
   "id": "a872953a",
   "metadata": {},
   "source": [
    "Visualise `new_cases_per_million` for randomly selected sample countries."
   ]
  },
  {
   "cell_type": "code",
   "execution_count": 52,
   "id": "1e2d951d",
   "metadata": {},
   "outputs": [
    {
     "data": {
      "image/png": "[encoded data removed]",
      "text/plain": [
       "plot without title"
      ]
     },
     "metadata": {
      "image/png": {
       "height": 420,
       "width": 420
      }
     },
     "output_type": "display_data"
    }
   ],
   "source": [
    "final_df %>%\n",
    "    filter(iso_code %in% sample(unique(iso_code), 3, replace = FALSE)) %>% # select three iso codes without replacement and filter final_df\n",
    "    ggplot(aes(x = date, y = new_cases_per_million, color = location)) +\n",
    "    geom_line(size = 1, alpha = 0.7) + # create a lineplot of new_cases_per_million grouped by country\n",
    "    scale_color_manual(values = c(\"#0C775F\", \"#7294D4\", \"#E6A0C4\"))"
   ]
  },
  {
   "cell_type": "markdown",
   "id": "0966007c",
   "metadata": {},
   "source": [
    "`new_cases_per_million` shows the new confirmed cases of COVID-19 per 1,000,000 people.<br>\n",
    "With the data adjusted for population, we can see the difference in size of the peaks in cases reported."
   ]
  },
  {
   "cell_type": "markdown",
   "id": "e411ad8b",
   "metadata": {},
   "source": [
    "Visualise `new_cases_smoothed_per_million` for randomly selected sample countries."
   ]
  },
  {
   "cell_type": "code",
   "execution_count": 53,
   "id": "1b15e9d7",
   "metadata": {},
   "outputs": [
    {
     "data": {
      "image/png": "[encoded data removed]",
      "text/plain": [
       "plot without title"
      ]
     },
     "metadata": {
      "image/png": {
       "height": 420,
       "width": 420
      }
     },
     "output_type": "display_data"
    }
   ],
   "source": [
    "final_df %>%\n",
    "    filter(iso_code %in% sample(unique(iso_code), 3, replace = FALSE)) %>% # select three iso codes without replacement and filter final_df\n",
    "    ggplot(aes(x = date, y = new_cases_smoothed_per_million, color = location)) +\n",
    "    geom_line(size = 1.5, alpha = 0.7) + # create a lineplot of new_cases_smoothed_per_million grouped by country\n",
    "    scale_color_manual(values = c(\"#0C775F\", \"#7294D4\", \"#E6A0C4\"))"
   ]
  },
  {
   "cell_type": "markdown",
   "id": "924c95bb",
   "metadata": {},
   "source": [
    "`new_cases_smoothed_per_million` shows new confirmed cases of COVID-19 (7-day smoothed) per 1,000,000 people.<br>\n",
    "Similar to `new_cases_per_million` the data adjusted for population shows the difference in size of the peaks in cases reported."
   ]
  },
  {
   "cell_type": "markdown",
   "id": "0887ad18",
   "metadata": {},
   "source": [
    "Visualise `stringency_index` for randomly selected sample countries."
   ]
  },
  {
   "cell_type": "code",
   "execution_count": 54,
   "id": "09f3d451",
   "metadata": {},
   "outputs": [
    {
     "data": {
      "image/png": "[encoded data removed]",
      "text/plain": [
       "plot without title"
      ]
     },
     "metadata": {
      "image/png": {
       "height": 420,
       "width": 420
      }
     },
     "output_type": "display_data"
    }
   ],
   "source": [
    "final_df %>%\n",
    "    filter(iso_code %in% sample(unique(iso_code), 3, replace = FALSE)) %>% # select three iso codes without replacement and filter final_df\n",
    "    ggplot(aes(x = date, y = stringency_index, color = location)) +\n",
    "    geom_line(size = 1.5, alpha = 0.7) + # create a lineplot of stringency_index grouped by country\n",
    "    scale_color_manual(values = c(\"#0C775F\", \"#7294D4\", \"#E6A0C4\"))"
   ]
  },
  {
   "cell_type": "markdown",
   "id": "61196cd9",
   "metadata": {},
   "source": [
    "`stringency_index` shows the Government Response Stringency Index: composite measure based on 9 response indicators including school closures, workplace closures, and travel bans, rescaled to a value from 0 to 100 (100 = strictest response).<br>\n",
    "We can see a general decrease in most countries over the timeline."
   ]
  },
  {
   "cell_type": "markdown",
   "id": "8739a892",
   "metadata": {},
   "source": [
    "Visualise the distribution of `sunshine_hours_month` for randomly selected sample countries."
   ]
  },
  {
   "cell_type": "code",
   "execution_count": 55,
   "id": "3cc9c3d3",
   "metadata": {},
   "outputs": [
    {
     "data": {
      "image/png": "[encoded data removed]",
      "text/plain": [
       "plot without title"
      ]
     },
     "metadata": {
      "image/png": {
       "height": 420,
       "width": 420
      }
     },
     "output_type": "display_data"
    }
   ],
   "source": [
    "final_df %>%\n",
    "    filter(iso_code %in% sample(unique(iso_code), 3, replace = FALSE)) %>% # select three iso codes without replacement and filter final_df\n",
    "    ggplot(aes(x = date, y = sunshine_hours_month, color = location)) +\n",
    "    geom_line(size = 1.5, alpha = 0.7) +  # create a lineplot of sunshine_hours_month grouped by country\n",
    "    scale_color_manual(values = c(\"#0C775F\", \"#7294D4\", \"#E6A0C4\"))"
   ]
  },
  {
   "cell_type": "markdown",
   "id": "f6090e1c",
   "metadata": {},
   "source": [
    "`sunshine_hours_month` shows the average measured duration of sunshine per month.<br>\n",
    "Since the data repeats every year, the plot shows clear repeating patters for each countries over the timeline."
   ]
  },
  {
   "cell_type": "markdown",
   "id": "b471aa70",
   "metadata": {},
   "source": [
    "## 2.2 Fixed data<a name=\"p2.2\"></a>"
   ]
  },
  {
   "cell_type": "markdown",
   "id": "8c7b037a",
   "metadata": {},
   "source": [
    "In this part we will visualise the fixed data to explore them.<br>\n",
    "Visualise the distribution of `population_density`."
   ]
  },
  {
   "cell_type": "code",
   "execution_count": 56,
   "id": "f2fd5095",
   "metadata": {},
   "outputs": [
    {
     "data": {
      "image/png": "[encoded data removed]",
      "text/plain": [
       "plot without title"
      ]
     },
     "metadata": {
      "image/png": {
       "height": 420,
       "width": 420
      }
     },
     "output_type": "display_data"
    }
   ],
   "source": [
    "population_density1 <-\n",
    "    final_df %>%\n",
    "    group_by(iso_code) %>% # group by iso codes\n",
    "    slice(1) %>% # slice one row per group\n",
    "    ggplot(aes(x = population_density)) +\n",
    "    geom_histogram(bins = 30, fill = \"#C6CDF7\") + # create a histogram of population_density\n",
    "    scale_x_log10() + # scale the x-axis with base-10 logarithmic\n",
    "    geom_vline(xintercept = mean(final_df$population_density), size = 1, linetype = \"dashed\") + # draw a dashed line at mean\n",
    "    geom_vline(xintercept = median(final_df$population_density), size = 1, colour = \"#C93312\") # draw a red line at median\n",
    "\n",
    "population_density2 <-\n",
    "    final_df %>%\n",
    "    group_by(iso_code) %>% # group by iso codes\n",
    "    slice(1) %>% # slice one row per group\n",
    "    ggplot(aes(x = population_density, fill = continent)) +\n",
    "    geom_boxplot(alpha = 0.5) + # create a boxplot of population_density grouped by continent\n",
    "    scale_fill_brewer(palette=\"BuPu\") +\n",
    "    scale_x_log10() # scale the x-axis with base-10 logarithmic\n",
    "    \n",
    "grid.arrange(population_density1, population_density2, nrow = 2) # Display two plots in two rows"
   ]
  },
  {
   "cell_type": "markdown",
   "id": "20f16f10",
   "metadata": {},
   "source": [
    "`population_density` has a unimodal distribution with right skew.<br>\n",
    "Since there are high outliers, median is more represenative compared to mean.<br>\n",
    "Asia has the highest, Oceania has the lowest number of people divided by land area, measured in square kilometers."
   ]
  },
  {
   "cell_type": "markdown",
   "id": "e95c829f",
   "metadata": {},
   "source": [
    "Visualise the distribution of `median_age`."
   ]
  },
  {
   "cell_type": "code",
   "execution_count": 57,
   "id": "2057ebc6",
   "metadata": {},
   "outputs": [
    {
     "data": {
      "image/png": "[encoded data removed]",
      "text/plain": [
       "plot without title"
      ]
     },
     "metadata": {
      "image/png": {
       "height": 420,
       "width": 420
      }
     },
     "output_type": "display_data"
    }
   ],
   "source": [
    "median_age1 <-\n",
    "    final_df %>%\n",
    "    group_by(iso_code) %>% # group by iso codes\n",
    "    slice(1) %>% # slice one row per group\n",
    "    ggplot(aes(x = median_age)) +\n",
    "    geom_histogram(binwidth = 2, fill = \"#C6CDF7\") + # create a histogram of median_age\n",
    "    geom_vline(xintercept = mean(final_df$median_age), size = 1, linetype = \"dashed\") + # draw a dashed line at mean\n",
    "    geom_vline(xintercept = median(final_df$median_age), size = 1, colour = \"#C93312\") # draw a red line at median\n",
    "\n",
    "median_age2 <-\n",
    "    final_df %>%\n",
    "    group_by(iso_code) %>% # group by iso codes\n",
    "    slice(1) %>% # slice one row per group\n",
    "    ggplot(aes(x = median_age, fill = continent)) +\n",
    "    geom_boxplot(alpha = 0.5) + # create a boxplot of median_age grouped by continent\n",
    "    scale_fill_brewer(palette=\"BuPu\")\n",
    "\n",
    "grid.arrange(median_age1, median_age2, nrow = 2) # Display two plots in two rows"
   ]
  },
  {
   "cell_type": "markdown",
   "id": "cb01523f",
   "metadata": {},
   "source": [
    "`median_age` has a multimodal distribution.<br>\n",
    "There are no extreme outliers and median and mean are both likely representative.<br>\n",
    "North America has the highest, Africa has the lowest median age of the population."
   ]
  },
  {
   "cell_type": "markdown",
   "id": "7793a164",
   "metadata": {},
   "source": [
    "Visualise the distribution of `aged_65_older`."
   ]
  },
  {
   "cell_type": "code",
   "execution_count": 58,
   "id": "881d40ba",
   "metadata": {},
   "outputs": [
    {
     "data": {
      "image/png": "[encoded data removed]",
      "text/plain": [
       "plot without title"
      ]
     },
     "metadata": {
      "image/png": {
       "height": 420,
       "width": 420
      }
     },
     "output_type": "display_data"
    }
   ],
   "source": [
    "aged_65_older1 <-\n",
    "    final_df %>%\n",
    "    group_by(iso_code) %>% # group by iso codes\n",
    "    slice(1) %>% # slice one row per group\n",
    "    ggplot(aes(x = aged_65_older)) +\n",
    "    geom_histogram(binwidth = 2, fill = \"#C6CDF7\") + # create a histogram of aged_65_older\n",
    "    geom_vline(xintercept = mean(final_df$aged_65_older), size = 1, linetype = \"dashed\") + # draw a dashed line at mean\n",
    "    geom_vline(xintercept = median(final_df$aged_65_older), size = 1, colour = \"#C93312\") # draw a red line at median\n",
    "\n",
    "aged_65_older2 <-\n",
    "    final_df %>%\n",
    "    group_by(iso_code) %>% # group by iso codes\n",
    "    slice(1) %>% # slice one row per group\n",
    "    ggplot(aes(x = aged_65_older, fill = continent)) +\n",
    "    geom_boxplot(alpha = 0.5) + # create a boxplot of aged_65_older grouped by continent\n",
    "    scale_fill_brewer(palette=\"BuPu\")\n",
    "\n",
    "grid.arrange(aged_65_older1, aged_65_older2, nrow = 2) # Display two plots in two rows"
   ]
  },
  {
   "cell_type": "markdown",
   "id": "527712ee",
   "metadata": {},
   "source": [
    "`aged_65_older` has a unimodal distribution with right skew.<br>\n",
    "There are high outliers, median is more represenative compared to mean.<br>\n",
    "Europe has the highest, Africa has the lowest share of the population that is 65 years and older."
   ]
  },
  {
   "cell_type": "markdown",
   "id": "68d9afde",
   "metadata": {},
   "source": [
    "Visualise the distribution of `aged_70_older`."
   ]
  },
  {
   "cell_type": "code",
   "execution_count": 59,
   "id": "8289cc4b",
   "metadata": {},
   "outputs": [
    {
     "data": {
      "image/png": "[encoded data removed]",
      "text/plain": [
       "plot without title"
      ]
     },
     "metadata": {
      "image/png": {
       "height": 420,
       "width": 420
      }
     },
     "output_type": "display_data"
    }
   ],
   "source": [
    "aged_70_older1 <-\n",
    "    final_df %>%\n",
    "    group_by(iso_code) %>% # group by iso codes\n",
    "    slice(1) %>% # slice one row per group\n",
    "    ggplot(aes(x = aged_70_older)) +\n",
    "    geom_histogram(binwidth = 2, fill = \"#C6CDF7\") + # create a histogram of aged_70_older\n",
    "    geom_vline(xintercept = mean(final_df$aged_70_older), size = 1, linetype = \"dashed\") + # draw a dashed line at mean\n",
    "    geom_vline(xintercept = median(final_df$aged_70_older), size = 1, colour = \"#C93312\") # draw a red line at median\n",
    "\n",
    "aged_70_older2 <-\n",
    "    final_df %>%\n",
    "    group_by(iso_code) %>% # group by iso codes\n",
    "    slice(1) %>% # slice one row per group\n",
    "    ggplot(aes(x = aged_70_older, fill = continent)) +\n",
    "    geom_boxplot(alpha = 0.5) + # create a boxplot of aged_70_older grouped by continent\n",
    "    scale_fill_brewer(palette=\"BuPu\")\n",
    "\n",
    "grid.arrange(aged_70_older1, aged_70_older2, nrow = 2) # Display two plots in two rows"
   ]
  },
  {
   "cell_type": "markdown",
   "id": "cafd696e",
   "metadata": {},
   "source": [
    "`aged_70_older` has a unimodal distribution with right skew.<br>\n",
    "Since there are high outliers, median is more represenative compared to mean.<br>\n",
    "Europe has the highest, Africa has the lowest share of the population that is 70 years and older."
   ]
  },
  {
   "cell_type": "markdown",
   "id": "416f9915",
   "metadata": {},
   "source": [
    "Visualise the distribution of `gdp_per_capita`."
   ]
  },
  {
   "cell_type": "code",
   "execution_count": 60,
   "id": "9be919cf",
   "metadata": {},
   "outputs": [
    {
     "data": {
      "image/png": "[encoded data removed]",
      "text/plain": [
       "plot without title"
      ]
     },
     "metadata": {
      "image/png": {
       "height": 420,
       "width": 420
      }
     },
     "output_type": "display_data"
    }
   ],
   "source": [
    "gdp_per_capita1 <-\n",
    "    final_df %>%\n",
    "    group_by(iso_code) %>% # group by iso codes\n",
    "    slice(1) %>% # slice one row per group\n",
    "    ggplot(aes(x = gdp_per_capita)) +\n",
    "    geom_histogram(bins = 30, fill = \"#C6CDF7\") + # create a histogram of gdp_per_capital\n",
    "    geom_vline(xintercept = mean(final_df$gdp_per_capita), size = 1, linetype = \"dashed\") + # draw a dashed line at mean\n",
    "    geom_vline(xintercept = median(final_df$gdp_per_capita), size = 1, colour = \"#C93312\") # draw a red line at median\n",
    "\n",
    "gdp_per_capita2 <-\n",
    "    final_df %>%\n",
    "    group_by(iso_code) %>% # group by iso codes\n",
    "    slice(1) %>% # slice one row per group\n",
    "    ggplot(aes(x = gdp_per_capita, fill = continent)) +\n",
    "    geom_boxplot(alpha = 0.5) + # create a boxplot of gdp_per_capita grouped by continent\n",
    "    scale_fill_brewer(palette=\"BuPu\")\n",
    "\n",
    "grid.arrange(gdp_per_capita1, gdp_per_capita2, nrow = 2) # Display two plots in two rows"
   ]
  },
  {
   "cell_type": "markdown",
   "id": "f2e81638",
   "metadata": {},
   "source": [
    "`gdp_per_capita` has a unimodal distribution with right skew.<br>\n",
    "Since there are high outliers, median is more represenative compared to mean.<br>\n",
    "Europe has the highest, Africa has the lowest gross domestic product at purchasing power parity."
   ]
  },
  {
   "cell_type": "markdown",
   "id": "4ab9cdbb",
   "metadata": {},
   "source": [
    "Visualise the distribution of `cardiovasc_death_rate`."
   ]
  },
  {
   "cell_type": "code",
   "execution_count": 61,
   "id": "5425c6fc",
   "metadata": {},
   "outputs": [
    {
     "data": {
      "image/png": "[encoded data removed]",
      "text/plain": [
       "plot without title"
      ]
     },
     "metadata": {
      "image/png": {
       "height": 420,
       "width": 420
      }
     },
     "output_type": "display_data"
    }
   ],
   "source": [
    "cardiovasc_death_rate1 <-\n",
    "    final_df %>%\n",
    "    group_by(iso_code) %>% # group by iso codes\n",
    "    slice(1) %>% # slice one row per group\n",
    "    ggplot(aes(x = cardiovasc_death_rate)) +\n",
    "    geom_histogram(binwidth = 25, fill = \"#C6CDF7\") + # create a histogram of cardiovasc_death_rate\n",
    "    geom_vline(xintercept = mean(final_df$cardiovasc_death_rate), size = 1, linetype = \"dashed\") + # draw a dashed line at mean\n",
    "    geom_vline(xintercept = median(final_df$cardiovasc_death_rate), size = 1, colour = \"#C93312\") # draw a red line at median\n",
    "\n",
    "cardiovasc_death_rate2 <-\n",
    "    final_df %>%\n",
    "    group_by(iso_code) %>% # group by iso codes\n",
    "    slice(1) %>% # slice one row per group\n",
    "    ggplot(aes(x = cardiovasc_death_rate, fill = continent)) +\n",
    "    geom_boxplot(alpha = 0.5) + # create a boxplot of cardiovasc_death_rate grouped by continent\n",
    "    scale_fill_brewer(palette=\"BuPu\")\n",
    "\n",
    "grid.arrange(cardiovasc_death_rate1, cardiovasc_death_rate2, nrow = 2) # Display two plots in two rows"
   ]
  },
  {
   "cell_type": "markdown",
   "id": "d1ff749b",
   "metadata": {},
   "source": [
    "`cardiovasc_death_rate` has a unimodal distribution with right skew.<br>\n",
    "There are no extreme outliers and median and mean are both likely representative.<br>\n",
    "Oceania has the highest, North America has the lowest death rate from cardiovascular disease."
   ]
  },
  {
   "cell_type": "markdown",
   "id": "dbdca7da",
   "metadata": {},
   "source": [
    "Visualise the distribution of `diabetes_prevalence`."
   ]
  },
  {
   "cell_type": "code",
   "execution_count": 62,
   "id": "d8d47fd2",
   "metadata": {},
   "outputs": [
    {
     "data": {
      "image/png": "[encoded data removed]",
      "text/plain": [
       "plot without title"
      ]
     },
     "metadata": {
      "image/png": {
       "height": 420,
       "width": 420
      }
     },
     "output_type": "display_data"
    }
   ],
   "source": [
    "diabetes_prevalence1 <-\n",
    "    final_df %>%\n",
    "    group_by(iso_code) %>% # group by iso codes\n",
    "    slice(1) %>% # slice one row per group\n",
    "    ggplot(aes(x = diabetes_prevalence)) +\n",
    "    geom_histogram(binwidth = 1, fill = \"#C6CDF7\") + # create a histogram of diabetes_prevalence\n",
    "    geom_vline(xintercept = mean(final_df$diabetes_prevalence), size = 1, linetype = \"dashed\") + # draw a dashed line at mean\n",
    "    geom_vline(xintercept = median(final_df$diabetes_prevalence), size = 1, colour = \"#C93312\") # draw a red line at median\n",
    "\n",
    "diabetes_prevalence2 <-\n",
    "    final_df %>%\n",
    "    group_by(iso_code) %>% # group by iso codes\n",
    "    slice(1) %>% # slice one row per group\n",
    "    ggplot(aes(x = diabetes_prevalence, fill = continent)) +\n",
    "    geom_boxplot(alpha = 0.5) + # create a boxplot of diabetes_prevalence grouped by continent\n",
    "    scale_fill_brewer(palette=\"BuPu\")\n",
    "\n",
    "grid.arrange(diabetes_prevalence1, diabetes_prevalence2, nrow = 2) # Display two plots in two rows"
   ]
  },
  {
   "cell_type": "markdown",
   "id": "8198950e",
   "metadata": {},
   "source": [
    "`diabetes_prevalence` has a unimodal distribution with right skew.<br>\n",
    "There are no extreme outliers and median and mean are both likely representative.<br>\n",
    "Oceania has the highest, Africa has the lowest diabetes prevalence."
   ]
  },
  {
   "cell_type": "markdown",
   "id": "a5a97e28",
   "metadata": {},
   "source": [
    "Visualise the distribution of `life_expectancy`."
   ]
  },
  {
   "cell_type": "code",
   "execution_count": 63,
   "id": "1f09c8e4",
   "metadata": {},
   "outputs": [
    {
     "data": {
      "image/png": "[encoded data removed]",
      "text/plain": [
       "plot without title"
      ]
     },
     "metadata": {
      "image/png": {
       "height": 420,
       "width": 420
      }
     },
     "output_type": "display_data"
    }
   ],
   "source": [
    "life_expectancy1 <-\n",
    "    final_df %>%\n",
    "    group_by(iso_code) %>% # group by iso codes\n",
    "    slice(1) %>% # slice one row per group\n",
    "    ggplot(aes(x = life_expectancy)) +\n",
    "    geom_histogram(binwidth = 2, fill = \"#C6CDF7\") + # create a histogram of life_expectancy\n",
    "    geom_vline(xintercept = mean(final_df$life_expectancy), size = 1, linetype = \"dashed\") + # draw a dashed line at mean\n",
    "    geom_vline(xintercept = median(final_df$life_expectancy), size = 1, colour = \"#C93312\") # draw a red line at median\n",
    "\n",
    "life_expectancy2 <-\n",
    "    final_df %>%\n",
    "    group_by(iso_code) %>% # group by iso codes\n",
    "    slice(1) %>% # slice one row per group\n",
    "    ggplot(aes(x = life_expectancy, fill = continent)) +\n",
    "    geom_boxplot(alpha = 0.5) + # create a boxplot of life_expectancy grouped by continent\n",
    "    scale_fill_brewer(palette=\"BuPu\")\n",
    "\n",
    "grid.arrange(life_expectancy1, life_expectancy2, nrow = 2) # Display two plots in two rows"
   ]
  },
  {
   "cell_type": "markdown",
   "id": "f898f171",
   "metadata": {},
   "source": [
    "`life_expectancy` has a unimodal distribution with left skew.<br>\n",
    "Since there are low outliers, median is more represenative compared to mean.<br>\n",
    "Europe has the highest, Africa has the lowest life expectancy at birth."
   ]
  },
  {
   "cell_type": "markdown",
   "id": "c02b6973",
   "metadata": {},
   "source": [
    "Visualise the distribution of `human_development_index`."
   ]
  },
  {
   "cell_type": "code",
   "execution_count": 64,
   "id": "a15add48",
   "metadata": {},
   "outputs": [
    {
     "data": {
      "image/png": "[encoded data removed]",
      "text/plain": [
       "plot without title"
      ]
     },
     "metadata": {
      "image/png": {
       "height": 420,
       "width": 420
      }
     },
     "output_type": "display_data"
    }
   ],
   "source": [
    "human_development_index1 <-\n",
    "    final_df %>%\n",
    "    group_by(iso_code) %>% # group by iso codes\n",
    "    slice(1) %>% # slice one row per group\n",
    "    ggplot(aes(x = human_development_index)) +\n",
    "    geom_histogram(binwidth = 0.02, fill = \"#C6CDF7\") + # create a histogram of human_development_index\n",
    "    geom_vline(xintercept = mean(final_df$human_development_index), size = 1, linetype = \"dashed\") + # draw a dashed line at mean\n",
    "    geom_vline(xintercept = median(final_df$human_development_index), size = 1, colour = \"#C93312\") # draw a red line at median\n",
    "\n",
    "human_development_index2 <-\n",
    "    final_df %>%\n",
    "    group_by(iso_code) %>% # group by iso codes\n",
    "    slice(1) %>% # slice one row per group\n",
    "    ggplot(aes(x = human_development_index, fill = continent)) +\n",
    "    geom_boxplot(alpha = 0.5) + # create a boxplot of human_development_index grouped by continent\n",
    "    scale_fill_brewer(palette=\"BuPu\")\n",
    "\n",
    "grid.arrange(human_development_index1, human_development_index2, nrow = 2) # Display two plots in two rows"
   ]
  },
  {
   "cell_type": "markdown",
   "id": "1e896400",
   "metadata": {},
   "source": [
    "Human development index is \n",
    "><em>a composite index measuring average achievement in three basic dimensions of human development—a long and healthy life, knowledge and a decent standard of living[<sup>3</sup>](#3).</em>\n",
    "\n",
    "`human_development_index` has a unimodal distribution with left skew.<br>\n",
    "There are no extreme outliers and median and mean are both likely representative.<br>\n",
    "Europe has the highest, Africa has the lowest human development index.<br>\n"
   ]
  },
  {
   "cell_type": "markdown",
   "id": "e9f8cd66",
   "metadata": {},
   "source": [
    "Visualise the distribution of `population`."
   ]
  },
  {
   "cell_type": "code",
   "execution_count": 65,
   "id": "5c25e895",
   "metadata": {},
   "outputs": [
    {
     "data": {
      "image/png": "[encoded data removed]",
      "text/plain": [
       "plot without title"
      ]
     },
     "metadata": {
      "image/png": {
       "height": 420,
       "width": 420
      }
     },
     "output_type": "display_data"
    }
   ],
   "source": [
    "population1 <-\n",
    "    final_df %>%\n",
    "    group_by(iso_code) %>% # group by iso codes\n",
    "    slice(1) %>% # slice one row per group\n",
    "    ggplot(aes(x = population)) +\n",
    "    geom_histogram(bins = 30, fill = \"#C6CDF7\") + # create a histogram of population\n",
    "    scale_x_log10() + # scale the x-axis with base-10 logarithmic\n",
    "    geom_vline(xintercept = mean(final_df$population), size = 1, linetype = \"dashed\") + # draw a dashed line at mean\n",
    "    geom_vline(xintercept = median(final_df$population), size = 1, colour = \"#C93312\") # draw a red line at median\n",
    "\n",
    "population2 <-\n",
    "    final_df %>%\n",
    "    group_by(iso_code) %>% # group by iso codes\n",
    "    slice(1) %>% # slice one row per group\n",
    "    ggplot(aes(x = population, fill = continent)) +\n",
    "    geom_boxplot(alpha = 0.5) + # create a boxplot of population grouped by continent\n",
    "    scale_fill_brewer(palette=\"BuPu\") +\n",
    "    scale_x_log10() # scale the x-axis with base-10 logarithmic\n",
    "\n",
    "grid.arrange(population1, population2, nrow = 2) # Display two plots in two rows"
   ]
  },
  {
   "cell_type": "markdown",
   "id": "97f74c5a",
   "metadata": {},
   "source": [
    "`population` has a unimodal distribution with right skew.<br>\n",
    "Since there are high outliers, median is more represenative compared to mean.<br>\n",
    "Asia has the highest, Oceania has the lowest population."
   ]
  },
  {
   "cell_type": "markdown",
   "id": "edf32603",
   "metadata": {},
   "source": [
    "Visualise the distribution of `sunshine_hours_year`."
   ]
  },
  {
   "cell_type": "code",
   "execution_count": 66,
   "id": "ae62a297",
   "metadata": {},
   "outputs": [
    {
     "data": {
      "image/png": "[encoded data removed]",
      "text/plain": [
       "plot without title"
      ]
     },
     "metadata": {
      "image/png": {
       "height": 420,
       "width": 420
      }
     },
     "output_type": "display_data"
    }
   ],
   "source": [
    "sunshine_hours_year1 <-\n",
    "    final_df %>%\n",
    "    group_by(iso_code) %>% # group by iso codes\n",
    "    slice(1) %>% # slice one row per group\n",
    "    ggplot(aes(x = sunshine_hours_year)) +\n",
    "    geom_histogram(binwidth = 100, fill = \"#C6CDF7\") + # create a histogram of sunshine_hours_year\n",
    "    geom_vline(xintercept = mean(final_df$sunshine_hours_year), size = 1, linetype = \"dashed\") + # draw a dashed line at mean\n",
    "    geom_vline(xintercept = median(final_df$sunshine_hours_year), size = 1, colour = \"#C93312\") # draw a red line at median\n",
    "\n",
    "sunshine_hours_year2 <-\n",
    "    final_df %>%\n",
    "    group_by(iso_code) %>% # group by iso codes\n",
    "    slice(1) %>% # slice one row per group\n",
    "    ggplot(aes(x = sunshine_hours_year, fill = continent)) +\n",
    "    geom_boxplot(alpha = 0.5) + # create a boxplot of sunshine_hours_year grouped by continent\n",
    "    scale_fill_brewer(palette=\"BuPu\")\n",
    "\n",
    "grid.arrange(sunshine_hours_year1, sunshine_hours_year2, nrow = 2) # Display two plots in two rows"
   ]
  },
  {
   "cell_type": "markdown",
   "id": "09ef3145",
   "metadata": {},
   "source": [
    "`sunshine_hours_year` has a multimodal distribution.<br>\n",
    "There are no extreme outliers and median and mean are both likely representative.<br>\n",
    "Africa has the highest, Europe has the lowest sunshine duration of sunshine per year."
   ]
  },
  {
   "cell_type": "markdown",
   "id": "d2fbb54c",
   "metadata": {},
   "source": [
    "# Part 3: Drill Down into a Subset of Data<a name=\"p3\"></a>"
   ]
  },
  {
   "cell_type": "markdown",
   "id": "e21055de",
   "metadata": {},
   "source": [
    "## 3.1 Rank correlation<a name=\"p3.1\"></a>"
   ]
  },
  {
   "cell_type": "markdown",
   "id": "e95fb5c0",
   "metadata": {},
   "source": [
    "#### Question 1: Does the yearly total suneshine duration of a country impact its total number of confirmed cases?"
   ]
  },
  {
   "cell_type": "markdown",
   "id": "e8102de2",
   "metadata": {},
   "source": [
    "Null hypothesis (H0): The yearly total sunshine duration of a country does not impact its total number of confirmed cases.<br>\n",
    "Alternative hypothesis (H1): The yearly total sunshine duration of a country impacts its total number of confirmed cases.\n",
    "\n",
    "We will first filter `final_df` for rows from the latest date `2022-10-18`."
   ]
  },
  {
   "cell_type": "code",
   "execution_count": 67,
   "id": "b61c0ca5",
   "metadata": {},
   "outputs": [],
   "source": [
    "october18 <- \n",
    "    final_df %>% \n",
    "    filter(date == as.Date(\"2022-10-18\", \"%Y-%m-%d\")) # filter for data from 2022-10-18"
   ]
  },
  {
   "cell_type": "markdown",
   "id": "a10eed99",
   "metadata": {},
   "source": [
    "Check the distribution of `total_cases_per_million` from the outcome variable`october18`."
   ]
  },
  {
   "cell_type": "code",
   "execution_count": 68,
   "id": "880e580f",
   "metadata": {},
   "outputs": [
    {
     "data": {
      "image/png": "[encoded data removed]",
      "text/plain": [
       "plot without title"
      ]
     },
     "metadata": {
      "image/png": {
       "height": 420,
       "width": 420
      }
     },
     "output_type": "display_data"
    }
   ],
   "source": [
    "october18_1 <-\n",
    "    october18 %>%\n",
    "    ggplot(aes(x = total_cases_per_million)) +\n",
    "    geom_histogram(bins = 30, fill = \"#C6CDF7\") + # create a histogram of `total_cases_per_million`\n",
    "    geom_vline(xintercept = mean(october18$total_cases_per_million), size = 1, linetype = \"dashed\") + # draw a dashed line at mean\n",
    "    geom_vline(xintercept = median(october18$total_cases_per_million), size = 1, colour = \"#C93312\") # draw a red line at median\n",
    "\n",
    "october18_2 <-\n",
    "    october18 %>%\n",
    "    ggplot(aes(x = total_cases_per_million, fill = continent)) +\n",
    "    geom_boxplot(alpha = 0.5) + # create a boxplot of sunshine_hours_year grouped by continent\n",
    "    scale_fill_brewer(palette=\"BuPu\")\n",
    "\n",
    "grid.arrange(october18_1, october18_2, nrow = 2) # Display two plots in two rows"
   ]
  },
  {
   "cell_type": "markdown",
   "id": "ac29fc86",
   "metadata": {},
   "source": [
    "Visualise the relationship between `total_cases_per_million` from `2022-10-18` and `sunshine_hours_year`.<br>"
   ]
  },
  {
   "cell_type": "code",
   "execution_count": 69,
   "id": "455d1b14",
   "metadata": {},
   "outputs": [
    {
     "name": "stderr",
     "output_type": "stream",
     "text": [
      "`geom_smooth()` using formula 'y ~ x'\n",
      "\n"
     ]
    },
    {
     "data": {
      "image/png": "[encoded data removed]",
      "text/plain": [
       "plot without title"
      ]
     },
     "metadata": {
      "image/png": {
       "height": 420,
       "width": 420
      }
     },
     "output_type": "display_data"
    }
   ],
   "source": [
    "october18 %>%\n",
    "    ggplot(aes(x = total_cases_per_million, y = sunshine_hours_year)) +\n",
    "    geom_point(color = \"#7294D4\") +\n",
    "    geom_smooth(method = \"lm\",\n",
    "                color = \"#C93312\",\n",
    "                size = 1.5,\n",
    "                se = FALSE) "
   ]
  },
  {
   "cell_type": "markdown",
   "id": "57177cd8",
   "metadata": {},
   "source": [
    "There appears to be a negative correlation between `sunshine_hours_year` and `total_case_per_million`.<br>\n",
    "For computing correlation coefficient, we cannot use Pearson’s correlation since `sunshine_hours_year` has a strong skew and not normally distributed.<br>\n",
    "We will use Kendall and not Spearman since Kendall is more robust."
   ]
  },
  {
   "cell_type": "code",
   "execution_count": 70,
   "id": "2703e1f3",
   "metadata": {},
   "outputs": [
    {
     "data": {
      "text/plain": [
       "\n",
       "\tKendall's rank correlation tau\n",
       "\n",
       "data:  october18$total_cases_per_million and october18$sunshine_hours_year\n",
       "z = -5.3013, p-value = 1.15e-07\n",
       "alternative hypothesis: true tau is not equal to 0\n",
       "sample estimates:\n",
       "       tau \n",
       "-0.3232041 \n"
      ]
     },
     "metadata": {},
     "output_type": "display_data"
    }
   ],
   "source": [
    "cor.test(october18$total_cases_per_million, october18$sunshine_hours_year, method = \"kendall\")"
   ]
  },
  {
   "cell_type": "markdown",
   "id": "9e6b5d53",
   "metadata": {},
   "source": [
    "The relationship between `total_cases_per_million` from `2022-10-18` and `sunshine_hours_year` was investigated using Kendall's tau.<br>\n",
    "Using Cohen’s effect size heuristic[<sup>5</sup>](#5) of small: r = ±.1, medium: r = ±.3, and large: r = ±.5, a medium negative correlation was found (τ = -0.321).<br>\n",
    "Based on this we will reject the null hypothesis.<br>\n",
    "There is a medium correlation that the higher the country's yearly total sunshine duration, the lower the total number of confirmed cases."
   ]
  },
  {
   "cell_type": "markdown",
   "id": "aa5ffc78",
   "metadata": {},
   "source": [
    "#### Question 2: Does the average stringency index of a country impact its total number of confirmed cases?"
   ]
  },
  {
   "cell_type": "markdown",
   "id": "5e84af7e",
   "metadata": {},
   "source": [
    "Null hypothesis (H0): The average stringency index of a country does not impact its total number of confirmed cases.\n",
    "Alternative hypothesis (H1): The average stringency index of a country impacts its total number of confirmed cases.\n",
    "\n",
    "We will calculate the mean of `stringency_index` for each country and filter for rows from the latest date `2022-10-18`."
   ]
  },
  {
   "cell_type": "code",
   "execution_count": 71,
   "id": "14d295a5",
   "metadata": {},
   "outputs": [],
   "source": [
    "october18_mean_stringency <-\n",
    "    final_df %>%\n",
    "    group_by(iso_code) %>% # group by iso codes\n",
    "    mutate(mean_stringency = mean(stringency_index)) %>% # calculate the mean of stringency_index for each iso code\n",
    "    filter(date == as.Date(\"2022-10-18\", \"%Y-%m-%d\")) # filter for data from 2022-10-18"
   ]
  },
  {
   "cell_type": "markdown",
   "id": "ae514be5",
   "metadata": {},
   "source": [
    "Visualise the relationship `between total_cases_per_million` from `2022-10-18` and the mean of stringency index."
   ]
  },
  {
   "cell_type": "code",
   "execution_count": 72,
   "id": "977a098e",
   "metadata": {},
   "outputs": [
    {
     "name": "stderr",
     "output_type": "stream",
     "text": [
      "`geom_smooth()` using formula 'y ~ x'\n",
      "\n"
     ]
    },
    {
     "data": {
      "image/png": "[encoded data removed]",
      "text/plain": [
       "plot without title"
      ]
     },
     "metadata": {
      "image/png": {
       "height": 420,
       "width": 420
      }
     },
     "output_type": "display_data"
    }
   ],
   "source": [
    "october18_mean_stringency %>%\n",
    "    ggplot(aes(x = total_cases_per_million, y = mean_stringency)) +\n",
    "    geom_point(color = \"#7294D4\") +\n",
    "    geom_smooth(method = \"lm\",\n",
    "                color = \"#C93312\",\n",
    "                size = 1.5,\n",
    "                se = FALSE)"
   ]
  },
  {
   "cell_type": "markdown",
   "id": "2cc0a52b",
   "metadata": {},
   "source": [
    "From the correlation between `mean_stringency` and `total_cases_per_million` seem weak. "
   ]
  },
  {
   "cell_type": "code",
   "execution_count": 73,
   "id": "c810d80a",
   "metadata": {},
   "outputs": [
    {
     "data": {
      "text/plain": [
       "\n",
       "\tKendall's rank correlation tau\n",
       "\n",
       "data:  october18_mean_stringency$total_cases_per_million and october18_mean_stringency$mean_stringency\n",
       "z = 0.076513, p-value = 0.939\n",
       "alternative hypothesis: true tau is not equal to 0\n",
       "sample estimates:\n",
       "        tau \n",
       "0.004664801 \n"
      ]
     },
     "metadata": {},
     "output_type": "display_data"
    }
   ],
   "source": [
    "cor.test(october18_mean_stringency$total_cases_per_million, october18_mean_stringency$mean_stringency, method = \"kendall\")"
   ]
  },
  {
   "cell_type": "markdown",
   "id": "6bb06a6c",
   "metadata": {},
   "source": [
    "The relationship between `total_cases_per_million` from `2022-10-18` and `mean_stringency` was investigated using Kendall's tau.<br>\n",
    "Using Cohen’s effect size heuristic, no significant correlation was found (τ = 0.005).<br>\n",
    "There is therefore no evidence to reject the null hypothesis.\n",
    "There is likely to be no meaningful relationship between `total_cases_per_million` from `2022-10-18` and `mean_stringency`."
   ]
  },
  {
   "cell_type": "markdown",
   "id": "d6bf87a6",
   "metadata": {},
   "source": [
    "## 3.2 Time series cross correlation<a name=\"p3.2\"></a>"
   ]
  },
  {
   "cell_type": "markdown",
   "id": "d6d633db",
   "metadata": {},
   "source": [
    "#### Question 3: Does the montly total suneshine duration of a country impact its monthly COVID cases over the time series?"
   ]
  },
  {
   "cell_type": "markdown",
   "id": "026ddfd0",
   "metadata": {},
   "source": [
    "Null hypothesis (H0): The monthly total sunshine duration of a country does not impact its monthly number of confirmed cases.<br>\n",
    "Alternative hypothesis (H1): The monthly total sunshine duration of a country impacts its monthly number of confirmed cases.\n",
    "\n",
    "To answer this question we will look at the cross correlation between sum of `new_cases` each month and `sunshine_hours_month`.<br>\n",
    "First we will calculate the sum of `new_cases_per_million` per country per month."
   ]
  },
  {
   "cell_type": "code",
   "execution_count": 74,
   "id": "a8aff5da",
   "metadata": {},
   "outputs": [
    {
     "data": {
      "text/html": [
       "<style>\n",
       ".list-inline {list-style: none; margin:0; padding: 0}\n",
       ".list-inline>li {display: inline-block}\n",
       ".list-inline>li:not(:last-child)::after {content: \"\\00b7\"; padding: 0 .5ex}\n",
       "</style>\n",
       "<ol class=list-inline><li>3807</li><li>4</li></ol>\n"
      ],
      "text/latex": [
       "\\begin{enumerate*}\n",
       "\\item 3807\n",
       "\\item 4\n",
       "\\end{enumerate*}\n"
      ],
      "text/markdown": [
       "1. 3807\n",
       "2. 4\n",
       "\n",
       "\n"
      ],
      "text/plain": [
       "[1] 3807    4"
      ]
     },
     "metadata": {},
     "output_type": "display_data"
    },
    {
     "data": {
      "text/html": [
       "<table class=\"dataframe\">\n",
       "<caption>A grouped_df: 6 × 4</caption>\n",
       "<thead>\n",
       "\t<tr><th scope=col>iso_code</th><th scope=col>month</th><th scope=col>sunshine_hours_month</th><th scope=col>new_cases_per_million_month</th></tr>\n",
       "\t<tr><th scope=col>&lt;chr&gt;</th><th scope=col>&lt;date&gt;</th><th scope=col>&lt;dbl&gt;</th><th scope=col>&lt;dbl&gt;</th></tr>\n",
       "</thead>\n",
       "<tbody>\n",
       "\t<tr><td>AFG</td><td>2020-04-01</td><td>232.5</td><td> 41.422</td></tr>\n",
       "\t<tr><td>AFG</td><td>2020-05-01</td><td>310.3</td><td>332.998</td></tr>\n",
       "\t<tr><td>AFG</td><td>2020-06-01</td><td>353.4</td><td>405.615</td></tr>\n",
       "\t<tr><td>AFG</td><td>2020-07-01</td><td>356.8</td><td>129.251</td></tr>\n",
       "\t<tr><td>AFG</td><td>2020-08-01</td><td>339.7</td><td> 40.401</td></tr>\n",
       "\t<tr><td>AFG</td><td>2020-09-01</td><td>303.9</td><td> 27.581</td></tr>\n",
       "</tbody>\n",
       "</table>\n"
      ],
      "text/latex": [
       "A grouped\\_df: 6 × 4\n",
       "\\begin{tabular}{llll}\n",
       " iso\\_code & month & sunshine\\_hours\\_month & new\\_cases\\_per\\_million\\_month\\\\\n",
       " <chr> & <date> & <dbl> & <dbl>\\\\\n",
       "\\hline\n",
       "\t AFG & 2020-04-01 & 232.5 &  41.422\\\\\n",
       "\t AFG & 2020-05-01 & 310.3 & 332.998\\\\\n",
       "\t AFG & 2020-06-01 & 353.4 & 405.615\\\\\n",
       "\t AFG & 2020-07-01 & 356.8 & 129.251\\\\\n",
       "\t AFG & 2020-08-01 & 339.7 &  40.401\\\\\n",
       "\t AFG & 2020-09-01 & 303.9 &  27.581\\\\\n",
       "\\end{tabular}\n"
      ],
      "text/markdown": [
       "\n",
       "A grouped_df: 6 × 4\n",
       "\n",
       "| iso_code &lt;chr&gt; | month &lt;date&gt; | sunshine_hours_month &lt;dbl&gt; | new_cases_per_million_month &lt;dbl&gt; |\n",
       "|---|---|---|---|\n",
       "| AFG | 2020-04-01 | 232.5 |  41.422 |\n",
       "| AFG | 2020-05-01 | 310.3 | 332.998 |\n",
       "| AFG | 2020-06-01 | 353.4 | 405.615 |\n",
       "| AFG | 2020-07-01 | 356.8 | 129.251 |\n",
       "| AFG | 2020-08-01 | 339.7 |  40.401 |\n",
       "| AFG | 2020-09-01 | 303.9 |  27.581 |\n",
       "\n"
      ],
      "text/plain": [
       "  iso_code month      sunshine_hours_month new_cases_per_million_month\n",
       "1 AFG      2020-04-01 232.5                 41.422                    \n",
       "2 AFG      2020-05-01 310.3                332.998                    \n",
       "3 AFG      2020-06-01 353.4                405.615                    \n",
       "4 AFG      2020-07-01 356.8                129.251                    \n",
       "5 AFG      2020-08-01 339.7                 40.401                    \n",
       "6 AFG      2020-09-01 303.9                 27.581                    "
      ]
     },
     "metadata": {},
     "output_type": "display_data"
    }
   ],
   "source": [
    "monthly_cases_per_million <-\n",
    "    final_df %>%\n",
    "    mutate(month = cut(date, breaks = \"month\")) %>% # create a new column dividing dates into months\n",
    "    group_by(iso_code, month, sunshine_hours_month) %>% # group by iso codes, months, and \"sunshine_hours_month\"\n",
    "    summarise(new_cases_per_million_month = sum(new_cases_per_million), .groups = \"keep\") # calculate the sum of new_cases_per_million\n",
    "dim(monthly_cases_per_million) # display the dimension of monthly_cases_per_million\n",
    "head(monthly_cases_per_million) # check the first few rows"
   ]
  },
  {
   "cell_type": "markdown",
   "id": "eb52cead",
   "metadata": {},
   "source": [
    "We will now investigate the relationships between `new_cases_per_million_month` and `sunshine_hours_month` for each country using cross correlation.<br>\n",
    "We will then save the lag and correlation in a dataframe."
   ]
  },
  {
   "cell_type": "code",
   "execution_count": 75,
   "id": "21c23b32",
   "metadata": {},
   "outputs": [
    {
     "data": {
      "text/html": [
       "<style>\n",
       ".list-inline {list-style: none; margin:0; padding: 0}\n",
       ".list-inline>li {display: inline-block}\n",
       ".list-inline>li:not(:last-child)::after {content: \"\\00b7\"; padding: 0 .5ex}\n",
       "</style>\n",
       "<ol class=list-inline><li>2827</li><li>3</li></ol>\n"
      ],
      "text/latex": [
       "\\begin{enumerate*}\n",
       "\\item 2827\n",
       "\\item 3\n",
       "\\end{enumerate*}\n"
      ],
      "text/markdown": [
       "1. 2827\n",
       "2. 3\n",
       "\n",
       "\n"
      ],
      "text/plain": [
       "[1] 2827    3"
      ]
     },
     "metadata": {},
     "output_type": "display_data"
    },
    {
     "data": {
      "text/html": [
       "<table class=\"dataframe\">\n",
       "<caption>A data.frame: 6 × 3</caption>\n",
       "<thead>\n",
       "\t<tr><th></th><th scope=col>iso</th><th scope=col>ccf.lag</th><th scope=col>ccf.acf</th></tr>\n",
       "\t<tr><th></th><th scope=col>&lt;chr&gt;</th><th scope=col>&lt;dbl&gt;</th><th scope=col>&lt;dbl&gt;</th></tr>\n",
       "</thead>\n",
       "<tbody>\n",
       "\t<tr><th scope=row>1</th><td>AFG</td><td>-11</td><td> 0.1866062</td></tr>\n",
       "\t<tr><th scope=row>2</th><td>AFG</td><td>-10</td><td>-0.1306669</td></tr>\n",
       "\t<tr><th scope=row>3</th><td>AFG</td><td> -9</td><td>-0.3540958</td></tr>\n",
       "\t<tr><th scope=row>4</th><td>AFG</td><td> -8</td><td>-0.4643040</td></tr>\n",
       "\t<tr><th scope=row>5</th><td>AFG</td><td> -7</td><td>-0.4778649</td></tr>\n",
       "\t<tr><th scope=row>6</th><td>AFG</td><td> -6</td><td>-0.3693476</td></tr>\n",
       "</tbody>\n",
       "</table>\n"
      ],
      "text/latex": [
       "A data.frame: 6 × 3\n",
       "\\begin{tabular}{r|lll}\n",
       "  & iso & ccf.lag & ccf.acf\\\\\n",
       "  & <chr> & <dbl> & <dbl>\\\\\n",
       "\\hline\n",
       "\t1 & AFG & -11 &  0.1866062\\\\\n",
       "\t2 & AFG & -10 & -0.1306669\\\\\n",
       "\t3 & AFG &  -9 & -0.3540958\\\\\n",
       "\t4 & AFG &  -8 & -0.4643040\\\\\n",
       "\t5 & AFG &  -7 & -0.4778649\\\\\n",
       "\t6 & AFG &  -6 & -0.3693476\\\\\n",
       "\\end{tabular}\n"
      ],
      "text/markdown": [
       "\n",
       "A data.frame: 6 × 3\n",
       "\n",
       "| <!--/--> | iso &lt;chr&gt; | ccf.lag &lt;dbl&gt; | ccf.acf &lt;dbl&gt; |\n",
       "|---|---|---|---|\n",
       "| 1 | AFG | -11 |  0.1866062 |\n",
       "| 2 | AFG | -10 | -0.1306669 |\n",
       "| 3 | AFG |  -9 | -0.3540958 |\n",
       "| 4 | AFG |  -8 | -0.4643040 |\n",
       "| 5 | AFG |  -7 | -0.4778649 |\n",
       "| 6 | AFG |  -6 | -0.3693476 |\n",
       "\n"
      ],
      "text/plain": [
       "  iso ccf.lag ccf.acf   \n",
       "1 AFG -11      0.1866062\n",
       "2 AFG -10     -0.1306669\n",
       "3 AFG  -9     -0.3540958\n",
       "4 AFG  -8     -0.4643040\n",
       "5 AFG  -7     -0.4778649\n",
       "6 AFG  -6     -0.3693476"
      ]
     },
     "metadata": {},
     "output_type": "display_data"
    }
   ],
   "source": [
    "ccf_df <- data.frame(matrix(ncol = 4, nrow = 0)) # create an empty dataframe with four columns\n",
    "\n",
    "for (iso in unique(monthly_cases_per_million$iso_code)) { # loop though a list of unique iso codes\n",
    "    filtered_df <- monthly_cases_per_million %>% filter(iso_code == iso) # filter monthly_cases_per_million for the iso code\n",
    "    ccf <- ccf(ts(filtered_df$new_cases_per_million_month), ts(filtered_df$sunshine_hours_month), pl = FALSE) # put \"new_cases_per_million_month\" and \"sunshine_hours_month\" through the sample cross correlation function\n",
    "    ccf_df_iso <- rbind(ccf_df, data.frame(iso, ccf$lag, ccf$acf)) # create a dataframe of the results and append to ccf_df\n",
    "    ccf_df <- ccf_df_iso # replace ccf_df with newly appended ccf_df_iso\n",
    "}\n",
    "\n",
    "dim(ccf_df) # display the dimension of ccf_df\n",
    "head(ccf_df) # check the first few rows"
   ]
  },
  {
   "cell_type": "markdown",
   "id": "55ee870d",
   "metadata": {},
   "source": [
    "Filter the results for the maximum absolute correlation per country, and divide them into `high`, `medium`, and `low`."
   ]
  },
  {
   "cell_type": "code",
   "execution_count": 76,
   "id": "35f0171b",
   "metadata": {},
   "outputs": [
    {
     "data": {
      "text/html": [
       "<style>\n",
       ".list-inline {list-style: none; margin:0; padding: 0}\n",
       ".list-inline>li {display: inline-block}\n",
       ".list-inline>li:not(:last-child)::after {content: \"\\00b7\"; padding: 0 .5ex}\n",
       "</style>\n",
       "<ol class=list-inline><li>123</li><li>4</li></ol>\n"
      ],
      "text/latex": [
       "\\begin{enumerate*}\n",
       "\\item 123\n",
       "\\item 4\n",
       "\\end{enumerate*}\n"
      ],
      "text/markdown": [
       "1. 123\n",
       "2. 4\n",
       "\n",
       "\n"
      ],
      "text/plain": [
       "[1] 123   4"
      ]
     },
     "metadata": {},
     "output_type": "display_data"
    },
    {
     "data": {
      "text/html": [
       "<table class=\"dataframe\">\n",
       "<caption>A grouped_df: 6 × 4</caption>\n",
       "<thead>\n",
       "\t<tr><th scope=col>iso</th><th scope=col>ccf.lag</th><th scope=col>ccf.acf</th><th scope=col>correlation</th></tr>\n",
       "\t<tr><th scope=col>&lt;chr&gt;</th><th scope=col>&lt;dbl&gt;</th><th scope=col>&lt;dbl&gt;</th><th scope=col>&lt;chr&gt;</th></tr>\n",
       "</thead>\n",
       "<tbody>\n",
       "\t<tr><td>AFG</td><td>-7</td><td>-0.4778649</td><td>medium</td></tr>\n",
       "\t<tr><td>AGO</td><td>-5</td><td> 0.4119703</td><td>medium</td></tr>\n",
       "\t<tr><td>ALB</td><td>-6</td><td> 0.5426640</td><td>high  </td></tr>\n",
       "\t<tr><td>ARE</td><td> 8</td><td> 0.5446119</td><td>high  </td></tr>\n",
       "\t<tr><td>ARG</td><td> 2</td><td> 0.2755819</td><td>low   </td></tr>\n",
       "\t<tr><td>AUS</td><td> 4</td><td> 0.3461678</td><td>medium</td></tr>\n",
       "</tbody>\n",
       "</table>\n"
      ],
      "text/latex": [
       "A grouped\\_df: 6 × 4\n",
       "\\begin{tabular}{llll}\n",
       " iso & ccf.lag & ccf.acf & correlation\\\\\n",
       " <chr> & <dbl> & <dbl> & <chr>\\\\\n",
       "\\hline\n",
       "\t AFG & -7 & -0.4778649 & medium\\\\\n",
       "\t AGO & -5 &  0.4119703 & medium\\\\\n",
       "\t ALB & -6 &  0.5426640 & high  \\\\\n",
       "\t ARE &  8 &  0.5446119 & high  \\\\\n",
       "\t ARG &  2 &  0.2755819 & low   \\\\\n",
       "\t AUS &  4 &  0.3461678 & medium\\\\\n",
       "\\end{tabular}\n"
      ],
      "text/markdown": [
       "\n",
       "A grouped_df: 6 × 4\n",
       "\n",
       "| iso &lt;chr&gt; | ccf.lag &lt;dbl&gt; | ccf.acf &lt;dbl&gt; | correlation &lt;chr&gt; |\n",
       "|---|---|---|---|\n",
       "| AFG | -7 | -0.4778649 | medium |\n",
       "| AGO | -5 |  0.4119703 | medium |\n",
       "| ALB | -6 |  0.5426640 | high   |\n",
       "| ARE |  8 |  0.5446119 | high   |\n",
       "| ARG |  2 |  0.2755819 | low    |\n",
       "| AUS |  4 |  0.3461678 | medium |\n",
       "\n"
      ],
      "text/plain": [
       "  iso ccf.lag ccf.acf    correlation\n",
       "1 AFG -7      -0.4778649 medium     \n",
       "2 AGO -5       0.4119703 medium     \n",
       "3 ALB -6       0.5426640 high       \n",
       "4 ARE  8       0.5446119 high       \n",
       "5 ARG  2       0.2755819 low        \n",
       "6 AUS  4       0.3461678 medium     "
      ]
     },
     "metadata": {},
     "output_type": "display_data"
    }
   ],
   "source": [
    "new_cases_sunshine_correlation <-\n",
    "    ccf_df %>%\n",
    "    group_by(iso) %>% # group by iso codes\n",
    "    slice_max(abs(ccf.acf), n = 1) %>% # slice for the maximum absolute value of \"ccf.acf\"\n",
    "    mutate(correlation = \n",
    "           if(abs(ccf.acf) >= 0.5) {\"high\"} # if ccf.acf is higher than or equal to 0.5 then categorise the row as \"high\"\n",
    "           else if(abs(ccf.acf) >= 0.3 & abs(ccf.acf) < 0.5) {\"medium\"} # if ccf.acf is higher than 0.3 then categorise the row as \"medium\"\n",
    "           else if(abs(ccf.acf) >= 0.1 & abs(ccf.acf) < 0.3) {\"low\"} # if ccf.acf is higher than 0.1 then categorise the row as \"low\"\n",
    "           else {\"none\"} # otherwise categorise the row as \"none\"\n",
    "           )    \n",
    "dim(new_cases_sunshine_correlation) # display the dimension of new_cases_sunshine_correlation\n",
    "head(new_cases_sunshine_correlation) # check the first few rows"
   ]
  },
  {
   "cell_type": "markdown",
   "id": "b9b8d666",
   "metadata": {},
   "source": [
    "Visualise the categorised correlations grouped by continents."
   ]
  },
  {
   "cell_type": "code",
   "execution_count": 77,
   "id": "7750dfb9",
   "metadata": {
    "scrolled": true
   },
   "outputs": [
    {
     "data": {
      "image/png": "[encoded data removed]",
      "text/plain": [
       "plot without title"
      ]
     },
     "metadata": {
      "image/png": {
       "height": 420,
       "width": 420
      }
     },
     "output_type": "display_data"
    }
   ],
   "source": [
    "new_cases_sunshine_correlation$correlation <- \n",
    "    factor(new_cases_sunshine_correlation$correlation, levels = c(\"high\", \"medium\", \"low\", \"none\")) # set the levels of correlation categories\n",
    "\n",
    "correlation_table <-\n",
    "    new_cases_sunshine_correlation %>%\n",
    "    left_join(final_df[, 1:3], by = c(\"iso\" = \"iso_code\")) %>% # left join the continents and country names from final_df\n",
    "    slice(1) # slice one row per group\n",
    "\n",
    "correlation_table %>%\n",
    "    ggplot(aes(x = correlation, fill = continent)) +\n",
    "    geom_bar(position = \"stack\") + # create a barplot of \"correlation\" grouped by \"continent\"\n",
    "    scale_fill_brewer(palette = \"Pastel1\")"
   ]
  },
  {
   "cell_type": "markdown",
   "id": "de8d22c3",
   "metadata": {},
   "source": [
    "Also calculate the percentage share of each correlation groups."
   ]
  },
  {
   "cell_type": "code",
   "execution_count": 78,
   "id": "a64565ea",
   "metadata": {},
   "outputs": [
    {
     "data": {
      "text/html": [
       "<table class=\"dataframe\">\n",
       "<caption>A grouped_df: 3 × 3</caption>\n",
       "<thead>\n",
       "\t<tr><th scope=col>correlation</th><th scope=col>n</th><th scope=col>correlation_percentage</th></tr>\n",
       "\t<tr><th scope=col>&lt;fct&gt;</th><th scope=col>&lt;int&gt;</th><th scope=col>&lt;dbl&gt;</th></tr>\n",
       "</thead>\n",
       "<tbody>\n",
       "\t<tr><td>high  </td><td>38</td><td>30.89</td></tr>\n",
       "\t<tr><td>medium</td><td>68</td><td>55.28</td></tr>\n",
       "\t<tr><td>low   </td><td>17</td><td>13.82</td></tr>\n",
       "</tbody>\n",
       "</table>\n"
      ],
      "text/latex": [
       "A grouped\\_df: 3 × 3\n",
       "\\begin{tabular}{lll}\n",
       " correlation & n & correlation\\_percentage\\\\\n",
       " <fct> & <int> & <dbl>\\\\\n",
       "\\hline\n",
       "\t high   & 38 & 30.89\\\\\n",
       "\t medium & 68 & 55.28\\\\\n",
       "\t low    & 17 & 13.82\\\\\n",
       "\\end{tabular}\n"
      ],
      "text/markdown": [
       "\n",
       "A grouped_df: 3 × 3\n",
       "\n",
       "| correlation &lt;fct&gt; | n &lt;int&gt; | correlation_percentage &lt;dbl&gt; |\n",
       "|---|---|---|\n",
       "| high   | 38 | 30.89 |\n",
       "| medium | 68 | 55.28 |\n",
       "| low    | 17 | 13.82 |\n",
       "\n"
      ],
      "text/plain": [
       "  correlation n  correlation_percentage\n",
       "1 high        38 30.89                 \n",
       "2 medium      68 55.28                 \n",
       "3 low         17 13.82                 "
      ]
     },
     "metadata": {},
     "output_type": "display_data"
    }
   ],
   "source": [
    "correlation_table %>%\n",
    "    group_by(correlation) %>%\n",
    "    count(correlation) %>% # count the number of countries in each correlation categories\n",
    "    mutate(correlation_percentage = round((n / nrow(correlation_table))*100, 2)) # calculate the percentage of the dataset that are in each category"
   ]
  },
  {
   "cell_type": "markdown",
   "id": "b554276d",
   "metadata": {},
   "source": [
    "The relationship between `sunshine_hours_month` and `new_cases_per_million_month` was investigated using cross correlation.<br>\n",
    "Using Cohen’s effect size heuristic, 30.89% of countries have high correlation between `new_cases_per_million_month` and `sunshine_hours_month`, and most of these countries are in Europe. This supports Walrand's report[<sup>1</sup>](#1) of correlation between COVID cases and the amount of sunshine in Europe with data from up to October 2022.<br>\n",
    "55.28% of countries have medium correlation, with top three continents in this category being Africa, Asia, and Europe.<br>\n",
    "13.82% of countries have low correlation, most of these countries are in Asia.<br>\n",
    "None of the countries have less than 0.1 in correlation.<br>\n",
    "Based on this we will reject the null hypothesis."
   ]
  },
  {
   "cell_type": "markdown",
   "id": "68134846",
   "metadata": {},
   "source": [
    "Visualise the distribution of the maximum absolute correlation per country."
   ]
  },
  {
   "cell_type": "code",
   "execution_count": 79,
   "id": "b28b38e8",
   "metadata": {},
   "outputs": [
    {
     "data": {
      "image/png": "[encoded data removed]",
      "text/plain": [
       "plot without title"
      ]
     },
     "metadata": {
      "image/png": {
       "height": 420,
       "width": 420
      }
     },
     "output_type": "display_data"
    }
   ],
   "source": [
    "new_cases_sunshine_correlation1 <-\n",
    "    new_cases_sunshine_correlation %>%\n",
    "    ggplot(aes(x = abs(ccf.acf))) +\n",
    "    geom_histogram(binwidth = 0.05, fill = \"#C6CDF7\") + # create a histogram of sunshine_hours_year\n",
    "    geom_vline(xintercept = mean(abs(new_cases_sunshine_correlation$ccf.acf)), size = 1, linetype = \"dashed\") + # draw a dashed line at mean\n",
    "    geom_vline(xintercept = median(abs(new_cases_sunshine_correlation$ccf.acf)), size = 1, colour = \"#C93312\") # draw a red line at median\n",
    "\n",
    "new_cases_sunshine_correlation2 <-\n",
    "    correlation_table %>%\n",
    "    ggplot(aes(x = abs(ccf.acf), fill = continent)) +\n",
    "    geom_boxplot(alpha = 0.5) + # create a boxplot of the maximum absolute correlation per country grouped by continent\n",
    "    scale_fill_brewer(palette=\"BuPu\")\n",
    "\n",
    "grid.arrange(new_cases_sunshine_correlation1, new_cases_sunshine_correlation2, nrow = 2) # Display two plots in two rows"
   ]
  },
  {
   "cell_type": "markdown",
   "id": "ba720f53",
   "metadata": {},
   "source": [
    "The maximum absolute correlation value has a unimodal distribution with slight right skew.<br>\n",
    "There are no extreme outliers and median and mean are both likely representative.<br>\n",
    "Europe has the highest median, Asia has the lowest median."
   ]
  },
  {
   "cell_type": "markdown",
   "id": "0e003efd",
   "metadata": {},
   "source": [
    "Let's inspect the highest and lowest maximum absolute correlation values.<br>\n",
    "First we will find which countries have the highest and lowest maximum absolute correlation values."
   ]
  },
  {
   "cell_type": "code",
   "execution_count": 80,
   "id": "b2e88300",
   "metadata": {},
   "outputs": [
    {
     "data": {
      "text/html": [
       "<table class=\"dataframe\">\n",
       "<caption>A grouped_df: 1 × 4</caption>\n",
       "<thead>\n",
       "\t<tr><th scope=col>iso</th><th scope=col>ccf.lag</th><th scope=col>ccf.acf</th><th scope=col>correlation</th></tr>\n",
       "\t<tr><th scope=col>&lt;chr&gt;</th><th scope=col>&lt;dbl&gt;</th><th scope=col>&lt;dbl&gt;</th><th scope=col>&lt;fct&gt;</th></tr>\n",
       "</thead>\n",
       "<tbody>\n",
       "\t<tr><td>CZE</td><td>0</td><td>-0.8132144</td><td>high</td></tr>\n",
       "</tbody>\n",
       "</table>\n"
      ],
      "text/latex": [
       "A grouped\\_df: 1 × 4\n",
       "\\begin{tabular}{llll}\n",
       " iso & ccf.lag & ccf.acf & correlation\\\\\n",
       " <chr> & <dbl> & <dbl> & <fct>\\\\\n",
       "\\hline\n",
       "\t CZE & 0 & -0.8132144 & high\\\\\n",
       "\\end{tabular}\n"
      ],
      "text/markdown": [
       "\n",
       "A grouped_df: 1 × 4\n",
       "\n",
       "| iso &lt;chr&gt; | ccf.lag &lt;dbl&gt; | ccf.acf &lt;dbl&gt; | correlation &lt;fct&gt; |\n",
       "|---|---|---|---|\n",
       "| CZE | 0 | -0.8132144 | high |\n",
       "\n"
      ],
      "text/plain": [
       "  iso ccf.lag ccf.acf    correlation\n",
       "1 CZE 0       -0.8132144 high       "
      ]
     },
     "metadata": {},
     "output_type": "display_data"
    },
    {
     "data": {
      "text/html": [
       "<table class=\"dataframe\">\n",
       "<caption>A grouped_df: 1 × 4</caption>\n",
       "<thead>\n",
       "\t<tr><th scope=col>iso</th><th scope=col>ccf.lag</th><th scope=col>ccf.acf</th><th scope=col>correlation</th></tr>\n",
       "\t<tr><th scope=col>&lt;chr&gt;</th><th scope=col>&lt;dbl&gt;</th><th scope=col>&lt;dbl&gt;</th><th scope=col>&lt;fct&gt;</th></tr>\n",
       "</thead>\n",
       "<tbody>\n",
       "\t<tr><td>VEN</td><td>0</td><td>0.1728714</td><td>low</td></tr>\n",
       "</tbody>\n",
       "</table>\n"
      ],
      "text/latex": [
       "A grouped\\_df: 1 × 4\n",
       "\\begin{tabular}{llll}\n",
       " iso & ccf.lag & ccf.acf & correlation\\\\\n",
       " <chr> & <dbl> & <dbl> & <fct>\\\\\n",
       "\\hline\n",
       "\t VEN & 0 & 0.1728714 & low\\\\\n",
       "\\end{tabular}\n"
      ],
      "text/markdown": [
       "\n",
       "A grouped_df: 1 × 4\n",
       "\n",
       "| iso &lt;chr&gt; | ccf.lag &lt;dbl&gt; | ccf.acf &lt;dbl&gt; | correlation &lt;fct&gt; |\n",
       "|---|---|---|---|\n",
       "| VEN | 0 | 0.1728714 | low |\n",
       "\n"
      ],
      "text/plain": [
       "  iso ccf.lag ccf.acf   correlation\n",
       "1 VEN 0       0.1728714 low        "
      ]
     },
     "metadata": {},
     "output_type": "display_data"
    }
   ],
   "source": [
    "new_cases_sunshine_correlation %>%\n",
    "    arrange(desc(abs(ccf.acf))) %>% # arrange the column by absolute correlation values\n",
    "    head(1) # select the first one row\n",
    "\n",
    "new_cases_sunshine_correlation %>%\n",
    "    arrange(desc(abs(ccf.acf))) %>% # arrange the column by absolute correlation values\n",
    "    tail(1) # select the last one row"
   ]
  },
  {
   "cell_type": "markdown",
   "id": "a764bcf5",
   "metadata": {},
   "source": [
    "Czech Republic has the highest absolute correlation, and Venezuela has the lowest absolute correlation.<br>\n",
    "Plot the result of the sample cross correlation function for Czech Republic."
   ]
  },
  {
   "cell_type": "code",
   "execution_count": 81,
   "id": "c3c8e35c",
   "metadata": {},
   "outputs": [
    {
     "data": {
      "image/png": "[encoded data removed]",
      "text/plain": [
       "Plot with title \"czech_republic_month$new_cases_per_million_month & czech_republic_month$sunshine_hours_month\""
      ]
     },
     "metadata": {
      "image/png": {
       "height": 420,
       "width": 420
      }
     },
     "output_type": "display_data"
    }
   ],
   "source": [
    "czech_republic_month <-\n",
    "    monthly_cases_per_million %>%\n",
    "    filter(iso_code == \"CZE\") # filter for iso code \"CZE\"\n",
    "ccf(czech_republic_month$new_cases_per_million_month, czech_republic_month$sunshine_hours_month, col = \"#7294D4\") # put \"new_cases_per_million_month\" and \"sunshine_hours_month\" through the sample cross correlation function"
   ]
  },
  {
   "cell_type": "markdown",
   "id": "22c88e1d",
   "metadata": {},
   "source": [
    "For Czech Republic, the strongest correlation between `new_cases_per_million_month` and `sunshine_hours_month` is a negative correlation of -0.8132144 at lag 0.<br>\n",
    "There are also strong positive correlations around lags -6 and 6, showing a seasonal pattern.<br>\n",
    "We can intuitively assume that decrease in sunshine duration leads to decrease in blood 25-hydroxyvitamin D (25(OH)D) concentration lowering immunity against respiratory tract infections in the population, and as a result new cases increases after 6 months."
   ]
  },
  {
   "cell_type": "markdown",
   "id": "0e990e3d",
   "metadata": {},
   "source": [
    "Plot the result of the sample cross correlation function for Venezuela."
   ]
  },
  {
   "cell_type": "code",
   "execution_count": 82,
   "id": "7a3ec10b",
   "metadata": {},
   "outputs": [
    {
     "data": {
      "image/png": "[encoded data removed]",
      "text/plain": [
       "Plot with title \"venezuela_month$new_cases_per_million_month & venezuela_month$sunshine_hours_month\""
      ]
     },
     "metadata": {
      "image/png": {
       "height": 420,
       "width": 420
      }
     },
     "output_type": "display_data"
    }
   ],
   "source": [
    "venezuela_month <-\n",
    "    monthly_cases_per_million %>%\n",
    "    filter(iso_code == \"VEN\") # filter for iso code \"VEN\"\n",
    "ccf(venezuela_month$new_cases_per_million_month, venezuela_month$sunshine_hours_month, col = \"#7294D4\") # put \"new_cases_per_million_month\" and \"sunshine_hours_month\" through the sample cross correlation function"
   ]
  },
  {
   "cell_type": "markdown",
   "id": "3c805d23",
   "metadata": {},
   "source": [
    "For Venezuela, the strongest correlation between `new_cases_per_million_month` and `sunshine_hours_month` is 0.1728714 at lag 0.<br>\n",
    "The correlation is low without a clear seasonal pattern.\n",
    "\n",
    "Based on these findings, there is a correlation between the monthly total sunshine duration of a country and its monthly number of confirmed cases over the timeline. The strength of the correlation varies between countries as we saw between Czech Republic (-0.813) and Venezuela (0.173). The lag where the maximum absolute value of `ccf.acf` was observed varies between countries too."
   ]
  },
  {
   "cell_type": "markdown",
   "id": "ea473227",
   "metadata": {},
   "source": [
    "# Conclusion<a name=\"conclusion\"></a>"
   ]
  },
  {
   "cell_type": "markdown",
   "id": "2875bf77",
   "metadata": {},
   "source": [
    "* There is a moderate correlation between the yearly total sunshine duration in a country and their total confirmed cases.<br><br>\n",
    "\n",
    "* Government Response Stringency Index on the other hand has no effect on the country's total confirmed cases.<br><br>\n",
    "\n",
    "* Cross-correlation between two different time series, monthly sunshine duration and monthly confirmed cases, show that 30.89% of countries have high correlation, 55.28% of countries have medium correlation, and 13.82% of countries have low correlation. None of the countries were found to have no correlation.<br><br>\n",
    "\n",
    "* When looking at this cross-correlation by continents, countries in Europe have the highest correlation between monthly sunshine duration and monthly confirmed cases.<br><br>\n",
    "\n",
    "* Sunshine duration could potentially be useful to predict COVID cases in the future, especially for countries with moderate to high correlations."
   ]
  },
  {
   "cell_type": "markdown",
   "id": "aed5a9fa",
   "metadata": {},
   "source": [
    "#  References<a name=\"ref\"></a>"
   ]
  },
  {
   "cell_type": "markdown",
   "id": "0648c7f0",
   "metadata": {},
   "source": [
    "1. <a name=\"1\"></a>Walrand, S. Autumn COVID-19 surge dates in Europe correlated to latitudes, not to temperature-humidity, pointing to vitamin D as contributing factor. Sci Rep 11, 1981 (2021). https://doi.org/10.1038/s41598-021-81419-w\n",
    "2. <a name=\"2\"></a>Wikipedia, “Sunshine duration,” Wikipedia [website], [no date], para. 1, <https://en.wikipedia.org/wiki/Sunshine_duration>, accessed November 3, 2022.\n",
    "3. <a name=\"3\"></a>Our World in Data, \"covid-19-data,\" GitHub [website], [no date], <https://github.com/owid/covid-19-data/tree/master/public/data>, accessed October 23, 2022.\n",
    "4. <a name=\"4\"></a>Wikipedia, “List of cities by sunshine duration,” Wikipedia [website], [no date], <https://en.wikipedia.org/wiki/List_of_cities_by_sunshine_duration>, accessed November 3, 2022.\n",
    "5. <a name=\"5\"></a>Cohen, Jacob. <em>Statistical Power Analysis for the Behavioral Sciences</em>. 2nd ed., Taylor & Francis, 2013. University of Toronto Faculty of Arts & Science, https://www.utstat.toronto.edu/~brunner/oldclass/378f16/readings/CohenPower.pdf. Accessed November 6, 2022."
   ]
  }
 ],
 "metadata": {
  "kernelspec": {
   "display_name": "R",
   "language": "R",
   "name": "ir"
  },
  "language_info": {
   "codemirror_mode": "r",
   "file_extension": ".r",
   "mimetype": "text/x-r-source",
   "name": "R",
   "pygments_lexer": "r",
   "version": "4.2.1"
  }
 },
 "nbformat": 4,
 "nbformat_minor": 5
}
