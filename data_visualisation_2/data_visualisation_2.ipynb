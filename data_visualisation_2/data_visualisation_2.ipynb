{
 "cells": [
  {
   "cell_type": "code",
   "execution_count": 1,
   "id": "fdf10f56",
   "metadata": {
    "colab": {
     "base_uri": "https://localhost:8080/"
    },
    "executionInfo": {
     "elapsed": 113509,
     "status": "ok",
     "timestamp": 1691143405526,
     "user": {
      "displayName": "Ayano Yamamoto",
      "userId": "07664729366976661766"
     },
     "user_tz": -60
    },
    "id": "fdf10f56",
    "outputId": "053eaf04-00f1-45b6-b701-00cb05e78a44"
   },
   "outputs": [],
   "source": [
    "# Create a list of required packages\n",
    "needed_packages <- c(\"dplyr\", \"tidyverse\", \"ggplot2\", \"countrycode\", \"zoo\", \"ggrepel\", \"reshape2\", \"here\", \"maps\", \"mapproj\", \"sf\")\n",
    "\n",
    "# Extract not installed packages\n",
    "not_installed <- needed_packages[!(needed_packages %in% installed.packages()[ , \"Package\"])]\n",
    "\n",
    "# Install not installed packages\n",
    "if(length(not_installed)) install.packages(not_installed)"
   ]
  },
  {
   "cell_type": "code",
   "execution_count": 2,
   "id": "00a2c3c0",
   "metadata": {
    "colab": {
     "base_uri": "https://localhost:8080/"
    },
    "executionInfo": {
     "elapsed": 980,
     "status": "ok",
     "timestamp": 1691143406465,
     "user": {
      "displayName": "Ayano Yamamoto",
      "userId": "07664729366976661766"
     },
     "user_tz": -60
    },
    "id": "00a2c3c0",
    "outputId": "aa5d7e83-2114-4e2b-edb7-b0136980a628"
   },
   "outputs": [
    {
     "name": "stderr",
     "output_type": "stream",
     "text": [
      "\n",
      "Attaching package: 'dplyr'\n",
      "\n",
      "\n",
      "The following objects are masked from 'package:stats':\n",
      "\n",
      "    filter, lag\n",
      "\n",
      "\n",
      "The following objects are masked from 'package:base':\n",
      "\n",
      "    intersect, setdiff, setequal, union\n",
      "\n",
      "\n",
      "-- \u001b[1mAttaching core tidyverse packages\u001b[22m ---------------------------------------------------------------- tidyverse 2.0.0 --\n",
      "\u001b[32mv\u001b[39m \u001b[34mforcats  \u001b[39m 1.0.0     \u001b[32mv\u001b[39m \u001b[34mreadr    \u001b[39m 2.1.4\n",
      "\u001b[32mv\u001b[39m \u001b[34mggplot2  \u001b[39m 3.4.2     \u001b[32mv\u001b[39m \u001b[34mstringr  \u001b[39m 1.5.0\n",
      "\u001b[32mv\u001b[39m \u001b[34mlubridate\u001b[39m 1.9.2     \u001b[32mv\u001b[39m \u001b[34mtibble   \u001b[39m 3.2.1\n",
      "\u001b[32mv\u001b[39m \u001b[34mpurrr    \u001b[39m 1.0.1     \u001b[32mv\u001b[39m \u001b[34mtidyr    \u001b[39m 1.3.0\n",
      "-- \u001b[1mConflicts\u001b[22m ---------------------------------------------------------------------------------- tidyverse_conflicts() --\n",
      "\u001b[31mx\u001b[39m \u001b[34mdplyr\u001b[39m::\u001b[32mfilter()\u001b[39m masks \u001b[34mstats\u001b[39m::filter()\n",
      "\u001b[31mx\u001b[39m \u001b[34mdplyr\u001b[39m::\u001b[32mlag()\u001b[39m    masks \u001b[34mstats\u001b[39m::lag()\n",
      "\u001b[36mi\u001b[39m Use the conflicted package (\u001b[3m\u001b[34m<http://conflicted.r-lib.org/>\u001b[39m\u001b[23m) to force all conflicts to become errors\n",
      "\n",
      "Attaching package: 'zoo'\n",
      "\n",
      "\n",
      "The following objects are masked from 'package:base':\n",
      "\n",
      "    as.Date, as.Date.numeric\n",
      "\n",
      "\n",
      "\n",
      "Attaching package: 'reshape2'\n",
      "\n",
      "\n",
      "The following object is masked from 'package:tidyr':\n",
      "\n",
      "    smiths\n",
      "\n",
      "\n",
      "\n",
      "Attaching package: 'maps'\n",
      "\n",
      "\n",
      "The following object is masked from 'package:purrr':\n",
      "\n",
      "    map\n",
      "\n",
      "\n",
      "Linking to GEOS 3.10.2, GDAL 3.4.1, PROJ 7.2.1; sf_use_s2() is TRUE\n",
      "\n",
      "here() starts at C:/Users/Ayano/Downloads/D21125676_SPEC9995_Assignment2-20230804T100414Z-001/D21125676_SPEC9995_Assignment2\n",
      "\n"
     ]
    }
   ],
   "source": [
    "library(dplyr)\n",
    "library(tidyverse)\n",
    "library(ggplot2)\n",
    "library(countrycode)\n",
    "library(zoo)\n",
    "library(ggrepel)\n",
    "library(reshape2)\n",
    "library(maps)\n",
    "library(mapproj)\n",
    "library(sf)\n",
    "library(here)"
   ]
  },
  {
   "cell_type": "markdown",
   "id": "cdb1e886",
   "metadata": {
    "id": "cdb1e886"
   },
   "source": [
    "# Pre-processing"
   ]
  },
  {
   "cell_type": "markdown",
   "id": "71da7471",
   "metadata": {
    "id": "71da7471"
   },
   "source": [
    "## Hospital Beds Data"
   ]
  },
  {
   "cell_type": "markdown",
   "id": "2e9e3331",
   "metadata": {
    "id": "2e9e3331"
   },
   "source": [
    "First we will read the CSV file."
   ]
  },
  {
   "cell_type": "code",
   "execution_count": 3,
   "id": "a82c9342",
   "metadata": {
    "colab": {
     "base_uri": "https://localhost:8080/",
     "height": 245
    },
    "executionInfo": {
     "elapsed": 571,
     "status": "error",
     "timestamp": 1691143407028,
     "user": {
      "displayName": "Ayano Yamamoto",
      "userId": "07664729366976661766"
     },
     "user_tz": -60
    },
    "id": "a82c9342",
    "outputId": "6c070ee8-1e01-4807-f1c7-d2e0ae775eac",
    "scrolled": false
   },
   "outputs": [
    {
     "data": {
      "text/html": [
       "<style>\n",
       ".list-inline {list-style: none; margin:0; padding: 0}\n",
       ".list-inline>li {display: inline-block}\n",
       ".list-inline>li:not(:last-child)::after {content: \"\\00b7\"; padding: 0 .5ex}\n",
       "</style>\n",
       "<ol class=list-inline><li>266</li><li>67</li></ol>\n"
      ],
      "text/latex": [
       "\\begin{enumerate*}\n",
       "\\item 266\n",
       "\\item 67\n",
       "\\end{enumerate*}\n"
      ],
      "text/markdown": [
       "1. 266\n",
       "2. 67\n",
       "\n",
       "\n"
      ],
      "text/plain": [
       "[1] 266  67"
      ]
     },
     "metadata": {},
     "output_type": "display_data"
    },
    {
     "data": {
      "text/html": [
       "<table class=\"dataframe\">\n",
       "<caption>A data.frame: 6 × 67</caption>\n",
       "<thead>\n",
       "\t<tr><th></th><th scope=col>Country.Name</th><th scope=col>Country.Code</th><th scope=col>Indicator.Name</th><th scope=col>Indicator.Code</th><th scope=col>X1960</th><th scope=col>X1961</th><th scope=col>X1962</th><th scope=col>X1963</th><th scope=col>X1964</th><th scope=col>X1965</th><th scope=col>...</th><th scope=col>X2013</th><th scope=col>X2014</th><th scope=col>X2015</th><th scope=col>X2016</th><th scope=col>X2017</th><th scope=col>X2018</th><th scope=col>X2019</th><th scope=col>X2020</th><th scope=col>X2021</th><th scope=col>X</th></tr>\n",
       "\t<tr><th></th><th scope=col>&lt;chr&gt;</th><th scope=col>&lt;chr&gt;</th><th scope=col>&lt;chr&gt;</th><th scope=col>&lt;chr&gt;</th><th scope=col>&lt;dbl&gt;</th><th scope=col>&lt;dbl&gt;</th><th scope=col>&lt;dbl&gt;</th><th scope=col>&lt;dbl&gt;</th><th scope=col>&lt;dbl&gt;</th><th scope=col>&lt;dbl&gt;</th><th scope=col>...</th><th scope=col>&lt;dbl&gt;</th><th scope=col>&lt;dbl&gt;</th><th scope=col>&lt;dbl&gt;</th><th scope=col>&lt;dbl&gt;</th><th scope=col>&lt;dbl&gt;</th><th scope=col>&lt;dbl&gt;</th><th scope=col>&lt;dbl&gt;</th><th scope=col>&lt;lgl&gt;</th><th scope=col>&lt;lgl&gt;</th><th scope=col>&lt;lgl&gt;</th></tr>\n",
       "</thead>\n",
       "<tbody>\n",
       "\t<tr><th scope=row>1</th><td>Aruba                      </td><td>ABW</td><td>Hospital beds (per 1,000 people)</td><td>SH.MED.BEDS.ZS</td><td>       NA</td><td>NA</td><td>NA</td><td>NA</td><td>NA</td><td>NA</td><td>...</td><td>  NA</td><td> NA</td><td> NA</td><td> NA</td><td>  NA</td><td>NA</td><td>NA</td><td>NA</td><td>NA</td><td>NA</td></tr>\n",
       "\t<tr><th scope=row>2</th><td>Africa Eastern and Southern</td><td>AFE</td><td>Hospital beds (per 1,000 people)</td><td>SH.MED.BEDS.ZS</td><td>1.9664425</td><td>NA</td><td>NA</td><td>NA</td><td>NA</td><td>NA</td><td>...</td><td>  NA</td><td> NA</td><td> NA</td><td> NA</td><td>  NA</td><td>NA</td><td>NA</td><td>NA</td><td>NA</td><td>NA</td></tr>\n",
       "\t<tr><th scope=row>3</th><td>Afghanistan                </td><td>AFG</td><td>Hospital beds (per 1,000 people)</td><td>SH.MED.BEDS.ZS</td><td>0.1706270</td><td>NA</td><td>NA</td><td>NA</td><td>NA</td><td>NA</td><td>...</td><td>0.53</td><td>0.5</td><td>0.5</td><td>0.5</td><td>0.39</td><td>NA</td><td>NA</td><td>NA</td><td>NA</td><td>NA</td></tr>\n",
       "\t<tr><th scope=row>4</th><td>Africa Western and Central </td><td>AFW</td><td>Hospital beds (per 1,000 people)</td><td>SH.MED.BEDS.ZS</td><td>0.7860573</td><td>NA</td><td>NA</td><td>NA</td><td>NA</td><td>NA</td><td>...</td><td>  NA</td><td> NA</td><td> NA</td><td> NA</td><td>  NA</td><td>NA</td><td>NA</td><td>NA</td><td>NA</td><td>NA</td></tr>\n",
       "\t<tr><th scope=row>5</th><td>Angola                     </td><td>AGO</td><td>Hospital beds (per 1,000 people)</td><td>SH.MED.BEDS.ZS</td><td>2.0614617</td><td>NA</td><td>NA</td><td>NA</td><td>NA</td><td>NA</td><td>...</td><td>  NA</td><td> NA</td><td> NA</td><td> NA</td><td>  NA</td><td>NA</td><td>NA</td><td>NA</td><td>NA</td><td>NA</td></tr>\n",
       "\t<tr><th scope=row>6</th><td>Albania                    </td><td>ALB</td><td>Hospital beds (per 1,000 people)</td><td>SH.MED.BEDS.ZS</td><td>5.1026759</td><td>NA</td><td>NA</td><td>NA</td><td>NA</td><td>NA</td><td>...</td><td>2.89</td><td> NA</td><td> NA</td><td> NA</td><td>  NA</td><td>NA</td><td>NA</td><td>NA</td><td>NA</td><td>NA</td></tr>\n",
       "</tbody>\n",
       "</table>\n"
      ],
      "text/latex": [
       "A data.frame: 6 × 67\n",
       "\\begin{tabular}{r|lllllllllllllllllllll}\n",
       "  & Country.Name & Country.Code & Indicator.Name & Indicator.Code & X1960 & X1961 & X1962 & X1963 & X1964 & X1965 & ... & X2013 & X2014 & X2015 & X2016 & X2017 & X2018 & X2019 & X2020 & X2021 & X\\\\\n",
       "  & <chr> & <chr> & <chr> & <chr> & <dbl> & <dbl> & <dbl> & <dbl> & <dbl> & <dbl> & ... & <dbl> & <dbl> & <dbl> & <dbl> & <dbl> & <dbl> & <dbl> & <lgl> & <lgl> & <lgl>\\\\\n",
       "\\hline\n",
       "\t1 & Aruba                       & ABW & Hospital beds (per 1,000 people) & SH.MED.BEDS.ZS &        NA & NA & NA & NA & NA & NA & ... &   NA &  NA &  NA &  NA &   NA & NA & NA & NA & NA & NA\\\\\n",
       "\t2 & Africa Eastern and Southern & AFE & Hospital beds (per 1,000 people) & SH.MED.BEDS.ZS & 1.9664425 & NA & NA & NA & NA & NA & ... &   NA &  NA &  NA &  NA &   NA & NA & NA & NA & NA & NA\\\\\n",
       "\t3 & Afghanistan                 & AFG & Hospital beds (per 1,000 people) & SH.MED.BEDS.ZS & 0.1706270 & NA & NA & NA & NA & NA & ... & 0.53 & 0.5 & 0.5 & 0.5 & 0.39 & NA & NA & NA & NA & NA\\\\\n",
       "\t4 & Africa Western and Central  & AFW & Hospital beds (per 1,000 people) & SH.MED.BEDS.ZS & 0.7860573 & NA & NA & NA & NA & NA & ... &   NA &  NA &  NA &  NA &   NA & NA & NA & NA & NA & NA\\\\\n",
       "\t5 & Angola                      & AGO & Hospital beds (per 1,000 people) & SH.MED.BEDS.ZS & 2.0614617 & NA & NA & NA & NA & NA & ... &   NA &  NA &  NA &  NA &   NA & NA & NA & NA & NA & NA\\\\\n",
       "\t6 & Albania                     & ALB & Hospital beds (per 1,000 people) & SH.MED.BEDS.ZS & 5.1026759 & NA & NA & NA & NA & NA & ... & 2.89 &  NA &  NA &  NA &   NA & NA & NA & NA & NA & NA\\\\\n",
       "\\end{tabular}\n"
      ],
      "text/markdown": [
       "\n",
       "A data.frame: 6 × 67\n",
       "\n",
       "| <!--/--> | Country.Name &lt;chr&gt; | Country.Code &lt;chr&gt; | Indicator.Name &lt;chr&gt; | Indicator.Code &lt;chr&gt; | X1960 &lt;dbl&gt; | X1961 &lt;dbl&gt; | X1962 &lt;dbl&gt; | X1963 &lt;dbl&gt; | X1964 &lt;dbl&gt; | X1965 &lt;dbl&gt; | ... ... | X2013 &lt;dbl&gt; | X2014 &lt;dbl&gt; | X2015 &lt;dbl&gt; | X2016 &lt;dbl&gt; | X2017 &lt;dbl&gt; | X2018 &lt;dbl&gt; | X2019 &lt;dbl&gt; | X2020 &lt;lgl&gt; | X2021 &lt;lgl&gt; | X &lt;lgl&gt; |\n",
       "|---|---|---|---|---|---|---|---|---|---|---|---|---|---|---|---|---|---|---|---|---|---|\n",
       "| 1 | Aruba                       | ABW | Hospital beds (per 1,000 people) | SH.MED.BEDS.ZS |        NA | NA | NA | NA | NA | NA | ... |   NA |  NA |  NA |  NA |   NA | NA | NA | NA | NA | NA |\n",
       "| 2 | Africa Eastern and Southern | AFE | Hospital beds (per 1,000 people) | SH.MED.BEDS.ZS | 1.9664425 | NA | NA | NA | NA | NA | ... |   NA |  NA |  NA |  NA |   NA | NA | NA | NA | NA | NA |\n",
       "| 3 | Afghanistan                 | AFG | Hospital beds (per 1,000 people) | SH.MED.BEDS.ZS | 0.1706270 | NA | NA | NA | NA | NA | ... | 0.53 | 0.5 | 0.5 | 0.5 | 0.39 | NA | NA | NA | NA | NA |\n",
       "| 4 | Africa Western and Central  | AFW | Hospital beds (per 1,000 people) | SH.MED.BEDS.ZS | 0.7860573 | NA | NA | NA | NA | NA | ... |   NA |  NA |  NA |  NA |   NA | NA | NA | NA | NA | NA |\n",
       "| 5 | Angola                      | AGO | Hospital beds (per 1,000 people) | SH.MED.BEDS.ZS | 2.0614617 | NA | NA | NA | NA | NA | ... |   NA |  NA |  NA |  NA |   NA | NA | NA | NA | NA | NA |\n",
       "| 6 | Albania                     | ALB | Hospital beds (per 1,000 people) | SH.MED.BEDS.ZS | 5.1026759 | NA | NA | NA | NA | NA | ... | 2.89 |  NA |  NA |  NA |   NA | NA | NA | NA | NA | NA |\n",
       "\n"
      ],
      "text/plain": [
       "  Country.Name                Country.Code Indicator.Name                  \n",
       "1 Aruba                       ABW          Hospital beds (per 1,000 people)\n",
       "2 Africa Eastern and Southern AFE          Hospital beds (per 1,000 people)\n",
       "3 Afghanistan                 AFG          Hospital beds (per 1,000 people)\n",
       "4 Africa Western and Central  AFW          Hospital beds (per 1,000 people)\n",
       "5 Angola                      AGO          Hospital beds (per 1,000 people)\n",
       "6 Albania                     ALB          Hospital beds (per 1,000 people)\n",
       "  Indicator.Code X1960     X1961 X1962 X1963 X1964 X1965 ... X2013 X2014 X2015\n",
       "1 SH.MED.BEDS.ZS        NA NA    NA    NA    NA    NA    ...   NA   NA    NA  \n",
       "2 SH.MED.BEDS.ZS 1.9664425 NA    NA    NA    NA    NA    ...   NA   NA    NA  \n",
       "3 SH.MED.BEDS.ZS 0.1706270 NA    NA    NA    NA    NA    ... 0.53  0.5   0.5  \n",
       "4 SH.MED.BEDS.ZS 0.7860573 NA    NA    NA    NA    NA    ...   NA   NA    NA  \n",
       "5 SH.MED.BEDS.ZS 2.0614617 NA    NA    NA    NA    NA    ...   NA   NA    NA  \n",
       "6 SH.MED.BEDS.ZS 5.1026759 NA    NA    NA    NA    NA    ... 2.89   NA    NA  \n",
       "  X2016 X2017 X2018 X2019 X2020 X2021 X \n",
       "1  NA     NA  NA    NA    NA    NA    NA\n",
       "2  NA     NA  NA    NA    NA    NA    NA\n",
       "3 0.5   0.39  NA    NA    NA    NA    NA\n",
       "4  NA     NA  NA    NA    NA    NA    NA\n",
       "5  NA     NA  NA    NA    NA    NA    NA\n",
       "6  NA     NA  NA    NA    NA    NA    NA"
      ]
     },
     "metadata": {},
     "output_type": "display_data"
    }
   ],
   "source": [
    "# Read the csv file\n",
    "beds_df <- read.csv(\"API_SH.MED.BEDS.ZS_DS2_en_csv_v2_5363904.csv\", sep = ',', skip = 4, header = T)\n",
    "\n",
    "# Display the dimension\n",
    "dim(beds_df)\n",
    "\n",
    "# Check the first few rows\n",
    "head(beds_df)"
   ]
  },
  {
   "cell_type": "markdown",
   "id": "0f862d9f",
   "metadata": {
    "id": "0f862d9f"
   },
   "source": [
    "Remove unnecessary data."
   ]
  },
  {
   "cell_type": "code",
   "execution_count": 4,
   "id": "f5a6002d",
   "metadata": {
    "executionInfo": {
     "elapsed": 115724,
     "status": "aborted",
     "timestamp": 1691143407034,
     "user": {
      "displayName": "Ayano Yamamoto",
      "userId": "07664729366976661766"
     },
     "user_tz": -60
    },
    "id": "f5a6002d"
   },
   "outputs": [
    {
     "data": {
      "text/html": [
       "<table class=\"dataframe\">\n",
       "<caption>A data.frame: 6 × 64</caption>\n",
       "<thead>\n",
       "\t<tr><th></th><th scope=col>Country.Name</th><th scope=col>Country.Code</th><th scope=col>1960</th><th scope=col>1961</th><th scope=col>1962</th><th scope=col>1963</th><th scope=col>1964</th><th scope=col>1965</th><th scope=col>1966</th><th scope=col>1967</th><th scope=col>...</th><th scope=col>2012</th><th scope=col>2013</th><th scope=col>2014</th><th scope=col>2015</th><th scope=col>2016</th><th scope=col>2017</th><th scope=col>2018</th><th scope=col>2019</th><th scope=col>2020</th><th scope=col>2021</th></tr>\n",
       "\t<tr><th></th><th scope=col>&lt;chr&gt;</th><th scope=col>&lt;chr&gt;</th><th scope=col>&lt;dbl&gt;</th><th scope=col>&lt;dbl&gt;</th><th scope=col>&lt;dbl&gt;</th><th scope=col>&lt;dbl&gt;</th><th scope=col>&lt;dbl&gt;</th><th scope=col>&lt;dbl&gt;</th><th scope=col>&lt;dbl&gt;</th><th scope=col>&lt;dbl&gt;</th><th scope=col>...</th><th scope=col>&lt;dbl&gt;</th><th scope=col>&lt;dbl&gt;</th><th scope=col>&lt;dbl&gt;</th><th scope=col>&lt;dbl&gt;</th><th scope=col>&lt;dbl&gt;</th><th scope=col>&lt;dbl&gt;</th><th scope=col>&lt;dbl&gt;</th><th scope=col>&lt;dbl&gt;</th><th scope=col>&lt;lgl&gt;</th><th scope=col>&lt;lgl&gt;</th></tr>\n",
       "</thead>\n",
       "<tbody>\n",
       "\t<tr><th scope=row>1</th><td>Aruba               </td><td>ABW</td><td>      NA</td><td>NA</td><td>NA</td><td>NA</td><td>NA</td><td>NA</td><td>NA</td><td>NA</td><td>...</td><td>  NA</td><td>  NA</td><td> NA</td><td> NA</td><td>  NA</td><td>  NA</td><td>NA</td><td>NA</td><td>NA</td><td>NA</td></tr>\n",
       "\t<tr><th scope=row>2</th><td>Afghanistan         </td><td>AFG</td><td>0.170627</td><td>NA</td><td>NA</td><td>NA</td><td>NA</td><td>NA</td><td>NA</td><td>NA</td><td>...</td><td>0.53</td><td>0.53</td><td>0.5</td><td>0.5</td><td>0.50</td><td>0.39</td><td>NA</td><td>NA</td><td>NA</td><td>NA</td></tr>\n",
       "\t<tr><th scope=row>3</th><td>Angola              </td><td>AGO</td><td>2.061462</td><td>NA</td><td>NA</td><td>NA</td><td>NA</td><td>NA</td><td>NA</td><td>NA</td><td>...</td><td>  NA</td><td>  NA</td><td> NA</td><td> NA</td><td>  NA</td><td>  NA</td><td>NA</td><td>NA</td><td>NA</td><td>NA</td></tr>\n",
       "\t<tr><th scope=row>4</th><td>Albania             </td><td>ALB</td><td>5.102676</td><td>NA</td><td>NA</td><td>NA</td><td>NA</td><td>NA</td><td>NA</td><td>NA</td><td>...</td><td>2.88</td><td>2.89</td><td> NA</td><td> NA</td><td>  NA</td><td>  NA</td><td>NA</td><td>NA</td><td>NA</td><td>NA</td></tr>\n",
       "\t<tr><th scope=row>5</th><td>Andorra             </td><td>AND</td><td>      NA</td><td>NA</td><td>NA</td><td>NA</td><td>NA</td><td>NA</td><td>NA</td><td>NA</td><td>...</td><td>  NA</td><td>  NA</td><td> NA</td><td> NA</td><td>  NA</td><td>  NA</td><td>NA</td><td>NA</td><td>NA</td><td>NA</td></tr>\n",
       "\t<tr><th scope=row>6</th><td>United Arab Emirates</td><td>ARE</td><td>      NA</td><td>NA</td><td>NA</td><td>NA</td><td>NA</td><td>NA</td><td>NA</td><td>NA</td><td>...</td><td>1.07</td><td>1.15</td><td> NA</td><td>1.1</td><td>1.36</td><td>1.38</td><td>NA</td><td>NA</td><td>NA</td><td>NA</td></tr>\n",
       "</tbody>\n",
       "</table>\n"
      ],
      "text/latex": [
       "A data.frame: 6 × 64\n",
       "\\begin{tabular}{r|lllllllllllllllllllll}\n",
       "  & Country.Name & Country.Code & 1960 & 1961 & 1962 & 1963 & 1964 & 1965 & 1966 & 1967 & ... & 2012 & 2013 & 2014 & 2015 & 2016 & 2017 & 2018 & 2019 & 2020 & 2021\\\\\n",
       "  & <chr> & <chr> & <dbl> & <dbl> & <dbl> & <dbl> & <dbl> & <dbl> & <dbl> & <dbl> & ... & <dbl> & <dbl> & <dbl> & <dbl> & <dbl> & <dbl> & <dbl> & <dbl> & <lgl> & <lgl>\\\\\n",
       "\\hline\n",
       "\t1 & Aruba                & ABW &       NA & NA & NA & NA & NA & NA & NA & NA & ... &   NA &   NA &  NA &  NA &   NA &   NA & NA & NA & NA & NA\\\\\n",
       "\t2 & Afghanistan          & AFG & 0.170627 & NA & NA & NA & NA & NA & NA & NA & ... & 0.53 & 0.53 & 0.5 & 0.5 & 0.50 & 0.39 & NA & NA & NA & NA\\\\\n",
       "\t3 & Angola               & AGO & 2.061462 & NA & NA & NA & NA & NA & NA & NA & ... &   NA &   NA &  NA &  NA &   NA &   NA & NA & NA & NA & NA\\\\\n",
       "\t4 & Albania              & ALB & 5.102676 & NA & NA & NA & NA & NA & NA & NA & ... & 2.88 & 2.89 &  NA &  NA &   NA &   NA & NA & NA & NA & NA\\\\\n",
       "\t5 & Andorra              & AND &       NA & NA & NA & NA & NA & NA & NA & NA & ... &   NA &   NA &  NA &  NA &   NA &   NA & NA & NA & NA & NA\\\\\n",
       "\t6 & United Arab Emirates & ARE &       NA & NA & NA & NA & NA & NA & NA & NA & ... & 1.07 & 1.15 &  NA & 1.1 & 1.36 & 1.38 & NA & NA & NA & NA\\\\\n",
       "\\end{tabular}\n"
      ],
      "text/markdown": [
       "\n",
       "A data.frame: 6 × 64\n",
       "\n",
       "| <!--/--> | Country.Name &lt;chr&gt; | Country.Code &lt;chr&gt; | 1960 &lt;dbl&gt; | 1961 &lt;dbl&gt; | 1962 &lt;dbl&gt; | 1963 &lt;dbl&gt; | 1964 &lt;dbl&gt; | 1965 &lt;dbl&gt; | 1966 &lt;dbl&gt; | 1967 &lt;dbl&gt; | ... ... | 2012 &lt;dbl&gt; | 2013 &lt;dbl&gt; | 2014 &lt;dbl&gt; | 2015 &lt;dbl&gt; | 2016 &lt;dbl&gt; | 2017 &lt;dbl&gt; | 2018 &lt;dbl&gt; | 2019 &lt;dbl&gt; | 2020 &lt;lgl&gt; | 2021 &lt;lgl&gt; |\n",
       "|---|---|---|---|---|---|---|---|---|---|---|---|---|---|---|---|---|---|---|---|---|---|\n",
       "| 1 | Aruba                | ABW |       NA | NA | NA | NA | NA | NA | NA | NA | ... |   NA |   NA |  NA |  NA |   NA |   NA | NA | NA | NA | NA |\n",
       "| 2 | Afghanistan          | AFG | 0.170627 | NA | NA | NA | NA | NA | NA | NA | ... | 0.53 | 0.53 | 0.5 | 0.5 | 0.50 | 0.39 | NA | NA | NA | NA |\n",
       "| 3 | Angola               | AGO | 2.061462 | NA | NA | NA | NA | NA | NA | NA | ... |   NA |   NA |  NA |  NA |   NA |   NA | NA | NA | NA | NA |\n",
       "| 4 | Albania              | ALB | 5.102676 | NA | NA | NA | NA | NA | NA | NA | ... | 2.88 | 2.89 |  NA |  NA |   NA |   NA | NA | NA | NA | NA |\n",
       "| 5 | Andorra              | AND |       NA | NA | NA | NA | NA | NA | NA | NA | ... |   NA |   NA |  NA |  NA |   NA |   NA | NA | NA | NA | NA |\n",
       "| 6 | United Arab Emirates | ARE |       NA | NA | NA | NA | NA | NA | NA | NA | ... | 1.07 | 1.15 |  NA | 1.1 | 1.36 | 1.38 | NA | NA | NA | NA |\n",
       "\n"
      ],
      "text/plain": [
       "  Country.Name         Country.Code 1960     1961 1962 1963 1964 1965 1966 1967\n",
       "1 Aruba                ABW                NA NA   NA   NA   NA   NA   NA   NA  \n",
       "2 Afghanistan          AFG          0.170627 NA   NA   NA   NA   NA   NA   NA  \n",
       "3 Angola               AGO          2.061462 NA   NA   NA   NA   NA   NA   NA  \n",
       "4 Albania              ALB          5.102676 NA   NA   NA   NA   NA   NA   NA  \n",
       "5 Andorra              AND                NA NA   NA   NA   NA   NA   NA   NA  \n",
       "6 United Arab Emirates ARE                NA NA   NA   NA   NA   NA   NA   NA  \n",
       "  ... 2012 2013 2014 2015 2016 2017 2018 2019 2020 2021\n",
       "1 ...   NA   NA  NA   NA    NA   NA NA   NA   NA   NA  \n",
       "2 ... 0.53 0.53 0.5  0.5  0.50 0.39 NA   NA   NA   NA  \n",
       "3 ...   NA   NA  NA   NA    NA   NA NA   NA   NA   NA  \n",
       "4 ... 2.88 2.89  NA   NA    NA   NA NA   NA   NA   NA  \n",
       "5 ...   NA   NA  NA   NA    NA   NA NA   NA   NA   NA  \n",
       "6 ... 1.07 1.15  NA  1.1  1.36 1.38 NA   NA   NA   NA  "
      ]
     },
     "metadata": {},
     "output_type": "display_data"
    }
   ],
   "source": [
    "# Drop unnecessary columns, remove \"X\" from column names, and remove rows with Country.Code values that are not valid ISO-3 codes\n",
    "beds_df <-\n",
    "    beds_df %>%\n",
    "    select(-c(\"Indicator.Name\", \"Indicator.Code\", \"X\")) %>% # Drop unnecessary columns\n",
    "    rename_with(~ sub(\"^X\", \"\", .), starts_with(\"X\")) %>% # Remove \"X\" from column names\n",
    "    filter(Country.Code %in% codelist$iso3c) # Remove rows with Country.Code values that are not valid ISO-3 codes\n",
    "\n",
    "# Check the first few rows\n",
    "head(beds_df)"
   ]
  },
  {
   "cell_type": "markdown",
   "id": "fb93cd1f",
   "metadata": {
    "id": "fb93cd1f"
   },
   "source": [
    "We also want to remove columns where there are no data for Ireland, since it's the focus of this report. Luckily there are consecutive data for Ireland between 1980 and 2018."
   ]
  },
  {
   "cell_type": "code",
   "execution_count": 5,
   "id": "981dd200",
   "metadata": {
    "executionInfo": {
     "elapsed": 115711,
     "status": "aborted",
     "timestamp": 1691143407038,
     "user": {
      "displayName": "Ayano Yamamoto",
      "userId": "07664729366976661766"
     },
     "user_tz": -60
    },
    "id": "981dd200",
    "scrolled": true
   },
   "outputs": [
    {
     "data": {
      "text/html": [
       "<style>\n",
       ".list-inline {list-style: none; margin:0; padding: 0}\n",
       ".list-inline>li {display: inline-block}\n",
       ".list-inline>li:not(:last-child)::after {content: \"\\00b7\"; padding: 0 .5ex}\n",
       "</style>\n",
       "<ol class=list-inline><li>'1960'</li><li>'1961'</li><li>'1962'</li><li>'1963'</li><li>'1964'</li><li>'1965'</li><li>'1966'</li><li>'1967'</li><li>'1968'</li><li>'1969'</li><li>'1970'</li><li>'1971'</li><li>'1972'</li><li>'1973'</li><li>'1974'</li><li>'1975'</li><li>'1976'</li><li>'1977'</li><li>'1978'</li><li>'1979'</li><li>'2019'</li><li>'2020'</li><li>'2021'</li></ol>\n"
      ],
      "text/latex": [
       "\\begin{enumerate*}\n",
       "\\item '1960'\n",
       "\\item '1961'\n",
       "\\item '1962'\n",
       "\\item '1963'\n",
       "\\item '1964'\n",
       "\\item '1965'\n",
       "\\item '1966'\n",
       "\\item '1967'\n",
       "\\item '1968'\n",
       "\\item '1969'\n",
       "\\item '1970'\n",
       "\\item '1971'\n",
       "\\item '1972'\n",
       "\\item '1973'\n",
       "\\item '1974'\n",
       "\\item '1975'\n",
       "\\item '1976'\n",
       "\\item '1977'\n",
       "\\item '1978'\n",
       "\\item '1979'\n",
       "\\item '2019'\n",
       "\\item '2020'\n",
       "\\item '2021'\n",
       "\\end{enumerate*}\n"
      ],
      "text/markdown": [
       "1. '1960'\n",
       "2. '1961'\n",
       "3. '1962'\n",
       "4. '1963'\n",
       "5. '1964'\n",
       "6. '1965'\n",
       "7. '1966'\n",
       "8. '1967'\n",
       "9. '1968'\n",
       "10. '1969'\n",
       "11. '1970'\n",
       "12. '1971'\n",
       "13. '1972'\n",
       "14. '1973'\n",
       "15. '1974'\n",
       "16. '1975'\n",
       "17. '1976'\n",
       "18. '1977'\n",
       "19. '1978'\n",
       "20. '1979'\n",
       "21. '2019'\n",
       "22. '2020'\n",
       "23. '2021'\n",
       "\n",
       "\n"
      ],
      "text/plain": [
       " [1] \"1960\" \"1961\" \"1962\" \"1963\" \"1964\" \"1965\" \"1966\" \"1967\" \"1968\" \"1969\"\n",
       "[11] \"1970\" \"1971\" \"1972\" \"1973\" \"1974\" \"1975\" \"1976\" \"1977\" \"1978\" \"1979\"\n",
       "[21] \"2019\" \"2020\" \"2021\""
      ]
     },
     "metadata": {},
     "output_type": "display_data"
    },
    {
     "data": {
      "text/html": [
       "<table class=\"dataframe\">\n",
       "<caption>A data.frame: 6 × 41</caption>\n",
       "<thead>\n",
       "\t<tr><th></th><th scope=col>Country.Name</th><th scope=col>Country.Code</th><th scope=col>1980</th><th scope=col>1981</th><th scope=col>1982</th><th scope=col>1983</th><th scope=col>1984</th><th scope=col>1985</th><th scope=col>1986</th><th scope=col>1987</th><th scope=col>...</th><th scope=col>2009</th><th scope=col>2010</th><th scope=col>2011</th><th scope=col>2012</th><th scope=col>2013</th><th scope=col>2014</th><th scope=col>2015</th><th scope=col>2016</th><th scope=col>2017</th><th scope=col>2018</th></tr>\n",
       "\t<tr><th></th><th scope=col>&lt;chr&gt;</th><th scope=col>&lt;chr&gt;</th><th scope=col>&lt;dbl&gt;</th><th scope=col>&lt;dbl&gt;</th><th scope=col>&lt;dbl&gt;</th><th scope=col>&lt;dbl&gt;</th><th scope=col>&lt;dbl&gt;</th><th scope=col>&lt;dbl&gt;</th><th scope=col>&lt;dbl&gt;</th><th scope=col>&lt;dbl&gt;</th><th scope=col>...</th><th scope=col>&lt;dbl&gt;</th><th scope=col>&lt;dbl&gt;</th><th scope=col>&lt;dbl&gt;</th><th scope=col>&lt;dbl&gt;</th><th scope=col>&lt;dbl&gt;</th><th scope=col>&lt;dbl&gt;</th><th scope=col>&lt;dbl&gt;</th><th scope=col>&lt;dbl&gt;</th><th scope=col>&lt;dbl&gt;</th><th scope=col>&lt;dbl&gt;</th></tr>\n",
       "</thead>\n",
       "<tbody>\n",
       "\t<tr><th scope=row>1</th><td>Aruba               </td><td>ABW</td><td>    NA</td><td>    NA</td><td>    NA</td><td>    NA</td><td>   NA</td><td>    NA</td><td>    NA</td><td>    NA</td><td>...</td><td>  NA</td><td>  NA</td><td>  NA</td><td>  NA</td><td>  NA</td><td> NA</td><td> NA</td><td>  NA</td><td>  NA</td><td>NA</td></tr>\n",
       "\t<tr><th scope=row>2</th><td>Afghanistan         </td><td>AFG</td><td>    NA</td><td>0.2756</td><td>    NA</td><td>    NA</td><td>   NA</td><td>    NA</td><td>    NA</td><td>0.3091</td><td>...</td><td>0.42</td><td>0.43</td><td>0.44</td><td>0.53</td><td>0.53</td><td>0.5</td><td>0.5</td><td>0.50</td><td>0.39</td><td>NA</td></tr>\n",
       "\t<tr><th scope=row>3</th><td>Angola              </td><td>AGO</td><td>    NA</td><td>    NA</td><td>    NA</td><td>    NA</td><td>   NA</td><td>    NA</td><td>    NA</td><td>    NA</td><td>...</td><td>  NA</td><td>  NA</td><td>  NA</td><td>  NA</td><td>  NA</td><td> NA</td><td> NA</td><td>  NA</td><td>  NA</td><td>NA</td></tr>\n",
       "\t<tr><th scope=row>4</th><td>Albania             </td><td>ALB</td><td>4.2717</td><td>4.1871</td><td>4.1607</td><td>4.0862</td><td>4.139</td><td>4.1388</td><td>4.0697</td><td>3.9700</td><td>...</td><td>3.01</td><td>2.99</td><td>2.88</td><td>2.88</td><td>2.89</td><td> NA</td><td> NA</td><td>  NA</td><td>  NA</td><td>NA</td></tr>\n",
       "\t<tr><th scope=row>5</th><td>Andorra             </td><td>AND</td><td>    NA</td><td>    NA</td><td>    NA</td><td>    NA</td><td>   NA</td><td>    NA</td><td>    NA</td><td>    NA</td><td>...</td><td>2.50</td><td>  NA</td><td>  NA</td><td>  NA</td><td>  NA</td><td> NA</td><td> NA</td><td>  NA</td><td>  NA</td><td>NA</td></tr>\n",
       "\t<tr><th scope=row>6</th><td>United Arab Emirates</td><td>ARE</td><td>2.8495</td><td>2.8751</td><td>    NA</td><td>    NA</td><td>   NA</td><td>    NA</td><td>    NA</td><td>    NA</td><td>...</td><td>1.93</td><td>1.93</td><td>1.07</td><td>1.07</td><td>1.15</td><td> NA</td><td>1.1</td><td>1.36</td><td>1.38</td><td>NA</td></tr>\n",
       "</tbody>\n",
       "</table>\n"
      ],
      "text/latex": [
       "A data.frame: 6 × 41\n",
       "\\begin{tabular}{r|lllllllllllllllllllll}\n",
       "  & Country.Name & Country.Code & 1980 & 1981 & 1982 & 1983 & 1984 & 1985 & 1986 & 1987 & ... & 2009 & 2010 & 2011 & 2012 & 2013 & 2014 & 2015 & 2016 & 2017 & 2018\\\\\n",
       "  & <chr> & <chr> & <dbl> & <dbl> & <dbl> & <dbl> & <dbl> & <dbl> & <dbl> & <dbl> & ... & <dbl> & <dbl> & <dbl> & <dbl> & <dbl> & <dbl> & <dbl> & <dbl> & <dbl> & <dbl>\\\\\n",
       "\\hline\n",
       "\t1 & Aruba                & ABW &     NA &     NA &     NA &     NA &    NA &     NA &     NA &     NA & ... &   NA &   NA &   NA &   NA &   NA &  NA &  NA &   NA &   NA & NA\\\\\n",
       "\t2 & Afghanistan          & AFG &     NA & 0.2756 &     NA &     NA &    NA &     NA &     NA & 0.3091 & ... & 0.42 & 0.43 & 0.44 & 0.53 & 0.53 & 0.5 & 0.5 & 0.50 & 0.39 & NA\\\\\n",
       "\t3 & Angola               & AGO &     NA &     NA &     NA &     NA &    NA &     NA &     NA &     NA & ... &   NA &   NA &   NA &   NA &   NA &  NA &  NA &   NA &   NA & NA\\\\\n",
       "\t4 & Albania              & ALB & 4.2717 & 4.1871 & 4.1607 & 4.0862 & 4.139 & 4.1388 & 4.0697 & 3.9700 & ... & 3.01 & 2.99 & 2.88 & 2.88 & 2.89 &  NA &  NA &   NA &   NA & NA\\\\\n",
       "\t5 & Andorra              & AND &     NA &     NA &     NA &     NA &    NA &     NA &     NA &     NA & ... & 2.50 &   NA &   NA &   NA &   NA &  NA &  NA &   NA &   NA & NA\\\\\n",
       "\t6 & United Arab Emirates & ARE & 2.8495 & 2.8751 &     NA &     NA &    NA &     NA &     NA &     NA & ... & 1.93 & 1.93 & 1.07 & 1.07 & 1.15 &  NA & 1.1 & 1.36 & 1.38 & NA\\\\\n",
       "\\end{tabular}\n"
      ],
      "text/markdown": [
       "\n",
       "A data.frame: 6 × 41\n",
       "\n",
       "| <!--/--> | Country.Name &lt;chr&gt; | Country.Code &lt;chr&gt; | 1980 &lt;dbl&gt; | 1981 &lt;dbl&gt; | 1982 &lt;dbl&gt; | 1983 &lt;dbl&gt; | 1984 &lt;dbl&gt; | 1985 &lt;dbl&gt; | 1986 &lt;dbl&gt; | 1987 &lt;dbl&gt; | ... ... | 2009 &lt;dbl&gt; | 2010 &lt;dbl&gt; | 2011 &lt;dbl&gt; | 2012 &lt;dbl&gt; | 2013 &lt;dbl&gt; | 2014 &lt;dbl&gt; | 2015 &lt;dbl&gt; | 2016 &lt;dbl&gt; | 2017 &lt;dbl&gt; | 2018 &lt;dbl&gt; |\n",
       "|---|---|---|---|---|---|---|---|---|---|---|---|---|---|---|---|---|---|---|---|---|---|\n",
       "| 1 | Aruba                | ABW |     NA |     NA |     NA |     NA |    NA |     NA |     NA |     NA | ... |   NA |   NA |   NA |   NA |   NA |  NA |  NA |   NA |   NA | NA |\n",
       "| 2 | Afghanistan          | AFG |     NA | 0.2756 |     NA |     NA |    NA |     NA |     NA | 0.3091 | ... | 0.42 | 0.43 | 0.44 | 0.53 | 0.53 | 0.5 | 0.5 | 0.50 | 0.39 | NA |\n",
       "| 3 | Angola               | AGO |     NA |     NA |     NA |     NA |    NA |     NA |     NA |     NA | ... |   NA |   NA |   NA |   NA |   NA |  NA |  NA |   NA |   NA | NA |\n",
       "| 4 | Albania              | ALB | 4.2717 | 4.1871 | 4.1607 | 4.0862 | 4.139 | 4.1388 | 4.0697 | 3.9700 | ... | 3.01 | 2.99 | 2.88 | 2.88 | 2.89 |  NA |  NA |   NA |   NA | NA |\n",
       "| 5 | Andorra              | AND |     NA |     NA |     NA |     NA |    NA |     NA |     NA |     NA | ... | 2.50 |   NA |   NA |   NA |   NA |  NA |  NA |   NA |   NA | NA |\n",
       "| 6 | United Arab Emirates | ARE | 2.8495 | 2.8751 |     NA |     NA |    NA |     NA |     NA |     NA | ... | 1.93 | 1.93 | 1.07 | 1.07 | 1.15 |  NA | 1.1 | 1.36 | 1.38 | NA |\n",
       "\n"
      ],
      "text/plain": [
       "  Country.Name         Country.Code 1980   1981   1982   1983   1984  1985  \n",
       "1 Aruba                ABW              NA     NA     NA     NA    NA     NA\n",
       "2 Afghanistan          AFG              NA 0.2756     NA     NA    NA     NA\n",
       "3 Angola               AGO              NA     NA     NA     NA    NA     NA\n",
       "4 Albania              ALB          4.2717 4.1871 4.1607 4.0862 4.139 4.1388\n",
       "5 Andorra              AND              NA     NA     NA     NA    NA     NA\n",
       "6 United Arab Emirates ARE          2.8495 2.8751     NA     NA    NA     NA\n",
       "  1986   1987   ... 2009 2010 2011 2012 2013 2014 2015 2016 2017 2018\n",
       "1     NA     NA ...   NA   NA   NA   NA   NA  NA   NA    NA   NA NA  \n",
       "2     NA 0.3091 ... 0.42 0.43 0.44 0.53 0.53 0.5  0.5  0.50 0.39 NA  \n",
       "3     NA     NA ...   NA   NA   NA   NA   NA  NA   NA    NA   NA NA  \n",
       "4 4.0697 3.9700 ... 3.01 2.99 2.88 2.88 2.89  NA   NA    NA   NA NA  \n",
       "5     NA     NA ... 2.50   NA   NA   NA   NA  NA   NA    NA   NA NA  \n",
       "6     NA     NA ... 1.93 1.93 1.07 1.07 1.15  NA  1.1  1.36 1.38 NA  "
      ]
     },
     "metadata": {},
     "output_type": "display_data"
    }
   ],
   "source": [
    "# List the column names where the data is NA for Ireland\n",
    "ireland_row <- which(beds_df$Country.Name == \"Ireland\")\n",
    "colnames(beds_df)[is.na(beds_df[ireland_row, ])]\n",
    "\n",
    "# Drop columns where the data is NA for Ireland\n",
    "beds_df <-\n",
    "    beds_df %>%\n",
    "    select(-which(is.na(.[ireland_row, ])))\n",
    "\n",
    "# Check the first few rows\n",
    "head(beds_df)"
   ]
  },
  {
   "cell_type": "markdown",
   "id": "296097fb",
   "metadata": {
    "id": "296097fb"
   },
   "source": [
    "Drop countries that are missing more than 30% of the columns, and restructure the dataframe."
   ]
  },
  {
   "cell_type": "code",
   "execution_count": 6,
   "id": "7baeaa77",
   "metadata": {
    "executionInfo": {
     "elapsed": 115700,
     "status": "aborted",
     "timestamp": 1691143407042,
     "user": {
      "displayName": "Ayano Yamamoto",
      "userId": "07664729366976661766"
     },
     "user_tz": -60
    },
    "id": "7baeaa77"
   },
   "outputs": [
    {
     "data": {
      "text/html": [
       "255"
      ],
      "text/latex": [
       "255"
      ],
      "text/markdown": [
       "255"
      ],
      "text/plain": [
       "[1] 255"
      ]
     },
     "metadata": {},
     "output_type": "display_data"
    },
    {
     "data": {
      "text/html": [
       "<table class=\"dataframe\">\n",
       "<caption>A tibble: 6 × 4</caption>\n",
       "<thead>\n",
       "\t<tr><th scope=col>Country.Name</th><th scope=col>Country.Code</th><th scope=col>Year</th><th scope=col>Value</th></tr>\n",
       "\t<tr><th scope=col>&lt;chr&gt;</th><th scope=col>&lt;chr&gt;</th><th scope=col>&lt;int&gt;</th><th scope=col>&lt;dbl&gt;</th></tr>\n",
       "</thead>\n",
       "<tbody>\n",
       "\t<tr><td>Albania</td><td>ALB</td><td>1980</td><td>4.2717</td></tr>\n",
       "\t<tr><td>Albania</td><td>ALB</td><td>1981</td><td>4.1871</td></tr>\n",
       "\t<tr><td>Albania</td><td>ALB</td><td>1982</td><td>4.1607</td></tr>\n",
       "\t<tr><td>Albania</td><td>ALB</td><td>1983</td><td>4.0862</td></tr>\n",
       "\t<tr><td>Albania</td><td>ALB</td><td>1984</td><td>4.1390</td></tr>\n",
       "\t<tr><td>Albania</td><td>ALB</td><td>1985</td><td>4.1388</td></tr>\n",
       "</tbody>\n",
       "</table>\n"
      ],
      "text/latex": [
       "A tibble: 6 × 4\n",
       "\\begin{tabular}{llll}\n",
       " Country.Name & Country.Code & Year & Value\\\\\n",
       " <chr> & <chr> & <int> & <dbl>\\\\\n",
       "\\hline\n",
       "\t Albania & ALB & 1980 & 4.2717\\\\\n",
       "\t Albania & ALB & 1981 & 4.1871\\\\\n",
       "\t Albania & ALB & 1982 & 4.1607\\\\\n",
       "\t Albania & ALB & 1983 & 4.0862\\\\\n",
       "\t Albania & ALB & 1984 & 4.1390\\\\\n",
       "\t Albania & ALB & 1985 & 4.1388\\\\\n",
       "\\end{tabular}\n"
      ],
      "text/markdown": [
       "\n",
       "A tibble: 6 × 4\n",
       "\n",
       "| Country.Name &lt;chr&gt; | Country.Code &lt;chr&gt; | Year &lt;int&gt; | Value &lt;dbl&gt; |\n",
       "|---|---|---|---|\n",
       "| Albania | ALB | 1980 | 4.2717 |\n",
       "| Albania | ALB | 1981 | 4.1871 |\n",
       "| Albania | ALB | 1982 | 4.1607 |\n",
       "| Albania | ALB | 1983 | 4.0862 |\n",
       "| Albania | ALB | 1984 | 4.1390 |\n",
       "| Albania | ALB | 1985 | 4.1388 |\n",
       "\n"
      ],
      "text/plain": [
       "  Country.Name Country.Code Year Value \n",
       "1 Albania      ALB          1980 4.2717\n",
       "2 Albania      ALB          1981 4.1871\n",
       "3 Albania      ALB          1982 4.1607\n",
       "4 Albania      ALB          1983 4.0862\n",
       "5 Albania      ALB          1984 4.1390\n",
       "6 Albania      ALB          1985 4.1388"
      ]
     },
     "metadata": {},
     "output_type": "display_data"
    }
   ],
   "source": [
    "# Drop rows with more than 30% of missing data and restructure\n",
    "beds_df <-\n",
    "    beds_df %>%\n",
    "    filter(rowSums(is.na(.)) <= 12)  %>% # Drop rows which contains more than 12 NAs (30% of the columns)\n",
    "    pivot_longer(cols = matches(\"[0-9]+\"), names_to = \"Year\", values_to = \"Value\") %>% # Make years into a column\n",
    "    mutate(Year = as.integer(Year)) # Make `Year` into integer\n",
    "\n",
    "# Check the number of missing values\n",
    "sum(is.na(beds_df))\n",
    "\n",
    "# Check the first few rows\n",
    "head(beds_df)"
   ]
  },
  {
   "cell_type": "code",
   "execution_count": 7,
   "id": "a7e2b199",
   "metadata": {
    "executionInfo": {
     "elapsed": 115686,
     "status": "aborted",
     "timestamp": 1691143407044,
     "user": {
      "displayName": "Ayano Yamamoto",
      "userId": "07664729366976661766"
     },
     "user_tz": -60
    },
    "id": "a7e2b199"
   },
   "outputs": [
    {
     "data": {
      "text/html": [
       "0"
      ],
      "text/latex": [
       "0"
      ],
      "text/markdown": [
       "0"
      ],
      "text/plain": [
       "[1] 0"
      ]
     },
     "metadata": {},
     "output_type": "display_data"
    },
    {
     "data": {
      "text/html": [
       "<table class=\"dataframe\">\n",
       "<caption>A tibble: 6 × 4</caption>\n",
       "<thead>\n",
       "\t<tr><th scope=col>Country.Name</th><th scope=col>Country.Code</th><th scope=col>Year</th><th scope=col>Value</th></tr>\n",
       "\t<tr><th scope=col>&lt;chr&gt;</th><th scope=col>&lt;chr&gt;</th><th scope=col>&lt;int&gt;</th><th scope=col>&lt;dbl&gt;</th></tr>\n",
       "</thead>\n",
       "<tbody>\n",
       "\t<tr><td>Albania</td><td>ALB</td><td>1980</td><td>4.3</td></tr>\n",
       "\t<tr><td>Albania</td><td>ALB</td><td>1981</td><td>4.2</td></tr>\n",
       "\t<tr><td>Albania</td><td>ALB</td><td>1982</td><td>4.2</td></tr>\n",
       "\t<tr><td>Albania</td><td>ALB</td><td>1983</td><td>4.1</td></tr>\n",
       "\t<tr><td>Albania</td><td>ALB</td><td>1984</td><td>4.1</td></tr>\n",
       "\t<tr><td>Albania</td><td>ALB</td><td>1985</td><td>4.1</td></tr>\n",
       "</tbody>\n",
       "</table>\n"
      ],
      "text/latex": [
       "A tibble: 6 × 4\n",
       "\\begin{tabular}{llll}\n",
       " Country.Name & Country.Code & Year & Value\\\\\n",
       " <chr> & <chr> & <int> & <dbl>\\\\\n",
       "\\hline\n",
       "\t Albania & ALB & 1980 & 4.3\\\\\n",
       "\t Albania & ALB & 1981 & 4.2\\\\\n",
       "\t Albania & ALB & 1982 & 4.2\\\\\n",
       "\t Albania & ALB & 1983 & 4.1\\\\\n",
       "\t Albania & ALB & 1984 & 4.1\\\\\n",
       "\t Albania & ALB & 1985 & 4.1\\\\\n",
       "\\end{tabular}\n"
      ],
      "text/markdown": [
       "\n",
       "A tibble: 6 × 4\n",
       "\n",
       "| Country.Name &lt;chr&gt; | Country.Code &lt;chr&gt; | Year &lt;int&gt; | Value &lt;dbl&gt; |\n",
       "|---|---|---|---|\n",
       "| Albania | ALB | 1980 | 4.3 |\n",
       "| Albania | ALB | 1981 | 4.2 |\n",
       "| Albania | ALB | 1982 | 4.2 |\n",
       "| Albania | ALB | 1983 | 4.1 |\n",
       "| Albania | ALB | 1984 | 4.1 |\n",
       "| Albania | ALB | 1985 | 4.1 |\n",
       "\n"
      ],
      "text/plain": [
       "  Country.Name Country.Code Year Value\n",
       "1 Albania      ALB          1980 4.3  \n",
       "2 Albania      ALB          1981 4.2  \n",
       "3 Albania      ALB          1982 4.2  \n",
       "4 Albania      ALB          1983 4.1  \n",
       "5 Albania      ALB          1984 4.1  \n",
       "6 Albania      ALB          1985 4.1  "
      ]
     },
     "metadata": {},
     "output_type": "display_data"
    }
   ],
   "source": [
    "# Group the dataframe by 'Country.Name' and imputate\n",
    "beds_df <-\n",
    "    beds_df %>%\n",
    "    group_by(Country.Name) %>% # Group by 'Country.Name'\n",
    "    mutate(Value = ifelse(is.na(Value), lag(Value), Value)) %>% # Fill the missing value with the previous value within the country\n",
    "    mutate(Value = na.locf(Value, na.rm = FALSE)) %>% # Fill remaining missing values using LOCF\n",
    "    mutate(Value = na.locf(Value, na.rm = FALSE, fromLast = TRUE)) %>% # Fill remaining missing values using NOCB\n",
    "    mutate(across(Value, ~ round(., digits = 1))) %>% # Round `Value` to 1 decimal point\n",
    "    ungroup() # Ungroup\n",
    "\n",
    "\n",
    "# Check the number of missing values\n",
    "sum(is.na(beds_df))\n",
    "\n",
    "# Check the first few rows\n",
    "head(beds_df)"
   ]
  },
  {
   "cell_type": "markdown",
   "id": "3209d92a",
   "metadata": {
    "id": "3209d92a"
   },
   "source": [
    "## Hospital Nurses Wage Data"
   ]
  },
  {
   "cell_type": "markdown",
   "id": "9d5b11fa",
   "metadata": {
    "id": "9d5b11fa"
   },
   "source": [
    "Read the CSV file with hospital nurses wage data."
   ]
  },
  {
   "cell_type": "code",
   "execution_count": 8,
   "id": "79b0a6da",
   "metadata": {
    "executionInfo": {
     "elapsed": 115676,
     "status": "aborted",
     "timestamp": 1691143407046,
     "user": {
      "displayName": "Ayano Yamamoto",
      "userId": "07664729366976661766"
     },
     "user_tz": -60
    },
    "id": "79b0a6da"
   },
   "outputs": [
    {
     "data": {
      "text/html": [
       "<style>\n",
       ".list-inline {list-style: none; margin:0; padding: 0}\n",
       ".list-inline>li {display: inline-block}\n",
       ".list-inline>li:not(:last-child)::after {content: \"\\00b7\"; padding: 0 .5ex}\n",
       "</style>\n",
       "<ol class=list-inline><li>6215</li><li>11</li></ol>\n"
      ],
      "text/latex": [
       "\\begin{enumerate*}\n",
       "\\item 6215\n",
       "\\item 11\n",
       "\\end{enumerate*}\n"
      ],
      "text/markdown": [
       "1. 6215\n",
       "2. 11\n",
       "\n",
       "\n"
      ],
      "text/plain": [
       "[1] 6215   11"
      ]
     },
     "metadata": {},
     "output_type": "display_data"
    },
    {
     "data": {
      "text/html": [
       "<table class=\"dataframe\">\n",
       "<caption>A data.frame: 6 × 11</caption>\n",
       "<thead>\n",
       "\t<tr><th></th><th scope=col>X.U.FEFF.VAR</th><th scope=col>Variable</th><th scope=col>UNIT</th><th scope=col>Measure</th><th scope=col>COU</th><th scope=col>Country</th><th scope=col>YEA</th><th scope=col>Year</th><th scope=col>Value</th><th scope=col>Flag.Codes</th><th scope=col>Flags</th></tr>\n",
       "\t<tr><th></th><th scope=col>&lt;chr&gt;</th><th scope=col>&lt;chr&gt;</th><th scope=col>&lt;chr&gt;</th><th scope=col>&lt;chr&gt;</th><th scope=col>&lt;chr&gt;</th><th scope=col>&lt;chr&gt;</th><th scope=col>&lt;int&gt;</th><th scope=col>&lt;int&gt;</th><th scope=col>&lt;dbl&gt;</th><th scope=col>&lt;chr&gt;</th><th scope=col>&lt;chr&gt;</th></tr>\n",
       "</thead>\n",
       "<tbody>\n",
       "\t<tr><th scope=row>1</th><td>RVNURINF</td><td>Remuneration of hospital nurses</td><td>YSALARMT</td><td>Salaried, annual income, NCU</td><td>AUS</td><td>Australia</td><td>2010</td><td>2010</td><td>83705</td><td>D</td><td>Difference in methodology</td></tr>\n",
       "\t<tr><th scope=row>2</th><td>RVNURINF</td><td>Remuneration of hospital nurses</td><td>YSALARMT</td><td>Salaried, annual income, NCU</td><td>AUS</td><td>Australia</td><td>2011</td><td>2011</td><td>89235</td><td>D</td><td>Difference in methodology</td></tr>\n",
       "\t<tr><th scope=row>3</th><td>RVNURINF</td><td>Remuneration of hospital nurses</td><td>YSALARMT</td><td>Salaried, annual income, NCU</td><td>AUS</td><td>Australia</td><td>2012</td><td>2012</td><td>89971</td><td>D</td><td>Difference in methodology</td></tr>\n",
       "\t<tr><th scope=row>4</th><td>RVNURINF</td><td>Remuneration of hospital nurses</td><td>YSALARMT</td><td>Salaried, annual income, NCU</td><td>AUS</td><td>Australia</td><td>2013</td><td>2013</td><td>91232</td><td>D</td><td>Difference in methodology</td></tr>\n",
       "\t<tr><th scope=row>5</th><td>RVNURINF</td><td>Remuneration of hospital nurses</td><td>YSALARMT</td><td>Salaried, annual income, NCU</td><td>AUS</td><td>Australia</td><td>2014</td><td>2014</td><td>93042</td><td>D</td><td>Difference in methodology</td></tr>\n",
       "\t<tr><th scope=row>6</th><td>RVNURINF</td><td>Remuneration of hospital nurses</td><td>YSALARMT</td><td>Salaried, annual income, NCU</td><td>AUS</td><td>Australia</td><td>2015</td><td>2015</td><td>94991</td><td>D</td><td>Difference in methodology</td></tr>\n",
       "</tbody>\n",
       "</table>\n"
      ],
      "text/latex": [
       "A data.frame: 6 × 11\n",
       "\\begin{tabular}{r|lllllllllll}\n",
       "  & X.U.FEFF.VAR & Variable & UNIT & Measure & COU & Country & YEA & Year & Value & Flag.Codes & Flags\\\\\n",
       "  & <chr> & <chr> & <chr> & <chr> & <chr> & <chr> & <int> & <int> & <dbl> & <chr> & <chr>\\\\\n",
       "\\hline\n",
       "\t1 & RVNURINF & Remuneration of hospital nurses & YSALARMT & Salaried, annual income, NCU & AUS & Australia & 2010 & 2010 & 83705 & D & Difference in methodology\\\\\n",
       "\t2 & RVNURINF & Remuneration of hospital nurses & YSALARMT & Salaried, annual income, NCU & AUS & Australia & 2011 & 2011 & 89235 & D & Difference in methodology\\\\\n",
       "\t3 & RVNURINF & Remuneration of hospital nurses & YSALARMT & Salaried, annual income, NCU & AUS & Australia & 2012 & 2012 & 89971 & D & Difference in methodology\\\\\n",
       "\t4 & RVNURINF & Remuneration of hospital nurses & YSALARMT & Salaried, annual income, NCU & AUS & Australia & 2013 & 2013 & 91232 & D & Difference in methodology\\\\\n",
       "\t5 & RVNURINF & Remuneration of hospital nurses & YSALARMT & Salaried, annual income, NCU & AUS & Australia & 2014 & 2014 & 93042 & D & Difference in methodology\\\\\n",
       "\t6 & RVNURINF & Remuneration of hospital nurses & YSALARMT & Salaried, annual income, NCU & AUS & Australia & 2015 & 2015 & 94991 & D & Difference in methodology\\\\\n",
       "\\end{tabular}\n"
      ],
      "text/markdown": [
       "\n",
       "A data.frame: 6 × 11\n",
       "\n",
       "| <!--/--> | X.U.FEFF.VAR &lt;chr&gt; | Variable &lt;chr&gt; | UNIT &lt;chr&gt; | Measure &lt;chr&gt; | COU &lt;chr&gt; | Country &lt;chr&gt; | YEA &lt;int&gt; | Year &lt;int&gt; | Value &lt;dbl&gt; | Flag.Codes &lt;chr&gt; | Flags &lt;chr&gt; |\n",
       "|---|---|---|---|---|---|---|---|---|---|---|---|\n",
       "| 1 | RVNURINF | Remuneration of hospital nurses | YSALARMT | Salaried, annual income, NCU | AUS | Australia | 2010 | 2010 | 83705 | D | Difference in methodology |\n",
       "| 2 | RVNURINF | Remuneration of hospital nurses | YSALARMT | Salaried, annual income, NCU | AUS | Australia | 2011 | 2011 | 89235 | D | Difference in methodology |\n",
       "| 3 | RVNURINF | Remuneration of hospital nurses | YSALARMT | Salaried, annual income, NCU | AUS | Australia | 2012 | 2012 | 89971 | D | Difference in methodology |\n",
       "| 4 | RVNURINF | Remuneration of hospital nurses | YSALARMT | Salaried, annual income, NCU | AUS | Australia | 2013 | 2013 | 91232 | D | Difference in methodology |\n",
       "| 5 | RVNURINF | Remuneration of hospital nurses | YSALARMT | Salaried, annual income, NCU | AUS | Australia | 2014 | 2014 | 93042 | D | Difference in methodology |\n",
       "| 6 | RVNURINF | Remuneration of hospital nurses | YSALARMT | Salaried, annual income, NCU | AUS | Australia | 2015 | 2015 | 94991 | D | Difference in methodology |\n",
       "\n"
      ],
      "text/plain": [
       "  X.U.FEFF.VAR Variable                        UNIT    \n",
       "1 RVNURINF     Remuneration of hospital nurses YSALARMT\n",
       "2 RVNURINF     Remuneration of hospital nurses YSALARMT\n",
       "3 RVNURINF     Remuneration of hospital nurses YSALARMT\n",
       "4 RVNURINF     Remuneration of hospital nurses YSALARMT\n",
       "5 RVNURINF     Remuneration of hospital nurses YSALARMT\n",
       "6 RVNURINF     Remuneration of hospital nurses YSALARMT\n",
       "  Measure                      COU Country   YEA  Year Value Flag.Codes\n",
       "1 Salaried, annual income, NCU AUS Australia 2010 2010 83705 D         \n",
       "2 Salaried, annual income, NCU AUS Australia 2011 2011 89235 D         \n",
       "3 Salaried, annual income, NCU AUS Australia 2012 2012 89971 D         \n",
       "4 Salaried, annual income, NCU AUS Australia 2013 2013 91232 D         \n",
       "5 Salaried, annual income, NCU AUS Australia 2014 2014 93042 D         \n",
       "6 Salaried, annual income, NCU AUS Australia 2015 2015 94991 D         \n",
       "  Flags                    \n",
       "1 Difference in methodology\n",
       "2 Difference in methodology\n",
       "3 Difference in methodology\n",
       "4 Difference in methodology\n",
       "5 Difference in methodology\n",
       "6 Difference in methodology"
      ]
     },
     "metadata": {},
     "output_type": "display_data"
    }
   ],
   "source": [
    "# Read the csv file\n",
    "wage_df <- read.csv(\"HEALTH_REAC_30042023221201143.csv\", sep = ',', encoding = \"UTF-8\", header = T)\n",
    "\n",
    "# Display the dimension\n",
    "dim(wage_df)\n",
    "\n",
    "# Check the first few rows\n",
    "head(wage_df)"
   ]
  },
  {
   "cell_type": "code",
   "execution_count": 9,
   "id": "f6a570f8",
   "metadata": {
    "executionInfo": {
     "elapsed": 115666,
     "status": "aborted",
     "timestamp": 1691143407048,
     "user": {
      "displayName": "Ayano Yamamoto",
      "userId": "07664729366976661766"
     },
     "user_tz": -60
    },
    "id": "f6a570f8"
   },
   "outputs": [
    {
     "data": {
      "text/html": [
       "<style>\n",
       ".list-inline {list-style: none; margin:0; padding: 0}\n",
       ".list-inline>li {display: inline-block}\n",
       ".list-inline>li:not(:last-child)::after {content: \"\\00b7\"; padding: 0 .5ex}\n",
       "</style>\n",
       "<ol class=list-inline><li>66</li><li>4</li></ol>\n"
      ],
      "text/latex": [
       "\\begin{enumerate*}\n",
       "\\item 66\n",
       "\\item 4\n",
       "\\end{enumerate*}\n"
      ],
      "text/markdown": [
       "1. 66\n",
       "2. 4\n",
       "\n",
       "\n"
      ],
      "text/plain": [
       "[1] 66  4"
      ]
     },
     "metadata": {},
     "output_type": "display_data"
    },
    {
     "data": {
      "text/html": [
       "<table class=\"dataframe\">\n",
       "<caption>A data.frame: 6 × 4</caption>\n",
       "<thead>\n",
       "\t<tr><th></th><th scope=col>iso</th><th scope=col>Country</th><th scope=col>Year</th><th scope=col>salary_usd</th></tr>\n",
       "\t<tr><th></th><th scope=col>&lt;chr&gt;</th><th scope=col>&lt;chr&gt;</th><th scope=col>&lt;dbl&gt;</th><th scope=col>&lt;dbl&gt;</th></tr>\n",
       "</thead>\n",
       "<tbody>\n",
       "\t<tr><th scope=row>1</th><td>AUS</td><td>Australia</td><td>2010</td><td>1.21</td></tr>\n",
       "\t<tr><th scope=row>2</th><td>AUS</td><td>Australia</td><td>2011</td><td>1.22</td></tr>\n",
       "\t<tr><th scope=row>3</th><td>AUS</td><td>Australia</td><td>2012</td><td>1.19</td></tr>\n",
       "\t<tr><th scope=row>4</th><td>AUS</td><td>Australia</td><td>2013</td><td>1.19</td></tr>\n",
       "\t<tr><th scope=row>5</th><td>AUS</td><td>Australia</td><td>2014</td><td>1.18</td></tr>\n",
       "\t<tr><th scope=row>6</th><td>AUS</td><td>Australia</td><td>2015</td><td>1.19</td></tr>\n",
       "</tbody>\n",
       "</table>\n"
      ],
      "text/latex": [
       "A data.frame: 6 × 4\n",
       "\\begin{tabular}{r|llll}\n",
       "  & iso & Country & Year & salary\\_usd\\\\\n",
       "  & <chr> & <chr> & <dbl> & <dbl>\\\\\n",
       "\\hline\n",
       "\t1 & AUS & Australia & 2010 & 1.21\\\\\n",
       "\t2 & AUS & Australia & 2011 & 1.22\\\\\n",
       "\t3 & AUS & Australia & 2012 & 1.19\\\\\n",
       "\t4 & AUS & Australia & 2013 & 1.19\\\\\n",
       "\t5 & AUS & Australia & 2014 & 1.18\\\\\n",
       "\t6 & AUS & Australia & 2015 & 1.19\\\\\n",
       "\\end{tabular}\n"
      ],
      "text/markdown": [
       "\n",
       "A data.frame: 6 × 4\n",
       "\n",
       "| <!--/--> | iso &lt;chr&gt; | Country &lt;chr&gt; | Year &lt;dbl&gt; | salary_usd &lt;dbl&gt; |\n",
       "|---|---|---|---|---|\n",
       "| 1 | AUS | Australia | 2010 | 1.21 |\n",
       "| 2 | AUS | Australia | 2011 | 1.22 |\n",
       "| 3 | AUS | Australia | 2012 | 1.19 |\n",
       "| 4 | AUS | Australia | 2013 | 1.19 |\n",
       "| 5 | AUS | Australia | 2014 | 1.18 |\n",
       "| 6 | AUS | Australia | 2015 | 1.19 |\n",
       "\n"
      ],
      "text/plain": [
       "  iso Country   Year salary_usd\n",
       "1 AUS Australia 2010 1.21      \n",
       "2 AUS Australia 2011 1.22      \n",
       "3 AUS Australia 2012 1.19      \n",
       "4 AUS Australia 2013 1.19      \n",
       "5 AUS Australia 2014 1.18      \n",
       "6 AUS Australia 2015 1.19      "
      ]
     },
     "metadata": {},
     "output_type": "display_data"
    }
   ],
   "source": [
    "# Filter the dataframe, drop unnecessary columns, and rename columns\n",
    "wage1_df <-\n",
    "    wage_df %>%\n",
    "    filter(Variable == \"Remuneration of hospital nurses\"  & Measure == \"Salaried, income per average wage\" & Country %in% c(\"Australia\", \"New Zealand\", \"Ireland\", \"United States\", \"United Kingdom\", \"Canada\")) %>% # Filter the dataframe\n",
    "    select(c(\"COU\", \"Country\", \"Year\", \"Value\")) %>% # Drop unnecessary columns\n",
    "    rename(iso = COU, salary_usd = Value) # Rename columns\n",
    "\n",
    "# Manually imputate a value for Australia: 2020\n",
    "australia_2020 <- data.frame(iso = \"AUS\", Country = \"Australia\", Year = 2020, salary_usd = 1.32)\n",
    "wage1_df <- rbind(wage1_df, australia_2020)\n",
    "wage1_df <- wage1_df[order(wage1_df$iso, wage1_df$Country, wage1_df$Year), ]\n",
    "\n",
    "# Display the dimension\n",
    "dim(wage1_df)\n",
    "\n",
    "# Check the first few rows\n",
    "head(wage1_df)"
   ]
  },
  {
   "cell_type": "markdown",
   "id": "f86349bf",
   "metadata": {
    "id": "f86349bf"
   },
   "source": [
    "### Alternative Visualisation"
   ]
  },
  {
   "cell_type": "markdown",
   "id": "401f4181",
   "metadata": {
    "id": "401f4181"
   },
   "source": [
    "Remove unnecessary data."
   ]
  },
  {
   "cell_type": "code",
   "execution_count": 10,
   "id": "9fdffeff",
   "metadata": {
    "executionInfo": {
     "elapsed": 115656,
     "status": "aborted",
     "timestamp": 1691143407051,
     "user": {
      "displayName": "Ayano Yamamoto",
      "userId": "07664729366976661766"
     },
     "user_tz": -60
    },
    "id": "9fdffeff"
   },
   "outputs": [
    {
     "data": {
      "text/html": [
       "<style>\n",
       ".list-inline {list-style: none; margin:0; padding: 0}\n",
       ".list-inline>li {display: inline-block}\n",
       ".list-inline>li:not(:last-child)::after {content: \"\\00b7\"; padding: 0 .5ex}\n",
       "</style>\n",
       "<ol class=list-inline><li>356</li><li>4</li></ol>\n"
      ],
      "text/latex": [
       "\\begin{enumerate*}\n",
       "\\item 356\n",
       "\\item 4\n",
       "\\end{enumerate*}\n"
      ],
      "text/markdown": [
       "1. 356\n",
       "2. 4\n",
       "\n",
       "\n"
      ],
      "text/plain": [
       "[1] 356   4"
      ]
     },
     "metadata": {},
     "output_type": "display_data"
    },
    {
     "data": {
      "text/html": [
       "<table class=\"dataframe\">\n",
       "<caption>A data.frame: 6 × 4</caption>\n",
       "<thead>\n",
       "\t<tr><th></th><th scope=col>iso</th><th scope=col>Country</th><th scope=col>Year</th><th scope=col>salary_usd</th></tr>\n",
       "\t<tr><th></th><th scope=col>&lt;chr&gt;</th><th scope=col>&lt;chr&gt;</th><th scope=col>&lt;int&gt;</th><th scope=col>&lt;dbl&gt;</th></tr>\n",
       "</thead>\n",
       "<tbody>\n",
       "\t<tr><th scope=row>1</th><td>AUS</td><td>Australia</td><td>2010</td><td>76782.38</td></tr>\n",
       "\t<tr><th scope=row>2</th><td>AUS</td><td>Australia</td><td>2011</td><td>92045.80</td></tr>\n",
       "\t<tr><th scope=row>3</th><td>AUS</td><td>Australia</td><td>2012</td><td>93156.87</td></tr>\n",
       "\t<tr><th scope=row>4</th><td>AUS</td><td>Australia</td><td>2013</td><td>88075.12</td></tr>\n",
       "\t<tr><th scope=row>5</th><td>AUS</td><td>Australia</td><td>2014</td><td>83869.75</td></tr>\n",
       "\t<tr><th scope=row>6</th><td>AUS</td><td>Australia</td><td>2015</td><td>71363.32</td></tr>\n",
       "</tbody>\n",
       "</table>\n"
      ],
      "text/latex": [
       "A data.frame: 6 × 4\n",
       "\\begin{tabular}{r|llll}\n",
       "  & iso & Country & Year & salary\\_usd\\\\\n",
       "  & <chr> & <chr> & <int> & <dbl>\\\\\n",
       "\\hline\n",
       "\t1 & AUS & Australia & 2010 & 76782.38\\\\\n",
       "\t2 & AUS & Australia & 2011 & 92045.80\\\\\n",
       "\t3 & AUS & Australia & 2012 & 93156.87\\\\\n",
       "\t4 & AUS & Australia & 2013 & 88075.12\\\\\n",
       "\t5 & AUS & Australia & 2014 & 83869.75\\\\\n",
       "\t6 & AUS & Australia & 2015 & 71363.32\\\\\n",
       "\\end{tabular}\n"
      ],
      "text/markdown": [
       "\n",
       "A data.frame: 6 × 4\n",
       "\n",
       "| <!--/--> | iso &lt;chr&gt; | Country &lt;chr&gt; | Year &lt;int&gt; | salary_usd &lt;dbl&gt; |\n",
       "|---|---|---|---|---|\n",
       "| 1 | AUS | Australia | 2010 | 76782.38 |\n",
       "| 2 | AUS | Australia | 2011 | 92045.80 |\n",
       "| 3 | AUS | Australia | 2012 | 93156.87 |\n",
       "| 4 | AUS | Australia | 2013 | 88075.12 |\n",
       "| 5 | AUS | Australia | 2014 | 83869.75 |\n",
       "| 6 | AUS | Australia | 2015 | 71363.32 |\n",
       "\n"
      ],
      "text/plain": [
       "  iso Country   Year salary_usd\n",
       "1 AUS Australia 2010 76782.38  \n",
       "2 AUS Australia 2011 92045.80  \n",
       "3 AUS Australia 2012 93156.87  \n",
       "4 AUS Australia 2013 88075.12  \n",
       "5 AUS Australia 2014 83869.75  \n",
       "6 AUS Australia 2015 71363.32  "
      ]
     },
     "metadata": {},
     "output_type": "display_data"
    }
   ],
   "source": [
    "# Filter the dataframe, drop unnecessary columns, and rename columns\n",
    "wage2_df <-\n",
    "    wage_df %>%\n",
    "    filter(Variable == \"Remuneration of hospital nurses\"  & Measure == \"Salaried, income, US$ exchange rate\") %>% # Filter the dataframe\n",
    "    select(c(\"COU\", \"Country\", \"Year\", \"Value\")) %>% # Drop unnecessary columns\n",
    "    rename(iso = COU, salary_usd = Value) # Rename columns\n",
    "\n",
    "# Display the dimension\n",
    "dim(wage2_df)\n",
    "\n",
    "# Check the first few rows\n",
    "head(wage2_df)"
   ]
  },
  {
   "cell_type": "markdown",
   "id": "7a29a2f5",
   "metadata": {
    "id": "7a29a2f5"
   },
   "source": [
    "Read the CSV file with average wage data."
   ]
  },
  {
   "cell_type": "code",
   "execution_count": 11,
   "id": "7e4187c7",
   "metadata": {
    "executionInfo": {
     "elapsed": 115644,
     "status": "aborted",
     "timestamp": 1691143407054,
     "user": {
      "displayName": "Ayano Yamamoto",
      "userId": "07664729366976661766"
     },
     "user_tz": -60
    },
    "id": "7e4187c7"
   },
   "outputs": [
    {
     "data": {
      "text/html": [
       "<style>\n",
       ".list-inline {list-style: none; margin:0; padding: 0}\n",
       ".list-inline>li {display: inline-block}\n",
       ".list-inline>li:not(:last-child)::after {content: \"\\00b7\"; padding: 0 .5ex}\n",
       "</style>\n",
       "<ol class=list-inline><li>1166</li><li>15</li></ol>\n"
      ],
      "text/latex": [
       "\\begin{enumerate*}\n",
       "\\item 1166\n",
       "\\item 15\n",
       "\\end{enumerate*}\n"
      ],
      "text/markdown": [
       "1. 1166\n",
       "2. 15\n",
       "\n",
       "\n"
      ],
      "text/plain": [
       "[1] 1166   15"
      ]
     },
     "metadata": {},
     "output_type": "display_data"
    },
    {
     "data": {
      "text/html": [
       "<table class=\"dataframe\">\n",
       "<caption>A data.frame: 6 × 15</caption>\n",
       "<thead>\n",
       "\t<tr><th></th><th scope=col>X.U.FEFF.COUNTRY</th><th scope=col>Country</th><th scope=col>SERIES</th><th scope=col>Series</th><th scope=col>TIME</th><th scope=col>Time</th><th scope=col>Unit.Code</th><th scope=col>Unit</th><th scope=col>PowerCode.Code</th><th scope=col>PowerCode</th><th scope=col>Reference.Period.Code</th><th scope=col>Reference.Period</th><th scope=col>Value</th><th scope=col>Flag.Codes</th><th scope=col>Flags</th></tr>\n",
       "\t<tr><th></th><th scope=col>&lt;chr&gt;</th><th scope=col>&lt;chr&gt;</th><th scope=col>&lt;chr&gt;</th><th scope=col>&lt;chr&gt;</th><th scope=col>&lt;int&gt;</th><th scope=col>&lt;int&gt;</th><th scope=col>&lt;chr&gt;</th><th scope=col>&lt;chr&gt;</th><th scope=col>&lt;int&gt;</th><th scope=col>&lt;chr&gt;</th><th scope=col>&lt;int&gt;</th><th scope=col>&lt;int&gt;</th><th scope=col>&lt;dbl&gt;</th><th scope=col>&lt;lgl&gt;</th><th scope=col>&lt;lgl&gt;</th></tr>\n",
       "</thead>\n",
       "<tbody>\n",
       "\t<tr><th scope=row>1</th><td>AUS</td><td>Australia</td><td>CPNCU</td><td>Current prices in NCU</td><td>2010</td><td>2010</td><td>AUD</td><td>Australian Dollar</td><td>0</td><td>Units</td><td>NA</td><td>NA</td><td>69110.27</td><td>NA</td><td>NA</td></tr>\n",
       "\t<tr><th scope=row>2</th><td>AUS</td><td>Australia</td><td>CPNCU</td><td>Current prices in NCU</td><td>2011</td><td>2011</td><td>AUD</td><td>Australian Dollar</td><td>0</td><td>Units</td><td>NA</td><td>NA</td><td>72978.60</td><td>NA</td><td>NA</td></tr>\n",
       "\t<tr><th scope=row>3</th><td>AUS</td><td>Australia</td><td>CPNCU</td><td>Current prices in NCU</td><td>2012</td><td>2012</td><td>AUD</td><td>Australian Dollar</td><td>0</td><td>Units</td><td>NA</td><td>NA</td><td>75149.26</td><td>NA</td><td>NA</td></tr>\n",
       "\t<tr><th scope=row>4</th><td>AUS</td><td>Australia</td><td>CPNCU</td><td>Current prices in NCU</td><td>2013</td><td>2013</td><td>AUD</td><td>Australian Dollar</td><td>0</td><td>Units</td><td>NA</td><td>NA</td><td>76598.34</td><td>NA</td><td>NA</td></tr>\n",
       "\t<tr><th scope=row>5</th><td>AUS</td><td>Australia</td><td>CPNCU</td><td>Current prices in NCU</td><td>2014</td><td>2014</td><td>AUD</td><td>Australian Dollar</td><td>0</td><td>Units</td><td>NA</td><td>NA</td><td>78666.76</td><td>NA</td><td>NA</td></tr>\n",
       "\t<tr><th scope=row>6</th><td>AUS</td><td>Australia</td><td>CPNCU</td><td>Current prices in NCU</td><td>2015</td><td>2015</td><td>AUD</td><td>Australian Dollar</td><td>0</td><td>Units</td><td>NA</td><td>NA</td><td>79206.80</td><td>NA</td><td>NA</td></tr>\n",
       "</tbody>\n",
       "</table>\n"
      ],
      "text/latex": [
       "A data.frame: 6 × 15\n",
       "\\begin{tabular}{r|lllllllllllllll}\n",
       "  & X.U.FEFF.COUNTRY & Country & SERIES & Series & TIME & Time & Unit.Code & Unit & PowerCode.Code & PowerCode & Reference.Period.Code & Reference.Period & Value & Flag.Codes & Flags\\\\\n",
       "  & <chr> & <chr> & <chr> & <chr> & <int> & <int> & <chr> & <chr> & <int> & <chr> & <int> & <int> & <dbl> & <lgl> & <lgl>\\\\\n",
       "\\hline\n",
       "\t1 & AUS & Australia & CPNCU & Current prices in NCU & 2010 & 2010 & AUD & Australian Dollar & 0 & Units & NA & NA & 69110.27 & NA & NA\\\\\n",
       "\t2 & AUS & Australia & CPNCU & Current prices in NCU & 2011 & 2011 & AUD & Australian Dollar & 0 & Units & NA & NA & 72978.60 & NA & NA\\\\\n",
       "\t3 & AUS & Australia & CPNCU & Current prices in NCU & 2012 & 2012 & AUD & Australian Dollar & 0 & Units & NA & NA & 75149.26 & NA & NA\\\\\n",
       "\t4 & AUS & Australia & CPNCU & Current prices in NCU & 2013 & 2013 & AUD & Australian Dollar & 0 & Units & NA & NA & 76598.34 & NA & NA\\\\\n",
       "\t5 & AUS & Australia & CPNCU & Current prices in NCU & 2014 & 2014 & AUD & Australian Dollar & 0 & Units & NA & NA & 78666.76 & NA & NA\\\\\n",
       "\t6 & AUS & Australia & CPNCU & Current prices in NCU & 2015 & 2015 & AUD & Australian Dollar & 0 & Units & NA & NA & 79206.80 & NA & NA\\\\\n",
       "\\end{tabular}\n"
      ],
      "text/markdown": [
       "\n",
       "A data.frame: 6 × 15\n",
       "\n",
       "| <!--/--> | X.U.FEFF.COUNTRY &lt;chr&gt; | Country &lt;chr&gt; | SERIES &lt;chr&gt; | Series &lt;chr&gt; | TIME &lt;int&gt; | Time &lt;int&gt; | Unit.Code &lt;chr&gt; | Unit &lt;chr&gt; | PowerCode.Code &lt;int&gt; | PowerCode &lt;chr&gt; | Reference.Period.Code &lt;int&gt; | Reference.Period &lt;int&gt; | Value &lt;dbl&gt; | Flag.Codes &lt;lgl&gt; | Flags &lt;lgl&gt; |\n",
       "|---|---|---|---|---|---|---|---|---|---|---|---|---|---|---|---|\n",
       "| 1 | AUS | Australia | CPNCU | Current prices in NCU | 2010 | 2010 | AUD | Australian Dollar | 0 | Units | NA | NA | 69110.27 | NA | NA |\n",
       "| 2 | AUS | Australia | CPNCU | Current prices in NCU | 2011 | 2011 | AUD | Australian Dollar | 0 | Units | NA | NA | 72978.60 | NA | NA |\n",
       "| 3 | AUS | Australia | CPNCU | Current prices in NCU | 2012 | 2012 | AUD | Australian Dollar | 0 | Units | NA | NA | 75149.26 | NA | NA |\n",
       "| 4 | AUS | Australia | CPNCU | Current prices in NCU | 2013 | 2013 | AUD | Australian Dollar | 0 | Units | NA | NA | 76598.34 | NA | NA |\n",
       "| 5 | AUS | Australia | CPNCU | Current prices in NCU | 2014 | 2014 | AUD | Australian Dollar | 0 | Units | NA | NA | 78666.76 | NA | NA |\n",
       "| 6 | AUS | Australia | CPNCU | Current prices in NCU | 2015 | 2015 | AUD | Australian Dollar | 0 | Units | NA | NA | 79206.80 | NA | NA |\n",
       "\n"
      ],
      "text/plain": [
       "  X.U.FEFF.COUNTRY Country   SERIES Series                TIME Time Unit.Code\n",
       "1 AUS              Australia CPNCU  Current prices in NCU 2010 2010 AUD      \n",
       "2 AUS              Australia CPNCU  Current prices in NCU 2011 2011 AUD      \n",
       "3 AUS              Australia CPNCU  Current prices in NCU 2012 2012 AUD      \n",
       "4 AUS              Australia CPNCU  Current prices in NCU 2013 2013 AUD      \n",
       "5 AUS              Australia CPNCU  Current prices in NCU 2014 2014 AUD      \n",
       "6 AUS              Australia CPNCU  Current prices in NCU 2015 2015 AUD      \n",
       "  Unit              PowerCode.Code PowerCode Reference.Period.Code\n",
       "1 Australian Dollar 0              Units     NA                   \n",
       "2 Australian Dollar 0              Units     NA                   \n",
       "3 Australian Dollar 0              Units     NA                   \n",
       "4 Australian Dollar 0              Units     NA                   \n",
       "5 Australian Dollar 0              Units     NA                   \n",
       "6 Australian Dollar 0              Units     NA                   \n",
       "  Reference.Period Value    Flag.Codes Flags\n",
       "1 NA               69110.27 NA         NA   \n",
       "2 NA               72978.60 NA         NA   \n",
       "3 NA               75149.26 NA         NA   \n",
       "4 NA               76598.34 NA         NA   \n",
       "5 NA               78666.76 NA         NA   \n",
       "6 NA               79206.80 NA         NA   "
      ]
     },
     "metadata": {},
     "output_type": "display_data"
    }
   ],
   "source": [
    "# Read the csv file\n",
    "avg_df <- read.csv(\"AV_AN_WAGE_01052023095739437.csv\", sep = ',', encoding = \"UTF-8\", header = T)\n",
    "\n",
    "# Display the dimension\n",
    "dim(avg_df)\n",
    "\n",
    "# Check the first few rows\n",
    "head(avg_df)"
   ]
  },
  {
   "cell_type": "markdown",
   "id": "7441c974",
   "metadata": {
    "id": "7441c974"
   },
   "source": [
    "Remove unnecessary data."
   ]
  },
  {
   "cell_type": "code",
   "execution_count": 12,
   "id": "5e6ad6f1",
   "metadata": {
    "executionInfo": {
     "elapsed": 115632,
     "status": "aborted",
     "timestamp": 1691143407058,
     "user": {
      "displayName": "Ayano Yamamoto",
      "userId": "07664729366976661766"
     },
     "user_tz": -60
    },
    "id": "5e6ad6f1"
   },
   "outputs": [
    {
     "data": {
      "text/html": [
       "<style>\n",
       ".list-inline {list-style: none; margin:0; padding: 0}\n",
       ".list-inline>li {display: inline-block}\n",
       ".list-inline>li:not(:last-child)::after {content: \"\\00b7\"; padding: 0 .5ex}\n",
       "</style>\n",
       "<ol class=list-inline><li>396</li><li>4</li></ol>\n"
      ],
      "text/latex": [
       "\\begin{enumerate*}\n",
       "\\item 396\n",
       "\\item 4\n",
       "\\end{enumerate*}\n"
      ],
      "text/markdown": [
       "1. 396\n",
       "2. 4\n",
       "\n",
       "\n"
      ],
      "text/plain": [
       "[1] 396   4"
      ]
     },
     "metadata": {},
     "output_type": "display_data"
    },
    {
     "data": {
      "text/html": [
       "<table class=\"dataframe\">\n",
       "<caption>A data.frame: 6 × 4</caption>\n",
       "<thead>\n",
       "\t<tr><th></th><th scope=col>iso</th><th scope=col>Country</th><th scope=col>Year</th><th scope=col>avg_usd</th></tr>\n",
       "\t<tr><th></th><th scope=col>&lt;chr&gt;</th><th scope=col>&lt;chr&gt;</th><th scope=col>&lt;int&gt;</th><th scope=col>&lt;dbl&gt;</th></tr>\n",
       "</thead>\n",
       "<tbody>\n",
       "\t<tr><th scope=row>1</th><td>AUS</td><td>Australia</td><td>2010</td><td>52645.06</td></tr>\n",
       "\t<tr><th scope=row>2</th><td>AUS</td><td>Australia</td><td>2011</td><td>54341.63</td></tr>\n",
       "\t<tr><th scope=row>3</th><td>AUS</td><td>Australia</td><td>2012</td><td>54693.53</td></tr>\n",
       "\t<tr><th scope=row>4</th><td>AUS</td><td>Australia</td><td>2013</td><td>54493.43</td></tr>\n",
       "\t<tr><th scope=row>5</th><td>AUS</td><td>Australia</td><td>2014</td><td>54959.00</td></tr>\n",
       "\t<tr><th scope=row>6</th><td>AUS</td><td>Australia</td><td>2015</td><td>54594.29</td></tr>\n",
       "</tbody>\n",
       "</table>\n"
      ],
      "text/latex": [
       "A data.frame: 6 × 4\n",
       "\\begin{tabular}{r|llll}\n",
       "  & iso & Country & Year & avg\\_usd\\\\\n",
       "  & <chr> & <chr> & <int> & <dbl>\\\\\n",
       "\\hline\n",
       "\t1 & AUS & Australia & 2010 & 52645.06\\\\\n",
       "\t2 & AUS & Australia & 2011 & 54341.63\\\\\n",
       "\t3 & AUS & Australia & 2012 & 54693.53\\\\\n",
       "\t4 & AUS & Australia & 2013 & 54493.43\\\\\n",
       "\t5 & AUS & Australia & 2014 & 54959.00\\\\\n",
       "\t6 & AUS & Australia & 2015 & 54594.29\\\\\n",
       "\\end{tabular}\n"
      ],
      "text/markdown": [
       "\n",
       "A data.frame: 6 × 4\n",
       "\n",
       "| <!--/--> | iso &lt;chr&gt; | Country &lt;chr&gt; | Year &lt;int&gt; | avg_usd &lt;dbl&gt; |\n",
       "|---|---|---|---|---|\n",
       "| 1 | AUS | Australia | 2010 | 52645.06 |\n",
       "| 2 | AUS | Australia | 2011 | 54341.63 |\n",
       "| 3 | AUS | Australia | 2012 | 54693.53 |\n",
       "| 4 | AUS | Australia | 2013 | 54493.43 |\n",
       "| 5 | AUS | Australia | 2014 | 54959.00 |\n",
       "| 6 | AUS | Australia | 2015 | 54594.29 |\n",
       "\n"
      ],
      "text/plain": [
       "  iso Country   Year avg_usd \n",
       "1 AUS Australia 2010 52645.06\n",
       "2 AUS Australia 2011 54341.63\n",
       "3 AUS Australia 2012 54693.53\n",
       "4 AUS Australia 2013 54493.43\n",
       "5 AUS Australia 2014 54959.00\n",
       "6 AUS Australia 2015 54594.29"
      ]
     },
     "metadata": {},
     "output_type": "display_data"
    }
   ],
   "source": [
    "# Filter the dataframe, drop unnecessary columns, and rename columns\n",
    "avg_df <-\n",
    "    avg_df %>%\n",
    "    filter(Series == \"In 2021 constant prices at 2021 USD PPPs\") %>% # Filter the dataframe\n",
    "    select(c(\"X.U.FEFF.COUNTRY\", \"Country\", \"Time\", \"Value\")) %>% # Drop unnecessary columns\n",
    "    rename(iso = X.U.FEFF.COUNTRY, Year = Time, avg_usd = Value) # Rename columns\n",
    "\n",
    "# Display the dimension\n",
    "dim(avg_df)\n",
    "\n",
    "# Check the first few rows\n",
    "head(avg_df)"
   ]
  },
  {
   "cell_type": "markdown",
   "id": "91305690",
   "metadata": {
    "id": "91305690"
   },
   "source": [
    "Merge the two datasets."
   ]
  },
  {
   "cell_type": "code",
   "execution_count": 13,
   "id": "0dffa52b",
   "metadata": {
    "executionInfo": {
     "elapsed": 115621,
     "status": "aborted",
     "timestamp": 1691143407060,
     "user": {
      "displayName": "Ayano Yamamoto",
      "userId": "07664729366976661766"
     },
     "user_tz": -60
    },
    "id": "0dffa52b"
   },
   "outputs": [
    {
     "data": {
      "text/html": [
       "<style>\n",
       ".list-inline {list-style: none; margin:0; padding: 0}\n",
       ".list-inline>li {display: inline-block}\n",
       ".list-inline>li:not(:last-child)::after {content: \"\\00b7\"; padding: 0 .5ex}\n",
       "</style>\n",
       "<ol class=list-inline><li>323</li><li>5</li></ol>\n"
      ],
      "text/latex": [
       "\\begin{enumerate*}\n",
       "\\item 323\n",
       "\\item 5\n",
       "\\end{enumerate*}\n"
      ],
      "text/markdown": [
       "1. 323\n",
       "2. 5\n",
       "\n",
       "\n"
      ],
      "text/plain": [
       "[1] 323   5"
      ]
     },
     "metadata": {},
     "output_type": "display_data"
    },
    {
     "data": {
      "text/html": [
       "<table class=\"dataframe\">\n",
       "<caption>A data.frame: 6 × 5</caption>\n",
       "<thead>\n",
       "\t<tr><th></th><th scope=col>iso</th><th scope=col>Country</th><th scope=col>Year</th><th scope=col>salary_usd</th><th scope=col>avg_usd</th></tr>\n",
       "\t<tr><th></th><th scope=col>&lt;chr&gt;</th><th scope=col>&lt;chr&gt;</th><th scope=col>&lt;int&gt;</th><th scope=col>&lt;dbl&gt;</th><th scope=col>&lt;dbl&gt;</th></tr>\n",
       "</thead>\n",
       "<tbody>\n",
       "\t<tr><th scope=row>1</th><td>AUS</td><td>Australia</td><td>2010</td><td>76782.38</td><td>52645.06</td></tr>\n",
       "\t<tr><th scope=row>2</th><td>AUS</td><td>Australia</td><td>2011</td><td>92045.80</td><td>54341.63</td></tr>\n",
       "\t<tr><th scope=row>3</th><td>AUS</td><td>Australia</td><td>2012</td><td>93156.87</td><td>54693.53</td></tr>\n",
       "\t<tr><th scope=row>4</th><td>AUS</td><td>Australia</td><td>2013</td><td>88075.12</td><td>54493.43</td></tr>\n",
       "\t<tr><th scope=row>5</th><td>AUS</td><td>Australia</td><td>2014</td><td>83869.75</td><td>54959.00</td></tr>\n",
       "\t<tr><th scope=row>6</th><td>AUS</td><td>Australia</td><td>2015</td><td>71363.32</td><td>54594.29</td></tr>\n",
       "</tbody>\n",
       "</table>\n"
      ],
      "text/latex": [
       "A data.frame: 6 × 5\n",
       "\\begin{tabular}{r|lllll}\n",
       "  & iso & Country & Year & salary\\_usd & avg\\_usd\\\\\n",
       "  & <chr> & <chr> & <int> & <dbl> & <dbl>\\\\\n",
       "\\hline\n",
       "\t1 & AUS & Australia & 2010 & 76782.38 & 52645.06\\\\\n",
       "\t2 & AUS & Australia & 2011 & 92045.80 & 54341.63\\\\\n",
       "\t3 & AUS & Australia & 2012 & 93156.87 & 54693.53\\\\\n",
       "\t4 & AUS & Australia & 2013 & 88075.12 & 54493.43\\\\\n",
       "\t5 & AUS & Australia & 2014 & 83869.75 & 54959.00\\\\\n",
       "\t6 & AUS & Australia & 2015 & 71363.32 & 54594.29\\\\\n",
       "\\end{tabular}\n"
      ],
      "text/markdown": [
       "\n",
       "A data.frame: 6 × 5\n",
       "\n",
       "| <!--/--> | iso &lt;chr&gt; | Country &lt;chr&gt; | Year &lt;int&gt; | salary_usd &lt;dbl&gt; | avg_usd &lt;dbl&gt; |\n",
       "|---|---|---|---|---|---|\n",
       "| 1 | AUS | Australia | 2010 | 76782.38 | 52645.06 |\n",
       "| 2 | AUS | Australia | 2011 | 92045.80 | 54341.63 |\n",
       "| 3 | AUS | Australia | 2012 | 93156.87 | 54693.53 |\n",
       "| 4 | AUS | Australia | 2013 | 88075.12 | 54493.43 |\n",
       "| 5 | AUS | Australia | 2014 | 83869.75 | 54959.00 |\n",
       "| 6 | AUS | Australia | 2015 | 71363.32 | 54594.29 |\n",
       "\n"
      ],
      "text/plain": [
       "  iso Country   Year salary_usd avg_usd \n",
       "1 AUS Australia 2010 76782.38   52645.06\n",
       "2 AUS Australia 2011 92045.80   54341.63\n",
       "3 AUS Australia 2012 93156.87   54693.53\n",
       "4 AUS Australia 2013 88075.12   54493.43\n",
       "5 AUS Australia 2014 83869.75   54959.00\n",
       "6 AUS Australia 2015 71363.32   54594.29"
      ]
     },
     "metadata": {},
     "output_type": "display_data"
    }
   ],
   "source": [
    "# Merge `wage_df` and `avg_df`\n",
    "nurse_df <-\n",
    "    merge(wage2_df, avg_df, by = c(\"iso\", \"Country\", \"Year\"))\n",
    "\n",
    "# Shorten country names\n",
    "nurse_df <-\n",
    "    nurse_df %>%\n",
    "        mutate(Country = case_when(\n",
    "            Country == \"United Kingdom\" ~ \"UK\",\n",
    "            Country == \"United States\" ~ \"US\",\n",
    "            Country == \"New Zealand\" ~ \"NZ\",\n",
    "            TRUE ~ Country\n",
    "        ))\n",
    "\n",
    "# Display the dimension\n",
    "dim(nurse_df)\n",
    "\n",
    "# Check the first few rows\n",
    "head(nurse_df)"
   ]
  },
  {
   "cell_type": "markdown",
   "id": "8a9562ac",
   "metadata": {
    "id": "8a9562ac"
   },
   "source": [
    "## Hospital Waiting List Data"
   ]
  },
  {
   "cell_type": "markdown",
   "id": "75db214b",
   "metadata": {
    "id": "75db214b"
   },
   "source": [
    "Read the CSV file with hospital waiting list data."
   ]
  },
  {
   "cell_type": "code",
   "execution_count": 14,
   "id": "f307d753",
   "metadata": {
    "executionInfo": {
     "elapsed": 115609,
     "status": "aborted",
     "timestamp": 1691143407061,
     "user": {
      "displayName": "Ayano Yamamoto",
      "userId": "07664729366976661766"
     },
     "user_tz": -60
    },
    "id": "f307d753"
   },
   "outputs": [
    {
     "data": {
      "text/html": [
       "<style>\n",
       ".list-inline {list-style: none; margin:0; padding: 0}\n",
       ".list-inline>li {display: inline-block}\n",
       ".list-inline>li:not(:last-child)::after {content: \"\\00b7\"; padding: 0 .5ex}\n",
       "</style>\n",
       "<ol class=list-inline><li>184</li><li>8</li></ol>\n"
      ],
      "text/latex": [
       "\\begin{enumerate*}\n",
       "\\item 184\n",
       "\\item 8\n",
       "\\end{enumerate*}\n"
      ],
      "text/markdown": [
       "1. 184\n",
       "2. 8\n",
       "\n",
       "\n"
      ],
      "text/plain": [
       "[1] 184   8"
      ]
     },
     "metadata": {},
     "output_type": "display_data"
    },
    {
     "data": {
      "text/html": [
       "<table class=\"dataframe\">\n",
       "<caption>A data.frame: 6 × 8</caption>\n",
       "<thead>\n",
       "\t<tr><th></th><th scope=col>ArchiveDate</th><th scope=col>Adult_Child</th><th scope=col>HospitalName</th><th scope=col>X0.6.Months</th><th scope=col>X6.12.Months</th><th scope=col>X12.18.Months</th><th scope=col>X18.Months..</th><th scope=col>Total</th></tr>\n",
       "\t<tr><th></th><th scope=col>&lt;chr&gt;</th><th scope=col>&lt;chr&gt;</th><th scope=col>&lt;chr&gt;</th><th scope=col>&lt;chr&gt;</th><th scope=col>&lt;chr&gt;</th><th scope=col>&lt;int&gt;</th><th scope=col>&lt;chr&gt;</th><th scope=col>&lt;chr&gt;</th></tr>\n",
       "</thead>\n",
       "<tbody>\n",
       "\t<tr><th scope=row>1</th><td>26/01/2023</td><td>Adult</td><td>Bantry General Hospital                     </td><td>59   </td><td>41   </td><td> 21</td><td>5  </td><td>126  </td></tr>\n",
       "\t<tr><th scope=row>2</th><td>26/01/2023</td><td>Adult</td><td>Beaumont Hospital                           </td><td>3,998</td><td>1,515</td><td>228</td><td>29 </td><td>5,771</td></tr>\n",
       "\t<tr><th scope=row>3</th><td>26/01/2023</td><td>Adult</td><td>Cavan General Hospital                      </td><td>406  </td><td>11   </td><td>  0</td><td>0  </td><td>417  </td></tr>\n",
       "\t<tr><th scope=row>4</th><td>26/01/2023</td><td>Adult</td><td>Connolly Hospital Blanchardstown            </td><td>1,068</td><td>133  </td><td>  8</td><td>0  </td><td>1,209</td></tr>\n",
       "\t<tr><th scope=row>5</th><td>26/01/2023</td><td>Adult</td><td>Coombe Women and Infants University Hospital</td><td>138  </td><td>41   </td><td>  8</td><td>2  </td><td>189  </td></tr>\n",
       "\t<tr><th scope=row>6</th><td>26/01/2023</td><td>Adult</td><td>Cork University Hospital                    </td><td>830  </td><td>279  </td><td>145</td><td>247</td><td>1,502</td></tr>\n",
       "</tbody>\n",
       "</table>\n"
      ],
      "text/latex": [
       "A data.frame: 6 × 8\n",
       "\\begin{tabular}{r|llllllll}\n",
       "  & ArchiveDate & Adult\\_Child & HospitalName & X0.6.Months & X6.12.Months & X12.18.Months & X18.Months.. & Total\\\\\n",
       "  & <chr> & <chr> & <chr> & <chr> & <chr> & <int> & <chr> & <chr>\\\\\n",
       "\\hline\n",
       "\t1 & 26/01/2023 & Adult & Bantry General Hospital                      & 59    & 41    &  21 & 5   & 126  \\\\\n",
       "\t2 & 26/01/2023 & Adult & Beaumont Hospital                            & 3,998 & 1,515 & 228 & 29  & 5,771\\\\\n",
       "\t3 & 26/01/2023 & Adult & Cavan General Hospital                       & 406   & 11    &   0 & 0   & 417  \\\\\n",
       "\t4 & 26/01/2023 & Adult & Connolly Hospital Blanchardstown             & 1,068 & 133   &   8 & 0   & 1,209\\\\\n",
       "\t5 & 26/01/2023 & Adult & Coombe Women and Infants University Hospital & 138   & 41    &   8 & 2   & 189  \\\\\n",
       "\t6 & 26/01/2023 & Adult & Cork University Hospital                     & 830   & 279   & 145 & 247 & 1,502\\\\\n",
       "\\end{tabular}\n"
      ],
      "text/markdown": [
       "\n",
       "A data.frame: 6 × 8\n",
       "\n",
       "| <!--/--> | ArchiveDate &lt;chr&gt; | Adult_Child &lt;chr&gt; | HospitalName &lt;chr&gt; | X0.6.Months &lt;chr&gt; | X6.12.Months &lt;chr&gt; | X12.18.Months &lt;int&gt; | X18.Months.. &lt;chr&gt; | Total &lt;chr&gt; |\n",
       "|---|---|---|---|---|---|---|---|---|\n",
       "| 1 | 26/01/2023 | Adult | Bantry General Hospital                      | 59    | 41    |  21 | 5   | 126   |\n",
       "| 2 | 26/01/2023 | Adult | Beaumont Hospital                            | 3,998 | 1,515 | 228 | 29  | 5,771 |\n",
       "| 3 | 26/01/2023 | Adult | Cavan General Hospital                       | 406   | 11    |   0 | 0   | 417   |\n",
       "| 4 | 26/01/2023 | Adult | Connolly Hospital Blanchardstown             | 1,068 | 133   |   8 | 0   | 1,209 |\n",
       "| 5 | 26/01/2023 | Adult | Coombe Women and Infants University Hospital | 138   | 41    |   8 | 2   | 189   |\n",
       "| 6 | 26/01/2023 | Adult | Cork University Hospital                     | 830   | 279   | 145 | 247 | 1,502 |\n",
       "\n"
      ],
      "text/plain": [
       "  ArchiveDate Adult_Child HospitalName                                \n",
       "1 26/01/2023  Adult       Bantry General Hospital                     \n",
       "2 26/01/2023  Adult       Beaumont Hospital                           \n",
       "3 26/01/2023  Adult       Cavan General Hospital                      \n",
       "4 26/01/2023  Adult       Connolly Hospital Blanchardstown            \n",
       "5 26/01/2023  Adult       Coombe Women and Infants University Hospital\n",
       "6 26/01/2023  Adult       Cork University Hospital                    \n",
       "  X0.6.Months X6.12.Months X12.18.Months X18.Months.. Total\n",
       "1 59          41            21           5            126  \n",
       "2 3,998       1,515        228           29           5,771\n",
       "3 406         11             0           0            417  \n",
       "4 1,068       133            8           0            1,209\n",
       "5 138         41             8           2            189  \n",
       "6 830         279          145           247          1,502"
      ]
     },
     "metadata": {},
     "output_type": "display_data"
    }
   ],
   "source": [
    "# Read the csv file\n",
    "list_df <- read.csv(\"OpenData_IPDCNational01_2023.csv\", sep = ',', header = T)\n",
    "\n",
    "# Display the dimension\n",
    "dim(list_df)\n",
    "\n",
    "# Check the first few rows\n",
    "head(list_df)"
   ]
  },
  {
   "cell_type": "code",
   "execution_count": 15,
   "id": "0ada2ba9",
   "metadata": {
    "executionInfo": {
     "elapsed": 115598,
     "status": "aborted",
     "timestamp": 1691143407062,
     "user": {
      "displayName": "Ayano Yamamoto",
      "userId": "07664729366976661766"
     },
     "user_tz": -60
    },
    "id": "0ada2ba9"
   },
   "outputs": [
    {
     "data": {
      "text/html": [
       "<style>\n",
       ".list-inline {list-style: none; margin:0; padding: 0}\n",
       ".list-inline>li {display: inline-block}\n",
       ".list-inline>li:not(:last-child)::after {content: \"\\00b7\"; padding: 0 .5ex}\n",
       "</style>\n",
       "<ol class=list-inline><li>61</li><li>2</li></ol>\n"
      ],
      "text/latex": [
       "\\begin{enumerate*}\n",
       "\\item 61\n",
       "\\item 2\n",
       "\\end{enumerate*}\n"
      ],
      "text/markdown": [
       "1. 61\n",
       "2. 2\n",
       "\n",
       "\n"
      ],
      "text/plain": [
       "[1] 61  2"
      ]
     },
     "metadata": {},
     "output_type": "display_data"
    },
    {
     "data": {
      "text/html": [
       "<table class=\"dataframe\">\n",
       "<caption>A data.frame: 6 × 2</caption>\n",
       "<thead>\n",
       "\t<tr><th></th><th scope=col>HospitalName</th><th scope=col>Total</th></tr>\n",
       "\t<tr><th></th><th scope=col>&lt;chr&gt;</th><th scope=col>&lt;chr&gt;</th></tr>\n",
       "</thead>\n",
       "<tbody>\n",
       "\t<tr><th scope=row>1</th><td>Bantry General Hospital                     </td><td>146  </td></tr>\n",
       "\t<tr><th scope=row>2</th><td>Beaumont Hospital                           </td><td>6,599</td></tr>\n",
       "\t<tr><th scope=row>3</th><td>Cavan General Hospital                      </td><td>419  </td></tr>\n",
       "\t<tr><th scope=row>4</th><td>Connolly Hospital Blanchardstown            </td><td>1,105</td></tr>\n",
       "\t<tr><th scope=row>5</th><td>Coombe Women and Infants University Hospital</td><td>133  </td></tr>\n",
       "\t<tr><th scope=row>6</th><td>Cork University Hospital                    </td><td>1,494</td></tr>\n",
       "</tbody>\n",
       "</table>\n"
      ],
      "text/latex": [
       "A data.frame: 6 × 2\n",
       "\\begin{tabular}{r|ll}\n",
       "  & HospitalName & Total\\\\\n",
       "  & <chr> & <chr>\\\\\n",
       "\\hline\n",
       "\t1 & Bantry General Hospital                      & 146  \\\\\n",
       "\t2 & Beaumont Hospital                            & 6,599\\\\\n",
       "\t3 & Cavan General Hospital                       & 419  \\\\\n",
       "\t4 & Connolly Hospital Blanchardstown             & 1,105\\\\\n",
       "\t5 & Coombe Women and Infants University Hospital & 133  \\\\\n",
       "\t6 & Cork University Hospital                     & 1,494\\\\\n",
       "\\end{tabular}\n"
      ],
      "text/markdown": [
       "\n",
       "A data.frame: 6 × 2\n",
       "\n",
       "| <!--/--> | HospitalName &lt;chr&gt; | Total &lt;chr&gt; |\n",
       "|---|---|---|\n",
       "| 1 | Bantry General Hospital                      | 146   |\n",
       "| 2 | Beaumont Hospital                            | 6,599 |\n",
       "| 3 | Cavan General Hospital                       | 419   |\n",
       "| 4 | Connolly Hospital Blanchardstown             | 1,105 |\n",
       "| 5 | Coombe Women and Infants University Hospital | 133   |\n",
       "| 6 | Cork University Hospital                     | 1,494 |\n",
       "\n"
      ],
      "text/plain": [
       "  HospitalName                                 Total\n",
       "1 Bantry General Hospital                      146  \n",
       "2 Beaumont Hospital                            6,599\n",
       "3 Cavan General Hospital                       419  \n",
       "4 Connolly Hospital Blanchardstown             1,105\n",
       "5 Coombe Women and Infants University Hospital 133  \n",
       "6 Cork University Hospital                     1,494"
      ]
     },
     "metadata": {},
     "output_type": "display_data"
    }
   ],
   "source": [
    "# Convert `ArchiveDate` to Date format\n",
    "list_df$ArchiveDate <-\n",
    "    as.Date(list_df$ArchiveDate, format = \"%d/%m/%Y\")\n",
    "\n",
    "# Filter the dataframe and drop unnecessary columns\n",
    "list_df <-\n",
    "    list_df %>%\n",
    "    filter(ArchiveDate== as.Date(\"2023-03-30\")) %>% # Filter the dataframe\n",
    "    select(c(\"HospitalName\", \"Total\")) # Drop unnecessary columns\n",
    "\n",
    "# Display the dimension\n",
    "dim(list_df)\n",
    "\n",
    "# Check the first few rows\n",
    "head(list_df)"
   ]
  },
  {
   "cell_type": "code",
   "execution_count": 16,
   "id": "0e3fa3c0",
   "metadata": {
    "executionInfo": {
     "elapsed": 115586,
     "status": "aborted",
     "timestamp": 1691143407064,
     "user": {
      "displayName": "Ayano Yamamoto",
      "userId": "07664729366976661766"
     },
     "user_tz": -60
    },
    "id": "0e3fa3c0",
    "scrolled": true
   },
   "outputs": [
    {
     "data": {
      "text/html": [
       "<style>\n",
       ".list-inline {list-style: none; margin:0; padding: 0}\n",
       ".list-inline>li {display: inline-block}\n",
       ".list-inline>li:not(:last-child)::after {content: \"\\00b7\"; padding: 0 .5ex}\n",
       "</style>\n",
       "<ol class=list-inline><li>44</li><li>2</li></ol>\n"
      ],
      "text/latex": [
       "\\begin{enumerate*}\n",
       "\\item 44\n",
       "\\item 2\n",
       "\\end{enumerate*}\n"
      ],
      "text/markdown": [
       "1. 44\n",
       "2. 2\n",
       "\n",
       "\n"
      ],
      "text/plain": [
       "[1] 44  2"
      ]
     },
     "metadata": {},
     "output_type": "display_data"
    },
    {
     "data": {
      "text/html": [
       "<table class=\"dataframe\">\n",
       "<caption>A tibble: 6 × 2</caption>\n",
       "<thead>\n",
       "\t<tr><th scope=col>HospitalName</th><th scope=col>total_list</th></tr>\n",
       "\t<tr><th scope=col>&lt;chr&gt;</th><th scope=col>&lt;dbl&gt;</th></tr>\n",
       "</thead>\n",
       "<tbody>\n",
       "\t<tr><td>Bantry General Hospital                     </td><td> 146</td></tr>\n",
       "\t<tr><td>Beaumont Hospital                           </td><td>6624</td></tr>\n",
       "\t<tr><td>Cavan General Hospital                      </td><td> 419</td></tr>\n",
       "\t<tr><td>Children's Health Ireland                   </td><td>6465</td></tr>\n",
       "\t<tr><td>Connolly Hospital Blanchardstown            </td><td>1105</td></tr>\n",
       "\t<tr><td>Coombe Women and Infants University Hospital</td><td> 133</td></tr>\n",
       "</tbody>\n",
       "</table>\n"
      ],
      "text/latex": [
       "A tibble: 6 × 2\n",
       "\\begin{tabular}{ll}\n",
       " HospitalName & total\\_list\\\\\n",
       " <chr> & <dbl>\\\\\n",
       "\\hline\n",
       "\t Bantry General Hospital                      &  146\\\\\n",
       "\t Beaumont Hospital                            & 6624\\\\\n",
       "\t Cavan General Hospital                       &  419\\\\\n",
       "\t Children's Health Ireland                    & 6465\\\\\n",
       "\t Connolly Hospital Blanchardstown             & 1105\\\\\n",
       "\t Coombe Women and Infants University Hospital &  133\\\\\n",
       "\\end{tabular}\n"
      ],
      "text/markdown": [
       "\n",
       "A tibble: 6 × 2\n",
       "\n",
       "| HospitalName &lt;chr&gt; | total_list &lt;dbl&gt; |\n",
       "|---|---|\n",
       "| Bantry General Hospital                      |  146 |\n",
       "| Beaumont Hospital                            | 6624 |\n",
       "| Cavan General Hospital                       |  419 |\n",
       "| Children's Health Ireland                    | 6465 |\n",
       "| Connolly Hospital Blanchardstown             | 1105 |\n",
       "| Coombe Women and Infants University Hospital |  133 |\n",
       "\n"
      ],
      "text/plain": [
       "  HospitalName                                 total_list\n",
       "1 Bantry General Hospital                       146      \n",
       "2 Beaumont Hospital                            6624      \n",
       "3 Cavan General Hospital                        419      \n",
       "4 Children's Health Ireland                    6465      \n",
       "5 Connolly Hospital Blanchardstown             1105      \n",
       "6 Coombe Women and Infants University Hospital  133      "
      ]
     },
     "metadata": {},
     "output_type": "display_data"
    }
   ],
   "source": [
    "# Convert 'Total' column to numerical\n",
    "list_df$Total <-\n",
    "    gsub(\",\", \"\", list_df$Total) %>% # Remove commas from 'Total' column\n",
    "    as.numeric(list_df$Total) # Convert to numeric\n",
    "\n",
    "# Group by HospitalName and calculate the sum of `Total`\n",
    "list_df <-\n",
    "    list_df %>%\n",
    "    group_by(HospitalName) %>%\n",
    "    summarise(total_list = sum(Total, na.rm = TRUE))\n",
    "\n",
    "# Display the dimension\n",
    "dim(list_df)\n",
    "\n",
    "# Check the first few rows\n",
    "head(list_df)"
   ]
  },
  {
   "cell_type": "markdown",
   "id": "4f2b992f",
   "metadata": {
    "id": "4f2b992f"
   },
   "source": [
    "Read the CSV file with hospital geolocation data."
   ]
  },
  {
   "cell_type": "code",
   "execution_count": 17,
   "id": "3c1bf1cf",
   "metadata": {
    "executionInfo": {
     "elapsed": 115576,
     "status": "aborted",
     "timestamp": 1691143407065,
     "user": {
      "displayName": "Ayano Yamamoto",
      "userId": "07664729366976661766"
     },
     "user_tz": -60
    },
    "id": "3c1bf1cf"
   },
   "outputs": [
    {
     "data": {
      "text/html": [
       "<style>\n",
       ".list-inline {list-style: none; margin:0; padding: 0}\n",
       ".list-inline>li {display: inline-block}\n",
       ".list-inline>li:not(:last-child)::after {content: \"\\00b7\"; padding: 0 .5ex}\n",
       "</style>\n",
       "<ol class=list-inline><li>43</li><li>3</li></ol>\n"
      ],
      "text/latex": [
       "\\begin{enumerate*}\n",
       "\\item 43\n",
       "\\item 3\n",
       "\\end{enumerate*}\n"
      ],
      "text/markdown": [
       "1. 43\n",
       "2. 3\n",
       "\n",
       "\n"
      ],
      "text/plain": [
       "[1] 43  3"
      ]
     },
     "metadata": {},
     "output_type": "display_data"
    },
    {
     "data": {
      "text/html": [
       "<table class=\"dataframe\">\n",
       "<caption>A data.frame: 6 × 3</caption>\n",
       "<thead>\n",
       "\t<tr><th></th><th scope=col>HospitalName</th><th scope=col>latitude</th><th scope=col>longitude</th></tr>\n",
       "\t<tr><th></th><th scope=col>&lt;chr&gt;</th><th scope=col>&lt;dbl&gt;</th><th scope=col>&lt;dbl&gt;</th></tr>\n",
       "</thead>\n",
       "<tbody>\n",
       "\t<tr><th scope=row>1</th><td>Bantry General Hospital                     </td><td>51.67647</td><td>-9.449648</td></tr>\n",
       "\t<tr><th scope=row>2</th><td>Beaumont Hospital                           </td><td>53.39048</td><td>-6.223983</td></tr>\n",
       "\t<tr><th scope=row>3</th><td>Cavan General Hospital                      </td><td>54.00194</td><td>-7.372228</td></tr>\n",
       "\t<tr><th scope=row>4</th><td>Connolly Hospital Blanchardstown            </td><td>53.38841</td><td>-6.368805</td></tr>\n",
       "\t<tr><th scope=row>5</th><td>Coombe Women and Infants University Hospital</td><td>53.33483</td><td>-6.288555</td></tr>\n",
       "\t<tr><th scope=row>6</th><td>Cork University Hospital                    </td><td>51.88342</td><td>-8.508930</td></tr>\n",
       "</tbody>\n",
       "</table>\n"
      ],
      "text/latex": [
       "A data.frame: 6 × 3\n",
       "\\begin{tabular}{r|lll}\n",
       "  & HospitalName & latitude & longitude\\\\\n",
       "  & <chr> & <dbl> & <dbl>\\\\\n",
       "\\hline\n",
       "\t1 & Bantry General Hospital                      & 51.67647 & -9.449648\\\\\n",
       "\t2 & Beaumont Hospital                            & 53.39048 & -6.223983\\\\\n",
       "\t3 & Cavan General Hospital                       & 54.00194 & -7.372228\\\\\n",
       "\t4 & Connolly Hospital Blanchardstown             & 53.38841 & -6.368805\\\\\n",
       "\t5 & Coombe Women and Infants University Hospital & 53.33483 & -6.288555\\\\\n",
       "\t6 & Cork University Hospital                     & 51.88342 & -8.508930\\\\\n",
       "\\end{tabular}\n"
      ],
      "text/markdown": [
       "\n",
       "A data.frame: 6 × 3\n",
       "\n",
       "| <!--/--> | HospitalName &lt;chr&gt; | latitude &lt;dbl&gt; | longitude &lt;dbl&gt; |\n",
       "|---|---|---|---|\n",
       "| 1 | Bantry General Hospital                      | 51.67647 | -9.449648 |\n",
       "| 2 | Beaumont Hospital                            | 53.39048 | -6.223983 |\n",
       "| 3 | Cavan General Hospital                       | 54.00194 | -7.372228 |\n",
       "| 4 | Connolly Hospital Blanchardstown             | 53.38841 | -6.368805 |\n",
       "| 5 | Coombe Women and Infants University Hospital | 53.33483 | -6.288555 |\n",
       "| 6 | Cork University Hospital                     | 51.88342 | -8.508930 |\n",
       "\n"
      ],
      "text/plain": [
       "  HospitalName                                 latitude longitude\n",
       "1 Bantry General Hospital                      51.67647 -9.449648\n",
       "2 Beaumont Hospital                            53.39048 -6.223983\n",
       "3 Cavan General Hospital                       54.00194 -7.372228\n",
       "4 Connolly Hospital Blanchardstown             53.38841 -6.368805\n",
       "5 Coombe Women and Infants University Hospital 53.33483 -6.288555\n",
       "6 Cork University Hospital                     51.88342 -8.508930"
      ]
     },
     "metadata": {},
     "output_type": "display_data"
    }
   ],
   "source": [
    "# Read the csv file\n",
    "geo_df <- read.csv(\"hospital_geolocation.csv\", sep = ',', header = T)\n",
    "\n",
    "# Display the dimension\n",
    "dim(geo_df)\n",
    "\n",
    "# Check the first few rows\n",
    "head(geo_df)"
   ]
  },
  {
   "cell_type": "markdown",
   "id": "d13d00ad",
   "metadata": {
    "id": "d13d00ad"
   },
   "source": [
    "Merge the two datasets."
   ]
  },
  {
   "cell_type": "code",
   "execution_count": 18,
   "id": "1fa4dd77",
   "metadata": {
    "executionInfo": {
     "elapsed": 115570,
     "status": "aborted",
     "timestamp": 1691143407067,
     "user": {
      "displayName": "Ayano Yamamoto",
      "userId": "07664729366976661766"
     },
     "user_tz": -60
    },
    "id": "50b3cebc"
   },
   "outputs": [
    {
     "data": {
      "text/html": [
       "<style>\n",
       ".list-inline {list-style: none; margin:0; padding: 0}\n",
       ".list-inline>li {display: inline-block}\n",
       ".list-inline>li:not(:last-child)::after {content: \"\\00b7\"; padding: 0 .5ex}\n",
       "</style>\n",
       "<ol class=list-inline><li>43</li><li>3</li></ol>\n"
      ],
      "text/latex": [
       "\\begin{enumerate*}\n",
       "\\item 43\n",
       "\\item 3\n",
       "\\end{enumerate*}\n"
      ],
      "text/markdown": [
       "1. 43\n",
       "2. 3\n",
       "\n",
       "\n"
      ],
      "text/plain": [
       "[1] 43  3"
      ]
     },
     "metadata": {},
     "output_type": "display_data"
    },
    {
     "data": {
      "text/html": [
       "<table class=\"dataframe\">\n",
       "<caption>A data.frame: 6 × 4</caption>\n",
       "<thead>\n",
       "\t<tr><th></th><th scope=col>HospitalName</th><th scope=col>total_list</th><th scope=col>latitude</th><th scope=col>longitude</th></tr>\n",
       "\t<tr><th></th><th scope=col>&lt;chr&gt;</th><th scope=col>&lt;dbl&gt;</th><th scope=col>&lt;dbl&gt;</th><th scope=col>&lt;dbl&gt;</th></tr>\n",
       "</thead>\n",
       "<tbody>\n",
       "\t<tr><th scope=row>1</th><td>Bantry General Hospital                     </td><td> 146</td><td>51.67647</td><td>-9.449648</td></tr>\n",
       "\t<tr><th scope=row>2</th><td>Beaumont Hospital                           </td><td>6624</td><td>53.39048</td><td>-6.223983</td></tr>\n",
       "\t<tr><th scope=row>3</th><td>Cavan General Hospital                      </td><td> 419</td><td>54.00194</td><td>-7.372228</td></tr>\n",
       "\t<tr><th scope=row>4</th><td>Children's Health Ireland                   </td><td>6465</td><td>53.33184</td><td>-6.317194</td></tr>\n",
       "\t<tr><th scope=row>5</th><td>Connolly Hospital Blanchardstown            </td><td>1105</td><td>53.38841</td><td>-6.368805</td></tr>\n",
       "\t<tr><th scope=row>6</th><td>Coombe Women and Infants University Hospital</td><td> 133</td><td>53.33483</td><td>-6.288555</td></tr>\n",
       "</tbody>\n",
       "</table>\n"
      ],
      "text/latex": [
       "A data.frame: 6 × 4\n",
       "\\begin{tabular}{r|llll}\n",
       "  & HospitalName & total\\_list & latitude & longitude\\\\\n",
       "  & <chr> & <dbl> & <dbl> & <dbl>\\\\\n",
       "\\hline\n",
       "\t1 & Bantry General Hospital                      &  146 & 51.67647 & -9.449648\\\\\n",
       "\t2 & Beaumont Hospital                            & 6624 & 53.39048 & -6.223983\\\\\n",
       "\t3 & Cavan General Hospital                       &  419 & 54.00194 & -7.372228\\\\\n",
       "\t4 & Children's Health Ireland                    & 6465 & 53.33184 & -6.317194\\\\\n",
       "\t5 & Connolly Hospital Blanchardstown             & 1105 & 53.38841 & -6.368805\\\\\n",
       "\t6 & Coombe Women and Infants University Hospital &  133 & 53.33483 & -6.288555\\\\\n",
       "\\end{tabular}\n"
      ],
      "text/markdown": [
       "\n",
       "A data.frame: 6 × 4\n",
       "\n",
       "| <!--/--> | HospitalName &lt;chr&gt; | total_list &lt;dbl&gt; | latitude &lt;dbl&gt; | longitude &lt;dbl&gt; |\n",
       "|---|---|---|---|---|\n",
       "| 1 | Bantry General Hospital                      |  146 | 51.67647 | -9.449648 |\n",
       "| 2 | Beaumont Hospital                            | 6624 | 53.39048 | -6.223983 |\n",
       "| 3 | Cavan General Hospital                       |  419 | 54.00194 | -7.372228 |\n",
       "| 4 | Children's Health Ireland                    | 6465 | 53.33184 | -6.317194 |\n",
       "| 5 | Connolly Hospital Blanchardstown             | 1105 | 53.38841 | -6.368805 |\n",
       "| 6 | Coombe Women and Infants University Hospital |  133 | 53.33483 | -6.288555 |\n",
       "\n"
      ],
      "text/plain": [
       "  HospitalName                                 total_list latitude longitude\n",
       "1 Bantry General Hospital                       146       51.67647 -9.449648\n",
       "2 Beaumont Hospital                            6624       53.39048 -6.223983\n",
       "3 Cavan General Hospital                        419       54.00194 -7.372228\n",
       "4 Children's Health Ireland                    6465       53.33184 -6.317194\n",
       "5 Connolly Hospital Blanchardstown             1105       53.38841 -6.368805\n",
       "6 Coombe Women and Infants University Hospital  133       53.33483 -6.288555"
      ]
     },
     "metadata": {},
     "output_type": "display_data"
    }
   ],
   "source": [
    "# Merge `wage_df` and `avg_df`\n",
    "hospitals_df <-\n",
    "    merge(list_df, geo_df, by = \"HospitalName\")\n",
    "\n",
    "# Display the dimension\n",
    "dim(geo_df)\n",
    "\n",
    "# Check the first few rows\n",
    "head(hospitals_df)"
   ]
  },
  {
   "cell_type": "markdown",
   "id": "a5aa423d",
   "metadata": {},
   "source": [
    "Convert the geolocation data to  the Irish Transverse Mercator (ITM) coordinate system (IRENET95)."
   ]
  },
  {
   "cell_type": "code",
   "execution_count": 19,
   "id": "6e933dde",
   "metadata": {},
   "outputs": [],
   "source": [
    "# Define the target CRS (ITM)\n",
    "crs_itm <- st_crs(2157)  # EPSG code for IRENET95 / Irish Transverse Mercator\n",
    "\n",
    "# Define the original CRS (WGS84)\n",
    "crs_wgs84 <- st_crs(4326) # EPSG code for latitude/longitude coordinate system\n",
    "\n",
    "# Transform to hospitals_df to IRENET95\n",
    "hospitals_sf <- st_as_sf(hospitals_df, coords = c(\"longitude\", \"latitude\"), crs = crs_wgs84)\n",
    "hospitals_itm <- st_transform(hospitals_sf, crs_itm)"
   ]
  },
  {
   "cell_type": "code",
   "execution_count": 20,
   "id": "1f5a6e25",
   "metadata": {},
   "outputs": [
    {
     "name": "stdout",
     "output_type": "stream",
     "text": [
      "Simple feature collection with 43 features and 2 fields\n",
      "Geometry type: POINT\n",
      "Dimension:     XY\n",
      "Bounding box:  xmin: 484741.6 ymin: 548111.7 xmax: 724663.7 ymax: 912526.9\n",
      "Projected CRS: IRENET95 / Irish Transverse Mercator\n",
      "First 10 features:\n",
      "                                   HospitalName total_list\n",
      "1                       Bantry General Hospital        146\n",
      "2                             Beaumont Hospital       6624\n",
      "3                        Cavan General Hospital        419\n",
      "4                     Children's Health Ireland       6465\n",
      "5              Connolly Hospital Blanchardstown       1105\n",
      "6  Coombe Women and Infants University Hospital        133\n",
      "7                      Cork University Hospital       1687\n",
      "8            Cork University Maternity Hospital        531\n",
      "9                    Croom Orthopaedic Hospital        302\n",
      "10                               Ennis Hospital        353\n",
      "                    geometry\n",
      "1  POINT (499745.5 548111.7)\n",
      "2  POINT (718131.6 739283.5)\n",
      "3  POINT (641157.1 806038.9)\n",
      "4    POINT (712086 732608.6)\n",
      "5  POINT (708504.8 738823.1)\n",
      "6  POINT (713985.4 732986.2)\n",
      "7    POINT (564963.4 570261)\n",
      "8  POINT (564803.8 570157.7)\n",
      "9  POINT (551685.1 642010.1)\n",
      "10 POINT (533767.3 678262.1)\n"
     ]
    }
   ],
   "source": [
    "# Print the transformed data\n",
    "print(hospitals_itm)"
   ]
  },
  {
   "cell_type": "markdown",
   "id": "7e62cfe5",
   "metadata": {
    "id": "7e62cfe5"
   },
   "source": [
    "# Visualisations"
   ]
  },
  {
   "cell_type": "markdown",
   "id": "a70d3eb4",
   "metadata": {
    "id": "a70d3eb4"
   },
   "source": [
    "## Hospital Beds"
   ]
  },
  {
   "cell_type": "markdown",
   "id": "d6ac7e3e",
   "metadata": {
    "id": "d6ac7e3e"
   },
   "source": [
    "Create a bar chart for the number of hospital beds per 1,000 population in 1980."
   ]
  },
  {
   "cell_type": "code",
   "execution_count": 21,
   "id": "380924ba",
   "metadata": {
    "executionInfo": {
     "elapsed": 115564,
     "status": "aborted",
     "timestamp": 1691143407068,
     "user": {
      "displayName": "Ayano Yamamoto",
      "userId": "07664729366976661766"
     },
     "user_tz": -60
    },
    "id": "380924ba"
   },
   "outputs": [
    {
     "data": {
      "image/png": "[encoded data removed]",
      "text/plain": [
       "plot without title"
      ]
     },
     "metadata": {
      "image/png": {
       "height": 420,
       "width": 420
      }
     },
     "output_type": "display_data"
    }
   ],
   "source": [
    "# Create a list of countries\n",
    "countries <- c(\"Ireland\", \"Japan\", \"United States\", \"United Kingdom\", \"Canada\", \"Germany\", \"Spain\", \"Australia\", \"France\", \"China\")\n",
    "\n",
    "# Filter the dataframe to `Year` = 1980 and Country.Name included in the list above\n",
    "beds_df_1980 <-\n",
    "    beds_df %>%\n",
    "    filter(Year == 1980, Country.Name %in% countries)\n",
    "\n",
    "# Create a plot\n",
    "ggplot(beds_df_1980, aes(x = Value, y = reorder(Country.Name, Value), fill = Country.Name)) +\n",
    "    geom_bar(stat = \"identity\",\n",
    "             fill = ifelse(beds_df_1980$Country.Name == \"Ireland\", \"red\", \"dark gray\")) + # Highlight Ireland in red\n",
    "    geom_text(aes(label = Value), hjust = 1.2, color = \"white\", size = 9) + # Add labels within the bars\n",
    "    labs(title = \"1980\", x = \"\", y = \"\") +\n",
    "    theme(panel.grid.major = element_blank(),\n",
    "          panel.grid.minor = element_blank(),\n",
    "          panel.background = element_blank(),\n",
    "          legend.position = \"none\",\n",
    "          axis.text.x = element_blank(),\n",
    "          axis.text.y = element_text(size = 20),\n",
    "          axis.ticks.x = element_blank(),\n",
    "          axis.ticks.y = element_blank(),\n",
    "          plot.title = element_text(size = 25, face = \"bold\")) +\n",
    "    lims(x = c(0, 15))"
   ]
  },
  {
   "cell_type": "markdown",
   "id": "60da9b46",
   "metadata": {
    "id": "60da9b46"
   },
   "source": [
    "Create a bar chart for the number of hospital beds per 1,000 population in 1990."
   ]
  },
  {
   "cell_type": "code",
   "execution_count": 22,
   "id": "4ee3017b",
   "metadata": {
    "executionInfo": {
     "elapsed": 115557,
     "status": "aborted",
     "timestamp": 1691143407070,
     "user": {
      "displayName": "Ayano Yamamoto",
      "userId": "07664729366976661766"
     },
     "user_tz": -60
    },
    "id": "4ee3017b"
   },
   "outputs": [
    {
     "data": {
      "image/png": "[encoded data removed]",
      "text/plain": [
       "plot without title"
      ]
     },
     "metadata": {
      "image/png": {
       "height": 420,
       "width": 420
      }
     },
     "output_type": "display_data"
    }
   ],
   "source": [
    "# Filter the dataframe to `Year` = 1990 and Country.Name included in `country`\n",
    "beds_df_1990 <-\n",
    "    beds_df %>%\n",
    "    filter(Year == 1990, Country.Name %in% countries)\n",
    "\n",
    "# Create a plot\n",
    "ggplot(beds_df_1990, aes(x = Value, y = reorder(Country.Name, Value), fill = Country.Name)) +\n",
    "    geom_bar(stat = \"identity\",\n",
    "             fill = ifelse(beds_df_1990$Country.Name == \"Ireland\", \"red\", \"dark gray\")) + # Highlight Ireland in red\n",
    "    geom_text(aes(label = Value), hjust = 1.2, color = \"white\", size = 9) + # Add labels within the bars\n",
    "    labs(title = \"1990\", x = \"\", y = \"\") +\n",
    "    theme(panel.grid.major = element_blank(),\n",
    "          panel.grid.minor = element_blank(),\n",
    "          panel.background = element_blank(),\n",
    "          legend.position = \"none\",\n",
    "          axis.text.x = element_blank(),\n",
    "          axis.text.y = element_text(size = 20),\n",
    "          axis.ticks.x = element_blank(),\n",
    "          axis.ticks.y = element_blank(),\n",
    "          plot.title = element_text(size = 25, face = \"bold\")) +\n",
    "    lims(x = c(0, 15))"
   ]
  },
  {
   "cell_type": "markdown",
   "id": "c2aef7b0",
   "metadata": {
    "id": "c2aef7b0"
   },
   "source": [
    "Create a bar chart for the number of hospital beds per 1,000 population in 2000."
   ]
  },
  {
   "cell_type": "code",
   "execution_count": 23,
   "id": "9d382382",
   "metadata": {
    "executionInfo": {
     "elapsed": 115551,
     "status": "aborted",
     "timestamp": 1691143407072,
     "user": {
      "displayName": "Ayano Yamamoto",
      "userId": "07664729366976661766"
     },
     "user_tz": -60
    },
    "id": "9d382382"
   },
   "outputs": [
    {
     "data": {
      "image/png": "[encoded data removed]",
      "text/plain": [
       "plot without title"
      ]
     },
     "metadata": {
      "image/png": {
       "height": 420,
       "width": 420
      }
     },
     "output_type": "display_data"
    }
   ],
   "source": [
    "# Filter the dataframe to `Year` = 2000 and Country.Name included in `country`\n",
    "beds_df_2000 <-\n",
    "    beds_df %>%\n",
    "    filter(Year == 2000, Country.Name %in% countries)\n",
    "\n",
    "# Create a plot\n",
    "ggplot(beds_df_2000, aes(x = Value, y = reorder(Country.Name, Value), fill = Country.Name)) +\n",
    "    geom_bar(stat = \"identity\",\n",
    "             fill = ifelse(beds_df_2000$Country.Name == \"Ireland\", \"red\", \"dark gray\")) + # Highlight Ireland in red\n",
    "    geom_text(aes(label = Value), hjust = 1.05, color = \"white\", size = 9) + # Add labels within the bars\n",
    "    labs(title = \"2000\", x = \"\", y = \"\") +\n",
    "    theme(panel.grid.major = element_blank(),\n",
    "          panel.grid.minor = element_blank(),\n",
    "          panel.background = element_blank(),\n",
    "          legend.position = \"none\",\n",
    "          axis.text.x = element_blank(),\n",
    "          axis.text.y = element_text(size = 20),\n",
    "          axis.ticks.x = element_blank(),\n",
    "          axis.ticks.y = element_blank(),\n",
    "          plot.title = element_text(size = 25, face = \"bold\")) +\n",
    "    lims(x = c(0, 15))"
   ]
  },
  {
   "cell_type": "markdown",
   "id": "c92412f9",
   "metadata": {
    "id": "c92412f9"
   },
   "source": [
    "Create a bar chart for the number of hospital beds per 1,000 population in 2010."
   ]
  },
  {
   "cell_type": "code",
   "execution_count": 24,
   "id": "72a9ba0a",
   "metadata": {
    "executionInfo": {
     "elapsed": 115543,
     "status": "aborted",
     "timestamp": 1691143407075,
     "user": {
      "displayName": "Ayano Yamamoto",
      "userId": "07664729366976661766"
     },
     "user_tz": -60
    },
    "id": "72a9ba0a"
   },
   "outputs": [
    {
     "data": {
      "image/png": "[encoded data removed]",
      "text/plain": [
       "plot without title"
      ]
     },
     "metadata": {
      "image/png": {
       "height": 420,
       "width": 420
      }
     },
     "output_type": "display_data"
    }
   ],
   "source": [
    "# Filter the dataframe to `Year` = 2010 and Country.Name included in `country`\n",
    "beds_df_2010 <-\n",
    "    beds_df %>%\n",
    "    filter(Year == 2010, Country.Name %in% countries)\n",
    "\n",
    "# Create a plot\n",
    "ggplot(beds_df_2010, aes(x = Value, y = reorder(Country.Name, Value), fill = Country.Name)) +\n",
    "    geom_bar(stat = \"identity\",\n",
    "             fill = ifelse(beds_df_2010$Country.Name == \"Ireland\", \"red\", \"dark gray\")) + # Highlight Ireland in red\n",
    "    geom_text(aes(label = Value), hjust = 1.2, color = \"white\", size = 9) + # Add labels within the bars\n",
    "    labs(title = \"2010\", x = \"\", y = \"\") +\n",
    "    theme(panel.grid.major = element_blank(),\n",
    "          panel.grid.minor = element_blank(),\n",
    "          panel.background = element_blank(),\n",
    "          legend.position = \"none\",\n",
    "          axis.text.x = element_blank(),\n",
    "          axis.text.y = element_text(size = 20),\n",
    "          axis.ticks.x = element_blank(),\n",
    "          axis.ticks.y = element_blank(),\n",
    "          plot.title = element_text(size = 25, face = \"bold\")) +\n",
    "        lims(x = c(0, 15))"
   ]
  },
  {
   "cell_type": "markdown",
   "id": "a974ead8",
   "metadata": {
    "id": "a974ead8"
   },
   "source": [
    "Create a bar chart for the number of hospital beds per 1,000 population in 2018."
   ]
  },
  {
   "cell_type": "code",
   "execution_count": 25,
   "id": "5a639f33",
   "metadata": {
    "executionInfo": {
     "elapsed": 115533,
     "status": "aborted",
     "timestamp": 1691143407075,
     "user": {
      "displayName": "Ayano Yamamoto",
      "userId": "07664729366976661766"
     },
     "user_tz": -60
    },
    "id": "5a639f33",
    "scrolled": false
   },
   "outputs": [
    {
     "data": {
      "image/png": "[encoded data removed]",
      "text/plain": [
       "plot without title"
      ]
     },
     "metadata": {
      "image/png": {
       "height": 420,
       "width": 420
      }
     },
     "output_type": "display_data"
    }
   ],
   "source": [
    "# Filter the dataframe to `Year` = 2018 and Country.Name included in `country`\n",
    "beds_df_2018 <-\n",
    "    beds_df %>%\n",
    "    filter(Year == 2018, Country.Name %in% countries)\n",
    "\n",
    "# Create a plot\n",
    "ggplot(beds_df_2018, aes(x = Value, y = reorder(Country.Name, Value), fill = Country.Name)) +\n",
    "    geom_bar(stat = \"identity\",\n",
    "             fill = ifelse(beds_df_2018$Country.Name == \"Ireland\", \"red\", \"dark gray\")) + # Highlight Ireland in red\n",
    "    geom_text(aes(label = Value), hjust = 1.2, color = \"white\", size = 9) + # Add labels within the bars\n",
    "    labs(title = \"2018\", x = \"\", y = \"\") +\n",
    "    theme(panel.grid.major = element_blank(),\n",
    "          panel.grid.minor = element_blank(),\n",
    "          panel.background = element_blank(),\n",
    "          legend.position = \"none\",\n",
    "          axis.text.x = element_blank(),\n",
    "          axis.text.y = element_text(size = 20),\n",
    "          axis.ticks.x = element_blank(),\n",
    "          axis.ticks.y = element_blank(),\n",
    "          plot.title = element_text(size = 25, face = \"bold\")) +\n",
    "    lims(x = c(0, 15))"
   ]
  },
  {
   "cell_type": "markdown",
   "id": "6273549e",
   "metadata": {
    "id": "6273549e"
   },
   "source": [
    "### Previous Iteration"
   ]
  },
  {
   "cell_type": "code",
   "execution_count": 26,
   "id": "21483618",
   "metadata": {
    "executionInfo": {
     "elapsed": 115525,
     "status": "aborted",
     "timestamp": 1691143407077,
     "user": {
      "displayName": "Ayano Yamamoto",
      "userId": "07664729366976661766"
     },
     "user_tz": -60
    },
    "id": "21483618"
   },
   "outputs": [
    {
     "data": {
      "image/png": "[encoded data removed]",
      "text/plain": [
       "plot without title"
      ]
     },
     "metadata": {
      "image/png": {
       "height": 420,
       "width": 420
      }
     },
     "output_type": "display_data"
    }
   ],
   "source": [
    "# Filter the dataframe to Year = 2018\n",
    "beds_df_2018 <-\n",
    "    beds_df %>%\n",
    "    filter(Year == 2018)\n",
    "\n",
    "# Create a plot\n",
    "ggplot(beds_df_2018, aes(x = Value, y = Country.Name, Value, fill = Country.Name)) +\n",
    "  geom_bar(stat = \"identity\") +\n",
    "  labs(title = \"Year: 2018\", x = \"Hospital Beds per 1,000 people\", y = \"Country\") +\n",
    "  theme_minimal() +\n",
    "  theme(panel.grid.major = element_blank(),\n",
    "        panel.grid.minor = element_blank(),\n",
    "        panel.background = element_blank(),\n",
    "        legend.position = \"none\")"
   ]
  },
  {
   "cell_type": "markdown",
   "id": "174d8652",
   "metadata": {
    "id": "174d8652"
   },
   "source": [
    "## Hospital Nurse Wages"
   ]
  },
  {
   "cell_type": "markdown",
   "id": "3f10166f",
   "metadata": {
    "id": "3f10166f"
   },
   "source": [
    "Create a plot to compare the hospital nurses' wages with the coutries' average over time."
   ]
  },
  {
   "cell_type": "code",
   "execution_count": 27,
   "id": "9f8bc992",
   "metadata": {
    "executionInfo": {
     "elapsed": 115517,
     "status": "aborted",
     "timestamp": 1691143407079,
     "user": {
      "displayName": "Ayano Yamamoto",
      "userId": "07664729366976661766"
     },
     "user_tz": -60
    },
    "id": "9f8bc992"
   },
   "outputs": [
    {
     "name": "stderr",
     "output_type": "stream",
     "text": [
      "Warning message:\n",
      "\"\u001b[1m\u001b[22mUsing `size` aesthetic for lines was deprecated in ggplot2 3.4.0.\n",
      "\u001b[36mi\u001b[39m Please use `linewidth` instead.\"\n",
      "Warning message:\n",
      "\"\u001b[1m\u001b[22mThe `<scale>` argument of `guides()` cannot be `FALSE`. Use \"none\" instead as of ggplot2 3.3.4.\"\n",
      "Warning message:\n",
      "\"\u001b[1m\u001b[22mThe `size` argument of `element_line()` is deprecated as of ggplot2 3.4.0.\n",
      "\u001b[36mi\u001b[39m Please use the `linewidth` argument instead.\"\n"
     ]
    },
    {
     "data": {
      "image/png": "[encoded data removed]",
      "text/plain": [
       "plot without title"
      ]
     },
     "metadata": {
      "image/png": {
       "height": 420,
       "width": 420
      }
     },
     "output_type": "display_data"
    }
   ],
   "source": [
    "# Filter the dataframe to a selection of countries and create a line graph\n",
    "wage1_df %>%\n",
    "  ggplot(aes(x = Year, y = salary_usd, color = Country)) +\n",
    "  geom_line(size = 1.5, alpha = 0.6) +\n",
    "  geom_text(aes(label = ifelse(Year == max(Year), Country, \"\")),\n",
    "            nudge_x = 0.2, hjust = 0, size = 7) +\n",
    "  scale_color_manual(values = c(\"Ireland\" = \"red\", \"gray\")) +\n",
    "  labs(title = \"\", x = \"Year\", y = \"Income per Average Wage\") +\n",
    "  guides(color = FALSE) +\n",
    "  lims(x = c(2009.5, 2025)) +\n",
    "  theme(\n",
    "        axis.line = element_line(color = \"black\", size = 1),\n",
    "        panel.grid.major = element_blank(),\n",
    "        panel.grid.minor = element_blank(),\n",
    "        panel.background = element_blank(),\n",
    "        axis.text.x = element_text(size = 20),\n",
    "        axis.text.y = element_text(size = 20),\n",
    "        plot.title = element_text(size = 20),\n",
    "        axis.title.y = element_text(size = 20),\n",
    "        axis.title.x = element_text(size = 20)\n",
    "  )"
   ]
  },
  {
   "cell_type": "markdown",
   "id": "3ef8785c",
   "metadata": {
    "id": "3ef8785c"
   },
   "source": [
    "### Alternative Visualisation"
   ]
  },
  {
   "cell_type": "markdown",
   "id": "a9e303e0",
   "metadata": {
    "id": "a9e303e0"
   },
   "source": [
    "Create a plot to compare the hospital nurses' wages with the coutries' average in 2010."
   ]
  },
  {
   "cell_type": "code",
   "execution_count": 28,
   "id": "c0ec3c2a",
   "metadata": {
    "executionInfo": {
     "elapsed": 115511,
     "status": "aborted",
     "timestamp": 1691143407081,
     "user": {
      "displayName": "Ayano Yamamoto",
      "userId": "07664729366976661766"
     },
     "user_tz": -60
    },
    "id": "c0ec3c2a"
   },
   "outputs": [
    {
     "data": {
      "image/png": "[encoded data removed]",
      "text/plain": [
       "plot without title"
      ]
     },
     "metadata": {
      "image/png": {
       "height": 420,
       "width": 420
      }
     },
     "output_type": "display_data"
    }
   ],
   "source": [
    "# Filter the dataframe to `Year` = 2010\n",
    "wages_df_2010 <-\n",
    "    nurse_df %>%\n",
    "    filter(Year == 2010, Country %in% c(\"Australia\", \"NZ\", \"Ireland\", \"US\", \"UK\", \"Canada\"))\n",
    "\n",
    "# Create a plot to compare the hospital nurses' wages with the coutries' average in 2010\n",
    "ggplot(wages_df_2010, aes(x = avg_usd, y = salary_usd, label = Country)) +\n",
    "    geom_point(aes(color = Country), size = 10, alpha = 0.5) +\n",
    "    scale_color_manual(values = c(\"Ireland\" = \"red\", \"gray\")) + # Highlight Ireland in red\n",
    "    geom_abline(intercept = 0, slope = 1, linetype = \"dashed\", linewidth = 1.5) + # Add a diagonal line where nurses' wages = average wages\n",
    "    annotate(\"text\", x = max(wages_df_2010$avg_usd), y = max(wages_df_2010$avg_usd),\n",
    "        label = \"nurses' wage = average wage\", hjust = 0.53, vjust = -1, color = \"black\", angle = 44, size = 8) +\n",
    "    labs(title = \"Nurses' Wages vs Country Average: 2010\", x = \"Countries' Average Wages\", y = \"Nurses' Wages\") +\n",
    "    theme(panel.grid.major = element_blank(),\n",
    "        panel.grid.minor = element_blank(),\n",
    "        panel.background = element_blank(),\n",
    "        legend.position = \"none\",\n",
    "        axis.text.x = element_blank(),\n",
    "        axis.text.y = element_blank(),\n",
    "        axis.ticks.x = element_blank(),\n",
    "        axis.ticks.y = element_blank(),\n",
    "        plot.title = element_text(size = 20),\n",
    "        axis.title.y = element_text(size = 20),\n",
    "        axis.title.x = element_text(size = 20)) +\n",
    "    lims(x = c(35000, 80000), y = c(35000, 80000)) +\n",
    "    geom_label_repel(data = subset(wages_df_2010, Country %in% c(\"Australia\", \"Ireland\")), # Add labels to the left\n",
    "                  aes(label = Country),\n",
    "                  box.padding   = 0.35,\n",
    "                  point.padding = 0.5,\n",
    "                  segment.color = 'grey50',\n",
    "                  segment.size = 1.5,\n",
    "                  size = 10,\n",
    "                  nudge_x = -9000,\n",
    "                  nudge_y = 3000) +\n",
    "    geom_label_repel(data = subset(wages_df_2010, Country %in% c(\"UK\", \"Canada\")), # Add labels to the right\n",
    "                  aes(label = Country),\n",
    "                  box.padding   = 0.35,\n",
    "                  point.padding = 0.5,\n",
    "                  segment.color = 'grey50',\n",
    "                  segment.size = 1.5,\n",
    "                  size = 9,\n",
    "                  nudge_x = 15000,\n",
    "                  nudge_y = -3000) +\n",
    "    geom_label_repel(data = subset(wages_df_2010, Country == \"NZ\"), # Add labels below\n",
    "                  aes(label = Country),\n",
    "                  box.padding   = 0.35,\n",
    "                  point.padding = 0.5,\n",
    "                  segment.color = 'grey50',\n",
    "                  segment.size = 1.5,\n",
    "                  size = 10,\n",
    "                  nudge_x = -100,\n",
    "                  nudge_y = -7000) +\n",
    "    geom_label_repel(data = subset(wages_df_2010, Country == \"US\"), # Add labels below\n",
    "                  aes(label = Country),\n",
    "                  box.padding   = 0.35,\n",
    "                  point.padding = 0.5,\n",
    "                  segment.color = 'grey50',\n",
    "                  segment.size = 1.5,\n",
    "                  size = 10,\n",
    "                  nudge_x = 100,\n",
    "                  nudge_y = 7000)"
   ]
  },
  {
   "cell_type": "markdown",
   "id": "7ad932f5",
   "metadata": {
    "id": "7ad932f5"
   },
   "source": [
    "Create a plot to compare the hospital nurses' wages with the coutries' average in 2015."
   ]
  },
  {
   "cell_type": "code",
   "execution_count": 29,
   "id": "a9998004",
   "metadata": {
    "executionInfo": {
     "elapsed": 115507,
     "status": "aborted",
     "timestamp": 1691143407083,
     "user": {
      "displayName": "Ayano Yamamoto",
      "userId": "07664729366976661766"
     },
     "user_tz": -60
    },
    "id": "a9998004"
   },
   "outputs": [
    {
     "data": {
      "image/png": "[encoded data removed]",
      "text/plain": [
       "plot without title"
      ]
     },
     "metadata": {
      "image/png": {
       "height": 420,
       "width": 420
      }
     },
     "output_type": "display_data"
    }
   ],
   "source": [
    "# Filter the dataframe to `Year` = 2015\n",
    "wages_df_2015 <-\n",
    "    nurse_df %>%\n",
    "    filter(Year == 2015, Country %in% c(\"Australia\", \"NZ\", \"Ireland\", \"US\", \"UK\", \"Canada\"))\n",
    "\n",
    "# Create a plot to compare the hospital nurses' wages with the coutries' average in 2015\n",
    "ggplot(wages_df_2015, aes(x = avg_usd, y = salary_usd, label = Country)) +\n",
    "    geom_point(aes(color = Country), size = 10, alpha = 0.5) +\n",
    "    scale_color_manual(values = c(\"Ireland\" = \"red\", \"gray\")) + # Highlight Ireland in red\n",
    "    geom_abline(intercept = 0, slope = 1, linetype = \"dashed\", linewidth = 1.5) + # Add a diagonal line where nurses' wages = average wages\n",
    "    annotate(\"text\", x = max(wages_df_2015$avg_usd), y = max(wages_df_2015$avg_usd),\n",
    "           label = \"nurses' wage = average wage\", hjust = 0.53, vjust = -1, color = \"black\", angle = 44, size = 8) +\n",
    "    labs(title = \"Nurses' Wages vs Country Average: 2015\", x = \"Countries' Average Wages\", y = \"Nurses' Wages\") +\n",
    "    theme(panel.grid.major = element_blank(),\n",
    "        panel.grid.minor = element_blank(),\n",
    "        panel.background = element_blank(),\n",
    "        legend.position = \"none\",\n",
    "        axis.text.x = element_blank(),\n",
    "        axis.text.y = element_blank(),\n",
    "        axis.ticks.x = element_blank(),\n",
    "        axis.ticks.y = element_blank(),\n",
    "        plot.title = element_text(size = 20),\n",
    "        axis.title.y = element_text(size = 20),\n",
    "        axis.title.x = element_text(size = 20)) +\n",
    "    lims(x = c(35000, 80000), y = c(35000, 80000))+\n",
    "    geom_label_repel(data = subset(wages_df_2015, Country %in% c(\"Australia\", \"Ireland\")), # Add labels to the left\n",
    "                  aes(label = Country),\n",
    "                  box.padding   = 0.35,\n",
    "                  point.padding = 0.5,\n",
    "                  segment.color = 'grey50',\n",
    "                  segment.size = 1.5,\n",
    "                  size = 10,\n",
    "                  nudge_x = -10000,\n",
    "                  nudge_y = 3000) +\n",
    "    geom_label_repel(data = subset(wages_df_2015, Country %in% c(\"US\", \"UK\", \"Canada\")), # Add labels to the right\n",
    "                  aes(label = Country),\n",
    "                  box.padding   = 0.35,\n",
    "                  point.padding = 0.5,\n",
    "                  segment.color = 'grey50',\n",
    "                  segment.size = 1.5,\n",
    "                  size = 9,\n",
    "                  nudge_x = 10000,\n",
    "                  nudge_y = -3000) +\n",
    "    geom_label_repel(data = subset(wages_df_2015, Country == \"NZ\"), # Add labels below\n",
    "                  aes(label = Country),\n",
    "                  box.padding   = 0.35,\n",
    "                  point.padding = 0.5,\n",
    "                  segment.color = 'grey50',\n",
    "                  segment.size = 1.5,\n",
    "                  size = 10,\n",
    "                  nudge_x = -3000,\n",
    "                  nudge_y = -7000)"
   ]
  },
  {
   "cell_type": "markdown",
   "id": "4c79ed4a",
   "metadata": {
    "id": "4c79ed4a"
   },
   "source": [
    "Create a plot to compare the hospital nurses' wages with the coutries' average in 2019."
   ]
  },
  {
   "cell_type": "code",
   "execution_count": 30,
   "id": "91a57877",
   "metadata": {
    "executionInfo": {
     "elapsed": 115501,
     "status": "aborted",
     "timestamp": 1691143407085,
     "user": {
      "displayName": "Ayano Yamamoto",
      "userId": "07664729366976661766"
     },
     "user_tz": -60
    },
    "id": "91a57877"
   },
   "outputs": [
    {
     "data": {
      "image/png": "[encoded data removed]",
      "text/plain": [
       "plot without title"
      ]
     },
     "metadata": {
      "image/png": {
       "height": 420,
       "width": 420
      }
     },
     "output_type": "display_data"
    }
   ],
   "source": [
    "# Filter the dataframe to `Year` = 2019\n",
    "wages_df_2019 <-\n",
    "    nurse_df %>%\n",
    "    filter(Year == 2019, Country %in% c(\"Australia\", \"NZ\", \"Ireland\", \"US\", \"UK\", \"Canada\"))\n",
    "\n",
    "# Create a plot to compare the hospital nurses' wages with the coutries' average in 2019\n",
    "ggplot(wages_df_2019, aes(x = avg_usd, y = salary_usd, label = Country)) +\n",
    "  geom_point(aes(color = Country), size = 10, alpha = 0.5) +\n",
    "  scale_color_manual(values = c(\"Ireland\" = \"red\", \"gray\")) + # Highlight Ireland in red\n",
    "  geom_abline(intercept = 0, slope = 1, linetype = \"dashed\", linewidth = 1.5) + # Add a diagonal line where nurses' wages = average wages\n",
    "  annotate(\"text\", x = max(wages_df_2019$avg_usd), y = max(wages_df_2019$avg_usd),\n",
    "           label = \"nurses' wage = average wage\", hjust = 0.53, vjust = -1, color = \"black\", angle = 44, size = 8) +\n",
    "  labs(title = \"Nurses' Wages vs Country Average: 2019\", x = \"Countries' Average Wages\", y = \"Nurses' Wages\") +\n",
    "  theme(panel.grid.major = element_blank(),\n",
    "        panel.grid.minor = element_blank(),\n",
    "        panel.background = element_blank(),\n",
    "        legend.position = \"none\",\n",
    "        axis.text.x = element_blank(),\n",
    "        axis.text.y = element_blank(),\n",
    "        axis.ticks.x = element_blank(),\n",
    "        axis.ticks.y = element_blank(),\n",
    "        plot.title = element_text(size = 20),\n",
    "        axis.title.y = element_text(size = 20),\n",
    "        axis.title.x = element_text(size = 20)) +\n",
    "  lims(x = c(35000, 80000), y = c(35000, 80000))+\n",
    "  geom_label_repel(data = subset(wages_df_2019, Country %in% c(\"Ireland\")), # Add labels to the left\n",
    "                  aes(label = Country),\n",
    "                  box.padding   = 0.35,\n",
    "                  point.padding = 0.5,\n",
    "                  segment.color = 'grey50',\n",
    "                  segment.size = 1.5,\n",
    "                  size = 10,\n",
    "                  nudge_x = -10000,\n",
    "                  nudge_y = 7000) +\n",
    "  geom_label_repel(data = subset(wages_df_2019, Country %in% c(\"US\", \"UK\", \"Canada\")), # Add labels to the right\n",
    "                  aes(label = Country),\n",
    "                  box.padding   = 0.35,\n",
    "                  point.padding = 0.5,\n",
    "                  segment.color = 'grey50',\n",
    "                  segment.size = 1.5,\n",
    "                  size = 9,\n",
    "                  nudge_x = 10000,\n",
    "                  nudge_y = -3000) +\n",
    "    geom_label_repel(data = subset(wages_df_2019, Country %in% c(\"NZ\", \"Australia\")), # Add labels to the right\n",
    "                  aes(label = Country),\n",
    "                  box.padding   = 0.35,\n",
    "                  point.padding = 0.5,\n",
    "                  segment.color = 'grey50',\n",
    "                  segment.size = 1.5,\n",
    "                  size = 9,\n",
    "                  nudge_x = -7000,\n",
    "                  nudge_y = -5000)"
   ]
  },
  {
   "cell_type": "markdown",
   "id": "d08bd429",
   "metadata": {
    "id": "d08bd429"
   },
   "source": [
    "## Hospital Waiting List"
   ]
  },
  {
   "cell_type": "markdown",
   "id": "1f063135",
   "metadata": {},
   "source": [
    "Import the shapefile of administrative areas downloaded from [OSi National Statutory Boundaries 2019](https://data.gov.ie/en_GB/dataset/administrative-areas-osi-national-statutory-boundaries-2019-generalised-20m)."
   ]
  },
  {
   "cell_type": "code",
   "execution_count": 31,
   "id": "6466a81a",
   "metadata": {},
   "outputs": [
    {
     "name": "stdout",
     "output_type": "stream",
     "text": [
      "Reading layer `Administrative_Areas___Gen_20m___2019' from data source \n",
      "  `C:\\Users\\Ayano\\Downloads\\D21125676_SPEC9995_Assignment2-20230804T100414Z-001\\D21125676_SPEC9995_Assignment2\\Administrative_Areas_-_National_Statutory_Boundaries_-_2019_-_Generalised_20m\\Administrative_Areas___Gen_20m___2019.shp' \n",
      "  using driver `ESRI Shapefile'\n",
      "Simple feature collection with 31 features and 13 fields\n",
      "Geometry type: MULTIPOLYGON\n",
      "Dimension:     XY\n",
      "Bounding box:  xmin: 416216.4 ymin: 519665.5 xmax: 734481.1 ymax: 966933.5\n",
      "Projected CRS: IRENET95 / Irish Transverse Mercator\n"
     ]
    }
   ],
   "source": [
    "# Read the shapefile\n",
    "shapefile_path <- here(\"Administrative_Areas_-_National_Statutory_Boundaries_-_2019_-_Generalised_20m\", \"Administrative_Areas___Gen_20m___2019.shp\")\n",
    "administrative <- st_read(shapefile_path)"
   ]
  },
  {
   "cell_type": "code",
   "execution_count": 32,
   "id": "18f6ff03",
   "metadata": {},
   "outputs": [
    {
     "data": {
      "image/png": "[encoded data removed]",
      "text/plain": [
       "plot without title"
      ]
     },
     "metadata": {
      "image/png": {
       "height": 420,
       "width": 420
      }
     },
     "output_type": "display_data"
    }
   ],
   "source": [
    "# Plot the map of Ireland\n",
    "ggplot() +\n",
    "    geom_sf(data = administrative, fill = \"lightblue\", color = \"black\") +\n",
    "    theme_minimal()"
   ]
  },
  {
   "cell_type": "markdown",
   "id": "a3914c85",
   "metadata": {},
   "source": [
    "Create a plot to show the size of the waiting list for each hospitals."
   ]
  },
  {
   "cell_type": "code",
   "execution_count": 33,
   "id": "b83a08de",
   "metadata": {
    "scrolled": false
   },
   "outputs": [
    {
     "data": {
      "image/png": "[encoded data removed]",
      "text/plain": [
       "plot without title"
      ]
     },
     "metadata": {
      "image/png": {
       "height": 420,
       "width": 420
      }
     },
     "output_type": "display_data"
    }
   ],
   "source": [
    "ggplot() +\n",
    "    geom_sf(data = administrative, fill = \"light gray\", color = \"black\") + # Plot the map of Ireland\n",
    "    geom_sf(data = hospitals_itm, aes(size = total_list, color = total_list), alpha = 0.8) + # Plot the hospitals coordinates\n",
    "    coord_sf(crs = st_crs(administrative)) +  # Set plot limits to match the map of Ireland\n",
    "    scale_size(range = c(5, 15), limits = c(0, 11000)) +  # Adjust the size scaling range\n",
    "    scale_color_viridis_c(option = \"inferno\", direction = -1, begin = 0.4) +\n",
    "    theme_void() +\n",
    "    labs(title = \"Ireland\", fill = \"\") +\n",
    "    theme(legend.title = element_blank(),\n",
    "          legend.text = element_text(size = 16),\n",
    "              plot.title = element_text(size = 30))"
   ]
  },
  {
   "cell_type": "markdown",
   "id": "9282c331",
   "metadata": {},
   "source": [
    "To resolve the occlusion problems in Dublin, create a separate plot with increased zoom for clarity."
   ]
  },
  {
   "cell_type": "code",
   "execution_count": 34,
   "id": "de35c036",
   "metadata": {
    "scrolled": false
   },
   "outputs": [
    {
     "name": "stdout",
     "output_type": "stream",
     "text": [
      "Simple feature collection with 4 features and 13 fields\n",
      "Geometry type: MULTIPOLYGON\n",
      "Dimension:     XY\n",
      "Bounding box:  xmin: 696906.7 ymin: 715491.4 xmax: 732950.8 ymax: 766429.3\n",
      "Projected CRS: IRENET95 / Irish Transverse Mercator\n",
      "   ESRI_OID  CC_ID                               ENGLISH GAEILGE\n",
      "1         1 265011                   DUBLIN CITY COUNCIL    <NA>\n",
      "10       10 265003           SOUTH DUBLIN COUNTY COUNCIL    <NA>\n",
      "11       11 265002                 FINGAL COUNTY COUNCIL    <NA>\n",
      "22       22 265001 DUN LAOGHAIRE-RATHDOWN COUNTY COUNCIL    <NA>\n",
      "              CONTAE COUNTY PROVINCE                                 GUID\n",
      "1  Baile Átha Cliath DUBLIN Leinster 2ae19629-1433-13a3-e055-000000000001\n",
      "10 Baile Átha Cliath DUBLIN Leinster 2ae19629-14a1-13a3-e055-000000000001\n",
      "11 Baile Átha Cliath DUBLIN Leinster 2ae19629-14a0-13a3-e055-000000000001\n",
      "22 Baile Átha Cliath DUBLIN Leinster 2ae19629-149f-13a3-e055-000000000001\n",
      "   CENTROID_X CENTROID_Y      AREA SHAPE_Leng SHAPE_Area\n",
      "1    716469.8   735272.1 128350164   99214.02  128374254\n",
      "10   706125.2   725999.5 223448222   91827.98  223430146\n",
      "11   717228.5   750698.7 457879166  233777.63  457968242\n",
      "22   720714.0   724471.4 126563027   67238.50  126554582\n",
      "                         geometry\n",
      "1  MULTIPOLYGON (((707601.1 73...\n",
      "10 MULTIPOLYGON (((708091.8 73...\n",
      "11 MULTIPOLYGON (((710748.5 74...\n",
      "22 MULTIPOLYGON (((726029.6 72...\n"
     ]
    }
   ],
   "source": [
    "# Filter administrative dataset to County Dublin\n",
    "county_dublin <- subset(administrative, COUNTY == \"DUBLIN\")\n",
    "\n",
    "# Print county_dublin\n",
    "print(county_dublin)"
   ]
  },
  {
   "cell_type": "code",
   "execution_count": 35,
   "id": "17301095",
   "metadata": {},
   "outputs": [
    {
     "data": {
      "image/png": "[encoded data removed]",
      "text/plain": [
       "plot without title"
      ]
     },
     "metadata": {
      "image/png": {
       "height": 420,
       "width": 420
      }
     },
     "output_type": "display_data"
    }
   ],
   "source": [
    "# Plot the map of County Dublin\n",
    "ggplot() +\n",
    "    geom_sf(data = county_dublin, fill = \"lightblue\", color = \"black\") +\n",
    "    theme_minimal()"
   ]
  },
  {
   "cell_type": "markdown",
   "id": "601ac303",
   "metadata": {},
   "source": [
    "Filter the list of hospitals to only include those in County Dublin"
   ]
  },
  {
   "cell_type": "code",
   "execution_count": 36,
   "id": "912f9838",
   "metadata": {},
   "outputs": [],
   "source": [
    "# Filter hospitals_itm to points within county_dublin\n",
    "dublin_points <- st_within(hospitals_itm$geometry, county_dublin$geometry)\n",
    "hospitals_within_dublin <- hospitals_itm[dublin_points %in% 1:4, ]"
   ]
  },
  {
   "cell_type": "markdown",
   "id": "cad5f4bb",
   "metadata": {},
   "source": [
    "Create a plot to show the size of the waiting list for each hospitals."
   ]
  },
  {
   "cell_type": "code",
   "execution_count": 37,
   "id": "57f69305",
   "metadata": {},
   "outputs": [
    {
     "data": {
      "image/png": "[encoded data removed]",
      "text/plain": [
       "plot without title"
      ]
     },
     "metadata": {
      "image/png": {
       "height": 420,
       "width": 420
      }
     },
     "output_type": "display_data"
    }
   ],
   "source": [
    "ggplot() +\n",
    "    geom_sf(data = county_dublin, fill = \"light gray\", color = \"black\") + # Plot the map of Ireland\n",
    "    geom_sf(data = hospitals_within_dublin, aes(size = total_list, color = total_list), alpha = 0.8) + # Plot the hospitals coordinates\n",
    "    coord_sf(crs = st_crs(administrative)) +  # Set plot limits to match the map of Ireland\n",
    "    scale_size(range = c(5, 15), limits = c(0, 11000)) +  # Adjust the size scaling range\n",
    "    scale_color_viridis_c(option = \"inferno\", direction = -1, begin = 0.4, limits = c(0, 10000)) +\n",
    "    theme_void() +\n",
    "    labs(title = \"County Dublin\", fill = \"\") +\n",
    "    theme(legend.title = element_blank(),\n",
    "          legend.text = element_text(size = 16),\n",
    "          plot.title = element_text(size = 0))"
   ]
  },
  {
   "cell_type": "markdown",
   "id": "8f6ec04d",
   "metadata": {},
   "source": [
    "To resolve the occlusion problems in Dublin City, create a separate plot with increased zoom for clarity."
   ]
  },
  {
   "cell_type": "code",
   "execution_count": 38,
   "id": "fe19feb6",
   "metadata": {},
   "outputs": [
    {
     "name": "stdout",
     "output_type": "stream",
     "text": [
      "Simple feature collection with 1 feature and 13 fields\n",
      "Geometry type: MULTIPOLYGON\n",
      "Dimension:     XY\n",
      "Bounding box:  xmin: 707415.5 ymin: 728981.7 xmax: 725529 ymax: 741562.4\n",
      "Projected CRS: IRENET95 / Irish Transverse Mercator\n",
      "  ESRI_OID  CC_ID             ENGLISH GAEILGE            CONTAE COUNTY PROVINCE\n",
      "1        1 265011 DUBLIN CITY COUNCIL    <NA> Baile Átha Cliath DUBLIN Leinster\n",
      "                                  GUID CENTROID_X CENTROID_Y      AREA\n",
      "1 2ae19629-1433-13a3-e055-000000000001   716469.8   735272.1 128350164\n",
      "  SHAPE_Leng SHAPE_Area                       geometry\n",
      "1   99214.02  128374254 MULTIPOLYGON (((707601.1 73...\n"
     ]
    }
   ],
   "source": [
    "# Filter administrative dataset to Dublin City\n",
    "dublin_city <- subset(administrative, ENGLISH == \"DUBLIN CITY COUNCIL\")\n",
    "\n",
    "# Print dublin_city\n",
    "print(dublin_city)"
   ]
  },
  {
   "cell_type": "code",
   "execution_count": 39,
   "id": "9666e9ee",
   "metadata": {},
   "outputs": [
    {
     "data": {
      "image/png": "[encoded data removed]",
      "text/plain": [
       "plot without title"
      ]
     },
     "metadata": {
      "image/png": {
       "height": 420,
       "width": 420
      }
     },
     "output_type": "display_data"
    }
   ],
   "source": [
    "# Plot the map of County Dublin\n",
    "ggplot() +\n",
    "    geom_sf(data = dublin_city, fill = \"lightblue\", color = \"black\") +\n",
    "    theme_minimal()"
   ]
  },
  {
   "cell_type": "markdown",
   "id": "238e8c41",
   "metadata": {},
   "source": [
    "Filter the list of hospitals to only include those in Dublin City"
   ]
  },
  {
   "cell_type": "code",
   "execution_count": 40,
   "id": "08768d62",
   "metadata": {},
   "outputs": [],
   "source": [
    "# Filter hospitals_within_dublin to points within dublin_city\n",
    "dublin_city_points <- st_within(hospitals_within_dublin$geometry, dublin_city$geometry)\n",
    "hospitals_within_dublin_city <- hospitals_within_dublin[dublin_city_points %in% 1, ]"
   ]
  },
  {
   "cell_type": "markdown",
   "id": "d8595d8d",
   "metadata": {},
   "source": [
    "Create a plot to show the size of the waiting list for each hospitals."
   ]
  },
  {
   "cell_type": "code",
   "execution_count": 41,
   "id": "8602dd47",
   "metadata": {},
   "outputs": [
    {
     "data": {
      "image/png": "[encoded data removed]",
      "text/plain": [
       "plot without title"
      ]
     },
     "metadata": {
      "image/png": {
       "height": 420,
       "width": 420
      }
     },
     "output_type": "display_data"
    }
   ],
   "source": [
    "ggplot() +\n",
    "    geom_sf(data = dublin_city, fill = \"light gray\", color = \"black\") + # Plot the map of Ireland\n",
    "    geom_sf(data = hospitals_within_dublin_city, aes(size = total_list, color = total_list), alpha = 0.8) + # Plot the hospitals coordinates\n",
    "    coord_sf(crs = st_crs(administrative)) +  # Set plot limits to match the map of Ireland\n",
    "    scale_size(range = c(5, 15), limits = c(0, 11000)) +  # Adjust the size scaling range\n",
    "    scale_color_viridis_c(option = \"inferno\", direction = -1, begin = 0.4, limits = c(0, 10000)) +\n",
    "    theme_void() +\n",
    "    labs(title = \"Dublin City\", fill = \"\") +\n",
    "    theme(legend.title = element_blank(),\n",
    "          legend.text = element_text(size = 16),\n",
    "          plot.title = element_text(size = 30))"
   ]
  },
  {
   "cell_type": "markdown",
   "id": "ba100124",
   "metadata": {
    "id": "ba100124"
   },
   "source": [
    "### Previous Iteration"
   ]
  },
  {
   "cell_type": "markdown",
   "id": "cca22abd",
   "metadata": {
    "id": "cca22abd"
   },
   "source": [
    "The `maps` library does not have boundary data within the country and we cannot zoom in to resolve issues with occlusion."
   ]
  },
  {
   "cell_type": "code",
   "execution_count": 42,
   "id": "d4ade3e4",
   "metadata": {
    "executionInfo": {
     "elapsed": 115488,
     "status": "aborted",
     "timestamp": 1691143407088,
     "user": {
      "displayName": "Ayano Yamamoto",
      "userId": "07664729366976661766"
     },
     "user_tz": -60
    },
    "id": "d4ade3e4"
   },
   "outputs": [
    {
     "data": {
      "image/png": "[encoded data removed]",
      "text/plain": [
       "plot without title"
      ]
     },
     "metadata": {
      "image/png": {
       "height": 420,
       "width": 420
      }
     },
     "output_type": "display_data"
    }
   ],
   "source": [
    "# Load map data for Ireland\n",
    "ireland_map <- map_data(\"world\", region = \"Ireland\")\n",
    "\n",
    "\n",
    "ggplot() +\n",
    "  geom_polygon(data = ireland_map, aes(x = long, y = lat, group = group), fill = \"white\", color = \"black\") +\n",
    "  geom_point(data = hospitals_df, aes(x = longitude, y = latitude, size = total_list, color = total_list), alpha = 0.5) +\n",
    "  coord_map(\"mercator\", xlim = c(-11, -5), ylim = c(50, 56)) +\n",
    "  theme_void()"
   ]
  }
 ],
 "metadata": {
  "colab": {
   "provenance": []
  },
  "kernelspec": {
   "display_name": "R",
   "language": "R",
   "name": "ir"
  },
  "language_info": {
   "codemirror_mode": "r",
   "file_extension": ".r",
   "mimetype": "text/x-r-source",
   "name": "R",
   "pygments_lexer": "r",
   "version": "4.1.3"
  }
 },
 "nbformat": 4,
 "nbformat_minor": 5
}
